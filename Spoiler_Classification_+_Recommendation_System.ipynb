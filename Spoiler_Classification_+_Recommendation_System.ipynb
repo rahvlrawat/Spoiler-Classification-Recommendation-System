{
  "nbformat": 4,
  "nbformat_minor": 0,
  "metadata": {
    "colab": {
      "name": "Spoiler Classification + Recommendation  System",
      "provenance": [],
      "collapsed_sections": [
        "DzK1rl98k11L",
        "fiNOjKVrZWVs",
        "6UpLkshnfPyb",
        "3sYllapIhgYy",
        "uuPHWrrgiroi",
        "665NThyrmIVG",
        "frNpwkGGFU5y",
        "39oA5kx6COaA",
        "mh-JeZKccZ4L",
        "yVtDn_z1_iw-",
        "lxJsN4-K-bd4",
        "0WmUUxJr9uvb",
        "eIUaspz_wDKr",
        "oKB82RwYo_fh"
      ],
      "mount_file_id": "1SZKtVT3H2148hwuyTk7NEEcJc2euexoP",
      "authorship_tag": "ABX9TyPDABSGdChrbXYbaaQqQF4f",
      "include_colab_link": true
    },
    "kernelspec": {
      "display_name": "Python 3",
      "name": "python3"
    }
  },
  "cells": [
    {
      "cell_type": "markdown",
      "metadata": {
        "id": "view-in-github",
        "colab_type": "text"
      },
      "source": [
        "<a href=\"https://colab.research.google.com/github/rahvlrawat/Spoiler-Classification-Recommendation-System/blob/main/Spoiler_Classification_%2B_Recommendation_System.ipynb\" target=\"_parent\"><img src=\"https://colab.research.google.com/assets/colab-badge.svg\" alt=\"Open In Colab\"/></a>"
      ]
    },
    {
      "cell_type": "markdown",
      "metadata": {
        "id": "0QkV0w3molDZ"
      },
      "source": [
        "# <h1> AIM: Using the dataset containing movie and review data to make a spoiler classification model for spoiler reviews and recommendation engine for movies  <h1/>"
      ]
    },
    {
      "cell_type": "markdown",
      "metadata": {
        "id": "DzK1rl98k11L"
      },
      "source": [
        "# Installations/Downloads + Imports\n"
      ]
    },
    {
      "cell_type": "code",
      "metadata": {
        "id": "Lvp6d7yuNCjG"
      },
      "source": [
        "import os"
      ],
      "execution_count": 2,
      "outputs": []
    },
    {
      "cell_type": "code",
      "metadata": {
        "colab": {
          "base_uri": "https://localhost:8080/"
        },
        "id": "6cyzSD0NVATD",
        "outputId": "7690ef67-e945-4e25-acd1-eeeb20d9d12a"
      },
      "source": [
        "os.system('pip install -q kaggle')\n",
        "os.system('mkdir ~/.kaggle')\n",
        "os.system('cp /content/drive/MyDrive/kaggle.json   ~/.kaggle/')\n",
        "os.system('chmod 600 ~/.kaggle/kaggle.json')\n",
        "os.system('kaggle datasets download -d  rmisra/imdb-spoiler-dataset')\n",
        "os.system('kaggle datasets download -d   rtatman/glove-global-vectors-for-word-representation')\n"
      ],
      "execution_count": 3,
      "outputs": [
        {
          "output_type": "execute_result",
          "data": {
            "text/plain": [
              "0"
            ]
          },
          "metadata": {},
          "execution_count": 3
        }
      ]
    },
    {
      "cell_type": "code",
      "metadata": {
        "colab": {
          "base_uri": "https://localhost:8080/"
        },
        "id": "5vaDvghQlBFu",
        "outputId": "7f2a1e35-6196-4d9b-dff5-12b459114c88"
      },
      "source": [
        "os.system('unzip  /content/imdb-spoiler-dataset.zip')"
      ],
      "execution_count": 4,
      "outputs": [
        {
          "output_type": "execute_result",
          "data": {
            "text/plain": [
              "0"
            ]
          },
          "metadata": {},
          "execution_count": 4
        }
      ]
    },
    {
      "cell_type": "code",
      "metadata": {
        "colab": {
          "base_uri": "https://localhost:8080/"
        },
        "id": "nUsGJ1xpkNqn",
        "outputId": "a25ddb10-dc55-4699-a892-ffd440a445d4"
      },
      "source": [
        "os.system('unzip /content/glove-global-vectors-for-word-representation.zip')"
      ],
      "execution_count": 5,
      "outputs": [
        {
          "output_type": "execute_result",
          "data": {
            "text/plain": [
              "0"
            ]
          },
          "metadata": {},
          "execution_count": 5
        }
      ]
    },
    {
      "cell_type": "code",
      "metadata": {
        "colab": {
          "base_uri": "https://localhost:8080/"
        },
        "id": "LcChG8Np3ban",
        "outputId": "56440edb-bf49-4e6e-dedd-5597b8fda433"
      },
      "source": [
        "pip install --user -U nltk"
      ],
      "execution_count": 6,
      "outputs": [
        {
          "output_type": "stream",
          "name": "stdout",
          "text": [
            "Requirement already satisfied: nltk in /usr/local/lib/python3.7/dist-packages (3.2.5)\n",
            "Collecting nltk\n",
            "  Downloading nltk-3.6.2-py3-none-any.whl (1.5 MB)\n",
            "\u001b[K     |████████████████████████████████| 1.5 MB 5.2 MB/s \n",
            "\u001b[?25hRequirement already satisfied: regex in /usr/local/lib/python3.7/dist-packages (from nltk) (2019.12.20)\n",
            "Requirement already satisfied: joblib in /usr/local/lib/python3.7/dist-packages (from nltk) (1.0.1)\n",
            "Requirement already satisfied: click in /usr/local/lib/python3.7/dist-packages (from nltk) (7.1.2)\n",
            "Requirement already satisfied: tqdm in /usr/local/lib/python3.7/dist-packages (from nltk) (4.62.0)\n",
            "Installing collected packages: nltk\n",
            "\u001b[33m  WARNING: The script nltk is installed in '/root/.local/bin' which is not on PATH.\n",
            "  Consider adding this directory to PATH or, if you prefer to suppress this warning, use --no-warn-script-location.\u001b[0m\n",
            "Successfully installed nltk-3.6.2\n"
          ]
        }
      ]
    },
    {
      "cell_type": "code",
      "metadata": {
        "colab": {
          "base_uri": "https://localhost:8080/"
        },
        "id": "7MnDBlFXewr0",
        "outputId": "03a43ce6-3fdc-42ba-fce3-d814b32a7d88"
      },
      "source": [
        "pip install IMDbpy"
      ],
      "execution_count": 7,
      "outputs": [
        {
          "output_type": "stream",
          "name": "stdout",
          "text": [
            "Collecting IMDbpy\n",
            "  Downloading IMDbPY-2021.4.18-py3-none-any.whl (298 kB)\n",
            "\u001b[?25l\r\u001b[K     |█                               | 10 kB 15.8 MB/s eta 0:00:01\r\u001b[K     |██▏                             | 20 kB 13.3 MB/s eta 0:00:01\r\u001b[K     |███▎                            | 30 kB 9.0 MB/s eta 0:00:01\r\u001b[K     |████▍                           | 40 kB 8.1 MB/s eta 0:00:01\r\u001b[K     |█████▌                          | 51 kB 5.3 MB/s eta 0:00:01\r\u001b[K     |██████▋                         | 61 kB 5.5 MB/s eta 0:00:01\r\u001b[K     |███████▊                        | 71 kB 5.6 MB/s eta 0:00:01\r\u001b[K     |████████▉                       | 81 kB 6.2 MB/s eta 0:00:01\r\u001b[K     |█████████▉                      | 92 kB 4.9 MB/s eta 0:00:01\r\u001b[K     |███████████                     | 102 kB 5.3 MB/s eta 0:00:01\r\u001b[K     |████████████                    | 112 kB 5.3 MB/s eta 0:00:01\r\u001b[K     |█████████████▏                  | 122 kB 5.3 MB/s eta 0:00:01\r\u001b[K     |██████████████▎                 | 133 kB 5.3 MB/s eta 0:00:01\r\u001b[K     |███████████████▍                | 143 kB 5.3 MB/s eta 0:00:01\r\u001b[K     |████████████████▌               | 153 kB 5.3 MB/s eta 0:00:01\r\u001b[K     |█████████████████▋              | 163 kB 5.3 MB/s eta 0:00:01\r\u001b[K     |██████████████████▋             | 174 kB 5.3 MB/s eta 0:00:01\r\u001b[K     |███████████████████▊            | 184 kB 5.3 MB/s eta 0:00:01\r\u001b[K     |████████████████████▉           | 194 kB 5.3 MB/s eta 0:00:01\r\u001b[K     |██████████████████████          | 204 kB 5.3 MB/s eta 0:00:01\r\u001b[K     |███████████████████████         | 215 kB 5.3 MB/s eta 0:00:01\r\u001b[K     |████████████████████████▏       | 225 kB 5.3 MB/s eta 0:00:01\r\u001b[K     |█████████████████████████▎      | 235 kB 5.3 MB/s eta 0:00:01\r\u001b[K     |██████████████████████████▍     | 245 kB 5.3 MB/s eta 0:00:01\r\u001b[K     |███████████████████████████▍    | 256 kB 5.3 MB/s eta 0:00:01\r\u001b[K     |████████████████████████████▌   | 266 kB 5.3 MB/s eta 0:00:01\r\u001b[K     |█████████████████████████████▋  | 276 kB 5.3 MB/s eta 0:00:01\r\u001b[K     |██████████████████████████████▊ | 286 kB 5.3 MB/s eta 0:00:01\r\u001b[K     |███████████████████████████████▉| 296 kB 5.3 MB/s eta 0:00:01\r\u001b[K     |████████████████████████████████| 298 kB 5.3 MB/s \n",
            "\u001b[?25hRequirement already satisfied: SQLAlchemy in /usr/local/lib/python3.7/dist-packages (from IMDbpy) (1.4.22)\n",
            "Requirement already satisfied: lxml in /usr/local/lib/python3.7/dist-packages (from IMDbpy) (4.2.6)\n",
            "Requirement already satisfied: greenlet!=0.4.17 in /usr/local/lib/python3.7/dist-packages (from SQLAlchemy->IMDbpy) (1.1.1)\n",
            "Requirement already satisfied: importlib-metadata in /usr/local/lib/python3.7/dist-packages (from SQLAlchemy->IMDbpy) (4.6.4)\n",
            "Requirement already satisfied: zipp>=0.5 in /usr/local/lib/python3.7/dist-packages (from importlib-metadata->SQLAlchemy->IMDbpy) (3.5.0)\n",
            "Requirement already satisfied: typing-extensions>=3.6.4 in /usr/local/lib/python3.7/dist-packages (from importlib-metadata->SQLAlchemy->IMDbpy) (3.7.4.3)\n",
            "Installing collected packages: IMDbpy\n",
            "Successfully installed IMDbpy-2021.4.18\n"
          ]
        }
      ]
    },
    {
      "cell_type": "code",
      "metadata": {
        "id": "JvGJVOuZZZge"
      },
      "source": [
        "import pandas as pd\n",
        "import numpy as np\n",
        "import seaborn as sns\n",
        "import matplotlib.pyplot as plt\n",
        "from numpy.linalg import norm\n",
        "from datetime import datetime\n",
        "import re\n",
        "from wordcloud import WordCloud, STOPWORDS\n",
        "from collections import Counter\n",
        "from sklearn import preprocessing\n",
        "from sklearn.model_selection import train_test_split\n",
        "from sklearn.metrics import confusion_matrix, classification_report, precision_recall_curve\n",
        "from sklearn.linear_model import LogisticRegression\n",
        "from sklearn.metrics import mean_squared_error\n",
        "from sklearn.ensemble import RandomForestClassifier\n",
        "from sklearn.metrics import roc_auc_score\n",
        "import sklearn.metrics as metrics\n",
        "import matplotlib.pyplot as plt\n",
        "from sklearn import svm\n",
        "import re\n",
        "import nltk\n",
        "import imdb\n",
        "import pickle\n"
      ],
      "execution_count": 8,
      "outputs": []
    },
    {
      "cell_type": "code",
      "metadata": {
        "id": "cG5UvWsyKGBs"
      },
      "source": [
        "from nltk.corpus import stopwords"
      ],
      "execution_count": 9,
      "outputs": []
    },
    {
      "cell_type": "code",
      "metadata": {
        "id": "Q-3_nESnF09G"
      },
      "source": [
        "pd.set_option('display.max_columns', None)"
      ],
      "execution_count": 10,
      "outputs": []
    },
    {
      "cell_type": "code",
      "metadata": {
        "id": "DYYpeBrDisQ0"
      },
      "source": [
        "import tqdm\n",
        "from tqdm import tqdm\n",
        "tqdm.pandas()"
      ],
      "execution_count": 11,
      "outputs": []
    },
    {
      "cell_type": "code",
      "metadata": {
        "id": "UYBiT9wne-_b"
      },
      "source": [
        "ia=imdb.IMDb() "
      ],
      "execution_count": 12,
      "outputs": []
    },
    {
      "cell_type": "markdown",
      "metadata": {
        "id": "fiNOjKVrZWVs"
      },
      "source": [
        "# EDA + Data Preprocessing "
      ]
    },
    {
      "cell_type": "code",
      "metadata": {
        "id": "wlDJOp1oU97e"
      },
      "source": [
        "df_reviews = pd.read_json('/content/IMDB_reviews.json', lines=True)\n",
        "df_details = pd.read_json('/content/IMDB_movie_details.json', lines=True)"
      ],
      "execution_count": null,
      "outputs": []
    },
    {
      "cell_type": "code",
      "metadata": {
        "colab": {
          "base_uri": "https://localhost:8080/",
          "height": 419
        },
        "id": "tOz_c6cXac2O",
        "outputId": "7b921a63-46d4-4f39-d877-237e3ed54386"
      },
      "source": [
        "df_reviews"
      ],
      "execution_count": null,
      "outputs": [
        {
          "data": {
            "text/html": [
              "<div>\n",
              "<style scoped>\n",
              "    .dataframe tbody tr th:only-of-type {\n",
              "        vertical-align: middle;\n",
              "    }\n",
              "\n",
              "    .dataframe tbody tr th {\n",
              "        vertical-align: top;\n",
              "    }\n",
              "\n",
              "    .dataframe thead th {\n",
              "        text-align: right;\n",
              "    }\n",
              "</style>\n",
              "<table border=\"1\" class=\"dataframe\">\n",
              "  <thead>\n",
              "    <tr style=\"text-align: right;\">\n",
              "      <th></th>\n",
              "      <th>review_date</th>\n",
              "      <th>movie_id</th>\n",
              "      <th>user_id</th>\n",
              "      <th>is_spoiler</th>\n",
              "      <th>review_text</th>\n",
              "      <th>rating</th>\n",
              "      <th>review_summary</th>\n",
              "    </tr>\n",
              "  </thead>\n",
              "  <tbody>\n",
              "    <tr>\n",
              "      <th>0</th>\n",
              "      <td>10 February 2006</td>\n",
              "      <td>tt0111161</td>\n",
              "      <td>ur1898687</td>\n",
              "      <td>True</td>\n",
              "      <td>In its Oscar year, Shawshank Redemption (writt...</td>\n",
              "      <td>10</td>\n",
              "      <td>A classic piece of unforgettable film-making.</td>\n",
              "    </tr>\n",
              "    <tr>\n",
              "      <th>1</th>\n",
              "      <td>6 September 2000</td>\n",
              "      <td>tt0111161</td>\n",
              "      <td>ur0842118</td>\n",
              "      <td>True</td>\n",
              "      <td>The Shawshank Redemption is without a doubt on...</td>\n",
              "      <td>10</td>\n",
              "      <td>Simply amazing. The best film of the 90's.</td>\n",
              "    </tr>\n",
              "    <tr>\n",
              "      <th>2</th>\n",
              "      <td>3 August 2001</td>\n",
              "      <td>tt0111161</td>\n",
              "      <td>ur1285640</td>\n",
              "      <td>True</td>\n",
              "      <td>I believe that this film is the best story eve...</td>\n",
              "      <td>8</td>\n",
              "      <td>The best story ever told on film</td>\n",
              "    </tr>\n",
              "    <tr>\n",
              "      <th>3</th>\n",
              "      <td>1 September 2002</td>\n",
              "      <td>tt0111161</td>\n",
              "      <td>ur1003471</td>\n",
              "      <td>True</td>\n",
              "      <td>**Yes, there are SPOILERS here**This film has ...</td>\n",
              "      <td>10</td>\n",
              "      <td>Busy dying or busy living?</td>\n",
              "    </tr>\n",
              "    <tr>\n",
              "      <th>4</th>\n",
              "      <td>20 May 2004</td>\n",
              "      <td>tt0111161</td>\n",
              "      <td>ur0226855</td>\n",
              "      <td>True</td>\n",
              "      <td>At the heart of this extraordinary movie is a ...</td>\n",
              "      <td>8</td>\n",
              "      <td>Great story, wondrously told and acted</td>\n",
              "    </tr>\n",
              "    <tr>\n",
              "      <th>...</th>\n",
              "      <td>...</td>\n",
              "      <td>...</td>\n",
              "      <td>...</td>\n",
              "      <td>...</td>\n",
              "      <td>...</td>\n",
              "      <td>...</td>\n",
              "      <td>...</td>\n",
              "    </tr>\n",
              "    <tr>\n",
              "      <th>573908</th>\n",
              "      <td>8 August 1999</td>\n",
              "      <td>tt0139239</td>\n",
              "      <td>ur0100166</td>\n",
              "      <td>False</td>\n",
              "      <td>Go is wise, fast and pure entertainment. Assem...</td>\n",
              "      <td>10</td>\n",
              "      <td>The best teen movie of the nineties</td>\n",
              "    </tr>\n",
              "    <tr>\n",
              "      <th>573909</th>\n",
              "      <td>31 July 1999</td>\n",
              "      <td>tt0139239</td>\n",
              "      <td>ur0021767</td>\n",
              "      <td>False</td>\n",
              "      <td>Well, what shall I say. this one´s fun at any ...</td>\n",
              "      <td>9</td>\n",
              "      <td>Go - see the movie</td>\n",
              "    </tr>\n",
              "    <tr>\n",
              "      <th>573910</th>\n",
              "      <td>20 July 1999</td>\n",
              "      <td>tt0139239</td>\n",
              "      <td>ur0392750</td>\n",
              "      <td>False</td>\n",
              "      <td>Go is the best movie I have ever seen, and I'v...</td>\n",
              "      <td>10</td>\n",
              "      <td>It's the best movie I've ever seen</td>\n",
              "    </tr>\n",
              "    <tr>\n",
              "      <th>573911</th>\n",
              "      <td>11 June 1999</td>\n",
              "      <td>tt0139239</td>\n",
              "      <td>ur0349105</td>\n",
              "      <td>False</td>\n",
              "      <td>Call this 1999 teenage version of Pulp Fiction...</td>\n",
              "      <td>3</td>\n",
              "      <td>Haven't we seen this before?</td>\n",
              "    </tr>\n",
              "    <tr>\n",
              "      <th>573912</th>\n",
              "      <td>3 May 1999</td>\n",
              "      <td>tt0139239</td>\n",
              "      <td>ur0156431</td>\n",
              "      <td>False</td>\n",
              "      <td>Why was this movie made? No doubt to sucker in...</td>\n",
              "      <td>2</td>\n",
              "      <td>Go doesn't go anywhere</td>\n",
              "    </tr>\n",
              "  </tbody>\n",
              "</table>\n",
              "<p>573913 rows × 7 columns</p>\n",
              "</div>"
            ],
            "text/plain": [
              "             review_date   movie_id    user_id  is_spoiler  \\\n",
              "0       10 February 2006  tt0111161  ur1898687        True   \n",
              "1       6 September 2000  tt0111161  ur0842118        True   \n",
              "2          3 August 2001  tt0111161  ur1285640        True   \n",
              "3       1 September 2002  tt0111161  ur1003471        True   \n",
              "4            20 May 2004  tt0111161  ur0226855        True   \n",
              "...                  ...        ...        ...         ...   \n",
              "573908     8 August 1999  tt0139239  ur0100166       False   \n",
              "573909      31 July 1999  tt0139239  ur0021767       False   \n",
              "573910      20 July 1999  tt0139239  ur0392750       False   \n",
              "573911      11 June 1999  tt0139239  ur0349105       False   \n",
              "573912        3 May 1999  tt0139239  ur0156431       False   \n",
              "\n",
              "                                              review_text  rating  \\\n",
              "0       In its Oscar year, Shawshank Redemption (writt...      10   \n",
              "1       The Shawshank Redemption is without a doubt on...      10   \n",
              "2       I believe that this film is the best story eve...       8   \n",
              "3       **Yes, there are SPOILERS here**This film has ...      10   \n",
              "4       At the heart of this extraordinary movie is a ...       8   \n",
              "...                                                   ...     ...   \n",
              "573908  Go is wise, fast and pure entertainment. Assem...      10   \n",
              "573909  Well, what shall I say. this one´s fun at any ...       9   \n",
              "573910  Go is the best movie I have ever seen, and I'v...      10   \n",
              "573911  Call this 1999 teenage version of Pulp Fiction...       3   \n",
              "573912  Why was this movie made? No doubt to sucker in...       2   \n",
              "\n",
              "                                       review_summary  \n",
              "0       A classic piece of unforgettable film-making.  \n",
              "1          Simply amazing. The best film of the 90's.  \n",
              "2                    The best story ever told on film  \n",
              "3                          Busy dying or busy living?  \n",
              "4              Great story, wondrously told and acted  \n",
              "...                                               ...  \n",
              "573908            The best teen movie of the nineties  \n",
              "573909                             Go - see the movie  \n",
              "573910             It's the best movie I've ever seen  \n",
              "573911                   Haven't we seen this before?  \n",
              "573912                         Go doesn't go anywhere  \n",
              "\n",
              "[573913 rows x 7 columns]"
            ]
          },
          "execution_count": 18,
          "metadata": {},
          "output_type": "execute_result"
        }
      ]
    },
    {
      "cell_type": "code",
      "metadata": {
        "colab": {
          "base_uri": "https://localhost:8080/"
        },
        "id": "P9O_2TmWGSOX",
        "outputId": "9520f1a8-0566-4fb2-b608-66ccb7d16a01"
      },
      "source": [
        "df_reviews.info()"
      ],
      "execution_count": null,
      "outputs": [
        {
          "name": "stdout",
          "output_type": "stream",
          "text": [
            "<class 'pandas.core.frame.DataFrame'>\n",
            "RangeIndex: 573913 entries, 0 to 573912\n",
            "Data columns (total 7 columns):\n",
            " #   Column          Non-Null Count   Dtype \n",
            "---  ------          --------------   ----- \n",
            " 0   review_date     573913 non-null  object\n",
            " 1   movie_id        573913 non-null  object\n",
            " 2   user_id         573913 non-null  object\n",
            " 3   is_spoiler      573913 non-null  bool  \n",
            " 4   review_text     573913 non-null  object\n",
            " 5   rating          573913 non-null  int64 \n",
            " 6   review_summary  573913 non-null  object\n",
            "dtypes: bool(1), int64(1), object(5)\n",
            "memory usage: 26.8+ MB\n"
          ]
        }
      ]
    },
    {
      "cell_type": "code",
      "metadata": {
        "colab": {
          "base_uri": "https://localhost:8080/",
          "height": 297
        },
        "id": "3_oUF5KDGPll",
        "outputId": "04bae3a3-c322-4091-a7a1-d7d3039f7a42"
      },
      "source": [
        "df_reviews.describe()"
      ],
      "execution_count": null,
      "outputs": [
        {
          "data": {
            "text/html": [
              "<div>\n",
              "<style scoped>\n",
              "    .dataframe tbody tr th:only-of-type {\n",
              "        vertical-align: middle;\n",
              "    }\n",
              "\n",
              "    .dataframe tbody tr th {\n",
              "        vertical-align: top;\n",
              "    }\n",
              "\n",
              "    .dataframe thead th {\n",
              "        text-align: right;\n",
              "    }\n",
              "</style>\n",
              "<table border=\"1\" class=\"dataframe\">\n",
              "  <thead>\n",
              "    <tr style=\"text-align: right;\">\n",
              "      <th></th>\n",
              "      <th>rating</th>\n",
              "    </tr>\n",
              "  </thead>\n",
              "  <tbody>\n",
              "    <tr>\n",
              "      <th>count</th>\n",
              "      <td>573913.000000</td>\n",
              "    </tr>\n",
              "    <tr>\n",
              "      <th>mean</th>\n",
              "      <td>6.954254</td>\n",
              "    </tr>\n",
              "    <tr>\n",
              "      <th>std</th>\n",
              "      <td>2.956295</td>\n",
              "    </tr>\n",
              "    <tr>\n",
              "      <th>min</th>\n",
              "      <td>1.000000</td>\n",
              "    </tr>\n",
              "    <tr>\n",
              "      <th>25%</th>\n",
              "      <td>5.000000</td>\n",
              "    </tr>\n",
              "    <tr>\n",
              "      <th>50%</th>\n",
              "      <td>8.000000</td>\n",
              "    </tr>\n",
              "    <tr>\n",
              "      <th>75%</th>\n",
              "      <td>10.000000</td>\n",
              "    </tr>\n",
              "    <tr>\n",
              "      <th>max</th>\n",
              "      <td>10.000000</td>\n",
              "    </tr>\n",
              "  </tbody>\n",
              "</table>\n",
              "</div>"
            ],
            "text/plain": [
              "              rating\n",
              "count  573913.000000\n",
              "mean        6.954254\n",
              "std         2.956295\n",
              "min         1.000000\n",
              "25%         5.000000\n",
              "50%         8.000000\n",
              "75%        10.000000\n",
              "max        10.000000"
            ]
          },
          "execution_count": 20,
          "metadata": {},
          "output_type": "execute_result"
        }
      ]
    },
    {
      "cell_type": "code",
      "metadata": {
        "colab": {
          "base_uri": "https://localhost:8080/",
          "height": 204
        },
        "id": "D9WBnTpVaf23",
        "outputId": "984bec9b-0956-48a2-c0ca-8da19e9701be"
      },
      "source": [
        "df_details.head()"
      ],
      "execution_count": null,
      "outputs": [
        {
          "data": {
            "text/html": [
              "<div>\n",
              "<style scoped>\n",
              "    .dataframe tbody tr th:only-of-type {\n",
              "        vertical-align: middle;\n",
              "    }\n",
              "\n",
              "    .dataframe tbody tr th {\n",
              "        vertical-align: top;\n",
              "    }\n",
              "\n",
              "    .dataframe thead th {\n",
              "        text-align: right;\n",
              "    }\n",
              "</style>\n",
              "<table border=\"1\" class=\"dataframe\">\n",
              "  <thead>\n",
              "    <tr style=\"text-align: right;\">\n",
              "      <th></th>\n",
              "      <th>movie_id</th>\n",
              "      <th>plot_summary</th>\n",
              "      <th>duration</th>\n",
              "      <th>genre</th>\n",
              "      <th>rating</th>\n",
              "      <th>release_date</th>\n",
              "      <th>plot_synopsis</th>\n",
              "    </tr>\n",
              "  </thead>\n",
              "  <tbody>\n",
              "    <tr>\n",
              "      <th>0</th>\n",
              "      <td>0105112</td>\n",
              "      <td>Former CIA analyst, Jack Ryan is in England wi...</td>\n",
              "      <td>1h 57min</td>\n",
              "      <td>[Action, Thriller]</td>\n",
              "      <td>6.9</td>\n",
              "      <td>1992-06-05</td>\n",
              "      <td>Jack Ryan (Ford) is on a \"working vacation\" in...</td>\n",
              "    </tr>\n",
              "    <tr>\n",
              "      <th>1</th>\n",
              "      <td>1204975</td>\n",
              "      <td>Billy (Michael Douglas), Paddy (Robert De Niro...</td>\n",
              "      <td>1h 45min</td>\n",
              "      <td>[Comedy]</td>\n",
              "      <td>6.6</td>\n",
              "      <td>2013-11-01</td>\n",
              "      <td>Four boys around the age of 10 are friends in ...</td>\n",
              "    </tr>\n",
              "    <tr>\n",
              "      <th>2</th>\n",
              "      <td>0243655</td>\n",
              "      <td>The setting is Camp Firewood, the year 1981. I...</td>\n",
              "      <td>1h 37min</td>\n",
              "      <td>[Comedy, Romance]</td>\n",
              "      <td>6.7</td>\n",
              "      <td>2002-04-11</td>\n",
              "      <td></td>\n",
              "    </tr>\n",
              "    <tr>\n",
              "      <th>3</th>\n",
              "      <td>0040897</td>\n",
              "      <td>Fred C. Dobbs and Bob Curtin, both down on the...</td>\n",
              "      <td>2h 6min</td>\n",
              "      <td>[Adventure, Drama, Western]</td>\n",
              "      <td>8.3</td>\n",
              "      <td>1948-01-24</td>\n",
              "      <td>Fred Dobbs (Humphrey Bogart) and Bob Curtin (T...</td>\n",
              "    </tr>\n",
              "    <tr>\n",
              "      <th>4</th>\n",
              "      <td>0126886</td>\n",
              "      <td>Tracy Flick is running unopposed for this year...</td>\n",
              "      <td>1h 43min</td>\n",
              "      <td>[Comedy, Drama, Romance]</td>\n",
              "      <td>7.3</td>\n",
              "      <td>1999-05-07</td>\n",
              "      <td>Jim McAllister (Matthew Broderick) is a much-a...</td>\n",
              "    </tr>\n",
              "  </tbody>\n",
              "</table>\n",
              "</div>"
            ],
            "text/plain": [
              "  movie_id                                       plot_summary  duration  \\\n",
              "0  0105112  Former CIA analyst, Jack Ryan is in England wi...  1h 57min   \n",
              "1  1204975  Billy (Michael Douglas), Paddy (Robert De Niro...  1h 45min   \n",
              "2  0243655  The setting is Camp Firewood, the year 1981. I...  1h 37min   \n",
              "3  0040897  Fred C. Dobbs and Bob Curtin, both down on the...   2h 6min   \n",
              "4  0126886  Tracy Flick is running unopposed for this year...  1h 43min   \n",
              "\n",
              "                         genre  rating release_date  \\\n",
              "0           [Action, Thriller]     6.9   1992-06-05   \n",
              "1                     [Comedy]     6.6   2013-11-01   \n",
              "2            [Comedy, Romance]     6.7   2002-04-11   \n",
              "3  [Adventure, Drama, Western]     8.3   1948-01-24   \n",
              "4     [Comedy, Drama, Romance]     7.3   1999-05-07   \n",
              "\n",
              "                                       plot_synopsis  \n",
              "0  Jack Ryan (Ford) is on a \"working vacation\" in...  \n",
              "1  Four boys around the age of 10 are friends in ...  \n",
              "2                                                     \n",
              "3  Fred Dobbs (Humphrey Bogart) and Bob Curtin (T...  \n",
              "4  Jim McAllister (Matthew Broderick) is a much-a...  "
            ]
          },
          "execution_count": 28,
          "metadata": {},
          "output_type": "execute_result"
        }
      ]
    },
    {
      "cell_type": "code",
      "metadata": {
        "colab": {
          "base_uri": "https://localhost:8080/"
        },
        "id": "lDY8vyudGX8n",
        "outputId": "35857f56-dde7-489d-a22d-f50ede0cae05"
      },
      "source": [
        "df_details.info()"
      ],
      "execution_count": null,
      "outputs": [
        {
          "name": "stdout",
          "output_type": "stream",
          "text": [
            "<class 'pandas.core.frame.DataFrame'>\n",
            "RangeIndex: 1572 entries, 0 to 1571\n",
            "Data columns (total 7 columns):\n",
            " #   Column         Non-Null Count  Dtype  \n",
            "---  ------         --------------  -----  \n",
            " 0   movie_id       1572 non-null   object \n",
            " 1   plot_summary   1572 non-null   object \n",
            " 2   duration       1572 non-null   object \n",
            " 3   genre          1572 non-null   object \n",
            " 4   rating         1572 non-null   float64\n",
            " 5   release_date   1572 non-null   object \n",
            " 6   plot_synopsis  1572 non-null   object \n",
            "dtypes: float64(1), object(6)\n",
            "memory usage: 86.1+ KB\n"
          ]
        }
      ]
    },
    {
      "cell_type": "code",
      "metadata": {
        "colab": {
          "base_uri": "https://localhost:8080/",
          "height": 297
        },
        "id": "oAP3v3xHGaxR",
        "outputId": "a4db90d2-9585-4818-a269-860f8e4dc416"
      },
      "source": [
        "df_details.describe()"
      ],
      "execution_count": null,
      "outputs": [
        {
          "data": {
            "text/html": [
              "<div>\n",
              "<style scoped>\n",
              "    .dataframe tbody tr th:only-of-type {\n",
              "        vertical-align: middle;\n",
              "    }\n",
              "\n",
              "    .dataframe tbody tr th {\n",
              "        vertical-align: top;\n",
              "    }\n",
              "\n",
              "    .dataframe thead th {\n",
              "        text-align: right;\n",
              "    }\n",
              "</style>\n",
              "<table border=\"1\" class=\"dataframe\">\n",
              "  <thead>\n",
              "    <tr style=\"text-align: right;\">\n",
              "      <th></th>\n",
              "      <th>rating</th>\n",
              "    </tr>\n",
              "  </thead>\n",
              "  <tbody>\n",
              "    <tr>\n",
              "      <th>count</th>\n",
              "      <td>1572.000000</td>\n",
              "    </tr>\n",
              "    <tr>\n",
              "      <th>mean</th>\n",
              "      <td>7.071819</td>\n",
              "    </tr>\n",
              "    <tr>\n",
              "      <th>std</th>\n",
              "      <td>0.967966</td>\n",
              "    </tr>\n",
              "    <tr>\n",
              "      <th>min</th>\n",
              "      <td>2.400000</td>\n",
              "    </tr>\n",
              "    <tr>\n",
              "      <th>25%</th>\n",
              "      <td>6.500000</td>\n",
              "    </tr>\n",
              "    <tr>\n",
              "      <th>50%</th>\n",
              "      <td>7.100000</td>\n",
              "    </tr>\n",
              "    <tr>\n",
              "      <th>75%</th>\n",
              "      <td>7.800000</td>\n",
              "    </tr>\n",
              "    <tr>\n",
              "      <th>max</th>\n",
              "      <td>9.500000</td>\n",
              "    </tr>\n",
              "  </tbody>\n",
              "</table>\n",
              "</div>"
            ],
            "text/plain": [
              "            rating\n",
              "count  1572.000000\n",
              "mean      7.071819\n",
              "std       0.967966\n",
              "min       2.400000\n",
              "25%       6.500000\n",
              "50%       7.100000\n",
              "75%       7.800000\n",
              "max       9.500000"
            ]
          },
          "execution_count": 30,
          "metadata": {},
          "output_type": "execute_result"
        }
      ]
    },
    {
      "cell_type": "code",
      "metadata": {
        "colab": {
          "base_uri": "https://localhost:8080/"
        },
        "id": "sxv7DVENprhf",
        "outputId": "51df2e05-1202-4e5f-c077-02227643d05d"
      },
      "source": [
        "print(df_reviews.columns)\n",
        "print(df_details.columns)"
      ],
      "execution_count": null,
      "outputs": [
        {
          "name": "stdout",
          "output_type": "stream",
          "text": [
            "Index(['review_date', 'movie_id', 'user_id', 'is_spoiler', 'review_text',\n",
            "       'rating', 'review_summary'],\n",
            "      dtype='object')\n",
            "Index(['movie_id', 'plot_summary', 'duration', 'genre', 'rating',\n",
            "       'release_date', 'plot_synopsis'],\n",
            "      dtype='object')\n"
          ]
        }
      ]
    },
    {
      "cell_type": "markdown",
      "metadata": {
        "id": "BQLVAAMqpm5S"
      },
      "source": [
        "df_reviews consists of info about the reviews by the users and  df_details has the info about the movie so we will combine both these tables to get a better formulated table with movie and review info corresponding each user review."
      ]
    },
    {
      "cell_type": "code",
      "metadata": {
        "id": "-PyMt8JMSNn1"
      },
      "source": [
        "df_reviews[\"movie_id\"]=df_reviews.movie_id.str.slice(2)\n"
      ],
      "execution_count": null,
      "outputs": []
    },
    {
      "cell_type": "code",
      "metadata": {
        "id": "m0vqkG9lGkqS"
      },
      "source": [
        "df_details[\"movie_id\"]=df_details.movie_id.str.slice(2)\n"
      ],
      "execution_count": null,
      "outputs": []
    },
    {
      "cell_type": "code",
      "metadata": {
        "id": "rY4wKRSha3wZ"
      },
      "source": [
        "df=pd.merge(df_reviews,df_details,on='movie_id')"
      ],
      "execution_count": null,
      "outputs": []
    },
    {
      "cell_type": "markdown",
      "metadata": {
        "id": "61EwWYrSqaiS"
      },
      "source": [
        "As 'movie_id' column is common key in both tables we will merge using this column."
      ]
    },
    {
      "cell_type": "code",
      "metadata": {
        "colab": {
          "base_uri": "https://localhost:8080/"
        },
        "id": "4_ud-o1tb1fx",
        "outputId": "e89e2304-10e7-4b2c-8f1f-3a7e0e8eb3e6"
      },
      "source": [
        "df.columns"
      ],
      "execution_count": null,
      "outputs": [
        {
          "data": {
            "text/plain": [
              "Index(['review_date', 'movie_id', 'user_id', 'is_spoiler', 'review_text',\n",
              "       'rating_x', 'review_summary', 'plot_summary', 'duration', 'genre',\n",
              "       'rating_y', 'release_date', 'plot_synopsis'],\n",
              "      dtype='object')"
            ]
          },
          "execution_count": 35,
          "metadata": {},
          "output_type": "execute_result"
        }
      ]
    },
    {
      "cell_type": "code",
      "metadata": {
        "colab": {
          "base_uri": "https://localhost:8080/",
          "height": 289
        },
        "id": "h5b-F2V9dn87",
        "outputId": "897f10fb-9899-4e13-97ff-ad771066d372"
      },
      "source": [
        "df.head()"
      ],
      "execution_count": null,
      "outputs": [
        {
          "data": {
            "text/html": [
              "<div>\n",
              "<style scoped>\n",
              "    .dataframe tbody tr th:only-of-type {\n",
              "        vertical-align: middle;\n",
              "    }\n",
              "\n",
              "    .dataframe tbody tr th {\n",
              "        vertical-align: top;\n",
              "    }\n",
              "\n",
              "    .dataframe thead th {\n",
              "        text-align: right;\n",
              "    }\n",
              "</style>\n",
              "<table border=\"1\" class=\"dataframe\">\n",
              "  <thead>\n",
              "    <tr style=\"text-align: right;\">\n",
              "      <th></th>\n",
              "      <th>review_date</th>\n",
              "      <th>movie_id</th>\n",
              "      <th>user_id</th>\n",
              "      <th>is_spoiler</th>\n",
              "      <th>review_text</th>\n",
              "      <th>rating_x</th>\n",
              "      <th>review_summary</th>\n",
              "      <th>plot_summary</th>\n",
              "      <th>duration</th>\n",
              "      <th>genre</th>\n",
              "      <th>rating_y</th>\n",
              "      <th>release_date</th>\n",
              "      <th>plot_synopsis</th>\n",
              "    </tr>\n",
              "  </thead>\n",
              "  <tbody>\n",
              "    <tr>\n",
              "      <th>0</th>\n",
              "      <td>10 February 2006</td>\n",
              "      <td>11161</td>\n",
              "      <td>ur1898687</td>\n",
              "      <td>True</td>\n",
              "      <td>In its Oscar year, Shawshank Redemption (writt...</td>\n",
              "      <td>10</td>\n",
              "      <td>A classic piece of unforgettable film-making.</td>\n",
              "      <td>Chronicles the experiences of a formerly succe...</td>\n",
              "      <td>2h 22min</td>\n",
              "      <td>[Crime, Drama]</td>\n",
              "      <td>9.3</td>\n",
              "      <td>1994-10-14</td>\n",
              "      <td>In 1947, Andy Dufresne (Tim Robbins), a banker...</td>\n",
              "    </tr>\n",
              "    <tr>\n",
              "      <th>1</th>\n",
              "      <td>6 September 2000</td>\n",
              "      <td>11161</td>\n",
              "      <td>ur0842118</td>\n",
              "      <td>True</td>\n",
              "      <td>The Shawshank Redemption is without a doubt on...</td>\n",
              "      <td>10</td>\n",
              "      <td>Simply amazing. The best film of the 90's.</td>\n",
              "      <td>Chronicles the experiences of a formerly succe...</td>\n",
              "      <td>2h 22min</td>\n",
              "      <td>[Crime, Drama]</td>\n",
              "      <td>9.3</td>\n",
              "      <td>1994-10-14</td>\n",
              "      <td>In 1947, Andy Dufresne (Tim Robbins), a banker...</td>\n",
              "    </tr>\n",
              "    <tr>\n",
              "      <th>2</th>\n",
              "      <td>3 August 2001</td>\n",
              "      <td>11161</td>\n",
              "      <td>ur1285640</td>\n",
              "      <td>True</td>\n",
              "      <td>I believe that this film is the best story eve...</td>\n",
              "      <td>8</td>\n",
              "      <td>The best story ever told on film</td>\n",
              "      <td>Chronicles the experiences of a formerly succe...</td>\n",
              "      <td>2h 22min</td>\n",
              "      <td>[Crime, Drama]</td>\n",
              "      <td>9.3</td>\n",
              "      <td>1994-10-14</td>\n",
              "      <td>In 1947, Andy Dufresne (Tim Robbins), a banker...</td>\n",
              "    </tr>\n",
              "    <tr>\n",
              "      <th>3</th>\n",
              "      <td>1 September 2002</td>\n",
              "      <td>11161</td>\n",
              "      <td>ur1003471</td>\n",
              "      <td>True</td>\n",
              "      <td>**Yes, there are SPOILERS here**This film has ...</td>\n",
              "      <td>10</td>\n",
              "      <td>Busy dying or busy living?</td>\n",
              "      <td>Chronicles the experiences of a formerly succe...</td>\n",
              "      <td>2h 22min</td>\n",
              "      <td>[Crime, Drama]</td>\n",
              "      <td>9.3</td>\n",
              "      <td>1994-10-14</td>\n",
              "      <td>In 1947, Andy Dufresne (Tim Robbins), a banker...</td>\n",
              "    </tr>\n",
              "    <tr>\n",
              "      <th>4</th>\n",
              "      <td>20 May 2004</td>\n",
              "      <td>11161</td>\n",
              "      <td>ur0226855</td>\n",
              "      <td>True</td>\n",
              "      <td>At the heart of this extraordinary movie is a ...</td>\n",
              "      <td>8</td>\n",
              "      <td>Great story, wondrously told and acted</td>\n",
              "      <td>Chronicles the experiences of a formerly succe...</td>\n",
              "      <td>2h 22min</td>\n",
              "      <td>[Crime, Drama]</td>\n",
              "      <td>9.3</td>\n",
              "      <td>1994-10-14</td>\n",
              "      <td>In 1947, Andy Dufresne (Tim Robbins), a banker...</td>\n",
              "    </tr>\n",
              "  </tbody>\n",
              "</table>\n",
              "</div>"
            ],
            "text/plain": [
              "        review_date movie_id    user_id  is_spoiler  \\\n",
              "0  10 February 2006    11161  ur1898687        True   \n",
              "1  6 September 2000    11161  ur0842118        True   \n",
              "2     3 August 2001    11161  ur1285640        True   \n",
              "3  1 September 2002    11161  ur1003471        True   \n",
              "4       20 May 2004    11161  ur0226855        True   \n",
              "\n",
              "                                         review_text  rating_x  \\\n",
              "0  In its Oscar year, Shawshank Redemption (writt...        10   \n",
              "1  The Shawshank Redemption is without a doubt on...        10   \n",
              "2  I believe that this film is the best story eve...         8   \n",
              "3  **Yes, there are SPOILERS here**This film has ...        10   \n",
              "4  At the heart of this extraordinary movie is a ...         8   \n",
              "\n",
              "                                  review_summary  \\\n",
              "0  A classic piece of unforgettable film-making.   \n",
              "1     Simply amazing. The best film of the 90's.   \n",
              "2               The best story ever told on film   \n",
              "3                     Busy dying or busy living?   \n",
              "4         Great story, wondrously told and acted   \n",
              "\n",
              "                                        plot_summary  duration  \\\n",
              "0  Chronicles the experiences of a formerly succe...  2h 22min   \n",
              "1  Chronicles the experiences of a formerly succe...  2h 22min   \n",
              "2  Chronicles the experiences of a formerly succe...  2h 22min   \n",
              "3  Chronicles the experiences of a formerly succe...  2h 22min   \n",
              "4  Chronicles the experiences of a formerly succe...  2h 22min   \n",
              "\n",
              "            genre  rating_y release_date  \\\n",
              "0  [Crime, Drama]       9.3   1994-10-14   \n",
              "1  [Crime, Drama]       9.3   1994-10-14   \n",
              "2  [Crime, Drama]       9.3   1994-10-14   \n",
              "3  [Crime, Drama]       9.3   1994-10-14   \n",
              "4  [Crime, Drama]       9.3   1994-10-14   \n",
              "\n",
              "                                       plot_synopsis  \n",
              "0  In 1947, Andy Dufresne (Tim Robbins), a banker...  \n",
              "1  In 1947, Andy Dufresne (Tim Robbins), a banker...  \n",
              "2  In 1947, Andy Dufresne (Tim Robbins), a banker...  \n",
              "3  In 1947, Andy Dufresne (Tim Robbins), a banker...  \n",
              "4  In 1947, Andy Dufresne (Tim Robbins), a banker...  "
            ]
          },
          "execution_count": 36,
          "metadata": {},
          "output_type": "execute_result"
        }
      ]
    },
    {
      "cell_type": "code",
      "metadata": {
        "id": "rHfb6-0Zb1bv"
      },
      "source": [
        "df.rename(columns = {'rating_x':'userrating','rating_y':'actualrating'}, inplace = True)"
      ],
      "execution_count": null,
      "outputs": []
    },
    {
      "cell_type": "code",
      "metadata": {
        "id": "GMHylc-ab1WN"
      },
      "source": [
        "df['is_spoiler']=df['is_spoiler']+0"
      ],
      "execution_count": null,
      "outputs": []
    },
    {
      "cell_type": "markdown",
      "metadata": {
        "id": "mvvIjD8vqwnW"
      },
      "source": [
        "Coverting 'is_spoiler' values into *int* values"
      ]
    },
    {
      "cell_type": "code",
      "metadata": {
        "colab": {
          "base_uri": "https://localhost:8080/",
          "height": 289
        },
        "id": "dcdaPlI1mVly",
        "outputId": "bae01799-f7a6-428c-a6d9-0484545cae03"
      },
      "source": [
        "df.head()"
      ],
      "execution_count": null,
      "outputs": [
        {
          "data": {
            "text/html": [
              "<div>\n",
              "<style scoped>\n",
              "    .dataframe tbody tr th:only-of-type {\n",
              "        vertical-align: middle;\n",
              "    }\n",
              "\n",
              "    .dataframe tbody tr th {\n",
              "        vertical-align: top;\n",
              "    }\n",
              "\n",
              "    .dataframe thead th {\n",
              "        text-align: right;\n",
              "    }\n",
              "</style>\n",
              "<table border=\"1\" class=\"dataframe\">\n",
              "  <thead>\n",
              "    <tr style=\"text-align: right;\">\n",
              "      <th></th>\n",
              "      <th>review_date</th>\n",
              "      <th>movie_id</th>\n",
              "      <th>user_id</th>\n",
              "      <th>is_spoiler</th>\n",
              "      <th>review_text</th>\n",
              "      <th>userrating</th>\n",
              "      <th>review_summary</th>\n",
              "      <th>plot_summary</th>\n",
              "      <th>duration</th>\n",
              "      <th>genre</th>\n",
              "      <th>actualrating</th>\n",
              "      <th>release_date</th>\n",
              "      <th>plot_synopsis</th>\n",
              "    </tr>\n",
              "  </thead>\n",
              "  <tbody>\n",
              "    <tr>\n",
              "      <th>0</th>\n",
              "      <td>10 February 2006</td>\n",
              "      <td>11161</td>\n",
              "      <td>ur1898687</td>\n",
              "      <td>1</td>\n",
              "      <td>In its Oscar year, Shawshank Redemption (writt...</td>\n",
              "      <td>10</td>\n",
              "      <td>A classic piece of unforgettable film-making.</td>\n",
              "      <td>Chronicles the experiences of a formerly succe...</td>\n",
              "      <td>2h 22min</td>\n",
              "      <td>[Crime, Drama]</td>\n",
              "      <td>9.3</td>\n",
              "      <td>1994-10-14</td>\n",
              "      <td>In 1947, Andy Dufresne (Tim Robbins), a banker...</td>\n",
              "    </tr>\n",
              "    <tr>\n",
              "      <th>1</th>\n",
              "      <td>6 September 2000</td>\n",
              "      <td>11161</td>\n",
              "      <td>ur0842118</td>\n",
              "      <td>1</td>\n",
              "      <td>The Shawshank Redemption is without a doubt on...</td>\n",
              "      <td>10</td>\n",
              "      <td>Simply amazing. The best film of the 90's.</td>\n",
              "      <td>Chronicles the experiences of a formerly succe...</td>\n",
              "      <td>2h 22min</td>\n",
              "      <td>[Crime, Drama]</td>\n",
              "      <td>9.3</td>\n",
              "      <td>1994-10-14</td>\n",
              "      <td>In 1947, Andy Dufresne (Tim Robbins), a banker...</td>\n",
              "    </tr>\n",
              "    <tr>\n",
              "      <th>2</th>\n",
              "      <td>3 August 2001</td>\n",
              "      <td>11161</td>\n",
              "      <td>ur1285640</td>\n",
              "      <td>1</td>\n",
              "      <td>I believe that this film is the best story eve...</td>\n",
              "      <td>8</td>\n",
              "      <td>The best story ever told on film</td>\n",
              "      <td>Chronicles the experiences of a formerly succe...</td>\n",
              "      <td>2h 22min</td>\n",
              "      <td>[Crime, Drama]</td>\n",
              "      <td>9.3</td>\n",
              "      <td>1994-10-14</td>\n",
              "      <td>In 1947, Andy Dufresne (Tim Robbins), a banker...</td>\n",
              "    </tr>\n",
              "    <tr>\n",
              "      <th>3</th>\n",
              "      <td>1 September 2002</td>\n",
              "      <td>11161</td>\n",
              "      <td>ur1003471</td>\n",
              "      <td>1</td>\n",
              "      <td>**Yes, there are SPOILERS here**This film has ...</td>\n",
              "      <td>10</td>\n",
              "      <td>Busy dying or busy living?</td>\n",
              "      <td>Chronicles the experiences of a formerly succe...</td>\n",
              "      <td>2h 22min</td>\n",
              "      <td>[Crime, Drama]</td>\n",
              "      <td>9.3</td>\n",
              "      <td>1994-10-14</td>\n",
              "      <td>In 1947, Andy Dufresne (Tim Robbins), a banker...</td>\n",
              "    </tr>\n",
              "    <tr>\n",
              "      <th>4</th>\n",
              "      <td>20 May 2004</td>\n",
              "      <td>11161</td>\n",
              "      <td>ur0226855</td>\n",
              "      <td>1</td>\n",
              "      <td>At the heart of this extraordinary movie is a ...</td>\n",
              "      <td>8</td>\n",
              "      <td>Great story, wondrously told and acted</td>\n",
              "      <td>Chronicles the experiences of a formerly succe...</td>\n",
              "      <td>2h 22min</td>\n",
              "      <td>[Crime, Drama]</td>\n",
              "      <td>9.3</td>\n",
              "      <td>1994-10-14</td>\n",
              "      <td>In 1947, Andy Dufresne (Tim Robbins), a banker...</td>\n",
              "    </tr>\n",
              "  </tbody>\n",
              "</table>\n",
              "</div>"
            ],
            "text/plain": [
              "        review_date movie_id    user_id  is_spoiler  \\\n",
              "0  10 February 2006    11161  ur1898687           1   \n",
              "1  6 September 2000    11161  ur0842118           1   \n",
              "2     3 August 2001    11161  ur1285640           1   \n",
              "3  1 September 2002    11161  ur1003471           1   \n",
              "4       20 May 2004    11161  ur0226855           1   \n",
              "\n",
              "                                         review_text  userrating  \\\n",
              "0  In its Oscar year, Shawshank Redemption (writt...          10   \n",
              "1  The Shawshank Redemption is without a doubt on...          10   \n",
              "2  I believe that this film is the best story eve...           8   \n",
              "3  **Yes, there are SPOILERS here**This film has ...          10   \n",
              "4  At the heart of this extraordinary movie is a ...           8   \n",
              "\n",
              "                                  review_summary  \\\n",
              "0  A classic piece of unforgettable film-making.   \n",
              "1     Simply amazing. The best film of the 90's.   \n",
              "2               The best story ever told on film   \n",
              "3                     Busy dying or busy living?   \n",
              "4         Great story, wondrously told and acted   \n",
              "\n",
              "                                        plot_summary  duration  \\\n",
              "0  Chronicles the experiences of a formerly succe...  2h 22min   \n",
              "1  Chronicles the experiences of a formerly succe...  2h 22min   \n",
              "2  Chronicles the experiences of a formerly succe...  2h 22min   \n",
              "3  Chronicles the experiences of a formerly succe...  2h 22min   \n",
              "4  Chronicles the experiences of a formerly succe...  2h 22min   \n",
              "\n",
              "            genre  actualrating release_date  \\\n",
              "0  [Crime, Drama]           9.3   1994-10-14   \n",
              "1  [Crime, Drama]           9.3   1994-10-14   \n",
              "2  [Crime, Drama]           9.3   1994-10-14   \n",
              "3  [Crime, Drama]           9.3   1994-10-14   \n",
              "4  [Crime, Drama]           9.3   1994-10-14   \n",
              "\n",
              "                                       plot_synopsis  \n",
              "0  In 1947, Andy Dufresne (Tim Robbins), a banker...  \n",
              "1  In 1947, Andy Dufresne (Tim Robbins), a banker...  \n",
              "2  In 1947, Andy Dufresne (Tim Robbins), a banker...  \n",
              "3  In 1947, Andy Dufresne (Tim Robbins), a banker...  \n",
              "4  In 1947, Andy Dufresne (Tim Robbins), a banker...  "
            ]
          },
          "execution_count": 39,
          "metadata": {},
          "output_type": "execute_result"
        }
      ]
    },
    {
      "cell_type": "code",
      "metadata": {
        "colab": {
          "base_uri": "https://localhost:8080/"
        },
        "id": "l6Y3ybHPq8E-",
        "outputId": "ae17d891-7134-4198-9043-23e5c046cdec"
      },
      "source": [
        "df.info()"
      ],
      "execution_count": null,
      "outputs": [
        {
          "name": "stdout",
          "output_type": "stream",
          "text": [
            "<class 'pandas.core.frame.DataFrame'>\n",
            "Int64Index: 581532 entries, 0 to 581531\n",
            "Data columns (total 13 columns):\n",
            " #   Column          Non-Null Count   Dtype  \n",
            "---  ------          --------------   -----  \n",
            " 0   review_date     581532 non-null  object \n",
            " 1   movie_id        581532 non-null  object \n",
            " 2   user_id         581532 non-null  object \n",
            " 3   is_spoiler      581532 non-null  int64  \n",
            " 4   review_text     581532 non-null  object \n",
            " 5   userrating      581532 non-null  int64  \n",
            " 6   review_summary  581532 non-null  object \n",
            " 7   plot_summary    581532 non-null  object \n",
            " 8   duration        581532 non-null  object \n",
            " 9   genre           581532 non-null  object \n",
            " 10  actualrating    581532 non-null  float64\n",
            " 11  release_date    581532 non-null  object \n",
            " 12  plot_synopsis   581532 non-null  object \n",
            "dtypes: float64(1), int64(2), object(10)\n",
            "memory usage: 62.1+ MB\n"
          ]
        }
      ]
    },
    {
      "cell_type": "code",
      "metadata": {
        "id": "hITVwOpx6y08"
      },
      "source": [
        "df[\"review_date\"]=pd.to_datetime(df[\"review_date\"])\n",
        "df[\"release_date\"]=pd.to_datetime(df[\"release_date\"])"
      ],
      "execution_count": null,
      "outputs": []
    },
    {
      "cell_type": "markdown",
      "metadata": {
        "id": "wGuIujawrIhV"
      },
      "source": [
        "Converting both review and release date columns to *datetime* type for better analysis"
      ]
    },
    {
      "cell_type": "markdown",
      "metadata": {
        "id": "IeBv6XoLA4ui"
      },
      "source": [
        "Let's check  if there are any underlying missing values in the dataset "
      ]
    },
    {
      "cell_type": "code",
      "metadata": {
        "colab": {
          "base_uri": "https://localhost:8080/",
          "height": 49
        },
        "id": "G3TVX-zOrfJJ",
        "outputId": "3b744c88-6e2b-491b-a9bf-b891605a1733"
      },
      "source": [
        "df[df.isna().any(axis=1)==True]"
      ],
      "execution_count": null,
      "outputs": [
        {
          "data": {
            "text/html": [
              "<div>\n",
              "<style scoped>\n",
              "    .dataframe tbody tr th:only-of-type {\n",
              "        vertical-align: middle;\n",
              "    }\n",
              "\n",
              "    .dataframe tbody tr th {\n",
              "        vertical-align: top;\n",
              "    }\n",
              "\n",
              "    .dataframe thead th {\n",
              "        text-align: right;\n",
              "    }\n",
              "</style>\n",
              "<table border=\"1\" class=\"dataframe\">\n",
              "  <thead>\n",
              "    <tr style=\"text-align: right;\">\n",
              "      <th></th>\n",
              "      <th>review_date</th>\n",
              "      <th>movie_id</th>\n",
              "      <th>user_id</th>\n",
              "      <th>is_spoiler</th>\n",
              "      <th>review_text</th>\n",
              "      <th>userrating</th>\n",
              "      <th>review_summary</th>\n",
              "      <th>plot_summary</th>\n",
              "      <th>duration</th>\n",
              "      <th>genre</th>\n",
              "      <th>actualrating</th>\n",
              "      <th>release_date</th>\n",
              "      <th>plot_synopsis</th>\n",
              "    </tr>\n",
              "  </thead>\n",
              "  <tbody>\n",
              "  </tbody>\n",
              "</table>\n",
              "</div>"
            ],
            "text/plain": [
              "Empty DataFrame\n",
              "Columns: [review_date, movie_id, user_id, is_spoiler, review_text, userrating, review_summary, plot_summary, duration, genre, actualrating, release_date, plot_synopsis]\n",
              "Index: []"
            ]
          },
          "execution_count": 42,
          "metadata": {},
          "output_type": "execute_result"
        }
      ]
    },
    {
      "cell_type": "markdown",
      "metadata": {
        "id": "hzhhL7GZrk2i"
      },
      "source": [
        "No missing values were found in the dataset"
      ]
    },
    {
      "cell_type": "code",
      "metadata": {
        "colab": {
          "base_uri": "https://localhost:8080/",
          "height": 366
        },
        "id": "_tHEqRHCwBue",
        "outputId": "8a892ef4-92f8-457f-829c-2e9ab276a7fa"
      },
      "source": [
        "df[[\"userrating\",\"actualrating\",\"is_spoiler\"]].hist()"
      ],
      "execution_count": null,
      "outputs": [
        {
          "data": {
            "text/plain": [
              "array([[<matplotlib.axes._subplots.AxesSubplot object at 0x7f70e146b650>,\n",
              "        <matplotlib.axes._subplots.AxesSubplot object at 0x7f70e1457c10>],\n",
              "       [<matplotlib.axes._subplots.AxesSubplot object at 0x7f70e1447890>,\n",
              "        <matplotlib.axes._subplots.AxesSubplot object at 0x7f70e14b50d0>]],\n",
              "      dtype=object)"
            ]
          },
          "execution_count": 43,
          "metadata": {},
          "output_type": "execute_result"
        },
        {
          "data": {
            "image/png": "[encoded data removed]",
            "text/plain": [
              "<Figure size 432x288 with 4 Axes>"
            ]
          },
          "metadata": {},
          "output_type": "display_data"
        }
      ]
    },
    {
      "cell_type": "markdown",
      "metadata": {
        "id": "8wch3AfwU_r0"
      },
      "source": [
        "Above graph shows distribution of data for the features such as userrating,actualrating and is_spoiler.\n",
        "All the values here seems reasonable as rating has range 0-10 and is_spoiler can only have either 0 or 1 value."
      ]
    },
    {
      "cell_type": "code",
      "metadata": {
        "colab": {
          "base_uri": "https://localhost:8080/"
        },
        "id": "xf6pginSifGb",
        "outputId": "16384e00-1bf9-4730-8f76-97eaa5c42944"
      },
      "source": [
        "print('Total no. of reviews:' , len(df))"
      ],
      "execution_count": null,
      "outputs": [
        {
          "name": "stdout",
          "output_type": "stream",
          "text": [
            "Total no. of reviews: 581532\n"
          ]
        }
      ]
    },
    {
      "cell_type": "code",
      "metadata": {
        "colab": {
          "base_uri": "https://localhost:8080/"
        },
        "id": "ruvkAvuHi8K-",
        "outputId": "69ad48af-59b2-4b63-eca1-832800042dd7"
      },
      "source": [
        "print(\"Total no. of users who gave reviews:\",df['user_id'].nunique() )"
      ],
      "execution_count": null,
      "outputs": [
        {
          "name": "stdout",
          "output_type": "stream",
          "text": [
            "Total no. of users who gave reviews: 263404\n"
          ]
        }
      ]
    },
    {
      "cell_type": "code",
      "metadata": {
        "colab": {
          "base_uri": "https://localhost:8080/"
        },
        "id": "uAnazPoFFBjf",
        "outputId": "5a8ae062-3f39-4812-8d8f-cf3c4649e8ab"
      },
      "source": [
        "print('Total films in dataset :', df['movie_id'].nunique())"
      ],
      "execution_count": null,
      "outputs": [
        {
          "name": "stdout",
          "output_type": "stream",
          "text": [
            "Total films in dataset : 1559\n"
          ]
        }
      ]
    },
    {
      "cell_type": "markdown",
      "metadata": {
        "id": "EwKj2XhSBEZy"
      },
      "source": [
        "Now lets have a look at data heat map to see if the features bear any correlation wrt eachother "
      ]
    },
    {
      "cell_type": "code",
      "metadata": {
        "colab": {
          "base_uri": "https://localhost:8080/",
          "height": 542
        },
        "id": "pN4Vkmsw8bzR",
        "outputId": "fdde59c1-28ef-4db9-de1e-8aef93ceb3d3"
      },
      "source": [
        "#correlation matrix\n",
        "corrmat = df.corr()\n",
        "fig = plt.figure(figsize = (12, 9))\n",
        "sns.heatmap(corrmat, vmax=.8, square=True);\n",
        "plt.show()"
      ],
      "execution_count": null,
      "outputs": [
        {
          "data": {
            "image/png": "[encoded data removed]",
            "text/plain": [
              "<Figure size 864x648 with 2 Axes>"
            ]
          },
          "metadata": {},
          "output_type": "display_data"
        }
      ]
    },
    {
      "cell_type": "markdown",
      "metadata": {
        "id": "uJ7REwKqBSwd"
      },
      "source": [
        "as can be see from the heatmap that there is quite little direct correlation existing  amongst the features "
      ]
    },
    {
      "cell_type": "markdown",
      "metadata": {
        "id": "I89KCHFSBeJA"
      },
      "source": [
        "Lets have a look at distribution of movie's actual rating wrt the reviews containing spoilers and not containing spoilers"
      ]
    },
    {
      "cell_type": "code",
      "metadata": {
        "colab": {
          "base_uri": "https://localhost:8080/",
          "height": 299
        },
        "id": "pksquFetTf5v",
        "outputId": "aa37d075-8cd9-4520-bd5d-316135af329e"
      },
      "source": [
        "print(\"Distribution of rating across all movie reviews:\")\n",
        "df[df[\"is_spoiler\"]==0]['actualrating'].plot(kind='hist')"
      ],
      "execution_count": null,
      "outputs": [
        {
          "name": "stdout",
          "output_type": "stream",
          "text": [
            "Distribution of rating across all movie reviews:\n"
          ]
        },
        {
          "data": {
            "text/plain": [
              "<matplotlib.axes._subplots.AxesSubplot at 0x7f70e1507ed0>"
            ]
          },
          "execution_count": 48,
          "metadata": {},
          "output_type": "execute_result"
        },
        {
          "data": {
            "image/png": "[encoded data removed]",
            "text/plain": [
              "<Figure size 432x288 with 1 Axes>"
            ]
          },
          "metadata": {},
          "output_type": "display_data"
        }
      ]
    },
    {
      "cell_type": "code",
      "metadata": {
        "colab": {
          "base_uri": "https://localhost:8080/",
          "height": 299
        },
        "id": "3tL4Ic9W1T2y",
        "outputId": "77afa04a-a65a-44ec-dc1e-1c4721f492c6"
      },
      "source": [
        "print(\"Distribution of rating across  movie reviews with spoilers:\")\n",
        "df[df[\"is_spoiler\"]==1]['actualrating'].plot(kind='hist')"
      ],
      "execution_count": null,
      "outputs": [
        {
          "name": "stdout",
          "output_type": "stream",
          "text": [
            "Distribution of rating across  movie reviews with spoilers:\n"
          ]
        },
        {
          "data": {
            "text/plain": [
              "<matplotlib.axes._subplots.AxesSubplot at 0x7f70e15011d0>"
            ]
          },
          "execution_count": 49,
          "metadata": {},
          "output_type": "execute_result"
        },
        {
          "data": {
            "image/png": "[encoded data removed]",
            "text/plain": [
              "<Figure size 432x288 with 1 Axes>"
            ]
          },
          "metadata": {},
          "output_type": "display_data"
        }
      ]
    },
    {
      "cell_type": "markdown",
      "metadata": {
        "id": "9Xlpq3Ky09-9"
      },
      "source": [
        "Most of the ratings are concentrated around 6-9  for both reviews either containing spoiler or not."
      ]
    },
    {
      "cell_type": "markdown",
      "metadata": {
        "id": "L_PxElqUB7UQ"
      },
      "source": [
        "On similar grounds lets also try to find different insights into the data through some more visualisations "
      ]
    },
    {
      "cell_type": "code",
      "metadata": {
        "colab": {
          "base_uri": "https://localhost:8080/",
          "height": 608
        },
        "id": "CvvshqO10p8D",
        "outputId": "ecf6e036-22fe-41b2-9d33-f7dd3b702981"
      },
      "source": [
        "labels, frequencies = np.unique(df.is_spoiler.values,return_counts = True)\n",
        "plt.figure(figsize = (10,10))\n",
        "x=plt.pie(frequencies,labels = labels, autopct = '%1.1f%%')\n",
        "plt.title('Pie chart of distribution of reviews with and without spoilers in dataset')\n",
        "plt.legend(labels=['Without spoilers', 'With spoilers'])"
      ],
      "execution_count": null,
      "outputs": [
        {
          "data": {
            "text/plain": [
              "<matplotlib.legend.Legend at 0x7f70e1519890>"
            ]
          },
          "execution_count": 50,
          "metadata": {},
          "output_type": "execute_result"
        },
        {
          "data": {
            "image/png": "[encoded data removed]",
            "text/plain": [
              "<Figure size 720x720 with 1 Axes>"
            ]
          },
          "metadata": {},
          "output_type": "display_data"
        }
      ]
    },
    {
      "cell_type": "markdown",
      "metadata": {
        "id": "ekJgQwY1V_GK"
      },
      "source": [
        "About 70-30  ratio is there between non spoiler and spoiler reviews in the dataset "
      ]
    },
    {
      "cell_type": "code",
      "metadata": {
        "colab": {
          "base_uri": "https://localhost:8080/",
          "height": 369
        },
        "id": "3y1YX8l-DBLl",
        "outputId": "2e00d6ee-5005-4c63-d04f-e2f72b45593b"
      },
      "source": [
        "labels, frequencies = np.unique(df[df[\"is_spoiler\"]==1].genre.values,return_counts = True)\n",
        "plt.figure(figsize = (8,8))\n",
        "x=plt.pie(frequencies[:10],labels = labels[:10], autopct = '%1.1f%%')\n",
        "plt.tight_layout()\n",
        "plt.title('Pie chart for reviews for top 10 genres:')"
      ],
      "execution_count": null,
      "outputs": [
        {
          "data": {
            "text/plain": [
              "Text(0.5, 1.0, 'Pie chart for reviews for top 10 genres:')"
            ]
          },
          "execution_count": 51,
          "metadata": {},
          "output_type": "execute_result"
        },
        {
          "data": {
            "image/png": "[encoded data removed]",
            "text/plain": [
              "<Figure size 576x576 with 1 Axes>"
            ]
          },
          "metadata": {},
          "output_type": "display_data"
        }
      ]
    },
    {
      "cell_type": "markdown",
      "metadata": {
        "id": "30-HbSM41n6i"
      },
      "source": [
        "These are the top 10 genre sets with most spoiler reviews.This indicates that some movie genres have much more tendency to correspond with spoiler in the reviews than other genres.Using this we will create a qunatitative criteria which will help in classification. "
      ]
    },
    {
      "cell_type": "code",
      "metadata": {
        "id": "1nnGU5ocLHwH"
      },
      "source": [
        "df_temp=pd.DataFrame()\n",
        "df_temp[\"is_spoiler\"]=df[\"is_spoiler\"]\n",
        "df_temp[\"days_elapsed\"]=abs(df[\"review_date\"]-df[\"release_date\"]).dt.days\n",
        "df_temp=df_temp.groupby(['is_spoiler', 'days_elapsed']).size().reset_index(name='count').sort_values('days_elapsed')"
      ],
      "execution_count": null,
      "outputs": []
    },
    {
      "cell_type": "code",
      "metadata": {
        "colab": {
          "base_uri": "https://localhost:8080/",
          "height": 514
        },
        "id": "0UU7T_P131h7",
        "outputId": "c446c885-8b4a-46e0-ca98-32c09d224cfa"
      },
      "source": [
        "fig = plt.figure(figsize=(16, 8))\n",
        "\n",
        "\n",
        "ax1 = fig.add_subplot(1, 2, 1)\n",
        "ax2 = fig.add_subplot(1, 2, 2)\n",
        "\n",
        "ax1.plot(df_temp[df_temp[\"is_spoiler\"]==1][\"days_elapsed\"].values,df_temp[df_temp[\"is_spoiler\"]==1][\"count\"].values)\n",
        "ax1.set_title('for entire dataset')\n",
        "ax1.set_xlabel('No. of days_elapsed')\n",
        "ax1.set_ylabel('No. of  spoiler reviews')\n",
        "\n",
        "ax2.plot(df_temp[df_temp[\"is_spoiler\"]==1][\"days_elapsed\"][:100].values,df_temp[df_temp[\"is_spoiler\"]==1][\"count\"][:100].values)\n",
        "ax2.set_xlabel('No. of days_elapsed')\n",
        "ax2.set_title('for initial 100 days')\n",
        "ax2.set_ylabel('No. of  spoiler reviews')\n",
        "\n",
        "plt.show()"
      ],
      "execution_count": null,
      "outputs": [
        {
          "data": {
            "image/png": "[encoded data removed]",
            "text/plain": [
              "<Figure size 1152x576 with 2 Axes>"
            ]
          },
          "metadata": {},
          "output_type": "display_data"
        }
      ]
    },
    {
      "cell_type": "code",
      "metadata": {
        "colab": {
          "base_uri": "https://localhost:8080/",
          "height": 514
        },
        "id": "6AR4R-oly4mi",
        "outputId": "d7ee1ff9-599f-47d9-c3ef-5bc92923ece0"
      },
      "source": [
        "fig = plt.figure(figsize=(16, 8))\n",
        "\n",
        "\n",
        "ax1 = fig.add_subplot(1, 2, 1)\n",
        "ax2 = fig.add_subplot(1, 2, 2)\n",
        "\n",
        "ax1.plot(df_temp[df_temp[\"is_spoiler\"]==0][\"days_elapsed\"].values,df_temp[df_temp[\"is_spoiler\"]==0][\"count\"].values)\n",
        "ax1.set_title('for entire dataset')\n",
        "ax1.set_xlabel('No. of days_elapsed')\n",
        "ax1.set_ylabel('No. of  non-spoiler reviews')\n",
        "\n",
        "ax2.plot(df_temp[df_temp[\"is_spoiler\"]==0][\"days_elapsed\"][:100].values,df_temp[df_temp[\"is_spoiler\"]==0][\"count\"][:100].values)\n",
        "ax2.set_xlabel('No. of days_elapsed')\n",
        "ax2.set_title('for initial 100 days')\n",
        "ax2.set_ylabel('No. of  non-spoiler reviews')\n",
        "\n",
        "plt.show()"
      ],
      "execution_count": null,
      "outputs": [
        {
          "data": {
            "image/png": "[encoded data removed]",
            "text/plain": [
              "<Figure size 1152x576 with 2 Axes>"
            ]
          },
          "metadata": {},
          "output_type": "display_data"
        }
      ]
    },
    {
      "cell_type": "code",
      "metadata": {
        "id": "QSB57bjo2PRE"
      },
      "source": [
        "df[\"days_elapsed\"]=abs(df[\"review_date\"]-df[\"release_date\"]).dt.days"
      ],
      "execution_count": null,
      "outputs": []
    },
    {
      "cell_type": "markdown",
      "metadata": {
        "id": "HjlY9z1kC3gr"
      },
      "source": [
        "Above graphs clearly shows most reviews for a movie are around the time of the release of the movie and as it  moves away from the release date after some days the review logging for the respective movie also depreciates.Same trend can be seen for the reviews with spoilers."
      ]
    },
    {
      "cell_type": "code",
      "metadata": {
        "id": "jgUSnEfE8XEW"
      },
      "source": [
        "spoilermovies=df[df['is_spoiler']==1].movie_id.value_counts()[:20].index.to_list()\n",
        "pivot_df=df.groupby(['is_spoiler', 'movie_id']).size().reset_index(name='count').sort_values('count')\n",
        "pivot_df=pivot_df[pivot_df[\"movie_id\"].isin(spoilermovies)]\n",
        "pivot_df=pivot_df.pivot(index='movie_id',  columns='is_spoiler', values='count')\n",
        "pivot_df=pivot_df.fillna(0)"
      ],
      "execution_count": null,
      "outputs": []
    },
    {
      "cell_type": "code",
      "metadata": {
        "colab": {
          "base_uri": "https://localhost:8080/",
          "height": 498
        },
        "id": "qxubNVNl1yPo",
        "outputId": "44e6e254-e005-419f-96b3-9452d3598e8c"
      },
      "source": [
        "colors = [\"#006D2C\",\"#74C476\"]\n",
        "pivot_df.plot.bar(stacked=True, color=colors, figsize=(10,7),title=\"Distribution of reviews for top 20 spoiler reviewed movies\")\n"
      ],
      "execution_count": null,
      "outputs": [
        {
          "data": {
            "text/plain": [
              "<matplotlib.axes._subplots.AxesSubplot at 0x7f70e1608610>"
            ]
          },
          "execution_count": 57,
          "metadata": {},
          "output_type": "execute_result"
        },
        {
          "data": {
            "image/png": "[encoded data removed]",
            "text/plain": [
              "<Figure size 720x504 with 1 Axes>"
            ]
          },
          "metadata": {},
          "output_type": "display_data"
        }
      ]
    },
    {
      "cell_type": "markdown",
      "metadata": {
        "id": "vf8Ap6s57sQu"
      },
      "source": [
        "Based on graph it can be seen that some movies have more chances  of having spoiler reviews when compared with others that can be attributed to various factors beyond the scope of our current application so for the time being we can use this criteria of tendency of movie to have spoilers for spoiler classification."
      ]
    },
    {
      "cell_type": "code",
      "metadata": {
        "id": "hWX8V_NXgQ23"
      },
      "source": [
        "spoilermovies=df[df['is_spoiler']==1].user_id.value_counts()[:20].index.to_list()\n",
        "pivot_df=df.groupby(['is_spoiler', 'user_id']).size().reset_index(name='count').sort_values('count')\n",
        "pivot_df=pivot_df[pivot_df[\"user_id\"].isin(spoilermovies)]\n",
        "pivot_df=pivot_df.pivot(index='user_id',  columns='is_spoiler', values='count')\n",
        "pivot_df=pivot_df.fillna(0)"
      ],
      "execution_count": null,
      "outputs": []
    },
    {
      "cell_type": "code",
      "metadata": {
        "colab": {
          "base_uri": "https://localhost:8080/",
          "height": 528
        },
        "id": "C0GJ0e2GPsb1",
        "outputId": "1085f79a-0839-4a35-fd82-eeddb41ea923"
      },
      "source": [
        "colors = [\"#006D2C\",\"#74C476\"]\n",
        "pivot_df.plot.bar(stacked=True, color=colors, figsize=(10,7),title=\"Distribution of reviews for top 20 users who gave most reviews\")"
      ],
      "execution_count": null,
      "outputs": [
        {
          "data": {
            "text/plain": [
              "<matplotlib.axes._subplots.AxesSubplot at 0x7f70e16b9250>"
            ]
          },
          "execution_count": 59,
          "metadata": {},
          "output_type": "execute_result"
        },
        {
          "data": {
            "image/png": "[encoded data removed]",
            "text/plain": [
              "<Figure size 720x504 with 1 Axes>"
            ]
          },
          "metadata": {},
          "output_type": "display_data"
        }
      ]
    },
    {
      "cell_type": "markdown",
      "metadata": {
        "id": "UgN3A_wT9V06"
      },
      "source": [
        "As can be seen from the above graphs most of the top users have mostly given more spoiler reviews when compared to non spoiler ones.\n",
        "This indicates that some users are more likely to give spoiler reviews than others.Same as movie tendency for reviews we will use this user tendency for giving spoiler reviews for help in classification,"
      ]
    },
    {
      "cell_type": "code",
      "metadata": {
        "colab": {
          "base_uri": "https://localhost:8080/",
          "height": 419
        },
        "id": "9TrKKps3Qe3p",
        "outputId": "b1f2b1ca-1100-478a-e3e5-d8bcb8c39424"
      },
      "source": [
        "df.groupby(['movie_id']).size().reset_index(name='count').sort_values('count')"
      ],
      "execution_count": null,
      "outputs": [
        {
          "data": {
            "text/html": [
              "<div>\n",
              "<style scoped>\n",
              "    .dataframe tbody tr th:only-of-type {\n",
              "        vertical-align: middle;\n",
              "    }\n",
              "\n",
              "    .dataframe tbody tr th {\n",
              "        vertical-align: top;\n",
              "    }\n",
              "\n",
              "    .dataframe thead th {\n",
              "        text-align: right;\n",
              "    }\n",
              "</style>\n",
              "<table border=\"1\" class=\"dataframe\">\n",
              "  <thead>\n",
              "    <tr style=\"text-align: right;\">\n",
              "      <th></th>\n",
              "      <th>movie_id</th>\n",
              "      <th>count</th>\n",
              "    </tr>\n",
              "  </thead>\n",
              "  <tbody>\n",
              "    <tr>\n",
              "      <th>30</th>\n",
              "      <td>01265</td>\n",
              "      <td>4</td>\n",
              "    </tr>\n",
              "    <tr>\n",
              "      <th>1477</th>\n",
              "      <td>94822</td>\n",
              "      <td>11</td>\n",
              "    </tr>\n",
              "    <tr>\n",
              "      <th>218</th>\n",
              "      <td>07719</td>\n",
              "      <td>12</td>\n",
              "    </tr>\n",
              "    <tr>\n",
              "      <th>1157</th>\n",
              "      <td>68216</td>\n",
              "      <td>13</td>\n",
              "    </tr>\n",
              "    <tr>\n",
              "      <th>32</th>\n",
              "      <td>01301</td>\n",
              "      <td>15</td>\n",
              "    </tr>\n",
              "    <tr>\n",
              "      <th>...</th>\n",
              "      <td>...</td>\n",
              "      <td>...</td>\n",
              "    </tr>\n",
              "    <tr>\n",
              "      <th>1163</th>\n",
              "      <td>68646</td>\n",
              "      <td>2137</td>\n",
              "    </tr>\n",
              "    <tr>\n",
              "      <th>779</th>\n",
              "      <td>37523</td>\n",
              "      <td>2480</td>\n",
              "    </tr>\n",
              "    <tr>\n",
              "      <th>1145</th>\n",
              "      <td>67260</td>\n",
              "      <td>2729</td>\n",
              "    </tr>\n",
              "    <tr>\n",
              "      <th>311</th>\n",
              "      <td>11161</td>\n",
              "      <td>4361</td>\n",
              "    </tr>\n",
              "    <tr>\n",
              "      <th>1162</th>\n",
              "      <td>68569</td>\n",
              "      <td>4845</td>\n",
              "    </tr>\n",
              "  </tbody>\n",
              "</table>\n",
              "<p>1559 rows × 2 columns</p>\n",
              "</div>"
            ],
            "text/plain": [
              "     movie_id  count\n",
              "30      01265      4\n",
              "1477    94822     11\n",
              "218     07719     12\n",
              "1157    68216     13\n",
              "32      01301     15\n",
              "...       ...    ...\n",
              "1163    68646   2137\n",
              "779     37523   2480\n",
              "1145    67260   2729\n",
              "311     11161   4361\n",
              "1162    68569   4845\n",
              "\n",
              "[1559 rows x 2 columns]"
            ]
          },
          "execution_count": 60,
          "metadata": {},
          "output_type": "execute_result"
        }
      ]
    },
    {
      "cell_type": "markdown",
      "metadata": {
        "id": "PKGNM7vOQ9j9"
      },
      "source": [
        "As can be seen from the above data some movie have much more reviews than other movies which is  a good indicator of popularity of the movie."
      ]
    },
    {
      "cell_type": "code",
      "metadata": {
        "id": "HUWiFb3VbZ69"
      },
      "source": [
        "df_temp2=pd.DataFrame()\n",
        "df_temp2['word_count'] = df['review_text'].apply(lambda text: len(text.split(' ')))\n",
        "df_temp2[\"is_spoiler\"]=df.is_spoiler"
      ],
      "execution_count": null,
      "outputs": []
    },
    {
      "cell_type": "code",
      "metadata": {
        "colab": {
          "base_uri": "https://localhost:8080/",
          "height": 492
        },
        "id": "grTpQ3wcblIj",
        "outputId": "91156408-d6c8-4eeb-ec54-1a2d781bf4fe"
      },
      "source": [
        "plt.figure(figsize=(12, 6))\n",
        "sns.distplot(df_temp2[df_temp2['is_spoiler'] == False]['word_count'], hist=False, label='Without spoilers')\n",
        "sns.distplot(df_temp2[df_temp2['is_spoiler'] == True]['word_count'], hist=False, label='Containing spoilers')\n",
        "plt.legend()\n",
        "plt.xlim([-100, 1100])\n",
        "plt.xlabel('Word Count')\n",
        "plt.title('Distribution according to review length')\n",
        "plt.show()"
      ],
      "execution_count": null,
      "outputs": [
        {
          "name": "stderr",
          "output_type": "stream",
          "text": [
            "/usr/local/lib/python3.7/dist-packages/seaborn/distributions.py:2557: FutureWarning: `distplot` is a deprecated function and will be removed in a future version. Please adapt your code to use either `displot` (a figure-level function with similar flexibility) or `kdeplot` (an axes-level function for kernel density plots).\n",
            "  warnings.warn(msg, FutureWarning)\n",
            "/usr/local/lib/python3.7/dist-packages/seaborn/distributions.py:2557: FutureWarning: `distplot` is a deprecated function and will be removed in a future version. Please adapt your code to use either `displot` (a figure-level function with similar flexibility) or `kdeplot` (an axes-level function for kernel density plots).\n",
            "  warnings.warn(msg, FutureWarning)\n"
          ]
        },
        {
          "data": {
            "image/png": "[encoded data removed]",
            "text/plain": [
              "<Figure size 864x432 with 1 Axes>"
            ]
          },
          "metadata": {},
          "output_type": "display_data"
        }
      ]
    },
    {
      "cell_type": "markdown",
      "metadata": {
        "id": "HlMC9-McaUPu"
      },
      "source": [
        "This clearly indicates that word count for reviews containing spoilers are mostly larger as compared to non-spoiler reviews"
      ]
    },
    {
      "cell_type": "code",
      "metadata": {
        "id": "gAB3wWN59iEF"
      },
      "source": [
        "df[\"word_count\"]=df['review_text'].apply(lambda text: len(text.split(' ')))"
      ],
      "execution_count": null,
      "outputs": []
    },
    {
      "cell_type": "code",
      "metadata": {
        "id": "zYiQspxCb8F-"
      },
      "source": [
        "df_temp2[\"review_text\"]=df[\"review_text\"].str.lower()"
      ],
      "execution_count": null,
      "outputs": []
    },
    {
      "cell_type": "code",
      "metadata": {
        "id": "1N1nt34NgJ9I"
      },
      "source": [
        "df_temp2[\"spoiltext\"]=df_temp2.review_text.str.contains(\"spoil\")+0"
      ],
      "execution_count": null,
      "outputs": []
    },
    {
      "cell_type": "code",
      "metadata": {
        "colab": {
          "base_uri": "https://localhost:8080/"
        },
        "id": "Xvx5AkUfg9dc",
        "outputId": "fe6abe09-b2b1-4c92-f858-f22a22e18096"
      },
      "source": [
        "df_temp2.review_text.str.contains(\"dies\").value_counts()"
      ],
      "execution_count": null,
      "outputs": [
        {
          "data": {
            "text/plain": [
              "False    546690\n",
              "True      34842\n",
              "Name: review_text, dtype: int64"
            ]
          },
          "execution_count": 66,
          "metadata": {},
          "output_type": "execute_result"
        }
      ]
    },
    {
      "cell_type": "code",
      "metadata": {
        "colab": {
          "base_uri": "https://localhost:8080/"
        },
        "id": "7HQ10ulReiWY",
        "outputId": "edb97edb-67c6-48a7-cfdb-b273466ff3fc"
      },
      "source": [
        "df_temp2[\"spoiltext\"].value_counts()"
      ],
      "execution_count": null,
      "outputs": [
        {
          "data": {
            "text/plain": [
              "0    543120\n",
              "1     38412\n",
              "Name: spoiltext, dtype: int64"
            ]
          },
          "execution_count": 67,
          "metadata": {},
          "output_type": "execute_result"
        }
      ]
    },
    {
      "cell_type": "code",
      "metadata": {
        "colab": {
          "base_uri": "https://localhost:8080/",
          "height": 575
        },
        "id": "iLgh69RwbAkC",
        "outputId": "4bf55dc6-f24f-4b3b-e8ca-c3326496fe9b"
      },
      "source": [
        "labels, frequencies = np.unique(df_temp2[df_temp2[\"is_spoiler\"]==1].spoiltext.values,return_counts = True)\n",
        "plt.figure(figsize = (10,10))\n",
        "plt.pie(frequencies,labels = labels, autopct = '%1.1f%%')\n",
        "plt.show()"
      ],
      "execution_count": null,
      "outputs": [
        {
          "data": {
            "image/png": "[encoded data removed]",
            "text/plain": [
              "<Figure size 720x720 with 1 Axes>"
            ]
          },
          "metadata": {},
          "output_type": "display_data"
        }
      ]
    },
    {
      "cell_type": "markdown",
      "metadata": {
        "id": "_4-Ct2krguQq"
      },
      "source": [
        "While the ratio itself isn't much appreciable but this can be a great criteria along with some other words that all spoiler reviews may contain frequently."
      ]
    },
    {
      "cell_type": "markdown",
      "metadata": {
        "id": "npCTy6S5xnX9"
      },
      "source": [
        "Lets further evaluate reviews using some NLP to find sembelance to spoilers  with the way they are written."
      ]
    },
    {
      "cell_type": "code",
      "metadata": {
        "colab": {
          "base_uri": "https://localhost:8080/"
        },
        "id": "LXhs6dOcyNrZ",
        "outputId": "013f27ff-e95a-43eb-cdb5-589431960dac"
      },
      "source": [
        "import nltk\n",
        "nltk.download('stopwords')"
      ],
      "execution_count": null,
      "outputs": [
        {
          "name": "stdout",
          "output_type": "stream",
          "text": [
            "[nltk_data] Downloading package stopwords to /root/nltk_data...\n",
            "[nltk_data]   Unzipping corpora/stopwords.zip.\n"
          ]
        },
        {
          "data": {
            "text/plain": [
              "True"
            ]
          },
          "execution_count": 69,
          "metadata": {},
          "output_type": "execute_result"
        }
      ]
    },
    {
      "cell_type": "code",
      "metadata": {
        "id": "yr5MgU4TnZM5"
      },
      "source": [
        "stopwords=set(stopwords.words('english'))\n",
        "stopwords_dict=Counter(stopwords)\n",
        "def preprocesstext(review):\n",
        "    review=review.lower()\n",
        "    review=re.sub('[^a-zA-Z]',' ',review)\n",
        "    words=review.split()\n",
        "    word=[word for word in words if word not in stopwords_dict]\n",
        "    review=\" \".join(words)\n",
        "    return review\n",
        "df_temp2.review_text=df_temp2.review_text.apply(preprocesstext)"
      ],
      "execution_count": null,
      "outputs": []
    },
    {
      "cell_type": "code",
      "metadata": {
        "colab": {
          "base_uri": "https://localhost:8080/"
        },
        "id": "Ib-vLdObnZM_",
        "outputId": "583f4255-cdfd-439d-f4cd-6c866d5fed4e"
      },
      "source": [
        "df_temp2.review_text"
      ],
      "execution_count": null,
      "outputs": [
        {
          "data": {
            "text/plain": [
              "0         in its oscar year shawshank redemption written...\n",
              "1         the shawshank redemption is without a doubt on...\n",
              "2         i believe that this film is the best story eve...\n",
              "3         yes there are spoilers here this film has had ...\n",
              "4         at the heart of this extraordinary movie is a ...\n",
              "                                ...                        \n",
              "581527    go is wise fast and pure entertainment assembl...\n",
              "581528    well what shall i say this one s fun at any ra...\n",
              "581529    go is the best movie i have ever seen and i ve...\n",
              "581530    call this teenage version of pulp fiction what...\n",
              "581531    why was this movie made no doubt to sucker in ...\n",
              "Name: review_text, Length: 581532, dtype: object"
            ]
          },
          "execution_count": 71,
          "metadata": {},
          "output_type": "execute_result"
        }
      ]
    },
    {
      "cell_type": "code",
      "metadata": {
        "colab": {
          "base_uri": "https://localhost:8080/"
        },
        "id": "AVFGqMLvp2jj",
        "outputId": "e6eedba9-5ef3-48bd-e317-f53975e12508"
      },
      "source": [
        "Counter(\" \".join(df_temp2[\"review_text\"][:200000]).split()).most_common(100)"
      ],
      "execution_count": null,
      "outputs": [
        {
          "data": {
            "text/plain": [
              "[('the', 3276372),\n",
              " ('and', 1626441),\n",
              " ('a', 1430258),\n",
              " ('of', 1390195),\n",
              " ('to', 1271157),\n",
              " ('is', 1069559),\n",
              " ('it', 941039),\n",
              " ('i', 868774),\n",
              " ('in', 855575),\n",
              " ('that', 718976),\n",
              " ('this', 656909),\n",
              " ('s', 576457),\n",
              " ('movie', 487551),\n",
              " ('as', 444053),\n",
              " ('was', 442470),\n",
              " ('for', 419830),\n",
              " ('with', 415144),\n",
              " ('film', 410990),\n",
              " ('but', 405011),\n",
              " ('you', 348294),\n",
              " ('t', 311905),\n",
              " ('he', 308440),\n",
              " ('his', 305103),\n",
              " ('not', 302096),\n",
              " ('on', 281281),\n",
              " ('are', 273357),\n",
              " ('be', 259339),\n",
              " ('have', 251170),\n",
              " ('one', 247405),\n",
              " ('all', 244274),\n",
              " ('by', 205126),\n",
              " ('so', 204148),\n",
              " ('an', 200017),\n",
              " ('they', 195124),\n",
              " ('at', 192851),\n",
              " ('from', 191718),\n",
              " ('like', 188096),\n",
              " ('who', 174172),\n",
              " ('just', 172327),\n",
              " ('there', 171840),\n",
              " ('has', 168171),\n",
              " ('about', 164407),\n",
              " ('what', 161912),\n",
              " ('or', 152874),\n",
              " ('more', 152262),\n",
              " ('story', 149509),\n",
              " ('out', 144484),\n",
              " ('can', 143977),\n",
              " ('if', 143209),\n",
              " ('good', 139184),\n",
              " ('time', 137318),\n",
              " ('my', 131958),\n",
              " ('very', 130151),\n",
              " ('some', 130066),\n",
              " ('when', 129206),\n",
              " ('me', 121232),\n",
              " ('will', 119968),\n",
              " ('great', 119832),\n",
              " ('we', 119145),\n",
              " ('see', 116645),\n",
              " ('really', 116308),\n",
              " ('which', 115521),\n",
              " ('up', 115455),\n",
              " ('would', 110018),\n",
              " ('well', 109986),\n",
              " ('no', 109553),\n",
              " ('their', 107480),\n",
              " ('even', 106681),\n",
              " ('her', 102704),\n",
              " ('best', 102460),\n",
              " ('much', 97228),\n",
              " ('how', 97060),\n",
              " ('only', 96771),\n",
              " ('also', 96392),\n",
              " ('were', 94222),\n",
              " ('first', 93499),\n",
              " ('had', 93271),\n",
              " ('its', 93184),\n",
              " ('than', 91719),\n",
              " ('most', 91416),\n",
              " ('because', 90528),\n",
              " ('characters', 89155),\n",
              " ('character', 88978),\n",
              " ('him', 88455),\n",
              " ('people', 88150),\n",
              " ('into', 88035),\n",
              " ('other', 87421),\n",
              " ('movies', 87066),\n",
              " ('been', 83444),\n",
              " ('do', 82302),\n",
              " ('way', 82227),\n",
              " ('get', 81308),\n",
              " ('she', 79882),\n",
              " ('don', 79807),\n",
              " ('them', 74846),\n",
              " ('think', 74199),\n",
              " ('life', 73897),\n",
              " ('watch', 73142),\n",
              " ('many', 72915),\n",
              " ('after', 72736)]"
            ]
          },
          "execution_count": 72,
          "metadata": {},
          "output_type": "execute_result"
        }
      ]
    },
    {
      "cell_type": "code",
      "metadata": {
        "id": "dL-SzFRK-WeX"
      },
      "source": [
        "df[\"spoiltext\"]=df.review_text.str.contains(\"spoil\")+0"
      ],
      "execution_count": null,
      "outputs": []
    },
    {
      "cell_type": "markdown",
      "metadata": {
        "id": "V4gVZv4dsGUe"
      },
      "source": [
        "Opposed to the intution the most common words as  can be seen bear no semantic role towards indicating a spoiler.Despite of this it is easy to infer that if  \"spoiler\" word is present in the review than its very likely to be a spoiler review so we will include this as a criteria."
      ]
    },
    {
      "cell_type": "code",
      "metadata": {
        "id": "Y5v3HZTy_3h9"
      },
      "source": [
        "df_temp2=pd.DataFrame()"
      ],
      "execution_count": null,
      "outputs": []
    },
    {
      "cell_type": "code",
      "metadata": {
        "id": "7hmcja3T-9uY"
      },
      "source": [
        "df_temp2[\"year\"]=df[\"review_date\"].dt.year\n",
        "df_temp2[\"is_spoiler\"]=df[\"is_spoiler\"]"
      ],
      "execution_count": null,
      "outputs": []
    },
    {
      "cell_type": "code",
      "metadata": {
        "id": "zMePkM1iBrz7"
      },
      "source": [
        "pivot_df=df_temp2.groupby([\"year\",\"is_spoiler\"]).size().reset_index(name='count').sort_values('count')\n",
        "pivot_df=pivot_df.pivot(index='year',  columns='is_spoiler', values='count')\n",
        "pivot_df=pivot_df.fillna(0)[:-1]"
      ],
      "execution_count": null,
      "outputs": []
    },
    {
      "cell_type": "code",
      "metadata": {
        "colab": {
          "base_uri": "https://localhost:8080/",
          "height": 459
        },
        "id": "cKdqZGmdCnNx",
        "outputId": "d8cac8ce-2eba-42d3-d5f0-7343b5ccabf0"
      },
      "source": [
        "pivot_df.plot(ylabel=\"No. of reviews\",figsize=(15,7))"
      ],
      "execution_count": null,
      "outputs": [
        {
          "data": {
            "text/plain": [
              "<matplotlib.axes._subplots.AxesSubplot at 0x7f70e177b150>"
            ]
          },
          "execution_count": 77,
          "metadata": {},
          "output_type": "execute_result"
        },
        {
          "data": {
            "image/png": "[encoded data removed]",
            "text/plain": [
              "<Figure size 1080x504 with 1 Axes>"
            ]
          },
          "metadata": {},
          "output_type": "display_data"
        }
      ]
    },
    {
      "cell_type": "markdown",
      "metadata": {
        "id": "6P9cOxKyFMew"
      },
      "source": [
        "Nothing could make it more clear than this graph on why we need this project.Over the years with the accessebility to give reviews the trend of spoiler reviews has only increased and to keep the review sections spoil-free  for the users it is important to come up with a good tool to curb this as much as possible."
      ]
    },
    {
      "cell_type": "code",
      "metadata": {
        "colab": {
          "base_uri": "https://localhost:8080/",
          "height": 297
        },
        "id": "CpE4Db3GaRvL",
        "outputId": "c179b755-e976-46eb-bf83-85cc0adcddb9"
      },
      "source": [
        "sns.boxplot(x= df.is_spoiler,y=df.actualrating)"
      ],
      "execution_count": null,
      "outputs": [
        {
          "data": {
            "text/plain": [
              "<matplotlib.axes._subplots.AxesSubplot at 0x7f70e178cb10>"
            ]
          },
          "execution_count": 78,
          "metadata": {},
          "output_type": "execute_result"
        },
        {
          "data": {
            "image/png": "[encoded data removed]",
            "text/plain": [
              "<Figure size 432x288 with 1 Axes>"
            ]
          },
          "metadata": {},
          "output_type": "display_data"
        }
      ]
    },
    {
      "cell_type": "markdown",
      "metadata": {
        "id": "8Vwph7qlLXp6"
      },
      "source": [
        "Almost the same  actualrating  data  variance for both kind of reviews ."
      ]
    },
    {
      "cell_type": "code",
      "metadata": {
        "colab": {
          "base_uri": "https://localhost:8080/",
          "height": 297
        },
        "id": "hwlvkqT0-cba",
        "outputId": "5918653d-a2c5-4b11-eafd-b1ba16f728df"
      },
      "source": [
        "sns.boxplot(x= df.is_spoiler,y=df.days_elapsed)"
      ],
      "execution_count": null,
      "outputs": [
        {
          "data": {
            "text/plain": [
              "<matplotlib.axes._subplots.AxesSubplot at 0x7f70e1782bd0>"
            ]
          },
          "execution_count": 79,
          "metadata": {},
          "output_type": "execute_result"
        },
        {
          "data": {
            "image/png": "[encoded data removed]",
            "text/plain": [
              "<Figure size 432x288 with 1 Axes>"
            ]
          },
          "metadata": {},
          "output_type": "display_data"
        }
      ]
    },
    {
      "cell_type": "markdown",
      "metadata": {
        "id": "T6wXZ27VLjp1"
      },
      "source": [
        "Clearly days_elapsed also have same kind of data distribution for both cases but in this case there are a lot of outliers."
      ]
    },
    {
      "cell_type": "code",
      "metadata": {
        "colab": {
          "base_uri": "https://localhost:8080/",
          "height": 297
        },
        "id": "fOufl1B2aYPp",
        "outputId": "fc1c3d4d-a023-4442-8b05-340236b0f417"
      },
      "source": [
        "sns.boxplot(x= df.is_spoiler,y=df.userrating)"
      ],
      "execution_count": null,
      "outputs": [
        {
          "data": {
            "text/plain": [
              "<matplotlib.axes._subplots.AxesSubplot at 0x7f70e172cdd0>"
            ]
          },
          "execution_count": 80,
          "metadata": {},
          "output_type": "execute_result"
        },
        {
          "data": {
            "image/png": "[encoded data removed]",
            "text/plain": [
              "<Figure size 432x288 with 1 Axes>"
            ]
          },
          "metadata": {},
          "output_type": "display_data"
        }
      ]
    },
    {
      "cell_type": "markdown",
      "metadata": {
        "id": "hvgPMi6tLWic"
      },
      "source": [
        "User ratings for ratings with spoiler reviews are somewhat lower  overall as compared with without spoilers."
      ]
    },
    {
      "cell_type": "code",
      "metadata": {
        "colab": {
          "base_uri": "https://localhost:8080/",
          "height": 311
        },
        "id": "5x2xYorHGpDf",
        "outputId": "62cdf52c-6a39-4067-a7d8-640b9012a9e5"
      },
      "source": [
        "df.hist(layout=(5,4), figsize=(15,10),)\n",
        "plt.tight_layout()\n",
        "plt.show()"
      ],
      "execution_count": null,
      "outputs": [
        {
          "data": {
            "image/png": "[encoded data removed]",
            "text/plain": [
              "<Figure size 1080x720 with 20 Axes>"
            ]
          },
          "metadata": {},
          "output_type": "display_data"
        }
      ]
    },
    {
      "cell_type": "markdown",
      "metadata": {
        "id": "clesNDgdT9PW"
      },
      "source": [
        "Above fig helps in understanding the disrtibution of various features in the dataset where some new features have been added to help in the predictions."
      ]
    },
    {
      "cell_type": "code",
      "metadata": {
        "colab": {
          "base_uri": "https://localhost:8080/"
        },
        "id": "rzlW6lS3WCZd",
        "outputId": "34d51379-edc0-490d-b588-f795ce389a38"
      },
      "source": [
        "df.columns"
      ],
      "execution_count": null,
      "outputs": [
        {
          "data": {
            "text/plain": [
              "Index(['review_date', 'movie_id', 'user_id', 'is_spoiler', 'review_text',\n",
              "       'userrating', 'review_summary', 'plot_summary', 'duration', 'genre',\n",
              "       'actualrating', 'release_date', 'plot_synopsis', 'days_elapsed',\n",
              "       'word_count', 'spoiltext'],\n",
              "      dtype='object')"
            ]
          },
          "execution_count": 82,
          "metadata": {},
          "output_type": "execute_result"
        }
      ]
    },
    {
      "cell_type": "markdown",
      "metadata": {
        "id": "qYPwDqWrVe37"
      },
      "source": [
        "After exploratory analysis  some key insights were gained which are as following:-\n",
        "\n",
        "\n",
        "*   Some users,movies and genres have greater chances of containing reviews with spoilers so to exploit this  can create parameter corresponding each feature mentioned above where  assign every movie,user,genre pool a certain ratio attributing to its affinity for spoilers\n",
        "\n",
        "*  Some spoilers will clearly contain the word \"spoiler\" indicative of it containing the spoilers so will assign a feature which tells us if review text for respective row contains the word \"spoiler\" or not \n",
        "\n",
        "*   The period  b/w review_date and release_date doesn't seem to be having any difference for spoiler and non spoiler reviews as evident from respective boxplot however it also holds information and might be helpful so will later try to make predictions both with and without it and compare the results\n",
        "\n",
        "*   Can  also exploit the word count of reviews as a feature for the predictions \n",
        "\n",
        "* As can be observed  both review and corresponding plot summary so \n",
        "another good indicator for spoilers will be how close a review is to its plot synopsis \n",
        "\n",
        "\n",
        "\n",
        "\n",
        "\n",
        "\n"
      ]
    },
    {
      "cell_type": "code",
      "metadata": {
        "colab": {
          "base_uri": "https://localhost:8080/"
        },
        "id": "vUe8EFHqHf0r",
        "outputId": "486fa081-4023-4fb3-c8be-0d5831764e69"
      },
      "source": [
        "len(df)"
      ],
      "execution_count": null,
      "outputs": [
        {
          "data": {
            "text/plain": [
              "581532"
            ]
          },
          "execution_count": 83,
          "metadata": {},
          "output_type": "execute_result"
        }
      ]
    },
    {
      "cell_type": "markdown",
      "metadata": {
        "id": "-SfJlv1Hy1UO"
      },
      "source": [
        "# Introducing new features based on observations from EDA"
      ]
    },
    {
      "cell_type": "markdown",
      "metadata": {
        "id": "6UpLkshnfPyb"
      },
      "source": [
        "## Movie spoiler ratio(MSR)"
      ]
    },
    {
      "cell_type": "markdown",
      "metadata": {
        "id": "Vo58lwrmZINX"
      },
      "source": [
        "For every movie  will compare its no. of reviews with spoilers to total no. of reviews for the movie  and assign this ratio as ***Movie spoiler ratio  aka msr***"
      ]
    },
    {
      "cell_type": "code",
      "metadata": {
        "id": "F_6N4-lab1OJ"
      },
      "source": [
        "total_spoilers= df.groupby(by='movie_id').is_spoiler.agg(['sum']).reset_index().rename(columns={'sum':'total_spoilers'})"
      ],
      "execution_count": null,
      "outputs": []
    },
    {
      "cell_type": "code",
      "metadata": {
        "id": "vOlLy0g_b1Ms"
      },
      "source": [
        "total_movies = df.groupby(by='movie_id').movie_id.agg(['count']).reset_index().rename(columns={'count':'total_movies'})"
      ],
      "execution_count": null,
      "outputs": []
    },
    {
      "cell_type": "code",
      "metadata": {
        "id": "bvUzSoBob1Iy"
      },
      "source": [
        "msr = pd.merge(total_spoilers,total_movies, on='movie_id')"
      ],
      "execution_count": null,
      "outputs": []
    },
    {
      "cell_type": "code",
      "metadata": {
        "id": "K4aZvjUxb1HC"
      },
      "source": [
        "msr['msr']=msr.total_spoilers/msr.total_movies"
      ],
      "execution_count": null,
      "outputs": []
    },
    {
      "cell_type": "code",
      "metadata": {
        "colab": {
          "base_uri": "https://localhost:8080/",
          "height": 204
        },
        "id": "s03do7a4b1Do",
        "outputId": "74873f83-e8bf-46a0-eb36-5389e2fe9b69"
      },
      "source": [
        "msr.head()"
      ],
      "execution_count": null,
      "outputs": [
        {
          "data": {
            "text/html": [
              "<div>\n",
              "<style scoped>\n",
              "    .dataframe tbody tr th:only-of-type {\n",
              "        vertical-align: middle;\n",
              "    }\n",
              "\n",
              "    .dataframe tbody tr th {\n",
              "        vertical-align: top;\n",
              "    }\n",
              "\n",
              "    .dataframe thead th {\n",
              "        text-align: right;\n",
              "    }\n",
              "</style>\n",
              "<table border=\"1\" class=\"dataframe\">\n",
              "  <thead>\n",
              "    <tr style=\"text-align: right;\">\n",
              "      <th></th>\n",
              "      <th>movie_id</th>\n",
              "      <th>total_spoilers</th>\n",
              "      <th>total_movies</th>\n",
              "      <th>msr</th>\n",
              "    </tr>\n",
              "  </thead>\n",
              "  <tbody>\n",
              "    <tr>\n",
              "      <th>0</th>\n",
              "      <td>00029</td>\n",
              "      <td>20</td>\n",
              "      <td>61</td>\n",
              "      <td>0.327869</td>\n",
              "    </tr>\n",
              "    <tr>\n",
              "      <th>1</th>\n",
              "      <td>00039</td>\n",
              "      <td>68</td>\n",
              "      <td>304</td>\n",
              "      <td>0.223684</td>\n",
              "    </tr>\n",
              "    <tr>\n",
              "      <th>2</th>\n",
              "      <td>00050</td>\n",
              "      <td>7</td>\n",
              "      <td>27</td>\n",
              "      <td>0.259259</td>\n",
              "    </tr>\n",
              "    <tr>\n",
              "      <th>3</th>\n",
              "      <td>00054</td>\n",
              "      <td>31</td>\n",
              "      <td>98</td>\n",
              "      <td>0.316327</td>\n",
              "    </tr>\n",
              "    <tr>\n",
              "      <th>4</th>\n",
              "      <td>00080</td>\n",
              "      <td>193</td>\n",
              "      <td>603</td>\n",
              "      <td>0.320066</td>\n",
              "    </tr>\n",
              "  </tbody>\n",
              "</table>\n",
              "</div>"
            ],
            "text/plain": [
              "  movie_id  total_spoilers  total_movies       msr\n",
              "0    00029              20            61  0.327869\n",
              "1    00039              68           304  0.223684\n",
              "2    00050               7            27  0.259259\n",
              "3    00054              31            98  0.316327\n",
              "4    00080             193           603  0.320066"
            ]
          },
          "execution_count": 88,
          "metadata": {},
          "output_type": "execute_result"
        }
      ]
    },
    {
      "cell_type": "code",
      "metadata": {
        "id": "b-sny02ob1BW"
      },
      "source": [
        "msr.drop(['total_spoilers','total_movies'], axis=1, inplace=True)"
      ],
      "execution_count": null,
      "outputs": []
    },
    {
      "cell_type": "code",
      "metadata": {
        "id": "oHUFxo7ub0_E"
      },
      "source": [
        "df=pd.merge(df,msr,on='movie_id')"
      ],
      "execution_count": null,
      "outputs": []
    },
    {
      "cell_type": "code",
      "metadata": {
        "colab": {
          "base_uri": "https://localhost:8080/",
          "height": 776
        },
        "id": "1ptDYor5K7iy",
        "outputId": "5ca011db-8b7f-41de-eb1b-f0adaabcd3f9"
      },
      "source": [
        "df"
      ],
      "execution_count": null,
      "outputs": [
        {
          "data": {
            "text/html": [
              "<div>\n",
              "<style scoped>\n",
              "    .dataframe tbody tr th:only-of-type {\n",
              "        vertical-align: middle;\n",
              "    }\n",
              "\n",
              "    .dataframe tbody tr th {\n",
              "        vertical-align: top;\n",
              "    }\n",
              "\n",
              "    .dataframe thead th {\n",
              "        text-align: right;\n",
              "    }\n",
              "</style>\n",
              "<table border=\"1\" class=\"dataframe\">\n",
              "  <thead>\n",
              "    <tr style=\"text-align: right;\">\n",
              "      <th></th>\n",
              "      <th>review_date</th>\n",
              "      <th>movie_id</th>\n",
              "      <th>user_id</th>\n",
              "      <th>is_spoiler</th>\n",
              "      <th>review_text</th>\n",
              "      <th>userrating</th>\n",
              "      <th>review_summary</th>\n",
              "      <th>plot_summary</th>\n",
              "      <th>duration</th>\n",
              "      <th>genre</th>\n",
              "      <th>actualrating</th>\n",
              "      <th>release_date</th>\n",
              "      <th>plot_synopsis</th>\n",
              "      <th>days_elapsed</th>\n",
              "      <th>word_count</th>\n",
              "      <th>spoiltext</th>\n",
              "      <th>msr</th>\n",
              "    </tr>\n",
              "  </thead>\n",
              "  <tbody>\n",
              "    <tr>\n",
              "      <th>0</th>\n",
              "      <td>2006-02-10</td>\n",
              "      <td>11161</td>\n",
              "      <td>ur1898687</td>\n",
              "      <td>1</td>\n",
              "      <td>In its Oscar year, Shawshank Redemption (writt...</td>\n",
              "      <td>10</td>\n",
              "      <td>A classic piece of unforgettable film-making.</td>\n",
              "      <td>Chronicles the experiences of a formerly succe...</td>\n",
              "      <td>2h 22min</td>\n",
              "      <td>[Crime, Drama]</td>\n",
              "      <td>9.3</td>\n",
              "      <td>1994-10-14</td>\n",
              "      <td>In 1947, Andy Dufresne (Tim Robbins), a banker...</td>\n",
              "      <td>4137</td>\n",
              "      <td>843</td>\n",
              "      <td>0</td>\n",
              "      <td>0.219216</td>\n",
              "    </tr>\n",
              "    <tr>\n",
              "      <th>1</th>\n",
              "      <td>2000-09-06</td>\n",
              "      <td>11161</td>\n",
              "      <td>ur0842118</td>\n",
              "      <td>1</td>\n",
              "      <td>The Shawshank Redemption is without a doubt on...</td>\n",
              "      <td>10</td>\n",
              "      <td>Simply amazing. The best film of the 90's.</td>\n",
              "      <td>Chronicles the experiences of a formerly succe...</td>\n",
              "      <td>2h 22min</td>\n",
              "      <td>[Crime, Drama]</td>\n",
              "      <td>9.3</td>\n",
              "      <td>1994-10-14</td>\n",
              "      <td>In 1947, Andy Dufresne (Tim Robbins), a banker...</td>\n",
              "      <td>2154</td>\n",
              "      <td>223</td>\n",
              "      <td>0</td>\n",
              "      <td>0.219216</td>\n",
              "    </tr>\n",
              "    <tr>\n",
              "      <th>2</th>\n",
              "      <td>2001-08-03</td>\n",
              "      <td>11161</td>\n",
              "      <td>ur1285640</td>\n",
              "      <td>1</td>\n",
              "      <td>I believe that this film is the best story eve...</td>\n",
              "      <td>8</td>\n",
              "      <td>The best story ever told on film</td>\n",
              "      <td>Chronicles the experiences of a formerly succe...</td>\n",
              "      <td>2h 22min</td>\n",
              "      <td>[Crime, Drama]</td>\n",
              "      <td>9.3</td>\n",
              "      <td>1994-10-14</td>\n",
              "      <td>In 1947, Andy Dufresne (Tim Robbins), a banker...</td>\n",
              "      <td>2485</td>\n",
              "      <td>250</td>\n",
              "      <td>0</td>\n",
              "      <td>0.219216</td>\n",
              "    </tr>\n",
              "    <tr>\n",
              "      <th>3</th>\n",
              "      <td>2002-09-01</td>\n",
              "      <td>11161</td>\n",
              "      <td>ur1003471</td>\n",
              "      <td>1</td>\n",
              "      <td>**Yes, there are SPOILERS here**This film has ...</td>\n",
              "      <td>10</td>\n",
              "      <td>Busy dying or busy living?</td>\n",
              "      <td>Chronicles the experiences of a formerly succe...</td>\n",
              "      <td>2h 22min</td>\n",
              "      <td>[Crime, Drama]</td>\n",
              "      <td>9.3</td>\n",
              "      <td>1994-10-14</td>\n",
              "      <td>In 1947, Andy Dufresne (Tim Robbins), a banker...</td>\n",
              "      <td>2879</td>\n",
              "      <td>766</td>\n",
              "      <td>0</td>\n",
              "      <td>0.219216</td>\n",
              "    </tr>\n",
              "    <tr>\n",
              "      <th>4</th>\n",
              "      <td>2004-05-20</td>\n",
              "      <td>11161</td>\n",
              "      <td>ur0226855</td>\n",
              "      <td>1</td>\n",
              "      <td>At the heart of this extraordinary movie is a ...</td>\n",
              "      <td>8</td>\n",
              "      <td>Great story, wondrously told and acted</td>\n",
              "      <td>Chronicles the experiences of a formerly succe...</td>\n",
              "      <td>2h 22min</td>\n",
              "      <td>[Crime, Drama]</td>\n",
              "      <td>9.3</td>\n",
              "      <td>1994-10-14</td>\n",
              "      <td>In 1947, Andy Dufresne (Tim Robbins), a banker...</td>\n",
              "      <td>3506</td>\n",
              "      <td>829</td>\n",
              "      <td>0</td>\n",
              "      <td>0.219216</td>\n",
              "    </tr>\n",
              "    <tr>\n",
              "      <th>...</th>\n",
              "      <td>...</td>\n",
              "      <td>...</td>\n",
              "      <td>...</td>\n",
              "      <td>...</td>\n",
              "      <td>...</td>\n",
              "      <td>...</td>\n",
              "      <td>...</td>\n",
              "      <td>...</td>\n",
              "      <td>...</td>\n",
              "      <td>...</td>\n",
              "      <td>...</td>\n",
              "      <td>...</td>\n",
              "      <td>...</td>\n",
              "      <td>...</td>\n",
              "      <td>...</td>\n",
              "      <td>...</td>\n",
              "      <td>...</td>\n",
              "    </tr>\n",
              "    <tr>\n",
              "      <th>581527</th>\n",
              "      <td>1999-08-08</td>\n",
              "      <td>39239</td>\n",
              "      <td>ur0100166</td>\n",
              "      <td>0</td>\n",
              "      <td>Go is wise, fast and pure entertainment. Assem...</td>\n",
              "      <td>10</td>\n",
              "      <td>The best teen movie of the nineties</td>\n",
              "      <td>Told from three perspectives, a story of a bun...</td>\n",
              "      <td>1h 42min</td>\n",
              "      <td>[Comedy, Crime]</td>\n",
              "      <td>7.3</td>\n",
              "      <td>1999-04-09</td>\n",
              "      <td>The film is told out of chronological format, ...</td>\n",
              "      <td>121</td>\n",
              "      <td>52</td>\n",
              "      <td>0</td>\n",
              "      <td>0.056338</td>\n",
              "    </tr>\n",
              "    <tr>\n",
              "      <th>581528</th>\n",
              "      <td>1999-07-31</td>\n",
              "      <td>39239</td>\n",
              "      <td>ur0021767</td>\n",
              "      <td>0</td>\n",
              "      <td>Well, what shall I say. this one´s fun at any ...</td>\n",
              "      <td>9</td>\n",
              "      <td>Go - see the movie</td>\n",
              "      <td>Told from three perspectives, a story of a bun...</td>\n",
              "      <td>1h 42min</td>\n",
              "      <td>[Comedy, Crime]</td>\n",
              "      <td>7.3</td>\n",
              "      <td>1999-04-09</td>\n",
              "      <td>The film is told out of chronological format, ...</td>\n",
              "      <td>113</td>\n",
              "      <td>54</td>\n",
              "      <td>0</td>\n",
              "      <td>0.056338</td>\n",
              "    </tr>\n",
              "    <tr>\n",
              "      <th>581529</th>\n",
              "      <td>1999-07-20</td>\n",
              "      <td>39239</td>\n",
              "      <td>ur0392750</td>\n",
              "      <td>0</td>\n",
              "      <td>Go is the best movie I have ever seen, and I'v...</td>\n",
              "      <td>10</td>\n",
              "      <td>It's the best movie I've ever seen</td>\n",
              "      <td>Told from three perspectives, a story of a bun...</td>\n",
              "      <td>1h 42min</td>\n",
              "      <td>[Comedy, Crime]</td>\n",
              "      <td>7.3</td>\n",
              "      <td>1999-04-09</td>\n",
              "      <td>The film is told out of chronological format, ...</td>\n",
              "      <td>102</td>\n",
              "      <td>202</td>\n",
              "      <td>0</td>\n",
              "      <td>0.056338</td>\n",
              "    </tr>\n",
              "    <tr>\n",
              "      <th>581530</th>\n",
              "      <td>1999-06-11</td>\n",
              "      <td>39239</td>\n",
              "      <td>ur0349105</td>\n",
              "      <td>0</td>\n",
              "      <td>Call this 1999 teenage version of Pulp Fiction...</td>\n",
              "      <td>3</td>\n",
              "      <td>Haven't we seen this before?</td>\n",
              "      <td>Told from three perspectives, a story of a bun...</td>\n",
              "      <td>1h 42min</td>\n",
              "      <td>[Comedy, Crime]</td>\n",
              "      <td>7.3</td>\n",
              "      <td>1999-04-09</td>\n",
              "      <td>The film is told out of chronological format, ...</td>\n",
              "      <td>63</td>\n",
              "      <td>89</td>\n",
              "      <td>0</td>\n",
              "      <td>0.056338</td>\n",
              "    </tr>\n",
              "    <tr>\n",
              "      <th>581531</th>\n",
              "      <td>1999-05-03</td>\n",
              "      <td>39239</td>\n",
              "      <td>ur0156431</td>\n",
              "      <td>0</td>\n",
              "      <td>Why was this movie made? No doubt to sucker in...</td>\n",
              "      <td>2</td>\n",
              "      <td>Go doesn't go anywhere</td>\n",
              "      <td>Told from three perspectives, a story of a bun...</td>\n",
              "      <td>1h 42min</td>\n",
              "      <td>[Comedy, Crime]</td>\n",
              "      <td>7.3</td>\n",
              "      <td>1999-04-09</td>\n",
              "      <td>The film is told out of chronological format, ...</td>\n",
              "      <td>24</td>\n",
              "      <td>181</td>\n",
              "      <td>0</td>\n",
              "      <td>0.056338</td>\n",
              "    </tr>\n",
              "  </tbody>\n",
              "</table>\n",
              "<p>581532 rows × 17 columns</p>\n",
              "</div>"
            ],
            "text/plain": [
              "       review_date movie_id    user_id  is_spoiler  \\\n",
              "0       2006-02-10    11161  ur1898687           1   \n",
              "1       2000-09-06    11161  ur0842118           1   \n",
              "2       2001-08-03    11161  ur1285640           1   \n",
              "3       2002-09-01    11161  ur1003471           1   \n",
              "4       2004-05-20    11161  ur0226855           1   \n",
              "...            ...      ...        ...         ...   \n",
              "581527  1999-08-08    39239  ur0100166           0   \n",
              "581528  1999-07-31    39239  ur0021767           0   \n",
              "581529  1999-07-20    39239  ur0392750           0   \n",
              "581530  1999-06-11    39239  ur0349105           0   \n",
              "581531  1999-05-03    39239  ur0156431           0   \n",
              "\n",
              "                                              review_text  userrating  \\\n",
              "0       In its Oscar year, Shawshank Redemption (writt...          10   \n",
              "1       The Shawshank Redemption is without a doubt on...          10   \n",
              "2       I believe that this film is the best story eve...           8   \n",
              "3       **Yes, there are SPOILERS here**This film has ...          10   \n",
              "4       At the heart of this extraordinary movie is a ...           8   \n",
              "...                                                   ...         ...   \n",
              "581527  Go is wise, fast and pure entertainment. Assem...          10   \n",
              "581528  Well, what shall I say. this one´s fun at any ...           9   \n",
              "581529  Go is the best movie I have ever seen, and I'v...          10   \n",
              "581530  Call this 1999 teenage version of Pulp Fiction...           3   \n",
              "581531  Why was this movie made? No doubt to sucker in...           2   \n",
              "\n",
              "                                       review_summary  \\\n",
              "0       A classic piece of unforgettable film-making.   \n",
              "1          Simply amazing. The best film of the 90's.   \n",
              "2                    The best story ever told on film   \n",
              "3                          Busy dying or busy living?   \n",
              "4              Great story, wondrously told and acted   \n",
              "...                                               ...   \n",
              "581527            The best teen movie of the nineties   \n",
              "581528                             Go - see the movie   \n",
              "581529             It's the best movie I've ever seen   \n",
              "581530                   Haven't we seen this before?   \n",
              "581531                         Go doesn't go anywhere   \n",
              "\n",
              "                                             plot_summary  duration  \\\n",
              "0       Chronicles the experiences of a formerly succe...  2h 22min   \n",
              "1       Chronicles the experiences of a formerly succe...  2h 22min   \n",
              "2       Chronicles the experiences of a formerly succe...  2h 22min   \n",
              "3       Chronicles the experiences of a formerly succe...  2h 22min   \n",
              "4       Chronicles the experiences of a formerly succe...  2h 22min   \n",
              "...                                                   ...       ...   \n",
              "581527  Told from three perspectives, a story of a bun...  1h 42min   \n",
              "581528  Told from three perspectives, a story of a bun...  1h 42min   \n",
              "581529  Told from three perspectives, a story of a bun...  1h 42min   \n",
              "581530  Told from three perspectives, a story of a bun...  1h 42min   \n",
              "581531  Told from three perspectives, a story of a bun...  1h 42min   \n",
              "\n",
              "                  genre  actualrating release_date  \\\n",
              "0        [Crime, Drama]           9.3   1994-10-14   \n",
              "1        [Crime, Drama]           9.3   1994-10-14   \n",
              "2        [Crime, Drama]           9.3   1994-10-14   \n",
              "3        [Crime, Drama]           9.3   1994-10-14   \n",
              "4        [Crime, Drama]           9.3   1994-10-14   \n",
              "...                 ...           ...          ...   \n",
              "581527  [Comedy, Crime]           7.3   1999-04-09   \n",
              "581528  [Comedy, Crime]           7.3   1999-04-09   \n",
              "581529  [Comedy, Crime]           7.3   1999-04-09   \n",
              "581530  [Comedy, Crime]           7.3   1999-04-09   \n",
              "581531  [Comedy, Crime]           7.3   1999-04-09   \n",
              "\n",
              "                                            plot_synopsis  days_elapsed  \\\n",
              "0       In 1947, Andy Dufresne (Tim Robbins), a banker...          4137   \n",
              "1       In 1947, Andy Dufresne (Tim Robbins), a banker...          2154   \n",
              "2       In 1947, Andy Dufresne (Tim Robbins), a banker...          2485   \n",
              "3       In 1947, Andy Dufresne (Tim Robbins), a banker...          2879   \n",
              "4       In 1947, Andy Dufresne (Tim Robbins), a banker...          3506   \n",
              "...                                                   ...           ...   \n",
              "581527  The film is told out of chronological format, ...           121   \n",
              "581528  The film is told out of chronological format, ...           113   \n",
              "581529  The film is told out of chronological format, ...           102   \n",
              "581530  The film is told out of chronological format, ...            63   \n",
              "581531  The film is told out of chronological format, ...            24   \n",
              "\n",
              "        word_count  spoiltext       msr  \n",
              "0              843          0  0.219216  \n",
              "1              223          0  0.219216  \n",
              "2              250          0  0.219216  \n",
              "3              766          0  0.219216  \n",
              "4              829          0  0.219216  \n",
              "...            ...        ...       ...  \n",
              "581527          52          0  0.056338  \n",
              "581528          54          0  0.056338  \n",
              "581529         202          0  0.056338  \n",
              "581530          89          0  0.056338  \n",
              "581531         181          0  0.056338  \n",
              "\n",
              "[581532 rows x 17 columns]"
            ]
          },
          "execution_count": 91,
          "metadata": {},
          "output_type": "execute_result"
        }
      ]
    },
    {
      "cell_type": "markdown",
      "metadata": {
        "id": "3sYllapIhgYy"
      },
      "source": [
        "##User Spoiler Ratio (USR)"
      ]
    },
    {
      "cell_type": "markdown",
      "metadata": {
        "id": "jDyrJZp_Z5Az"
      },
      "source": [
        "For every user  will compare its no. of reviews with spoilers to total no. of reviews from the user and assign this ratio as ***User spoiler ratio  aka  usr***"
      ]
    },
    {
      "cell_type": "code",
      "metadata": {
        "id": "8csDZxEyb05Z"
      },
      "source": [
        "total_user_spoilers = df.groupby(by='user_id').is_spoiler.agg(['sum']).reset_index().rename(columns={'sum':'total_user_spoilers'})\n"
      ],
      "execution_count": null,
      "outputs": []
    },
    {
      "cell_type": "code",
      "metadata": {
        "id": "TBwIy47Rb03r"
      },
      "source": [
        "total_users = df.groupby(by='user_id').user_id.agg(['count']).reset_index().rename(columns={'count':'total_users'})\n"
      ],
      "execution_count": null,
      "outputs": []
    },
    {
      "cell_type": "code",
      "metadata": {
        "id": "IPm0mlSLb0z7"
      },
      "source": [
        "usr = pd.merge(total_user_spoilers,total_users, on='user_id')"
      ],
      "execution_count": null,
      "outputs": []
    },
    {
      "cell_type": "code",
      "metadata": {
        "id": "Ul7kb4Egb0yJ"
      },
      "source": [
        "usr['usr']=usr.total_user_spoilers / usr.total_users"
      ],
      "execution_count": null,
      "outputs": []
    },
    {
      "cell_type": "code",
      "metadata": {
        "id": "f_yy78o-b0vN"
      },
      "source": [
        "usr.drop(['total_user_spoilers','total_users'], axis=1,inplace=True)"
      ],
      "execution_count": null,
      "outputs": []
    },
    {
      "cell_type": "code",
      "metadata": {
        "id": "QYuAWMeYb0sp"
      },
      "source": [
        "df= pd.merge(df, usr, on='user_id')"
      ],
      "execution_count": null,
      "outputs": []
    },
    {
      "cell_type": "markdown",
      "metadata": {
        "id": "uuPHWrrgiroi"
      },
      "source": [
        "## Genre Spoiler Ratio\n",
        "\n",
        "For differenet genres there will be diffrent likelihood of having spoilers so i'll assign ratio similar to the way of USR and MSR for each genre category but for that first i'll introduce dummy columns for each major genre and assign values corresponding to each movie."
      ]
    },
    {
      "cell_type": "code",
      "metadata": {
        "colab": {
          "base_uri": "https://localhost:8080/",
          "height": 442
        },
        "id": "dRRrNZN4MrrA",
        "outputId": "08425d88-eb71-42d3-a159-00c4ab05520a"
      },
      "source": [
        "df.head()"
      ],
      "execution_count": null,
      "outputs": [
        {
          "data": {
            "text/html": [
              "<div>\n",
              "<style scoped>\n",
              "    .dataframe tbody tr th:only-of-type {\n",
              "        vertical-align: middle;\n",
              "    }\n",
              "\n",
              "    .dataframe tbody tr th {\n",
              "        vertical-align: top;\n",
              "    }\n",
              "\n",
              "    .dataframe thead th {\n",
              "        text-align: right;\n",
              "    }\n",
              "</style>\n",
              "<table border=\"1\" class=\"dataframe\">\n",
              "  <thead>\n",
              "    <tr style=\"text-align: right;\">\n",
              "      <th></th>\n",
              "      <th>review_date</th>\n",
              "      <th>movie_id</th>\n",
              "      <th>user_id</th>\n",
              "      <th>is_spoiler</th>\n",
              "      <th>review_text</th>\n",
              "      <th>userrating</th>\n",
              "      <th>review_summary</th>\n",
              "      <th>plot_summary</th>\n",
              "      <th>duration</th>\n",
              "      <th>genre</th>\n",
              "      <th>actualrating</th>\n",
              "      <th>release_date</th>\n",
              "      <th>plot_synopsis</th>\n",
              "      <th>days_elapsed</th>\n",
              "      <th>word_count</th>\n",
              "      <th>spoiltext</th>\n",
              "      <th>msr</th>\n",
              "      <th>usr</th>\n",
              "    </tr>\n",
              "  </thead>\n",
              "  <tbody>\n",
              "    <tr>\n",
              "      <th>0</th>\n",
              "      <td>2006-02-10</td>\n",
              "      <td>11161</td>\n",
              "      <td>ur1898687</td>\n",
              "      <td>1</td>\n",
              "      <td>In its Oscar year, Shawshank Redemption (writt...</td>\n",
              "      <td>10</td>\n",
              "      <td>A classic piece of unforgettable film-making.</td>\n",
              "      <td>Chronicles the experiences of a formerly succe...</td>\n",
              "      <td>2h 22min</td>\n",
              "      <td>[Crime, Drama]</td>\n",
              "      <td>9.3</td>\n",
              "      <td>1994-10-14</td>\n",
              "      <td>In 1947, Andy Dufresne (Tim Robbins), a banker...</td>\n",
              "      <td>4137</td>\n",
              "      <td>843</td>\n",
              "      <td>0</td>\n",
              "      <td>0.219216</td>\n",
              "      <td>0.6</td>\n",
              "    </tr>\n",
              "    <tr>\n",
              "      <th>1</th>\n",
              "      <td>2006-03-19</td>\n",
              "      <td>44084</td>\n",
              "      <td>ur1898687</td>\n",
              "      <td>0</td>\n",
              "      <td>Starring: Christian Bale, Willem Dafoe, Chloë ...</td>\n",
              "      <td>8</td>\n",
              "      <td>Worth seeing, if only for the post-viewing dis...</td>\n",
              "      <td>Patrick Bateman is handsome, well educated and...</td>\n",
              "      <td>1h 42min</td>\n",
              "      <td>[Crime, Drama]</td>\n",
              "      <td>7.6</td>\n",
              "      <td>2000-04-14</td>\n",
              "      <td>A white background. Red drops begin to fall pa...</td>\n",
              "      <td>2165</td>\n",
              "      <td>526</td>\n",
              "      <td>1</td>\n",
              "      <td>0.274725</td>\n",
              "      <td>0.6</td>\n",
              "    </tr>\n",
              "    <tr>\n",
              "      <th>2</th>\n",
              "      <td>2006-02-10</td>\n",
              "      <td>98203</td>\n",
              "      <td>ur1898687</td>\n",
              "      <td>1</td>\n",
              "      <td>Eminem's \"semi-autobiographical\" rap movie. Do...</td>\n",
              "      <td>7</td>\n",
              "      <td>Better than it needed to be.</td>\n",
              "      <td>This is the inspiring captivating story of the...</td>\n",
              "      <td>1h 50min</td>\n",
              "      <td>[Drama, Music]</td>\n",
              "      <td>7.1</td>\n",
              "      <td>2002-11-08</td>\n",
              "      <td>It's 1995. Jimmy \"B-Rabbit\" Smith Jr. (Eminem)...</td>\n",
              "      <td>1190</td>\n",
              "      <td>467</td>\n",
              "      <td>0</td>\n",
              "      <td>0.164456</td>\n",
              "      <td>0.6</td>\n",
              "    </tr>\n",
              "    <tr>\n",
              "      <th>3</th>\n",
              "      <td>2006-02-10</td>\n",
              "      <td>19061</td>\n",
              "      <td>ur1898687</td>\n",
              "      <td>0</td>\n",
              "      <td>The grass is so green / The sky is so blue / S...</td>\n",
              "      <td>9</td>\n",
              "      <td>An immediate classic that works on both a visu...</td>\n",
              "      <td>United Press International journalist Will Blo...</td>\n",
              "      <td>2h 5min</td>\n",
              "      <td>[Adventure, Drama, Fantasy]</td>\n",
              "      <td>8.0</td>\n",
              "      <td>2004-01-09</td>\n",
              "      <td>Edward Bloom (Albert Finney), a charismatic te...</td>\n",
              "      <td>763</td>\n",
              "      <td>320</td>\n",
              "      <td>0</td>\n",
              "      <td>0.158416</td>\n",
              "      <td>0.6</td>\n",
              "    </tr>\n",
              "    <tr>\n",
              "      <th>4</th>\n",
              "      <td>2006-02-10</td>\n",
              "      <td>77092</td>\n",
              "      <td>ur1898687</td>\n",
              "      <td>1</td>\n",
              "      <td>There are a few signs heading into Mean Girls ...</td>\n",
              "      <td>7</td>\n",
              "      <td>A smart, but flawed, look at high school life</td>\n",
              "      <td>Her parents being zoologists, homeschooled Cad...</td>\n",
              "      <td>1h 37min</td>\n",
              "      <td>[Comedy]</td>\n",
              "      <td>7.0</td>\n",
              "      <td>2004-04-30</td>\n",
              "      <td>Cady (Lindsay Lohan) is the 16-year-old home-s...</td>\n",
              "      <td>651</td>\n",
              "      <td>438</td>\n",
              "      <td>0</td>\n",
              "      <td>0.222472</td>\n",
              "      <td>0.6</td>\n",
              "    </tr>\n",
              "  </tbody>\n",
              "</table>\n",
              "</div>"
            ],
            "text/plain": [
              "  review_date movie_id    user_id  is_spoiler  \\\n",
              "0  2006-02-10    11161  ur1898687           1   \n",
              "1  2006-03-19    44084  ur1898687           0   \n",
              "2  2006-02-10    98203  ur1898687           1   \n",
              "3  2006-02-10    19061  ur1898687           0   \n",
              "4  2006-02-10    77092  ur1898687           1   \n",
              "\n",
              "                                         review_text  userrating  \\\n",
              "0  In its Oscar year, Shawshank Redemption (writt...          10   \n",
              "1  Starring: Christian Bale, Willem Dafoe, Chloë ...           8   \n",
              "2  Eminem's \"semi-autobiographical\" rap movie. Do...           7   \n",
              "3  The grass is so green / The sky is so blue / S...           9   \n",
              "4  There are a few signs heading into Mean Girls ...           7   \n",
              "\n",
              "                                      review_summary  \\\n",
              "0      A classic piece of unforgettable film-making.   \n",
              "1  Worth seeing, if only for the post-viewing dis...   \n",
              "2                       Better than it needed to be.   \n",
              "3  An immediate classic that works on both a visu...   \n",
              "4      A smart, but flawed, look at high school life   \n",
              "\n",
              "                                        plot_summary  duration  \\\n",
              "0  Chronicles the experiences of a formerly succe...  2h 22min   \n",
              "1  Patrick Bateman is handsome, well educated and...  1h 42min   \n",
              "2  This is the inspiring captivating story of the...  1h 50min   \n",
              "3  United Press International journalist Will Blo...   2h 5min   \n",
              "4  Her parents being zoologists, homeschooled Cad...  1h 37min   \n",
              "\n",
              "                         genre  actualrating release_date  \\\n",
              "0               [Crime, Drama]           9.3   1994-10-14   \n",
              "1               [Crime, Drama]           7.6   2000-04-14   \n",
              "2               [Drama, Music]           7.1   2002-11-08   \n",
              "3  [Adventure, Drama, Fantasy]           8.0   2004-01-09   \n",
              "4                     [Comedy]           7.0   2004-04-30   \n",
              "\n",
              "                                       plot_synopsis  days_elapsed  \\\n",
              "0  In 1947, Andy Dufresne (Tim Robbins), a banker...          4137   \n",
              "1  A white background. Red drops begin to fall pa...          2165   \n",
              "2  It's 1995. Jimmy \"B-Rabbit\" Smith Jr. (Eminem)...          1190   \n",
              "3  Edward Bloom (Albert Finney), a charismatic te...           763   \n",
              "4  Cady (Lindsay Lohan) is the 16-year-old home-s...           651   \n",
              "\n",
              "   word_count  spoiltext       msr  usr  \n",
              "0         843          0  0.219216  0.6  \n",
              "1         526          1  0.274725  0.6  \n",
              "2         467          0  0.164456  0.6  \n",
              "3         320          0  0.158416  0.6  \n",
              "4         438          0  0.222472  0.6  "
            ]
          },
          "execution_count": 98,
          "metadata": {},
          "output_type": "execute_result"
        }
      ]
    },
    {
      "cell_type": "code",
      "metadata": {
        "id": "nuaBWO3SQaDe"
      },
      "source": [
        "genres=np.unique(np.array(' '.join(df_details.genre.str.join(' ')).split()))"
      ],
      "execution_count": null,
      "outputs": []
    },
    {
      "cell_type": "code",
      "metadata": {
        "colab": {
          "base_uri": "https://localhost:8080/"
        },
        "id": "FPkJMPPDSa9K",
        "outputId": "1127ad15-ef4f-4f60-85da-cec9c07a5521"
      },
      "source": [
        "genres"
      ],
      "execution_count": null,
      "outputs": [
        {
          "data": {
            "text/plain": [
              "array(['Action', 'Adventure', 'Animation', 'Biography', 'Comedy', 'Crime',\n",
              "       'Drama', 'Family', 'Fantasy', 'Film-Noir', 'History', 'Horror',\n",
              "       'Music', 'Musical', 'Mystery', 'Romance', 'Sci-Fi', 'Sport',\n",
              "       'Thriller', 'War', 'Western'], dtype='<U9')"
            ]
          },
          "execution_count": 100,
          "metadata": {},
          "output_type": "execute_result"
        }
      ]
    },
    {
      "cell_type": "code",
      "metadata": {
        "id": "W0J00CKZb0iQ"
      },
      "source": [
        "genre_df=pd.DataFrame()"
      ],
      "execution_count": null,
      "outputs": []
    },
    {
      "cell_type": "code",
      "metadata": {
        "id": "HCfpnouwb0fm"
      },
      "source": [
        "for i in genres:\n",
        "    genre_df[i.lower()]=0"
      ],
      "execution_count": null,
      "outputs": []
    },
    {
      "cell_type": "code",
      "metadata": {
        "colab": {
          "base_uri": "https://localhost:8080/",
          "height": 49
        },
        "id": "mK_mJI06SUgv",
        "outputId": "2a6ac299-0362-4989-f78c-aa53af2a0768"
      },
      "source": [
        "genre_df"
      ],
      "execution_count": null,
      "outputs": [
        {
          "data": {
            "text/html": [
              "<div>\n",
              "<style scoped>\n",
              "    .dataframe tbody tr th:only-of-type {\n",
              "        vertical-align: middle;\n",
              "    }\n",
              "\n",
              "    .dataframe tbody tr th {\n",
              "        vertical-align: top;\n",
              "    }\n",
              "\n",
              "    .dataframe thead th {\n",
              "        text-align: right;\n",
              "    }\n",
              "</style>\n",
              "<table border=\"1\" class=\"dataframe\">\n",
              "  <thead>\n",
              "    <tr style=\"text-align: right;\">\n",
              "      <th></th>\n",
              "      <th>action</th>\n",
              "      <th>adventure</th>\n",
              "      <th>animation</th>\n",
              "      <th>biography</th>\n",
              "      <th>comedy</th>\n",
              "      <th>crime</th>\n",
              "      <th>drama</th>\n",
              "      <th>family</th>\n",
              "      <th>fantasy</th>\n",
              "      <th>film-noir</th>\n",
              "      <th>history</th>\n",
              "      <th>horror</th>\n",
              "      <th>music</th>\n",
              "      <th>musical</th>\n",
              "      <th>mystery</th>\n",
              "      <th>romance</th>\n",
              "      <th>sci-fi</th>\n",
              "      <th>sport</th>\n",
              "      <th>thriller</th>\n",
              "      <th>war</th>\n",
              "      <th>western</th>\n",
              "    </tr>\n",
              "  </thead>\n",
              "  <tbody>\n",
              "  </tbody>\n",
              "</table>\n",
              "</div>"
            ],
            "text/plain": [
              "Empty DataFrame\n",
              "Columns: [action, adventure, animation, biography, comedy, crime, drama, family, fantasy, film-noir, history, horror, music, musical, mystery, romance, sci-fi, sport, thriller, war, western]\n",
              "Index: []"
            ]
          },
          "execution_count": 103,
          "metadata": {},
          "output_type": "execute_result"
        }
      ]
    },
    {
      "cell_type": "code",
      "metadata": {
        "id": "Zs54h9Stb0dA"
      },
      "source": [
        "for i,data in df_details.iterrows():\n",
        "    #Assigns details pertaining to a movie to a variable\n",
        "    details=df_details[df_details.movie_id==data['movie_id']]\n",
        "    genre_df.at[i,'movie_id']=data['movie_id']\n",
        "    for genre in genres:\n",
        "        #Checks if movie belongs to the genre or not \n",
        "        genre_df.at[i,genre.lower()]=int(genre in details['genre'].tolist()[0])"
      ],
      "execution_count": null,
      "outputs": []
    },
    {
      "cell_type": "code",
      "metadata": {
        "colab": {
          "base_uri": "https://localhost:8080/",
          "height": 419
        },
        "id": "1ZmxanY3b0aQ",
        "outputId": "5616de41-d835-4818-9400-4921fc0c03b3"
      },
      "source": [
        "genre_df"
      ],
      "execution_count": null,
      "outputs": [
        {
          "data": {
            "text/html": [
              "<div>\n",
              "<style scoped>\n",
              "    .dataframe tbody tr th:only-of-type {\n",
              "        vertical-align: middle;\n",
              "    }\n",
              "\n",
              "    .dataframe tbody tr th {\n",
              "        vertical-align: top;\n",
              "    }\n",
              "\n",
              "    .dataframe thead th {\n",
              "        text-align: right;\n",
              "    }\n",
              "</style>\n",
              "<table border=\"1\" class=\"dataframe\">\n",
              "  <thead>\n",
              "    <tr style=\"text-align: right;\">\n",
              "      <th></th>\n",
              "      <th>action</th>\n",
              "      <th>adventure</th>\n",
              "      <th>animation</th>\n",
              "      <th>biography</th>\n",
              "      <th>comedy</th>\n",
              "      <th>crime</th>\n",
              "      <th>drama</th>\n",
              "      <th>family</th>\n",
              "      <th>fantasy</th>\n",
              "      <th>film-noir</th>\n",
              "      <th>history</th>\n",
              "      <th>horror</th>\n",
              "      <th>music</th>\n",
              "      <th>musical</th>\n",
              "      <th>mystery</th>\n",
              "      <th>romance</th>\n",
              "      <th>sci-fi</th>\n",
              "      <th>sport</th>\n",
              "      <th>thriller</th>\n",
              "      <th>war</th>\n",
              "      <th>western</th>\n",
              "      <th>movie_id</th>\n",
              "    </tr>\n",
              "  </thead>\n",
              "  <tbody>\n",
              "    <tr>\n",
              "      <th>0</th>\n",
              "      <td>1.0</td>\n",
              "      <td>0.0</td>\n",
              "      <td>0.0</td>\n",
              "      <td>0.0</td>\n",
              "      <td>0.0</td>\n",
              "      <td>0.0</td>\n",
              "      <td>0.0</td>\n",
              "      <td>0.0</td>\n",
              "      <td>0.0</td>\n",
              "      <td>0.0</td>\n",
              "      <td>0.0</td>\n",
              "      <td>0.0</td>\n",
              "      <td>0.0</td>\n",
              "      <td>0.0</td>\n",
              "      <td>0.0</td>\n",
              "      <td>0.0</td>\n",
              "      <td>0.0</td>\n",
              "      <td>0.0</td>\n",
              "      <td>1.0</td>\n",
              "      <td>0.0</td>\n",
              "      <td>0.0</td>\n",
              "      <td>05112</td>\n",
              "    </tr>\n",
              "    <tr>\n",
              "      <th>1</th>\n",
              "      <td>0.0</td>\n",
              "      <td>0.0</td>\n",
              "      <td>0.0</td>\n",
              "      <td>0.0</td>\n",
              "      <td>1.0</td>\n",
              "      <td>0.0</td>\n",
              "      <td>0.0</td>\n",
              "      <td>0.0</td>\n",
              "      <td>0.0</td>\n",
              "      <td>0.0</td>\n",
              "      <td>0.0</td>\n",
              "      <td>0.0</td>\n",
              "      <td>0.0</td>\n",
              "      <td>0.0</td>\n",
              "      <td>0.0</td>\n",
              "      <td>0.0</td>\n",
              "      <td>0.0</td>\n",
              "      <td>0.0</td>\n",
              "      <td>0.0</td>\n",
              "      <td>0.0</td>\n",
              "      <td>0.0</td>\n",
              "      <td>04975</td>\n",
              "    </tr>\n",
              "    <tr>\n",
              "      <th>2</th>\n",
              "      <td>0.0</td>\n",
              "      <td>0.0</td>\n",
              "      <td>0.0</td>\n",
              "      <td>0.0</td>\n",
              "      <td>1.0</td>\n",
              "      <td>0.0</td>\n",
              "      <td>0.0</td>\n",
              "      <td>0.0</td>\n",
              "      <td>0.0</td>\n",
              "      <td>0.0</td>\n",
              "      <td>0.0</td>\n",
              "      <td>0.0</td>\n",
              "      <td>0.0</td>\n",
              "      <td>0.0</td>\n",
              "      <td>0.0</td>\n",
              "      <td>1.0</td>\n",
              "      <td>0.0</td>\n",
              "      <td>0.0</td>\n",
              "      <td>0.0</td>\n",
              "      <td>0.0</td>\n",
              "      <td>0.0</td>\n",
              "      <td>43655</td>\n",
              "    </tr>\n",
              "    <tr>\n",
              "      <th>3</th>\n",
              "      <td>0.0</td>\n",
              "      <td>1.0</td>\n",
              "      <td>0.0</td>\n",
              "      <td>0.0</td>\n",
              "      <td>0.0</td>\n",
              "      <td>0.0</td>\n",
              "      <td>1.0</td>\n",
              "      <td>0.0</td>\n",
              "      <td>0.0</td>\n",
              "      <td>0.0</td>\n",
              "      <td>0.0</td>\n",
              "      <td>0.0</td>\n",
              "      <td>0.0</td>\n",
              "      <td>0.0</td>\n",
              "      <td>0.0</td>\n",
              "      <td>0.0</td>\n",
              "      <td>0.0</td>\n",
              "      <td>0.0</td>\n",
              "      <td>0.0</td>\n",
              "      <td>0.0</td>\n",
              "      <td>1.0</td>\n",
              "      <td>40897</td>\n",
              "    </tr>\n",
              "    <tr>\n",
              "      <th>4</th>\n",
              "      <td>0.0</td>\n",
              "      <td>0.0</td>\n",
              "      <td>0.0</td>\n",
              "      <td>0.0</td>\n",
              "      <td>1.0</td>\n",
              "      <td>0.0</td>\n",
              "      <td>1.0</td>\n",
              "      <td>0.0</td>\n",
              "      <td>0.0</td>\n",
              "      <td>0.0</td>\n",
              "      <td>0.0</td>\n",
              "      <td>0.0</td>\n",
              "      <td>0.0</td>\n",
              "      <td>0.0</td>\n",
              "      <td>0.0</td>\n",
              "      <td>1.0</td>\n",
              "      <td>0.0</td>\n",
              "      <td>0.0</td>\n",
              "      <td>0.0</td>\n",
              "      <td>0.0</td>\n",
              "      <td>0.0</td>\n",
              "      <td>26886</td>\n",
              "    </tr>\n",
              "    <tr>\n",
              "      <th>...</th>\n",
              "      <td>...</td>\n",
              "      <td>...</td>\n",
              "      <td>...</td>\n",
              "      <td>...</td>\n",
              "      <td>...</td>\n",
              "      <td>...</td>\n",
              "      <td>...</td>\n",
              "      <td>...</td>\n",
              "      <td>...</td>\n",
              "      <td>...</td>\n",
              "      <td>...</td>\n",
              "      <td>...</td>\n",
              "      <td>...</td>\n",
              "      <td>...</td>\n",
              "      <td>...</td>\n",
              "      <td>...</td>\n",
              "      <td>...</td>\n",
              "      <td>...</td>\n",
              "      <td>...</td>\n",
              "      <td>...</td>\n",
              "      <td>...</td>\n",
              "      <td>...</td>\n",
              "    </tr>\n",
              "    <tr>\n",
              "      <th>1567</th>\n",
              "      <td>0.0</td>\n",
              "      <td>0.0</td>\n",
              "      <td>0.0</td>\n",
              "      <td>0.0</td>\n",
              "      <td>0.0</td>\n",
              "      <td>0.0</td>\n",
              "      <td>0.0</td>\n",
              "      <td>0.0</td>\n",
              "      <td>0.0</td>\n",
              "      <td>0.0</td>\n",
              "      <td>0.0</td>\n",
              "      <td>0.0</td>\n",
              "      <td>0.0</td>\n",
              "      <td>0.0</td>\n",
              "      <td>0.0</td>\n",
              "      <td>0.0</td>\n",
              "      <td>1.0</td>\n",
              "      <td>0.0</td>\n",
              "      <td>1.0</td>\n",
              "      <td>0.0</td>\n",
              "      <td>0.0</td>\n",
              "      <td>89879</td>\n",
              "    </tr>\n",
              "    <tr>\n",
              "      <th>1568</th>\n",
              "      <td>0.0</td>\n",
              "      <td>0.0</td>\n",
              "      <td>0.0</td>\n",
              "      <td>0.0</td>\n",
              "      <td>0.0</td>\n",
              "      <td>0.0</td>\n",
              "      <td>1.0</td>\n",
              "      <td>0.0</td>\n",
              "      <td>0.0</td>\n",
              "      <td>0.0</td>\n",
              "      <td>0.0</td>\n",
              "      <td>0.0</td>\n",
              "      <td>0.0</td>\n",
              "      <td>0.0</td>\n",
              "      <td>0.0</td>\n",
              "      <td>0.0</td>\n",
              "      <td>0.0</td>\n",
              "      <td>0.0</td>\n",
              "      <td>0.0</td>\n",
              "      <td>0.0</td>\n",
              "      <td>0.0</td>\n",
              "      <td>23811</td>\n",
              "    </tr>\n",
              "    <tr>\n",
              "      <th>1569</th>\n",
              "      <td>1.0</td>\n",
              "      <td>0.0</td>\n",
              "      <td>0.0</td>\n",
              "      <td>0.0</td>\n",
              "      <td>0.0</td>\n",
              "      <td>0.0</td>\n",
              "      <td>1.0</td>\n",
              "      <td>0.0</td>\n",
              "      <td>0.0</td>\n",
              "      <td>0.0</td>\n",
              "      <td>1.0</td>\n",
              "      <td>0.0</td>\n",
              "      <td>0.0</td>\n",
              "      <td>0.0</td>\n",
              "      <td>0.0</td>\n",
              "      <td>0.0</td>\n",
              "      <td>0.0</td>\n",
              "      <td>0.0</td>\n",
              "      <td>0.0</td>\n",
              "      <td>0.0</td>\n",
              "      <td>0.0</td>\n",
              "      <td>13056</td>\n",
              "    </tr>\n",
              "    <tr>\n",
              "      <th>1570</th>\n",
              "      <td>0.0</td>\n",
              "      <td>0.0</td>\n",
              "      <td>0.0</td>\n",
              "      <td>0.0</td>\n",
              "      <td>1.0</td>\n",
              "      <td>0.0</td>\n",
              "      <td>1.0</td>\n",
              "      <td>0.0</td>\n",
              "      <td>0.0</td>\n",
              "      <td>0.0</td>\n",
              "      <td>0.0</td>\n",
              "      <td>0.0</td>\n",
              "      <td>0.0</td>\n",
              "      <td>0.0</td>\n",
              "      <td>0.0</td>\n",
              "      <td>0.0</td>\n",
              "      <td>0.0</td>\n",
              "      <td>0.0</td>\n",
              "      <td>0.0</td>\n",
              "      <td>0.0</td>\n",
              "      <td>0.0</td>\n",
              "      <td>04014/</td>\n",
              "    </tr>\n",
              "    <tr>\n",
              "      <th>1571</th>\n",
              "      <td>0.0</td>\n",
              "      <td>0.0</td>\n",
              "      <td>0.0</td>\n",
              "      <td>0.0</td>\n",
              "      <td>0.0</td>\n",
              "      <td>0.0</td>\n",
              "      <td>1.0</td>\n",
              "      <td>0.0</td>\n",
              "      <td>0.0</td>\n",
              "      <td>0.0</td>\n",
              "      <td>0.0</td>\n",
              "      <td>0.0</td>\n",
              "      <td>0.0</td>\n",
              "      <td>0.0</td>\n",
              "      <td>0.0</td>\n",
              "      <td>0.0</td>\n",
              "      <td>0.0</td>\n",
              "      <td>0.0</td>\n",
              "      <td>1.0</td>\n",
              "      <td>0.0</td>\n",
              "      <td>0.0</td>\n",
              "      <td>14142/</td>\n",
              "    </tr>\n",
              "  </tbody>\n",
              "</table>\n",
              "<p>1572 rows × 22 columns</p>\n",
              "</div>"
            ],
            "text/plain": [
              "      action  adventure  animation  biography  comedy  crime  drama  family  \\\n",
              "0        1.0        0.0        0.0        0.0     0.0    0.0    0.0     0.0   \n",
              "1        0.0        0.0        0.0        0.0     1.0    0.0    0.0     0.0   \n",
              "2        0.0        0.0        0.0        0.0     1.0    0.0    0.0     0.0   \n",
              "3        0.0        1.0        0.0        0.0     0.0    0.0    1.0     0.0   \n",
              "4        0.0        0.0        0.0        0.0     1.0    0.0    1.0     0.0   \n",
              "...      ...        ...        ...        ...     ...    ...    ...     ...   \n",
              "1567     0.0        0.0        0.0        0.0     0.0    0.0    0.0     0.0   \n",
              "1568     0.0        0.0        0.0        0.0     0.0    0.0    1.0     0.0   \n",
              "1569     1.0        0.0        0.0        0.0     0.0    0.0    1.0     0.0   \n",
              "1570     0.0        0.0        0.0        0.0     1.0    0.0    1.0     0.0   \n",
              "1571     0.0        0.0        0.0        0.0     0.0    0.0    1.0     0.0   \n",
              "\n",
              "      fantasy  film-noir  history  horror  music  musical  mystery  romance  \\\n",
              "0         0.0        0.0      0.0     0.0    0.0      0.0      0.0      0.0   \n",
              "1         0.0        0.0      0.0     0.0    0.0      0.0      0.0      0.0   \n",
              "2         0.0        0.0      0.0     0.0    0.0      0.0      0.0      1.0   \n",
              "3         0.0        0.0      0.0     0.0    0.0      0.0      0.0      0.0   \n",
              "4         0.0        0.0      0.0     0.0    0.0      0.0      0.0      1.0   \n",
              "...       ...        ...      ...     ...    ...      ...      ...      ...   \n",
              "1567      0.0        0.0      0.0     0.0    0.0      0.0      0.0      0.0   \n",
              "1568      0.0        0.0      0.0     0.0    0.0      0.0      0.0      0.0   \n",
              "1569      0.0        0.0      1.0     0.0    0.0      0.0      0.0      0.0   \n",
              "1570      0.0        0.0      0.0     0.0    0.0      0.0      0.0      0.0   \n",
              "1571      0.0        0.0      0.0     0.0    0.0      0.0      0.0      0.0   \n",
              "\n",
              "      sci-fi  sport  thriller  war  western movie_id  \n",
              "0        0.0    0.0       1.0  0.0      0.0    05112  \n",
              "1        0.0    0.0       0.0  0.0      0.0    04975  \n",
              "2        0.0    0.0       0.0  0.0      0.0    43655  \n",
              "3        0.0    0.0       0.0  0.0      1.0    40897  \n",
              "4        0.0    0.0       0.0  0.0      0.0    26886  \n",
              "...      ...    ...       ...  ...      ...      ...  \n",
              "1567     1.0    0.0       1.0  0.0      0.0    89879  \n",
              "1568     0.0    0.0       0.0  0.0      0.0    23811  \n",
              "1569     0.0    0.0       0.0  0.0      0.0    13056  \n",
              "1570     0.0    0.0       0.0  0.0      0.0   04014/  \n",
              "1571     0.0    0.0       1.0  0.0      0.0   14142/  \n",
              "\n",
              "[1572 rows x 22 columns]"
            ]
          },
          "execution_count": 105,
          "metadata": {},
          "output_type": "execute_result"
        }
      ]
    },
    {
      "cell_type": "code",
      "metadata": {
        "id": "3sz-jUrOb0Y8"
      },
      "source": [
        "df_temp= pd.merge(df, genre_df, on=\"movie_id\")"
      ],
      "execution_count": null,
      "outputs": []
    },
    {
      "cell_type": "code",
      "metadata": {
        "colab": {
          "base_uri": "https://localhost:8080/",
          "height": 1000
        },
        "id": "ko2rD8wyCgce",
        "outputId": "abc44702-db68-409f-a372-59835edc8b62"
      },
      "source": [
        "df_temp"
      ],
      "execution_count": null,
      "outputs": [
        {
          "data": {
            "text/html": [
              "<div>\n",
              "<style scoped>\n",
              "    .dataframe tbody tr th:only-of-type {\n",
              "        vertical-align: middle;\n",
              "    }\n",
              "\n",
              "    .dataframe tbody tr th {\n",
              "        vertical-align: top;\n",
              "    }\n",
              "\n",
              "    .dataframe thead th {\n",
              "        text-align: right;\n",
              "    }\n",
              "</style>\n",
              "<table border=\"1\" class=\"dataframe\">\n",
              "  <thead>\n",
              "    <tr style=\"text-align: right;\">\n",
              "      <th></th>\n",
              "      <th>review_date</th>\n",
              "      <th>movie_id</th>\n",
              "      <th>user_id</th>\n",
              "      <th>is_spoiler</th>\n",
              "      <th>review_text</th>\n",
              "      <th>userrating</th>\n",
              "      <th>review_summary</th>\n",
              "      <th>plot_summary</th>\n",
              "      <th>duration</th>\n",
              "      <th>genre</th>\n",
              "      <th>actualrating</th>\n",
              "      <th>release_date</th>\n",
              "      <th>plot_synopsis</th>\n",
              "      <th>days_elapsed</th>\n",
              "      <th>word_count</th>\n",
              "      <th>spoiltext</th>\n",
              "      <th>msr</th>\n",
              "      <th>usr</th>\n",
              "      <th>action</th>\n",
              "      <th>adventure</th>\n",
              "      <th>animation</th>\n",
              "      <th>biography</th>\n",
              "      <th>comedy</th>\n",
              "      <th>crime</th>\n",
              "      <th>drama</th>\n",
              "      <th>family</th>\n",
              "      <th>fantasy</th>\n",
              "      <th>film-noir</th>\n",
              "      <th>history</th>\n",
              "      <th>horror</th>\n",
              "      <th>music</th>\n",
              "      <th>musical</th>\n",
              "      <th>mystery</th>\n",
              "      <th>romance</th>\n",
              "      <th>sci-fi</th>\n",
              "      <th>sport</th>\n",
              "      <th>thriller</th>\n",
              "      <th>war</th>\n",
              "      <th>western</th>\n",
              "    </tr>\n",
              "  </thead>\n",
              "  <tbody>\n",
              "    <tr>\n",
              "      <th>0</th>\n",
              "      <td>2006-02-10</td>\n",
              "      <td>11161</td>\n",
              "      <td>ur1898687</td>\n",
              "      <td>1</td>\n",
              "      <td>In its Oscar year, Shawshank Redemption (writt...</td>\n",
              "      <td>10</td>\n",
              "      <td>A classic piece of unforgettable film-making.</td>\n",
              "      <td>Chronicles the experiences of a formerly succe...</td>\n",
              "      <td>2h 22min</td>\n",
              "      <td>[Crime, Drama]</td>\n",
              "      <td>9.3</td>\n",
              "      <td>1994-10-14</td>\n",
              "      <td>In 1947, Andy Dufresne (Tim Robbins), a banker...</td>\n",
              "      <td>4137</td>\n",
              "      <td>843</td>\n",
              "      <td>0</td>\n",
              "      <td>0.219216</td>\n",
              "      <td>0.600000</td>\n",
              "      <td>0.0</td>\n",
              "      <td>0.0</td>\n",
              "      <td>0.0</td>\n",
              "      <td>0.0</td>\n",
              "      <td>0.0</td>\n",
              "      <td>1.0</td>\n",
              "      <td>1.0</td>\n",
              "      <td>0.0</td>\n",
              "      <td>0.0</td>\n",
              "      <td>0.0</td>\n",
              "      <td>0.0</td>\n",
              "      <td>0.0</td>\n",
              "      <td>0.0</td>\n",
              "      <td>0.0</td>\n",
              "      <td>0.0</td>\n",
              "      <td>0.0</td>\n",
              "      <td>0.0</td>\n",
              "      <td>0.0</td>\n",
              "      <td>0.0</td>\n",
              "      <td>0.0</td>\n",
              "      <td>0.0</td>\n",
              "    </tr>\n",
              "    <tr>\n",
              "      <th>1</th>\n",
              "      <td>2000-09-06</td>\n",
              "      <td>11161</td>\n",
              "      <td>ur0842118</td>\n",
              "      <td>1</td>\n",
              "      <td>The Shawshank Redemption is without a doubt on...</td>\n",
              "      <td>10</td>\n",
              "      <td>Simply amazing. The best film of the 90's.</td>\n",
              "      <td>Chronicles the experiences of a formerly succe...</td>\n",
              "      <td>2h 22min</td>\n",
              "      <td>[Crime, Drama]</td>\n",
              "      <td>9.3</td>\n",
              "      <td>1994-10-14</td>\n",
              "      <td>In 1947, Andy Dufresne (Tim Robbins), a banker...</td>\n",
              "      <td>2154</td>\n",
              "      <td>223</td>\n",
              "      <td>0</td>\n",
              "      <td>0.219216</td>\n",
              "      <td>0.250000</td>\n",
              "      <td>0.0</td>\n",
              "      <td>0.0</td>\n",
              "      <td>0.0</td>\n",
              "      <td>0.0</td>\n",
              "      <td>0.0</td>\n",
              "      <td>1.0</td>\n",
              "      <td>1.0</td>\n",
              "      <td>0.0</td>\n",
              "      <td>0.0</td>\n",
              "      <td>0.0</td>\n",
              "      <td>0.0</td>\n",
              "      <td>0.0</td>\n",
              "      <td>0.0</td>\n",
              "      <td>0.0</td>\n",
              "      <td>0.0</td>\n",
              "      <td>0.0</td>\n",
              "      <td>0.0</td>\n",
              "      <td>0.0</td>\n",
              "      <td>0.0</td>\n",
              "      <td>0.0</td>\n",
              "      <td>0.0</td>\n",
              "    </tr>\n",
              "    <tr>\n",
              "      <th>2</th>\n",
              "      <td>2001-08-03</td>\n",
              "      <td>11161</td>\n",
              "      <td>ur1285640</td>\n",
              "      <td>1</td>\n",
              "      <td>I believe that this film is the best story eve...</td>\n",
              "      <td>8</td>\n",
              "      <td>The best story ever told on film</td>\n",
              "      <td>Chronicles the experiences of a formerly succe...</td>\n",
              "      <td>2h 22min</td>\n",
              "      <td>[Crime, Drama]</td>\n",
              "      <td>9.3</td>\n",
              "      <td>1994-10-14</td>\n",
              "      <td>In 1947, Andy Dufresne (Tim Robbins), a banker...</td>\n",
              "      <td>2485</td>\n",
              "      <td>250</td>\n",
              "      <td>0</td>\n",
              "      <td>0.219216</td>\n",
              "      <td>1.000000</td>\n",
              "      <td>0.0</td>\n",
              "      <td>0.0</td>\n",
              "      <td>0.0</td>\n",
              "      <td>0.0</td>\n",
              "      <td>0.0</td>\n",
              "      <td>1.0</td>\n",
              "      <td>1.0</td>\n",
              "      <td>0.0</td>\n",
              "      <td>0.0</td>\n",
              "      <td>0.0</td>\n",
              "      <td>0.0</td>\n",
              "      <td>0.0</td>\n",
              "      <td>0.0</td>\n",
              "      <td>0.0</td>\n",
              "      <td>0.0</td>\n",
              "      <td>0.0</td>\n",
              "      <td>0.0</td>\n",
              "      <td>0.0</td>\n",
              "      <td>0.0</td>\n",
              "      <td>0.0</td>\n",
              "      <td>0.0</td>\n",
              "    </tr>\n",
              "    <tr>\n",
              "      <th>3</th>\n",
              "      <td>2002-09-01</td>\n",
              "      <td>11161</td>\n",
              "      <td>ur1003471</td>\n",
              "      <td>1</td>\n",
              "      <td>**Yes, there are SPOILERS here**This film has ...</td>\n",
              "      <td>10</td>\n",
              "      <td>Busy dying or busy living?</td>\n",
              "      <td>Chronicles the experiences of a formerly succe...</td>\n",
              "      <td>2h 22min</td>\n",
              "      <td>[Crime, Drama]</td>\n",
              "      <td>9.3</td>\n",
              "      <td>1994-10-14</td>\n",
              "      <td>In 1947, Andy Dufresne (Tim Robbins), a banker...</td>\n",
              "      <td>2879</td>\n",
              "      <td>766</td>\n",
              "      <td>0</td>\n",
              "      <td>0.219216</td>\n",
              "      <td>0.461538</td>\n",
              "      <td>0.0</td>\n",
              "      <td>0.0</td>\n",
              "      <td>0.0</td>\n",
              "      <td>0.0</td>\n",
              "      <td>0.0</td>\n",
              "      <td>1.0</td>\n",
              "      <td>1.0</td>\n",
              "      <td>0.0</td>\n",
              "      <td>0.0</td>\n",
              "      <td>0.0</td>\n",
              "      <td>0.0</td>\n",
              "      <td>0.0</td>\n",
              "      <td>0.0</td>\n",
              "      <td>0.0</td>\n",
              "      <td>0.0</td>\n",
              "      <td>0.0</td>\n",
              "      <td>0.0</td>\n",
              "      <td>0.0</td>\n",
              "      <td>0.0</td>\n",
              "      <td>0.0</td>\n",
              "      <td>0.0</td>\n",
              "    </tr>\n",
              "    <tr>\n",
              "      <th>4</th>\n",
              "      <td>2004-05-20</td>\n",
              "      <td>11161</td>\n",
              "      <td>ur0226855</td>\n",
              "      <td>1</td>\n",
              "      <td>At the heart of this extraordinary movie is a ...</td>\n",
              "      <td>8</td>\n",
              "      <td>Great story, wondrously told and acted</td>\n",
              "      <td>Chronicles the experiences of a formerly succe...</td>\n",
              "      <td>2h 22min</td>\n",
              "      <td>[Crime, Drama]</td>\n",
              "      <td>9.3</td>\n",
              "      <td>1994-10-14</td>\n",
              "      <td>In 1947, Andy Dufresne (Tim Robbins), a banker...</td>\n",
              "      <td>3506</td>\n",
              "      <td>829</td>\n",
              "      <td>0</td>\n",
              "      <td>0.219216</td>\n",
              "      <td>0.134752</td>\n",
              "      <td>0.0</td>\n",
              "      <td>0.0</td>\n",
              "      <td>0.0</td>\n",
              "      <td>0.0</td>\n",
              "      <td>0.0</td>\n",
              "      <td>1.0</td>\n",
              "      <td>1.0</td>\n",
              "      <td>0.0</td>\n",
              "      <td>0.0</td>\n",
              "      <td>0.0</td>\n",
              "      <td>0.0</td>\n",
              "      <td>0.0</td>\n",
              "      <td>0.0</td>\n",
              "      <td>0.0</td>\n",
              "      <td>0.0</td>\n",
              "      <td>0.0</td>\n",
              "      <td>0.0</td>\n",
              "      <td>0.0</td>\n",
              "      <td>0.0</td>\n",
              "      <td>0.0</td>\n",
              "      <td>0.0</td>\n",
              "    </tr>\n",
              "    <tr>\n",
              "      <th>...</th>\n",
              "      <td>...</td>\n",
              "      <td>...</td>\n",
              "      <td>...</td>\n",
              "      <td>...</td>\n",
              "      <td>...</td>\n",
              "      <td>...</td>\n",
              "      <td>...</td>\n",
              "      <td>...</td>\n",
              "      <td>...</td>\n",
              "      <td>...</td>\n",
              "      <td>...</td>\n",
              "      <td>...</td>\n",
              "      <td>...</td>\n",
              "      <td>...</td>\n",
              "      <td>...</td>\n",
              "      <td>...</td>\n",
              "      <td>...</td>\n",
              "      <td>...</td>\n",
              "      <td>...</td>\n",
              "      <td>...</td>\n",
              "      <td>...</td>\n",
              "      <td>...</td>\n",
              "      <td>...</td>\n",
              "      <td>...</td>\n",
              "      <td>...</td>\n",
              "      <td>...</td>\n",
              "      <td>...</td>\n",
              "      <td>...</td>\n",
              "      <td>...</td>\n",
              "      <td>...</td>\n",
              "      <td>...</td>\n",
              "      <td>...</td>\n",
              "      <td>...</td>\n",
              "      <td>...</td>\n",
              "      <td>...</td>\n",
              "      <td>...</td>\n",
              "      <td>...</td>\n",
              "      <td>...</td>\n",
              "      <td>...</td>\n",
              "    </tr>\n",
              "    <tr>\n",
              "      <th>596779</th>\n",
              "      <td>2017-12-22</td>\n",
              "      <td>67800</td>\n",
              "      <td>ur25307523</td>\n",
              "      <td>0</td>\n",
              "      <td>Aruvi is a waterfall of human mixed-emotions p...</td>\n",
              "      <td>10</td>\n",
              "      <td>Waterfall of human mixed-emotions</td>\n",
              "      <td>A gentle girl born and brought up amidst the e...</td>\n",
              "      <td>2h 10min</td>\n",
              "      <td>[Drama]</td>\n",
              "      <td>9.5</td>\n",
              "      <td>2017-12-15</td>\n",
              "      <td></td>\n",
              "      <td>7</td>\n",
              "      <td>226</td>\n",
              "      <td>0</td>\n",
              "      <td>0.083333</td>\n",
              "      <td>0.000000</td>\n",
              "      <td>0.0</td>\n",
              "      <td>0.0</td>\n",
              "      <td>0.0</td>\n",
              "      <td>0.0</td>\n",
              "      <td>0.0</td>\n",
              "      <td>0.0</td>\n",
              "      <td>1.0</td>\n",
              "      <td>0.0</td>\n",
              "      <td>0.0</td>\n",
              "      <td>0.0</td>\n",
              "      <td>0.0</td>\n",
              "      <td>0.0</td>\n",
              "      <td>0.0</td>\n",
              "      <td>0.0</td>\n",
              "      <td>0.0</td>\n",
              "      <td>0.0</td>\n",
              "      <td>0.0</td>\n",
              "      <td>0.0</td>\n",
              "      <td>0.0</td>\n",
              "      <td>0.0</td>\n",
              "      <td>0.0</td>\n",
              "    </tr>\n",
              "    <tr>\n",
              "      <th>596780</th>\n",
              "      <td>2017-12-22</td>\n",
              "      <td>67800</td>\n",
              "      <td>ur83510976</td>\n",
              "      <td>0</td>\n",
              "      <td>Definitely a class apart. Excellent work by th...</td>\n",
              "      <td>10</td>\n",
              "      <td>One of the best movies in Indian cine Industry</td>\n",
              "      <td>A gentle girl born and brought up amidst the e...</td>\n",
              "      <td>2h 10min</td>\n",
              "      <td>[Drama]</td>\n",
              "      <td>9.5</td>\n",
              "      <td>2017-12-15</td>\n",
              "      <td></td>\n",
              "      <td>7</td>\n",
              "      <td>56</td>\n",
              "      <td>0</td>\n",
              "      <td>0.083333</td>\n",
              "      <td>0.000000</td>\n",
              "      <td>0.0</td>\n",
              "      <td>0.0</td>\n",
              "      <td>0.0</td>\n",
              "      <td>0.0</td>\n",
              "      <td>0.0</td>\n",
              "      <td>0.0</td>\n",
              "      <td>1.0</td>\n",
              "      <td>0.0</td>\n",
              "      <td>0.0</td>\n",
              "      <td>0.0</td>\n",
              "      <td>0.0</td>\n",
              "      <td>0.0</td>\n",
              "      <td>0.0</td>\n",
              "      <td>0.0</td>\n",
              "      <td>0.0</td>\n",
              "      <td>0.0</td>\n",
              "      <td>0.0</td>\n",
              "      <td>0.0</td>\n",
              "      <td>0.0</td>\n",
              "      <td>0.0</td>\n",
              "      <td>0.0</td>\n",
              "    </tr>\n",
              "    <tr>\n",
              "      <th>596781</th>\n",
              "      <td>2017-12-21</td>\n",
              "      <td>67800</td>\n",
              "      <td>ur54551299</td>\n",
              "      <td>0</td>\n",
              "      <td>Aruvi will be one of the iconic movie of Tamil...</td>\n",
              "      <td>9</td>\n",
              "      <td>Aruvi - A Masterpiece</td>\n",
              "      <td>A gentle girl born and brought up amidst the e...</td>\n",
              "      <td>2h 10min</td>\n",
              "      <td>[Drama]</td>\n",
              "      <td>9.5</td>\n",
              "      <td>2017-12-15</td>\n",
              "      <td></td>\n",
              "      <td>6</td>\n",
              "      <td>336</td>\n",
              "      <td>0</td>\n",
              "      <td>0.083333</td>\n",
              "      <td>0.000000</td>\n",
              "      <td>0.0</td>\n",
              "      <td>0.0</td>\n",
              "      <td>0.0</td>\n",
              "      <td>0.0</td>\n",
              "      <td>0.0</td>\n",
              "      <td>0.0</td>\n",
              "      <td>1.0</td>\n",
              "      <td>0.0</td>\n",
              "      <td>0.0</td>\n",
              "      <td>0.0</td>\n",
              "      <td>0.0</td>\n",
              "      <td>0.0</td>\n",
              "      <td>0.0</td>\n",
              "      <td>0.0</td>\n",
              "      <td>0.0</td>\n",
              "      <td>0.0</td>\n",
              "      <td>0.0</td>\n",
              "      <td>0.0</td>\n",
              "      <td>0.0</td>\n",
              "      <td>0.0</td>\n",
              "      <td>0.0</td>\n",
              "    </tr>\n",
              "    <tr>\n",
              "      <th>596782</th>\n",
              "      <td>2017-12-19</td>\n",
              "      <td>67800</td>\n",
              "      <td>ur48291086</td>\n",
              "      <td>0</td>\n",
              "      <td>Rolling Sirrrrr ,\\nSuch a hard hitting and gut...</td>\n",
              "      <td>10</td>\n",
              "      <td>Aruvi - Ever Best in Indian Cinema</td>\n",
              "      <td>A gentle girl born and brought up amidst the e...</td>\n",
              "      <td>2h 10min</td>\n",
              "      <td>[Drama]</td>\n",
              "      <td>9.5</td>\n",
              "      <td>2017-12-15</td>\n",
              "      <td></td>\n",
              "      <td>4</td>\n",
              "      <td>109</td>\n",
              "      <td>0</td>\n",
              "      <td>0.083333</td>\n",
              "      <td>0.000000</td>\n",
              "      <td>0.0</td>\n",
              "      <td>0.0</td>\n",
              "      <td>0.0</td>\n",
              "      <td>0.0</td>\n",
              "      <td>0.0</td>\n",
              "      <td>0.0</td>\n",
              "      <td>1.0</td>\n",
              "      <td>0.0</td>\n",
              "      <td>0.0</td>\n",
              "      <td>0.0</td>\n",
              "      <td>0.0</td>\n",
              "      <td>0.0</td>\n",
              "      <td>0.0</td>\n",
              "      <td>0.0</td>\n",
              "      <td>0.0</td>\n",
              "      <td>0.0</td>\n",
              "      <td>0.0</td>\n",
              "      <td>0.0</td>\n",
              "      <td>0.0</td>\n",
              "      <td>0.0</td>\n",
              "      <td>0.0</td>\n",
              "    </tr>\n",
              "    <tr>\n",
              "      <th>596783</th>\n",
              "      <td>2017-12-28</td>\n",
              "      <td>67800</td>\n",
              "      <td>ur83744954</td>\n",
              "      <td>0</td>\n",
              "      <td>The film is overly dramatic, gross at times, a...</td>\n",
              "      <td>1</td>\n",
              "      <td>Overrated and awful!</td>\n",
              "      <td>A gentle girl born and brought up amidst the e...</td>\n",
              "      <td>2h 10min</td>\n",
              "      <td>[Drama]</td>\n",
              "      <td>9.5</td>\n",
              "      <td>2017-12-15</td>\n",
              "      <td></td>\n",
              "      <td>13</td>\n",
              "      <td>168</td>\n",
              "      <td>0</td>\n",
              "      <td>0.083333</td>\n",
              "      <td>0.000000</td>\n",
              "      <td>0.0</td>\n",
              "      <td>0.0</td>\n",
              "      <td>0.0</td>\n",
              "      <td>0.0</td>\n",
              "      <td>0.0</td>\n",
              "      <td>0.0</td>\n",
              "      <td>1.0</td>\n",
              "      <td>0.0</td>\n",
              "      <td>0.0</td>\n",
              "      <td>0.0</td>\n",
              "      <td>0.0</td>\n",
              "      <td>0.0</td>\n",
              "      <td>0.0</td>\n",
              "      <td>0.0</td>\n",
              "      <td>0.0</td>\n",
              "      <td>0.0</td>\n",
              "      <td>0.0</td>\n",
              "      <td>0.0</td>\n",
              "      <td>0.0</td>\n",
              "      <td>0.0</td>\n",
              "      <td>0.0</td>\n",
              "    </tr>\n",
              "  </tbody>\n",
              "</table>\n",
              "<p>596784 rows × 39 columns</p>\n",
              "</div>"
            ],
            "text/plain": [
              "       review_date movie_id     user_id  is_spoiler  \\\n",
              "0       2006-02-10    11161   ur1898687           1   \n",
              "1       2000-09-06    11161   ur0842118           1   \n",
              "2       2001-08-03    11161   ur1285640           1   \n",
              "3       2002-09-01    11161   ur1003471           1   \n",
              "4       2004-05-20    11161   ur0226855           1   \n",
              "...            ...      ...         ...         ...   \n",
              "596779  2017-12-22    67800  ur25307523           0   \n",
              "596780  2017-12-22    67800  ur83510976           0   \n",
              "596781  2017-12-21    67800  ur54551299           0   \n",
              "596782  2017-12-19    67800  ur48291086           0   \n",
              "596783  2017-12-28    67800  ur83744954           0   \n",
              "\n",
              "                                              review_text  userrating  \\\n",
              "0       In its Oscar year, Shawshank Redemption (writt...          10   \n",
              "1       The Shawshank Redemption is without a doubt on...          10   \n",
              "2       I believe that this film is the best story eve...           8   \n",
              "3       **Yes, there are SPOILERS here**This film has ...          10   \n",
              "4       At the heart of this extraordinary movie is a ...           8   \n",
              "...                                                   ...         ...   \n",
              "596779  Aruvi is a waterfall of human mixed-emotions p...          10   \n",
              "596780  Definitely a class apart. Excellent work by th...          10   \n",
              "596781  Aruvi will be one of the iconic movie of Tamil...           9   \n",
              "596782  Rolling Sirrrrr ,\\nSuch a hard hitting and gut...          10   \n",
              "596783  The film is overly dramatic, gross at times, a...           1   \n",
              "\n",
              "                                        review_summary  \\\n",
              "0        A classic piece of unforgettable film-making.   \n",
              "1           Simply amazing. The best film of the 90's.   \n",
              "2                     The best story ever told on film   \n",
              "3                           Busy dying or busy living?   \n",
              "4               Great story, wondrously told and acted   \n",
              "...                                                ...   \n",
              "596779               Waterfall of human mixed-emotions   \n",
              "596780  One of the best movies in Indian cine Industry   \n",
              "596781                           Aruvi - A Masterpiece   \n",
              "596782              Aruvi - Ever Best in Indian Cinema   \n",
              "596783                            Overrated and awful!   \n",
              "\n",
              "                                             plot_summary  duration  \\\n",
              "0       Chronicles the experiences of a formerly succe...  2h 22min   \n",
              "1       Chronicles the experiences of a formerly succe...  2h 22min   \n",
              "2       Chronicles the experiences of a formerly succe...  2h 22min   \n",
              "3       Chronicles the experiences of a formerly succe...  2h 22min   \n",
              "4       Chronicles the experiences of a formerly succe...  2h 22min   \n",
              "...                                                   ...       ...   \n",
              "596779  A gentle girl born and brought up amidst the e...  2h 10min   \n",
              "596780  A gentle girl born and brought up amidst the e...  2h 10min   \n",
              "596781  A gentle girl born and brought up amidst the e...  2h 10min   \n",
              "596782  A gentle girl born and brought up amidst the e...  2h 10min   \n",
              "596783  A gentle girl born and brought up amidst the e...  2h 10min   \n",
              "\n",
              "                 genre  actualrating release_date  \\\n",
              "0       [Crime, Drama]           9.3   1994-10-14   \n",
              "1       [Crime, Drama]           9.3   1994-10-14   \n",
              "2       [Crime, Drama]           9.3   1994-10-14   \n",
              "3       [Crime, Drama]           9.3   1994-10-14   \n",
              "4       [Crime, Drama]           9.3   1994-10-14   \n",
              "...                ...           ...          ...   \n",
              "596779         [Drama]           9.5   2017-12-15   \n",
              "596780         [Drama]           9.5   2017-12-15   \n",
              "596781         [Drama]           9.5   2017-12-15   \n",
              "596782         [Drama]           9.5   2017-12-15   \n",
              "596783         [Drama]           9.5   2017-12-15   \n",
              "\n",
              "                                            plot_synopsis  days_elapsed  \\\n",
              "0       In 1947, Andy Dufresne (Tim Robbins), a banker...          4137   \n",
              "1       In 1947, Andy Dufresne (Tim Robbins), a banker...          2154   \n",
              "2       In 1947, Andy Dufresne (Tim Robbins), a banker...          2485   \n",
              "3       In 1947, Andy Dufresne (Tim Robbins), a banker...          2879   \n",
              "4       In 1947, Andy Dufresne (Tim Robbins), a banker...          3506   \n",
              "...                                                   ...           ...   \n",
              "596779                                                                7   \n",
              "596780                                                                7   \n",
              "596781                                                                6   \n",
              "596782                                                                4   \n",
              "596783                                                               13   \n",
              "\n",
              "        word_count  spoiltext       msr       usr  action  adventure  \\\n",
              "0              843          0  0.219216  0.600000     0.0        0.0   \n",
              "1              223          0  0.219216  0.250000     0.0        0.0   \n",
              "2              250          0  0.219216  1.000000     0.0        0.0   \n",
              "3              766          0  0.219216  0.461538     0.0        0.0   \n",
              "4              829          0  0.219216  0.134752     0.0        0.0   \n",
              "...            ...        ...       ...       ...     ...        ...   \n",
              "596779         226          0  0.083333  0.000000     0.0        0.0   \n",
              "596780          56          0  0.083333  0.000000     0.0        0.0   \n",
              "596781         336          0  0.083333  0.000000     0.0        0.0   \n",
              "596782         109          0  0.083333  0.000000     0.0        0.0   \n",
              "596783         168          0  0.083333  0.000000     0.0        0.0   \n",
              "\n",
              "        animation  biography  comedy  crime  drama  family  fantasy  \\\n",
              "0             0.0        0.0     0.0    1.0    1.0     0.0      0.0   \n",
              "1             0.0        0.0     0.0    1.0    1.0     0.0      0.0   \n",
              "2             0.0        0.0     0.0    1.0    1.0     0.0      0.0   \n",
              "3             0.0        0.0     0.0    1.0    1.0     0.0      0.0   \n",
              "4             0.0        0.0     0.0    1.0    1.0     0.0      0.0   \n",
              "...           ...        ...     ...    ...    ...     ...      ...   \n",
              "596779        0.0        0.0     0.0    0.0    1.0     0.0      0.0   \n",
              "596780        0.0        0.0     0.0    0.0    1.0     0.0      0.0   \n",
              "596781        0.0        0.0     0.0    0.0    1.0     0.0      0.0   \n",
              "596782        0.0        0.0     0.0    0.0    1.0     0.0      0.0   \n",
              "596783        0.0        0.0     0.0    0.0    1.0     0.0      0.0   \n",
              "\n",
              "        film-noir  history  horror  music  musical  mystery  romance  sci-fi  \\\n",
              "0             0.0      0.0     0.0    0.0      0.0      0.0      0.0     0.0   \n",
              "1             0.0      0.0     0.0    0.0      0.0      0.0      0.0     0.0   \n",
              "2             0.0      0.0     0.0    0.0      0.0      0.0      0.0     0.0   \n",
              "3             0.0      0.0     0.0    0.0      0.0      0.0      0.0     0.0   \n",
              "4             0.0      0.0     0.0    0.0      0.0      0.0      0.0     0.0   \n",
              "...           ...      ...     ...    ...      ...      ...      ...     ...   \n",
              "596779        0.0      0.0     0.0    0.0      0.0      0.0      0.0     0.0   \n",
              "596780        0.0      0.0     0.0    0.0      0.0      0.0      0.0     0.0   \n",
              "596781        0.0      0.0     0.0    0.0      0.0      0.0      0.0     0.0   \n",
              "596782        0.0      0.0     0.0    0.0      0.0      0.0      0.0     0.0   \n",
              "596783        0.0      0.0     0.0    0.0      0.0      0.0      0.0     0.0   \n",
              "\n",
              "        sport  thriller  war  western  \n",
              "0         0.0       0.0  0.0      0.0  \n",
              "1         0.0       0.0  0.0      0.0  \n",
              "2         0.0       0.0  0.0      0.0  \n",
              "3         0.0       0.0  0.0      0.0  \n",
              "4         0.0       0.0  0.0      0.0  \n",
              "...       ...       ...  ...      ...  \n",
              "596779    0.0       0.0  0.0      0.0  \n",
              "596780    0.0       0.0  0.0      0.0  \n",
              "596781    0.0       0.0  0.0      0.0  \n",
              "596782    0.0       0.0  0.0      0.0  \n",
              "596783    0.0       0.0  0.0      0.0  \n",
              "\n",
              "[596784 rows x 39 columns]"
            ]
          },
          "execution_count": 107,
          "metadata": {},
          "output_type": "execute_result"
        }
      ]
    },
    {
      "cell_type": "code",
      "metadata": {
        "id": "rkp6QUicb0Qe"
      },
      "source": [
        "e = 0.001\n",
        "gsr = np.zeros(len(genres))\n",
        "for i,g in enumerate(genres):\n",
        "    # i.e. total no. of reviews with spoiler belonging to a genre /total no. of reviews of movie genre\n",
        "    gsr[i] = df_temp[(df_temp.is_spoiler==1) & (df_temp[g.lower()]==1)].shape[0] / (df_temp[df_temp[g.lower()]==1].shape[0]+e)"
      ],
      "execution_count": null,
      "outputs": []
    },
    {
      "cell_type": "markdown",
      "metadata": {
        "id": "C6MH3XfI1rUB"
      },
      "source": [
        "<h1>Based on (total no. of reviews with spoiler belonging to a genre /total no. of reviews of movie genre) we will assign gsr to individual genres and then combine these gsr for individual genres to get total gsr for a movie as movie items contain more than one genre<h2/>"
      ]
    },
    {
      "cell_type": "code",
      "metadata": {
        "colab": {
          "base_uri": "https://localhost:8080/"
        },
        "id": "vpLQ-EMAq5Mb",
        "outputId": "00acfd10-ced1-4a57-f668-13257a433361"
      },
      "source": [
        "genres"
      ],
      "execution_count": null,
      "outputs": [
        {
          "data": {
            "text/plain": [
              "array(['Action', 'Adventure', 'Animation', 'Biography', 'Comedy', 'Crime',\n",
              "       'Drama', 'Family', 'Fantasy', 'Film-Noir', 'History', 'Horror',\n",
              "       'Music', 'Musical', 'Mystery', 'Romance', 'Sci-Fi', 'Sport',\n",
              "       'Thriller', 'War', 'Western'], dtype='<U9')"
            ]
          },
          "execution_count": 109,
          "metadata": {},
          "output_type": "execute_result"
        }
      ]
    },
    {
      "cell_type": "code",
      "metadata": {
        "colab": {
          "base_uri": "https://localhost:8080/"
        },
        "id": "SfCrNUAduDvq",
        "outputId": "a08982b4-3dba-4560-f07b-ceed832063dd"
      },
      "source": [
        "gsr"
      ],
      "execution_count": null,
      "outputs": [
        {
          "data": {
            "text/plain": [
              "array([0.28213068, 0.28470852, 0.25193949, 0.24122044, 0.21560115,\n",
              "       0.24345536, 0.25690608, 0.27273799, 0.28204767, 0.27247333,\n",
              "       0.23550389, 0.29679866, 0.20991318, 0.18343476, 0.28947245,\n",
              "       0.23947442, 0.31041596, 0.23998089, 0.28119447, 0.24305825,\n",
              "       0.26398324])"
            ]
          },
          "execution_count": 110,
          "metadata": {},
          "output_type": "execute_result"
        }
      ]
    },
    {
      "cell_type": "code",
      "metadata": {
        "id": "QPvk_FOGrF-I"
      },
      "source": [
        "genre_ratio=dict(zip(genres,gsr))"
      ],
      "execution_count": null,
      "outputs": []
    },
    {
      "cell_type": "code",
      "metadata": {
        "colab": {
          "base_uri": "https://localhost:8080/"
        },
        "id": "iaDEUtutEO8G",
        "outputId": "99b63583-95ac-4985-ce2e-2407ef94acc5"
      },
      "source": [
        "genre_ratio"
      ],
      "execution_count": null,
      "outputs": [
        {
          "data": {
            "text/plain": [
              "{'Action': 0.28213067999518304,\n",
              " 'Adventure': 0.28470852450272033,\n",
              " 'Animation': 0.2519394862381463,\n",
              " 'Biography': 0.24122043505048255,\n",
              " 'Comedy': 0.21560115258984852,\n",
              " 'Crime': 0.24345535782508523,\n",
              " 'Drama': 0.25690607646427394,\n",
              " 'Family': 0.272737990498101,\n",
              " 'Fantasy': 0.28204767326583147,\n",
              " 'Film-Noir': 0.2724733263688853,\n",
              " 'History': 0.23550389210774977,\n",
              " 'Horror': 0.29679865653555637,\n",
              " 'Music': 0.20991317840187546,\n",
              " 'Musical': 0.18343475552753843,\n",
              " 'Mystery': 0.2894724471206937,\n",
              " 'Romance': 0.239474420468319,\n",
              " 'Sci-Fi': 0.3104159578967337,\n",
              " 'Sport': 0.2399808874068598,\n",
              " 'Thriller': 0.2811944663141321,\n",
              " 'War': 0.24305824764780526,\n",
              " 'Western': 0.26398323784850525}"
            ]
          },
          "execution_count": 112,
          "metadata": {},
          "output_type": "execute_result"
        }
      ]
    },
    {
      "cell_type": "code",
      "metadata": {
        "colab": {
          "base_uri": "https://localhost:8080/",
          "height": 720
        },
        "id": "yC7YxjPkb0OQ",
        "outputId": "4d4f65af-e53a-4109-ade1-7a259273d3ad"
      },
      "source": [
        "plt.figure(figsize=(12,12))\n",
        "sns.set_theme(style=\"whitegrid\")\n",
        "ax = sns.barplot(x=gsr,y=genres,palette=\"Blues_d\")\n",
        "ax.set(xlabel=\"Spoiler ratio\",ylabel=\"Genres\");\n",
        "plt.show();"
      ],
      "execution_count": null,
      "outputs": [
        {
          "data": {
            "image/png": "[encoded data removed]",
            "text/plain": [
              "<Figure size 864x864 with 1 Axes>"
            ]
          },
          "metadata": {},
          "output_type": "display_data"
        }
      ]
    },
    {
      "cell_type": "code",
      "metadata": {
        "id": "POGuqw8KsUnz"
      },
      "source": [
        "def genrespoilerratio(list):\n",
        "  value=0\n",
        "  for i in list:\n",
        "    value+=genre_ratio[i]\n",
        "  return value   "
      ],
      "execution_count": null,
      "outputs": []
    },
    {
      "cell_type": "code",
      "metadata": {
        "colab": {
          "base_uri": "https://localhost:8080/"
        },
        "id": "EOnzq_nss1k5",
        "outputId": "7936e896-97f9-43de-8619-25d838ee5c47"
      },
      "source": [
        "df['gsr'] = pd.merge(df,df_details.drop(['genre'],axis=1),on=\"movie_id\").genre.progress_apply(genrespoilerratio)"
      ],
      "execution_count": null,
      "outputs": [
        {
          "name": "stderr",
          "output_type": "stream",
          "text": [
            "100%|██████████| 596784/596784 [00:01<00:00, 444419.70it/s]\n"
          ]
        }
      ]
    },
    {
      "cell_type": "code",
      "metadata": {
        "colab": {
          "base_uri": "https://localhost:8080/",
          "height": 1000
        },
        "id": "F5fZ41Y1LYq5",
        "outputId": "c30cb248-8bc5-471e-a9c9-cded08944f10"
      },
      "source": [
        "df"
      ],
      "execution_count": null,
      "outputs": [
        {
          "data": {
            "text/html": [
              "<div>\n",
              "<style scoped>\n",
              "    .dataframe tbody tr th:only-of-type {\n",
              "        vertical-align: middle;\n",
              "    }\n",
              "\n",
              "    .dataframe tbody tr th {\n",
              "        vertical-align: top;\n",
              "    }\n",
              "\n",
              "    .dataframe thead th {\n",
              "        text-align: right;\n",
              "    }\n",
              "</style>\n",
              "<table border=\"1\" class=\"dataframe\">\n",
              "  <thead>\n",
              "    <tr style=\"text-align: right;\">\n",
              "      <th></th>\n",
              "      <th>review_date</th>\n",
              "      <th>movie_id</th>\n",
              "      <th>user_id</th>\n",
              "      <th>is_spoiler</th>\n",
              "      <th>review_text</th>\n",
              "      <th>userrating</th>\n",
              "      <th>review_summary</th>\n",
              "      <th>plot_summary</th>\n",
              "      <th>duration</th>\n",
              "      <th>genre</th>\n",
              "      <th>actualrating</th>\n",
              "      <th>release_date</th>\n",
              "      <th>plot_synopsis</th>\n",
              "      <th>days_elapsed</th>\n",
              "      <th>word_count</th>\n",
              "      <th>spoiltext</th>\n",
              "      <th>msr</th>\n",
              "      <th>usr</th>\n",
              "      <th>gsr</th>\n",
              "    </tr>\n",
              "  </thead>\n",
              "  <tbody>\n",
              "    <tr>\n",
              "      <th>0</th>\n",
              "      <td>2006-02-10</td>\n",
              "      <td>11161</td>\n",
              "      <td>ur1898687</td>\n",
              "      <td>1</td>\n",
              "      <td>In its Oscar year, Shawshank Redemption (writt...</td>\n",
              "      <td>10</td>\n",
              "      <td>A classic piece of unforgettable film-making.</td>\n",
              "      <td>Chronicles the experiences of a formerly succe...</td>\n",
              "      <td>2h 22min</td>\n",
              "      <td>[Crime, Drama]</td>\n",
              "      <td>9.3</td>\n",
              "      <td>1994-10-14</td>\n",
              "      <td>In 1947, Andy Dufresne (Tim Robbins), a banker...</td>\n",
              "      <td>4137</td>\n",
              "      <td>843</td>\n",
              "      <td>0</td>\n",
              "      <td>0.219216</td>\n",
              "      <td>0.6</td>\n",
              "      <td>0.500361</td>\n",
              "    </tr>\n",
              "    <tr>\n",
              "      <th>1</th>\n",
              "      <td>2006-03-19</td>\n",
              "      <td>44084</td>\n",
              "      <td>ur1898687</td>\n",
              "      <td>0</td>\n",
              "      <td>Starring: Christian Bale, Willem Dafoe, Chloë ...</td>\n",
              "      <td>8</td>\n",
              "      <td>Worth seeing, if only for the post-viewing dis...</td>\n",
              "      <td>Patrick Bateman is handsome, well educated and...</td>\n",
              "      <td>1h 42min</td>\n",
              "      <td>[Crime, Drama]</td>\n",
              "      <td>7.6</td>\n",
              "      <td>2000-04-14</td>\n",
              "      <td>A white background. Red drops begin to fall pa...</td>\n",
              "      <td>2165</td>\n",
              "      <td>526</td>\n",
              "      <td>1</td>\n",
              "      <td>0.274725</td>\n",
              "      <td>0.6</td>\n",
              "      <td>0.500361</td>\n",
              "    </tr>\n",
              "    <tr>\n",
              "      <th>2</th>\n",
              "      <td>2006-02-10</td>\n",
              "      <td>98203</td>\n",
              "      <td>ur1898687</td>\n",
              "      <td>1</td>\n",
              "      <td>Eminem's \"semi-autobiographical\" rap movie. Do...</td>\n",
              "      <td>7</td>\n",
              "      <td>Better than it needed to be.</td>\n",
              "      <td>This is the inspiring captivating story of the...</td>\n",
              "      <td>1h 50min</td>\n",
              "      <td>[Drama, Music]</td>\n",
              "      <td>7.1</td>\n",
              "      <td>2002-11-08</td>\n",
              "      <td>It's 1995. Jimmy \"B-Rabbit\" Smith Jr. (Eminem)...</td>\n",
              "      <td>1190</td>\n",
              "      <td>467</td>\n",
              "      <td>0</td>\n",
              "      <td>0.164456</td>\n",
              "      <td>0.6</td>\n",
              "      <td>0.500361</td>\n",
              "    </tr>\n",
              "    <tr>\n",
              "      <th>3</th>\n",
              "      <td>2006-02-10</td>\n",
              "      <td>19061</td>\n",
              "      <td>ur1898687</td>\n",
              "      <td>0</td>\n",
              "      <td>The grass is so green / The sky is so blue / S...</td>\n",
              "      <td>9</td>\n",
              "      <td>An immediate classic that works on both a visu...</td>\n",
              "      <td>United Press International journalist Will Blo...</td>\n",
              "      <td>2h 5min</td>\n",
              "      <td>[Adventure, Drama, Fantasy]</td>\n",
              "      <td>8.0</td>\n",
              "      <td>2004-01-09</td>\n",
              "      <td>Edward Bloom (Albert Finney), a charismatic te...</td>\n",
              "      <td>763</td>\n",
              "      <td>320</td>\n",
              "      <td>0</td>\n",
              "      <td>0.158416</td>\n",
              "      <td>0.6</td>\n",
              "      <td>0.500361</td>\n",
              "    </tr>\n",
              "    <tr>\n",
              "      <th>4</th>\n",
              "      <td>2006-02-10</td>\n",
              "      <td>77092</td>\n",
              "      <td>ur1898687</td>\n",
              "      <td>1</td>\n",
              "      <td>There are a few signs heading into Mean Girls ...</td>\n",
              "      <td>7</td>\n",
              "      <td>A smart, but flawed, look at high school life</td>\n",
              "      <td>Her parents being zoologists, homeschooled Cad...</td>\n",
              "      <td>1h 37min</td>\n",
              "      <td>[Comedy]</td>\n",
              "      <td>7.0</td>\n",
              "      <td>2004-04-30</td>\n",
              "      <td>Cady (Lindsay Lohan) is the 16-year-old home-s...</td>\n",
              "      <td>651</td>\n",
              "      <td>438</td>\n",
              "      <td>0</td>\n",
              "      <td>0.222472</td>\n",
              "      <td>0.6</td>\n",
              "      <td>0.500361</td>\n",
              "    </tr>\n",
              "    <tr>\n",
              "      <th>...</th>\n",
              "      <td>...</td>\n",
              "      <td>...</td>\n",
              "      <td>...</td>\n",
              "      <td>...</td>\n",
              "      <td>...</td>\n",
              "      <td>...</td>\n",
              "      <td>...</td>\n",
              "      <td>...</td>\n",
              "      <td>...</td>\n",
              "      <td>...</td>\n",
              "      <td>...</td>\n",
              "      <td>...</td>\n",
              "      <td>...</td>\n",
              "      <td>...</td>\n",
              "      <td>...</td>\n",
              "      <td>...</td>\n",
              "      <td>...</td>\n",
              "      <td>...</td>\n",
              "      <td>...</td>\n",
              "    </tr>\n",
              "    <tr>\n",
              "      <th>581527</th>\n",
              "      <td>1999-08-18</td>\n",
              "      <td>39239</td>\n",
              "      <td>ur0419756</td>\n",
              "      <td>0</td>\n",
              "      <td>I think this movie was under-appreciated by Am...</td>\n",
              "      <td>10</td>\n",
              "      <td>innovative and rockin'...I love Go!</td>\n",
              "      <td>Told from three perspectives, a story of a bun...</td>\n",
              "      <td>1h 42min</td>\n",
              "      <td>[Comedy, Crime]</td>\n",
              "      <td>7.3</td>\n",
              "      <td>1999-04-09</td>\n",
              "      <td>The film is told out of chronological format, ...</td>\n",
              "      <td>131</td>\n",
              "      <td>45</td>\n",
              "      <td>0</td>\n",
              "      <td>0.056338</td>\n",
              "      <td>0.0</td>\n",
              "      <td>0.711982</td>\n",
              "    </tr>\n",
              "    <tr>\n",
              "      <th>581528</th>\n",
              "      <td>1999-08-14</td>\n",
              "      <td>39239</td>\n",
              "      <td>ur0415521</td>\n",
              "      <td>0</td>\n",
              "      <td>This type of movie is one that I would not ord...</td>\n",
              "      <td>9</td>\n",
              "      <td>GO see it!</td>\n",
              "      <td>Told from three perspectives, a story of a bun...</td>\n",
              "      <td>1h 42min</td>\n",
              "      <td>[Comedy, Crime]</td>\n",
              "      <td>7.3</td>\n",
              "      <td>1999-04-09</td>\n",
              "      <td>The film is told out of chronological format, ...</td>\n",
              "      <td>127</td>\n",
              "      <td>89</td>\n",
              "      <td>0</td>\n",
              "      <td>0.056338</td>\n",
              "      <td>0.0</td>\n",
              "      <td>0.711982</td>\n",
              "    </tr>\n",
              "    <tr>\n",
              "      <th>581529</th>\n",
              "      <td>1999-08-08</td>\n",
              "      <td>39239</td>\n",
              "      <td>ur0100166</td>\n",
              "      <td>0</td>\n",
              "      <td>Go is wise, fast and pure entertainment. Assem...</td>\n",
              "      <td>10</td>\n",
              "      <td>The best teen movie of the nineties</td>\n",
              "      <td>Told from three perspectives, a story of a bun...</td>\n",
              "      <td>1h 42min</td>\n",
              "      <td>[Comedy, Crime]</td>\n",
              "      <td>7.3</td>\n",
              "      <td>1999-04-09</td>\n",
              "      <td>The film is told out of chronological format, ...</td>\n",
              "      <td>121</td>\n",
              "      <td>52</td>\n",
              "      <td>0</td>\n",
              "      <td>0.056338</td>\n",
              "      <td>0.0</td>\n",
              "      <td>0.711982</td>\n",
              "    </tr>\n",
              "    <tr>\n",
              "      <th>581530</th>\n",
              "      <td>1999-07-20</td>\n",
              "      <td>39239</td>\n",
              "      <td>ur0392750</td>\n",
              "      <td>0</td>\n",
              "      <td>Go is the best movie I have ever seen, and I'v...</td>\n",
              "      <td>10</td>\n",
              "      <td>It's the best movie I've ever seen</td>\n",
              "      <td>Told from three perspectives, a story of a bun...</td>\n",
              "      <td>1h 42min</td>\n",
              "      <td>[Comedy, Crime]</td>\n",
              "      <td>7.3</td>\n",
              "      <td>1999-04-09</td>\n",
              "      <td>The film is told out of chronological format, ...</td>\n",
              "      <td>102</td>\n",
              "      <td>202</td>\n",
              "      <td>0</td>\n",
              "      <td>0.056338</td>\n",
              "      <td>0.0</td>\n",
              "      <td>0.711982</td>\n",
              "    </tr>\n",
              "    <tr>\n",
              "      <th>581531</th>\n",
              "      <td>1999-05-03</td>\n",
              "      <td>39239</td>\n",
              "      <td>ur0156431</td>\n",
              "      <td>0</td>\n",
              "      <td>Why was this movie made? No doubt to sucker in...</td>\n",
              "      <td>2</td>\n",
              "      <td>Go doesn't go anywhere</td>\n",
              "      <td>Told from three perspectives, a story of a bun...</td>\n",
              "      <td>1h 42min</td>\n",
              "      <td>[Comedy, Crime]</td>\n",
              "      <td>7.3</td>\n",
              "      <td>1999-04-09</td>\n",
              "      <td>The film is told out of chronological format, ...</td>\n",
              "      <td>24</td>\n",
              "      <td>181</td>\n",
              "      <td>0</td>\n",
              "      <td>0.056338</td>\n",
              "      <td>0.0</td>\n",
              "      <td>0.711982</td>\n",
              "    </tr>\n",
              "  </tbody>\n",
              "</table>\n",
              "<p>581532 rows × 19 columns</p>\n",
              "</div>"
            ],
            "text/plain": [
              "       review_date movie_id    user_id  is_spoiler  \\\n",
              "0       2006-02-10    11161  ur1898687           1   \n",
              "1       2006-03-19    44084  ur1898687           0   \n",
              "2       2006-02-10    98203  ur1898687           1   \n",
              "3       2006-02-10    19061  ur1898687           0   \n",
              "4       2006-02-10    77092  ur1898687           1   \n",
              "...            ...      ...        ...         ...   \n",
              "581527  1999-08-18    39239  ur0419756           0   \n",
              "581528  1999-08-14    39239  ur0415521           0   \n",
              "581529  1999-08-08    39239  ur0100166           0   \n",
              "581530  1999-07-20    39239  ur0392750           0   \n",
              "581531  1999-05-03    39239  ur0156431           0   \n",
              "\n",
              "                                              review_text  userrating  \\\n",
              "0       In its Oscar year, Shawshank Redemption (writt...          10   \n",
              "1       Starring: Christian Bale, Willem Dafoe, Chloë ...           8   \n",
              "2       Eminem's \"semi-autobiographical\" rap movie. Do...           7   \n",
              "3       The grass is so green / The sky is so blue / S...           9   \n",
              "4       There are a few signs heading into Mean Girls ...           7   \n",
              "...                                                   ...         ...   \n",
              "581527  I think this movie was under-appreciated by Am...          10   \n",
              "581528  This type of movie is one that I would not ord...           9   \n",
              "581529  Go is wise, fast and pure entertainment. Assem...          10   \n",
              "581530  Go is the best movie I have ever seen, and I'v...          10   \n",
              "581531  Why was this movie made? No doubt to sucker in...           2   \n",
              "\n",
              "                                           review_summary  \\\n",
              "0           A classic piece of unforgettable film-making.   \n",
              "1       Worth seeing, if only for the post-viewing dis...   \n",
              "2                            Better than it needed to be.   \n",
              "3       An immediate classic that works on both a visu...   \n",
              "4           A smart, but flawed, look at high school life   \n",
              "...                                                   ...   \n",
              "581527                innovative and rockin'...I love Go!   \n",
              "581528                                         GO see it!   \n",
              "581529                The best teen movie of the nineties   \n",
              "581530                 It's the best movie I've ever seen   \n",
              "581531                             Go doesn't go anywhere   \n",
              "\n",
              "                                             plot_summary  duration  \\\n",
              "0       Chronicles the experiences of a formerly succe...  2h 22min   \n",
              "1       Patrick Bateman is handsome, well educated and...  1h 42min   \n",
              "2       This is the inspiring captivating story of the...  1h 50min   \n",
              "3       United Press International journalist Will Blo...   2h 5min   \n",
              "4       Her parents being zoologists, homeschooled Cad...  1h 37min   \n",
              "...                                                   ...       ...   \n",
              "581527  Told from three perspectives, a story of a bun...  1h 42min   \n",
              "581528  Told from three perspectives, a story of a bun...  1h 42min   \n",
              "581529  Told from three perspectives, a story of a bun...  1h 42min   \n",
              "581530  Told from three perspectives, a story of a bun...  1h 42min   \n",
              "581531  Told from three perspectives, a story of a bun...  1h 42min   \n",
              "\n",
              "                              genre  actualrating release_date  \\\n",
              "0                    [Crime, Drama]           9.3   1994-10-14   \n",
              "1                    [Crime, Drama]           7.6   2000-04-14   \n",
              "2                    [Drama, Music]           7.1   2002-11-08   \n",
              "3       [Adventure, Drama, Fantasy]           8.0   2004-01-09   \n",
              "4                          [Comedy]           7.0   2004-04-30   \n",
              "...                             ...           ...          ...   \n",
              "581527              [Comedy, Crime]           7.3   1999-04-09   \n",
              "581528              [Comedy, Crime]           7.3   1999-04-09   \n",
              "581529              [Comedy, Crime]           7.3   1999-04-09   \n",
              "581530              [Comedy, Crime]           7.3   1999-04-09   \n",
              "581531              [Comedy, Crime]           7.3   1999-04-09   \n",
              "\n",
              "                                            plot_synopsis  days_elapsed  \\\n",
              "0       In 1947, Andy Dufresne (Tim Robbins), a banker...          4137   \n",
              "1       A white background. Red drops begin to fall pa...          2165   \n",
              "2       It's 1995. Jimmy \"B-Rabbit\" Smith Jr. (Eminem)...          1190   \n",
              "3       Edward Bloom (Albert Finney), a charismatic te...           763   \n",
              "4       Cady (Lindsay Lohan) is the 16-year-old home-s...           651   \n",
              "...                                                   ...           ...   \n",
              "581527  The film is told out of chronological format, ...           131   \n",
              "581528  The film is told out of chronological format, ...           127   \n",
              "581529  The film is told out of chronological format, ...           121   \n",
              "581530  The film is told out of chronological format, ...           102   \n",
              "581531  The film is told out of chronological format, ...            24   \n",
              "\n",
              "        word_count  spoiltext       msr  usr       gsr  \n",
              "0              843          0  0.219216  0.6  0.500361  \n",
              "1              526          1  0.274725  0.6  0.500361  \n",
              "2              467          0  0.164456  0.6  0.500361  \n",
              "3              320          0  0.158416  0.6  0.500361  \n",
              "4              438          0  0.222472  0.6  0.500361  \n",
              "...            ...        ...       ...  ...       ...  \n",
              "581527          45          0  0.056338  0.0  0.711982  \n",
              "581528          89          0  0.056338  0.0  0.711982  \n",
              "581529          52          0  0.056338  0.0  0.711982  \n",
              "581530         202          0  0.056338  0.0  0.711982  \n",
              "581531         181          0  0.056338  0.0  0.711982  \n",
              "\n",
              "[581532 rows x 19 columns]"
            ]
          },
          "execution_count": 116,
          "metadata": {},
          "output_type": "execute_result"
        }
      ]
    },
    {
      "cell_type": "markdown",
      "metadata": {
        "id": "665NThyrmIVG"
      },
      "source": [
        "##  Matching Text from reviews with plot summary \n",
        "\n",
        " will find distance between plot summary and  the corresponding reviews.Lesser the distance more is the probability of them containing same information i.e. spoilers . So in order to do this  will first preprocess the text to remove all non alphabetical characters and stop words from the review_text and plot summary and then using glove embeddings will filnd distance between them ."
      ]
    },
    {
      "cell_type": "code",
      "metadata": {
        "colab": {
          "base_uri": "https://localhost:8080/"
        },
        "id": "0UatC0PE4sZK",
        "outputId": "d38ec4f5-ef76-492a-8ce1-2b8143b21408"
      },
      "source": [
        "nltk.download('stopwords')\n",
        "from nltk.corpus import stopwords\n",
        "stopwords=set(stopwords.words('english'))\n",
        "stopwords_dict=Counter(stopwords)\n",
        "def preprocesstext(text):\n",
        "    text=text.lower()\n",
        "    text=re.sub('[^a-zA-Z]',' ',text)\n",
        "    words=text.split()\n",
        "    word=[word for word in words if word not in stopwords_dict]\n",
        "    text=\" \".join(words)\n",
        "    return text"
      ],
      "execution_count": null,
      "outputs": [
        {
          "name": "stdout",
          "output_type": "stream",
          "text": [
            "[nltk_data] Downloading package stopwords to /root/nltk_data...\n",
            "[nltk_data]   Package stopwords is already up-to-date!\n"
          ]
        }
      ]
    },
    {
      "cell_type": "code",
      "metadata": {
        "id": "8xAOKAhOULJG"
      },
      "source": [
        "df.review_text=df.review_text.apply(preprocesstext)\n",
        "df.plot_summary=df.plot_summary.apply(preprocesstext)\n"
      ],
      "execution_count": null,
      "outputs": []
    },
    {
      "cell_type": "markdown",
      "metadata": {
        "id": "Q9o1K8NkmU7j"
      },
      "source": [
        "Using glove-global-vectors for words.These pre-trained embeddings are used  to quantify word co-occurrence (which also captures some aspects of word meaning). This dataset contains 50-dimensional, 100-dimensional and 200-dimensional pre trained word vectors.Here i'll be using 50 dimensional one."
      ]
    },
    {
      "cell_type": "code",
      "metadata": {
        "id": "eTdyCAG8l6JU"
      },
      "source": [
        "#Saving the words and their corresponding vectors in  a dictionary\n",
        "embeddings=dict()\n",
        "f=open('/content/glove.6B.50d.txt')\n",
        "for i in f: \n",
        "    values=i.split()\n",
        "    word=values[0]\n",
        "    cofss = np.asarray(values[1:], dtype='float32')\n",
        "    embeddings[word]=cofss\n",
        "f.close()    "
      ],
      "execution_count": null,
      "outputs": []
    },
    {
      "cell_type": "code",
      "metadata": {
        "id": "ZPwHn7Yul6Gx"
      },
      "source": [
        "def getAvgWordEmbedding(text):\n",
        "    words = text.split()\n",
        "    n = 0\n",
        "    sumEmbed = np.zeros(50)\n",
        "    # because 50 dim of word vectors\n",
        "    \n",
        "    for word in words:\n",
        "        if word in embeddings:\n",
        "            sumEmbed += embeddings[word]\n",
        "            n += 1\n",
        "    \n",
        "    avgEmbed = sumEmbed / n\n",
        "    return avgEmbed\n",
        "    \n",
        "def Dist(e1, e2):\n",
        "    return np.sum(np.square(e1-e2), axis = 1)"
      ],
      "execution_count": null,
      "outputs": []
    },
    {
      "cell_type": "code",
      "metadata": {
        "colab": {
          "background_save": true,
          "base_uri": "https://localhost:8080/"
        },
        "id": "g8Ifb1cMl57W",
        "outputId": "02423b6a-838b-4089-e6cb-878f5f451d14"
      },
      "source": [
        "plot_embed = df.plot_summary.progress_apply(getAvgWordEmbedding)"
      ],
      "execution_count": null,
      "outputs": [
        {
          "name": "stderr",
          "output_type": "stream",
          "text": [
            "100%|██████████| 581532/581532 [02:09<00:00, 4489.93it/s]\n"
          ]
        }
      ]
    },
    {
      "cell_type": "code",
      "metadata": {
        "id": "491bf-l8r4xJ"
      },
      "source": [
        "review_embed = df.review_text.progress_apply(getAvgWordEmbedding)"
      ],
      "execution_count": null,
      "outputs": []
    },
    {
      "cell_type": "code",
      "metadata": {
        "colab": {
          "background_save": true
        },
        "id": "J6UsyZRFl54L"
      },
      "source": [
        "df['distance_plot']=Dist(np.stack(review_embed),np.stack(plot_embed))"
      ],
      "execution_count": null,
      "outputs": []
    },
    {
      "cell_type": "markdown",
      "metadata": {
        "id": "frNpwkGGFU5y"
      },
      "source": [
        "# Saving the processed dataset for future use\n"
      ]
    },
    {
      "cell_type": "code",
      "metadata": {
        "id": "8h409lWBFX67"
      },
      "source": [
        "df.to_csv('/content/drive/MyDrive/Spoiler_alert_model/processed_data/processed_data.csv',index=False)"
      ],
      "execution_count": null,
      "outputs": []
    },
    {
      "cell_type": "markdown",
      "metadata": {
        "id": "39oA5kx6COaA"
      },
      "source": [
        "#Preparing  Train / Valid / Test Sets\n"
      ]
    },
    {
      "cell_type": "code",
      "metadata": {
        "id": "VZpdCsFpO5l-"
      },
      "source": [
        "df = pd.read_csv('/content/drive/MyDrive/Spoiler_alert_model/processed_data/processed_data.csv')"
      ],
      "execution_count": 13,
      "outputs": []
    },
    {
      "cell_type": "code",
      "metadata": {
        "id": "tzj9MveliUZs",
        "colab": {
          "base_uri": "https://localhost:8080/",
          "height": 513
        },
        "outputId": "38343dda-acd2-4f53-8e8c-8bb476a09c8b"
      },
      "source": [
        "df.head()"
      ],
      "execution_count": 14,
      "outputs": [
        {
          "output_type": "execute_result",
          "data": {
            "text/html": [
              "<div>\n",
              "<style scoped>\n",
              "    .dataframe tbody tr th:only-of-type {\n",
              "        vertical-align: middle;\n",
              "    }\n",
              "\n",
              "    .dataframe tbody tr th {\n",
              "        vertical-align: top;\n",
              "    }\n",
              "\n",
              "    .dataframe thead th {\n",
              "        text-align: right;\n",
              "    }\n",
              "</style>\n",
              "<table border=\"1\" class=\"dataframe\">\n",
              "  <thead>\n",
              "    <tr style=\"text-align: right;\">\n",
              "      <th></th>\n",
              "      <th>review_date</th>\n",
              "      <th>movie_id</th>\n",
              "      <th>user_id</th>\n",
              "      <th>is_spoiler</th>\n",
              "      <th>review_text</th>\n",
              "      <th>userrating</th>\n",
              "      <th>review_summary</th>\n",
              "      <th>plot_summary</th>\n",
              "      <th>duration</th>\n",
              "      <th>genre</th>\n",
              "      <th>actualrating</th>\n",
              "      <th>release_date</th>\n",
              "      <th>plot_synopsis</th>\n",
              "      <th>days_elapsed</th>\n",
              "      <th>word_count</th>\n",
              "      <th>spoiltext</th>\n",
              "      <th>msr</th>\n",
              "      <th>usr</th>\n",
              "      <th>gsr</th>\n",
              "      <th>distance_plot</th>\n",
              "    </tr>\n",
              "  </thead>\n",
              "  <tbody>\n",
              "    <tr>\n",
              "      <th>0</th>\n",
              "      <td>2006-02-10</td>\n",
              "      <td>11161</td>\n",
              "      <td>ur1898687</td>\n",
              "      <td>1</td>\n",
              "      <td>in its oscar year shawshank redemption written...</td>\n",
              "      <td>10</td>\n",
              "      <td>A classic piece of unforgettable film-making.</td>\n",
              "      <td>chronicles the experiences of a formerly succe...</td>\n",
              "      <td>2h 22min</td>\n",
              "      <td>['Crime', 'Drama']</td>\n",
              "      <td>9.3</td>\n",
              "      <td>1994-10-14</td>\n",
              "      <td>In 1947, Andy Dufresne (Tim Robbins), a banker...</td>\n",
              "      <td>4137</td>\n",
              "      <td>843</td>\n",
              "      <td>0</td>\n",
              "      <td>0.219216</td>\n",
              "      <td>0.6</td>\n",
              "      <td>0.500361</td>\n",
              "      <td>0.670662</td>\n",
              "    </tr>\n",
              "    <tr>\n",
              "      <th>1</th>\n",
              "      <td>2006-03-19</td>\n",
              "      <td>44084</td>\n",
              "      <td>ur1898687</td>\n",
              "      <td>0</td>\n",
              "      <td>starring christian bale willem dafoe chlo sevi...</td>\n",
              "      <td>8</td>\n",
              "      <td>Worth seeing, if only for the post-viewing dis...</td>\n",
              "      <td>patrick bateman is handsome well educated and ...</td>\n",
              "      <td>1h 42min</td>\n",
              "      <td>['Crime', 'Drama']</td>\n",
              "      <td>7.6</td>\n",
              "      <td>2000-04-14</td>\n",
              "      <td>A white background. Red drops begin to fall pa...</td>\n",
              "      <td>2165</td>\n",
              "      <td>526</td>\n",
              "      <td>1</td>\n",
              "      <td>0.274725</td>\n",
              "      <td>0.6</td>\n",
              "      <td>0.500361</td>\n",
              "      <td>0.529877</td>\n",
              "    </tr>\n",
              "    <tr>\n",
              "      <th>2</th>\n",
              "      <td>2006-02-10</td>\n",
              "      <td>98203</td>\n",
              "      <td>ur1898687</td>\n",
              "      <td>1</td>\n",
              "      <td>eminem s semi autobiographical rap movie do i ...</td>\n",
              "      <td>7</td>\n",
              "      <td>Better than it needed to be.</td>\n",
              "      <td>this is the inspiring captivating story of the...</td>\n",
              "      <td>1h 50min</td>\n",
              "      <td>['Drama', 'Music']</td>\n",
              "      <td>7.1</td>\n",
              "      <td>2002-11-08</td>\n",
              "      <td>It's 1995. Jimmy \"B-Rabbit\" Smith Jr. (Eminem)...</td>\n",
              "      <td>1190</td>\n",
              "      <td>467</td>\n",
              "      <td>0</td>\n",
              "      <td>0.164456</td>\n",
              "      <td>0.6</td>\n",
              "      <td>0.500361</td>\n",
              "      <td>0.287624</td>\n",
              "    </tr>\n",
              "    <tr>\n",
              "      <th>3</th>\n",
              "      <td>2006-02-10</td>\n",
              "      <td>19061</td>\n",
              "      <td>ur1898687</td>\n",
              "      <td>0</td>\n",
              "      <td>the grass is so green the sky is so blue spect...</td>\n",
              "      <td>9</td>\n",
              "      <td>An immediate classic that works on both a visu...</td>\n",
              "      <td>united press international journalist will blo...</td>\n",
              "      <td>2h 5min</td>\n",
              "      <td>['Adventure', 'Drama', 'Fantasy']</td>\n",
              "      <td>8.0</td>\n",
              "      <td>2004-01-09</td>\n",
              "      <td>Edward Bloom (Albert Finney), a charismatic te...</td>\n",
              "      <td>763</td>\n",
              "      <td>320</td>\n",
              "      <td>0</td>\n",
              "      <td>0.158416</td>\n",
              "      <td>0.6</td>\n",
              "      <td>0.500361</td>\n",
              "      <td>0.636278</td>\n",
              "    </tr>\n",
              "    <tr>\n",
              "      <th>4</th>\n",
              "      <td>2006-02-10</td>\n",
              "      <td>77092</td>\n",
              "      <td>ur1898687</td>\n",
              "      <td>1</td>\n",
              "      <td>there are a few signs heading into mean girls ...</td>\n",
              "      <td>7</td>\n",
              "      <td>A smart, but flawed, look at high school life</td>\n",
              "      <td>her parents being zoologists homeschooled cady...</td>\n",
              "      <td>1h 37min</td>\n",
              "      <td>['Comedy']</td>\n",
              "      <td>7.0</td>\n",
              "      <td>2004-04-30</td>\n",
              "      <td>Cady (Lindsay Lohan) is the 16-year-old home-s...</td>\n",
              "      <td>651</td>\n",
              "      <td>438</td>\n",
              "      <td>0</td>\n",
              "      <td>0.222472</td>\n",
              "      <td>0.6</td>\n",
              "      <td>0.500361</td>\n",
              "      <td>0.392562</td>\n",
              "    </tr>\n",
              "  </tbody>\n",
              "</table>\n",
              "</div>"
            ],
            "text/plain": [
              "  review_date  movie_id    user_id  is_spoiler  \\\n",
              "0  2006-02-10     11161  ur1898687           1   \n",
              "1  2006-03-19     44084  ur1898687           0   \n",
              "2  2006-02-10     98203  ur1898687           1   \n",
              "3  2006-02-10     19061  ur1898687           0   \n",
              "4  2006-02-10     77092  ur1898687           1   \n",
              "\n",
              "                                         review_text  userrating  \\\n",
              "0  in its oscar year shawshank redemption written...          10   \n",
              "1  starring christian bale willem dafoe chlo sevi...           8   \n",
              "2  eminem s semi autobiographical rap movie do i ...           7   \n",
              "3  the grass is so green the sky is so blue spect...           9   \n",
              "4  there are a few signs heading into mean girls ...           7   \n",
              "\n",
              "                                      review_summary  \\\n",
              "0      A classic piece of unforgettable film-making.   \n",
              "1  Worth seeing, if only for the post-viewing dis...   \n",
              "2                       Better than it needed to be.   \n",
              "3  An immediate classic that works on both a visu...   \n",
              "4      A smart, but flawed, look at high school life   \n",
              "\n",
              "                                        plot_summary  duration  \\\n",
              "0  chronicles the experiences of a formerly succe...  2h 22min   \n",
              "1  patrick bateman is handsome well educated and ...  1h 42min   \n",
              "2  this is the inspiring captivating story of the...  1h 50min   \n",
              "3  united press international journalist will blo...   2h 5min   \n",
              "4  her parents being zoologists homeschooled cady...  1h 37min   \n",
              "\n",
              "                               genre  actualrating release_date  \\\n",
              "0                 ['Crime', 'Drama']           9.3   1994-10-14   \n",
              "1                 ['Crime', 'Drama']           7.6   2000-04-14   \n",
              "2                 ['Drama', 'Music']           7.1   2002-11-08   \n",
              "3  ['Adventure', 'Drama', 'Fantasy']           8.0   2004-01-09   \n",
              "4                         ['Comedy']           7.0   2004-04-30   \n",
              "\n",
              "                                       plot_synopsis  days_elapsed  \\\n",
              "0  In 1947, Andy Dufresne (Tim Robbins), a banker...          4137   \n",
              "1  A white background. Red drops begin to fall pa...          2165   \n",
              "2  It's 1995. Jimmy \"B-Rabbit\" Smith Jr. (Eminem)...          1190   \n",
              "3  Edward Bloom (Albert Finney), a charismatic te...           763   \n",
              "4  Cady (Lindsay Lohan) is the 16-year-old home-s...           651   \n",
              "\n",
              "   word_count  spoiltext       msr  usr       gsr  distance_plot  \n",
              "0         843          0  0.219216  0.6  0.500361       0.670662  \n",
              "1         526          1  0.274725  0.6  0.500361       0.529877  \n",
              "2         467          0  0.164456  0.6  0.500361       0.287624  \n",
              "3         320          0  0.158416  0.6  0.500361       0.636278  \n",
              "4         438          0  0.222472  0.6  0.500361       0.392562  "
            ]
          },
          "metadata": {},
          "execution_count": 14
        }
      ]
    },
    {
      "cell_type": "code",
      "metadata": {
        "id": "pluXds9EUDV4"
      },
      "source": [
        "train,val = train_test_split(df, test_size=0.2, stratify=df[\"is_spoiler\"])\n"
      ],
      "execution_count": 15,
      "outputs": []
    },
    {
      "cell_type": "code",
      "metadata": {
        "id": "nT1sZxInVgGg"
      },
      "source": [
        "train,test=train_test_split(train, test_size=0.2, stratify=train[\"is_spoiler\"])\n"
      ],
      "execution_count": 16,
      "outputs": []
    },
    {
      "cell_type": "markdown",
      "metadata": {
        "id": "mh-JeZKccZ4L"
      },
      "source": [
        "# Read  Train/Valid/Sets "
      ]
    },
    {
      "cell_type": "code",
      "metadata": {
        "id": "5IxEWoIG9xYL",
        "colab": {
          "base_uri": "https://localhost:8080/"
        },
        "outputId": "cdfc4358-9052-4706-935d-cb0b59e26452"
      },
      "source": [
        "train.columns"
      ],
      "execution_count": 17,
      "outputs": [
        {
          "output_type": "execute_result",
          "data": {
            "text/plain": [
              "Index(['review_date', 'movie_id', 'user_id', 'is_spoiler', 'review_text',\n",
              "       'userrating', 'review_summary', 'plot_summary', 'duration', 'genre',\n",
              "       'actualrating', 'release_date', 'plot_synopsis', 'days_elapsed',\n",
              "       'word_count', 'spoiltext', 'msr', 'usr', 'gsr', 'distance_plot'],\n",
              "      dtype='object')"
            ]
          },
          "metadata": {},
          "execution_count": 17
        }
      ]
    },
    {
      "cell_type": "code",
      "metadata": {
        "id": "DYzMODGKIVsI"
      },
      "source": [
        "from sklearn.preprocessing import Normalizer,StandardScaler"
      ],
      "execution_count": 18,
      "outputs": []
    },
    {
      "cell_type": "code",
      "metadata": {
        "id": "r3yxfeB6wtGI"
      },
      "source": [
        "columns=['days_elapsed','word_count','spoiltext','usr','msr','gsr','distance_plot','actualrating']\n"
      ],
      "execution_count": 19,
      "outputs": []
    },
    {
      "cell_type": "code",
      "metadata": {
        "id": "k7kFT2OCl5tK"
      },
      "source": [
        "x_train = train[columns].fillna(0)\n",
        "x_train=Normalizer().fit_transform(x_train)\n",
        "y_train=train['is_spoiler'].values"
      ],
      "execution_count": 20,
      "outputs": []
    },
    {
      "cell_type": "code",
      "metadata": {
        "id": "xJMKFTY-l5bD"
      },
      "source": [
        "x_test = val[columns].fillna(0)\n",
        "x_test = Normalizer().fit_transform(x_test)\n",
        "y_test=val['is_spoiler'].values"
      ],
      "execution_count": 21,
      "outputs": []
    },
    {
      "cell_type": "markdown",
      "metadata": {
        "id": "yVtDn_z1_iw-"
      },
      "source": [
        "# Logistic Regression "
      ]
    },
    {
      "cell_type": "code",
      "metadata": {
        "colab": {
          "base_uri": "https://localhost:8080/"
        },
        "id": "LHYdlYWVmFcB",
        "outputId": "ded3169d-ebff-440a-ff87-3d6a63e212ac"
      },
      "source": [
        "logistic= LogisticRegression(random_state=42, max_iter=1000) \n",
        "logistic.fit(x_train, y_train) "
      ],
      "execution_count": 22,
      "outputs": [
        {
          "output_type": "execute_result",
          "data": {
            "text/plain": [
              "LogisticRegression(C=1.0, class_weight=None, dual=False, fit_intercept=True,\n",
              "                   intercept_scaling=1, l1_ratio=None, max_iter=1000,\n",
              "                   multi_class='auto', n_jobs=None, penalty='l2',\n",
              "                   random_state=42, solver='lbfgs', tol=0.0001, verbose=0,\n",
              "                   warm_start=False)"
            ]
          },
          "metadata": {},
          "execution_count": 22
        }
      ]
    },
    {
      "cell_type": "code",
      "metadata": {
        "id": "KJ2udfNlM9Mz"
      },
      "source": [
        "y_pred=logistic.predict(x_test)"
      ],
      "execution_count": 23,
      "outputs": []
    },
    {
      "cell_type": "code",
      "metadata": {
        "colab": {
          "base_uri": "https://localhost:8080/"
        },
        "id": "pHFVJe4n_lSf",
        "outputId": "3367fd64-37ff-4a1e-ac7f-ad127c0760ec"
      },
      "source": [
        "print(logistic.score(x_test, y_test))"
      ],
      "execution_count": 24,
      "outputs": [
        {
          "output_type": "stream",
          "name": "stdout",
          "text": [
            "0.7372127215042946\n"
          ]
        }
      ]
    },
    {
      "cell_type": "code",
      "metadata": {
        "colab": {
          "base_uri": "https://localhost:8080/"
        },
        "id": "76RRcAHH-rsg",
        "outputId": "bef6f4d2-d725-495e-f1e4-b4c7202e4c78"
      },
      "source": [
        "print('AUC: ', roc_auc_score(y_test, y_pred))\n"
      ],
      "execution_count": 25,
      "outputs": [
        {
          "output_type": "stream",
          "name": "stdout",
          "text": [
            "AUC:  0.5000163585800752\n"
          ]
        }
      ]
    },
    {
      "cell_type": "code",
      "metadata": {
        "colab": {
          "base_uri": "https://localhost:8080/"
        },
        "id": "a7HZLtsRC8ga",
        "outputId": "5e3aac7e-f490-4022-84cf-0a8c2249acd0"
      },
      "source": [
        "print(classification_report(y_test, y_pred))\n",
        "print(confusion_matrix(y_test, y_pred))"
      ],
      "execution_count": 26,
      "outputs": [
        {
          "output_type": "stream",
          "name": "stdout",
          "text": [
            "              precision    recall  f1-score   support\n",
            "\n",
            "           0       0.74      1.00      0.85     85742\n",
            "           1       1.00      0.00      0.00     30565\n",
            "\n",
            "    accuracy                           0.74    116307\n",
            "   macro avg       0.87      0.50      0.42    116307\n",
            "weighted avg       0.81      0.74      0.63    116307\n",
            "\n",
            "[[85742     0]\n",
            " [30564     1]]\n"
          ]
        }
      ]
    },
    {
      "cell_type": "code",
      "metadata": {
        "colab": {
          "base_uri": "https://localhost:8080/",
          "height": 303
        },
        "id": "7q75NfJAtRG0",
        "outputId": "9d7c5357-5ec7-4a6d-abb3-437fdc76cb47"
      },
      "source": [
        "plt.title(\"Heatmap for Testdata prediction confusion matrix on logistic Regression\", fontsize =20)\n",
        "sns.heatmap(confusion_matrix(y_test,y_pred)/np.sum(confusion_matrix(y_test, y_pred)), annot=True)"
      ],
      "execution_count": 27,
      "outputs": [
        {
          "output_type": "execute_result",
          "data": {
            "text/plain": [
              "<matplotlib.axes._subplots.AxesSubplot at 0x7f25eda88350>"
            ]
          },
          "metadata": {},
          "execution_count": 27
        },
        {
          "output_type": "display_data",
          "data": {
            "image/png": "[encoded data removed]",
            "text/plain": [
              "<Figure size 432x288 with 2 Axes>"
            ]
          },
          "metadata": {
            "needs_background": "light"
          }
        }
      ]
    },
    {
      "cell_type": "code",
      "metadata": {
        "colab": {
          "base_uri": "https://localhost:8080/",
          "height": 295
        },
        "id": "_2zAdKWqMjWS",
        "outputId": "8fbb1948-478d-4bf4-8807-c87be11cfd90"
      },
      "source": [
        "# calculate the fpr and tpr for all thresholds of the classification\n",
        "fpr, tpr, threshold = metrics.roc_curve(y_test, y_pred)\n",
        "roc_auc = metrics.auc(fpr, tpr)\n",
        "plt.title('Receiver Operating Characteristic')\n",
        "plt.plot(fpr, tpr, 'b', label = 'AUC = %0.2f' % roc_auc)\n",
        "plt.legend(loc = 'lower right')\n",
        "plt.plot([0, 1], [0, 1],'r--')\n",
        "plt.xlim([0, 1])\n",
        "plt.ylim([0, 1])\n",
        "plt.ylabel('True Positive Rate')\n",
        "plt.xlabel('False Positive Rate')\n",
        "plt.show()"
      ],
      "execution_count": 28,
      "outputs": [
        {
          "output_type": "display_data",
          "data": {
            "image/png": "[encoded data removed]",
            "text/plain": [
              "<Figure size 432x288 with 1 Axes>"
            ]
          },
          "metadata": {
            "needs_background": "light"
          }
        }
      ]
    },
    {
      "cell_type": "markdown",
      "metadata": {
        "id": "lxJsN4-K-bd4"
      },
      "source": [
        "# KNN\n"
      ]
    },
    {
      "cell_type": "code",
      "metadata": {
        "id": "UC_8lL-HLgyJ"
      },
      "source": [
        "from sklearn.neighbors import KNeighborsClassifier"
      ],
      "execution_count": 34,
      "outputs": []
    },
    {
      "cell_type": "code",
      "metadata": {
        "id": "UfEWFyOe-dFW"
      },
      "source": [
        "train_score = []\n",
        "test_score = []\n",
        "k_vals = []\n",
        "\n",
        "for k in range(1, 15):\n",
        "    k_vals.append(k)\n",
        "    knn = KNeighborsClassifier(n_neighbors = k)\n",
        "    knn.fit(x_train, y_train)\n",
        "    \n",
        "    tr_score = knn.score(x_train, y_train)\n",
        "    train_score.append(tr_score)\n",
        "    \n",
        "    te_score = knn.score(x_test, y_test)\n",
        "    test_score.append(te_score)"
      ],
      "execution_count": 35,
      "outputs": []
    },
    {
      "cell_type": "code",
      "metadata": {
        "id": "ZB_0_qOF-nuX",
        "colab": {
          "base_uri": "https://localhost:8080/"
        },
        "outputId": "6d0fa7ac-f8fd-4a31-ea67-9a08bc83b9ac"
      },
      "source": [
        "max_test_score = max(test_score)\n",
        "test_scores_ind = [i for i, v in enumerate(test_score) if v == max_test_score]\n",
        "print('Max test score {} and k = {}'.format(max_test_score * 100, list(map(lambda x: x + 1, test_scores_ind))))"
      ],
      "execution_count": 36,
      "outputs": [
        {
          "output_type": "stream",
          "name": "stdout",
          "text": [
            "Max test score 89.01699811705228 and k = [5]\n"
          ]
        }
      ]
    },
    {
      "cell_type": "code",
      "metadata": {
        "id": "Kzit-Kgl-uM5",
        "colab": {
          "base_uri": "https://localhost:8080/"
        },
        "outputId": "9b6a7236-9565-4153-b917-2a806573194b"
      },
      "source": [
        "#Setup a knn classifier with k neighbors\n",
        "knn = KNeighborsClassifier(3)\n",
        "\n",
        "knn.fit(x_train, y_train)\n",
        "knn.score(x_test, y_test)"
      ],
      "execution_count": 37,
      "outputs": [
        {
          "output_type": "execute_result",
          "data": {
            "text/plain": [
              "0.8885191776935181"
            ]
          },
          "metadata": {},
          "execution_count": 37
        }
      ]
    },
    {
      "cell_type": "code",
      "metadata": {
        "id": "0d1UB7BP-yCx",
        "colab": {
          "base_uri": "https://localhost:8080/",
          "height": 173
        },
        "outputId": "b3dd831e-d501-460d-9127-f632cd41309e"
      },
      "source": [
        "\n",
        "y_pred = knn.predict(x_test)\n",
        "confusion_matrix(y_test,y_pred)\n",
        "pd.crosstab(y_test, y_pred, rownames = ['Actual'], colnames =['Predicted'], margins = True)"
      ],
      "execution_count": 38,
      "outputs": [
        {
          "output_type": "execute_result",
          "data": {
            "text/html": [
              "<div>\n",
              "<style scoped>\n",
              "    .dataframe tbody tr th:only-of-type {\n",
              "        vertical-align: middle;\n",
              "    }\n",
              "\n",
              "    .dataframe tbody tr th {\n",
              "        vertical-align: top;\n",
              "    }\n",
              "\n",
              "    .dataframe thead th {\n",
              "        text-align: right;\n",
              "    }\n",
              "</style>\n",
              "<table border=\"1\" class=\"dataframe\">\n",
              "  <thead>\n",
              "    <tr style=\"text-align: right;\">\n",
              "      <th>Predicted</th>\n",
              "      <th>0</th>\n",
              "      <th>1</th>\n",
              "      <th>All</th>\n",
              "    </tr>\n",
              "    <tr>\n",
              "      <th>Actual</th>\n",
              "      <th></th>\n",
              "      <th></th>\n",
              "      <th></th>\n",
              "    </tr>\n",
              "  </thead>\n",
              "  <tbody>\n",
              "    <tr>\n",
              "      <th>0</th>\n",
              "      <td>81661</td>\n",
              "      <td>4081</td>\n",
              "      <td>85742</td>\n",
              "    </tr>\n",
              "    <tr>\n",
              "      <th>1</th>\n",
              "      <td>8885</td>\n",
              "      <td>21680</td>\n",
              "      <td>30565</td>\n",
              "    </tr>\n",
              "    <tr>\n",
              "      <th>All</th>\n",
              "      <td>90546</td>\n",
              "      <td>25761</td>\n",
              "      <td>116307</td>\n",
              "    </tr>\n",
              "  </tbody>\n",
              "</table>\n",
              "</div>"
            ],
            "text/plain": [
              "Predicted      0      1     All\n",
              "Actual                         \n",
              "0          81661   4081   85742\n",
              "1           8885  21680   30565\n",
              "All        90546  25761  116307"
            ]
          },
          "metadata": {},
          "execution_count": 38
        }
      ]
    },
    {
      "cell_type": "code",
      "metadata": {
        "colab": {
          "base_uri": "https://localhost:8080/"
        },
        "id": "BGMjN7ZYf_rc",
        "outputId": "03486da7-5f1f-42a7-d81f-62925c3f51b8"
      },
      "source": [
        "print('AUC: ', roc_auc_score(y_test, y_pred))\n"
      ],
      "execution_count": 39,
      "outputs": [
        {
          "output_type": "stream",
          "name": "stdout",
          "text": [
            "AUC:  0.8308558774295564\n"
          ]
        }
      ]
    },
    {
      "cell_type": "code",
      "metadata": {
        "colab": {
          "base_uri": "https://localhost:8080/"
        },
        "id": "pEQ4gB0Tf_ri",
        "outputId": "d39ccbbb-ac22-4d35-ce6d-1aa14348a0b3"
      },
      "source": [
        "print(classification_report(y_test, y_pred))\n",
        "print(confusion_matrix(y_test, y_pred))"
      ],
      "execution_count": 40,
      "outputs": [
        {
          "output_type": "stream",
          "name": "stdout",
          "text": [
            "              precision    recall  f1-score   support\n",
            "\n",
            "           0       0.90      0.95      0.93     85742\n",
            "           1       0.84      0.71      0.77     30565\n",
            "\n",
            "    accuracy                           0.89    116307\n",
            "   macro avg       0.87      0.83      0.85    116307\n",
            "weighted avg       0.89      0.89      0.89    116307\n",
            "\n",
            "[[81661  4081]\n",
            " [ 8885 21680]]\n"
          ]
        }
      ]
    },
    {
      "cell_type": "code",
      "metadata": {
        "colab": {
          "base_uri": "https://localhost:8080/",
          "height": 303
        },
        "id": "lolP_r02f_rk",
        "outputId": "9fde3215-984a-40aa-d399-11a454379069"
      },
      "source": [
        "plt.title(\"Heatmap for Testdata prediction confusion matrix on logistic Regression\", fontsize =20)\n",
        "sns.heatmap(confusion_matrix(y_test,y_pred)/np.sum(confusion_matrix(y_test, y_pred)), annot=True)"
      ],
      "execution_count": 41,
      "outputs": [
        {
          "output_type": "execute_result",
          "data": {
            "text/plain": [
              "<matplotlib.axes._subplots.AxesSubplot at 0x7f25e37dc910>"
            ]
          },
          "metadata": {},
          "execution_count": 41
        },
        {
          "output_type": "display_data",
          "data": {
            "image/png": "[encoded data removed]",
            "text/plain": [
              "<Figure size 432x288 with 2 Axes>"
            ]
          },
          "metadata": {
            "needs_background": "light"
          }
        }
      ]
    },
    {
      "cell_type": "code",
      "metadata": {
        "colab": {
          "base_uri": "https://localhost:8080/",
          "height": 295
        },
        "id": "j7um6Df4f_rk",
        "outputId": "c949b764-d8e3-4e93-e891-0a0781cc8c6d"
      },
      "source": [
        "# calculate the fpr and tpr for all thresholds of the classification\n",
        "fpr, tpr, threshold = metrics.roc_curve(y_test, y_pred)\n",
        "roc_auc = metrics.auc(fpr, tpr)\n",
        "plt.title('Receiver Operating Characteristic')\n",
        "plt.plot(fpr, tpr, 'b', label = 'AUC = %0.2f' % roc_auc)\n",
        "plt.legend(loc = 'lower right')\n",
        "plt.plot([0, 1], [0, 1],'r--')\n",
        "plt.xlim([0, 1])\n",
        "plt.ylim([0, 1])\n",
        "plt.ylabel('True Positive Rate')\n",
        "plt.xlabel('False Positive Rate')\n",
        "plt.show()"
      ],
      "execution_count": 42,
      "outputs": [
        {
          "output_type": "display_data",
          "data": {
            "image/png": "[encoded data removed]",
            "text/plain": [
              "<Figure size 432x288 with 1 Axes>"
            ]
          },
          "metadata": {
            "needs_background": "light"
          }
        }
      ]
    },
    {
      "cell_type": "markdown",
      "metadata": {
        "id": "0WmUUxJr9uvb"
      },
      "source": [
        "\n",
        "\n",
        "# Random Forest "
      ]
    },
    {
      "cell_type": "markdown",
      "metadata": {
        "id": "I8Tom4l_mSTt"
      },
      "source": [
        "##Finding best hyperparameters\n"
      ]
    },
    {
      "cell_type": "code",
      "metadata": {
        "id": "rajUSvYNuOLf"
      },
      "source": [
        "from sklearn.model_selection import RandomizedSearchCV\n",
        "n_estimators = [int(x) for x in np.linspace(start = 40, stop = 150, num = 15)]\n",
        "max_depth = [int(x) for x in np.linspace(40, 150, num = 15)]\n",
        "param_dist = {\n",
        "    'n_estimators' : n_estimators,\n",
        "    'max_depth' : max_depth,\n",
        "}\n",
        "rf_tuned = RandomForestClassifier(random_state = 42)\n"
      ],
      "execution_count": null,
      "outputs": []
    },
    {
      "cell_type": "code",
      "metadata": {
        "colab": {
          "base_uri": "https://localhost:8080/"
        },
        "id": "TGCNDbD8uS-Z",
        "outputId": "681c52e4-d12a-46e9-fdcb-b39ef97e2f94"
      },
      "source": [
        "rf_cv = RandomizedSearchCV(estimator = rf_tuned, param_distributions = param_dist, cv = 5, random_state = 42)\n",
        "rf_cv.fit(x_train, y_train)"
      ],
      "execution_count": null,
      "outputs": [
        {
          "output_type": "execute_result",
          "data": {
            "text/plain": [
              "RandomizedSearchCV(cv=5, error_score=nan,\n",
              "                   estimator=RandomForestClassifier(bootstrap=True,\n",
              "                                                    ccp_alpha=0.0,\n",
              "                                                    class_weight=None,\n",
              "                                                    criterion='gini',\n",
              "                                                    max_depth=None,\n",
              "                                                    max_features='auto',\n",
              "                                                    max_leaf_nodes=None,\n",
              "                                                    max_samples=None,\n",
              "                                                    min_impurity_decrease=0.0,\n",
              "                                                    min_impurity_split=None,\n",
              "                                                    min_samples_leaf=1,\n",
              "                                                    min_samples_split=2,\n",
              "                                                    min_weight_fraction_leaf=0.0,\n",
              "                                                    n_estimators=100,\n",
              "                                                    n_jobs...\n",
              "                                                    oob_score=False,\n",
              "                                                    random_state=42, verbose=0,\n",
              "                                                    warm_start=False),\n",
              "                   iid='deprecated', n_iter=10, n_jobs=None,\n",
              "                   param_distributions={'max_depth': [40, 47, 55, 63, 71, 79,\n",
              "                                                      87, 95, 102, 110, 118,\n",
              "                                                      126, 134, 142, 150],\n",
              "                                        'n_estimators': [40, 47, 55, 63, 71, 79,\n",
              "                                                         87, 95, 102, 110, 118,\n",
              "                                                         126, 134, 142, 150]},\n",
              "                   pre_dispatch='2*n_jobs', random_state=42, refit=True,\n",
              "                   return_train_score=False, scoring=None, verbose=0)"
            ]
          },
          "metadata": {},
          "execution_count": 35
        }
      ]
    },
    {
      "cell_type": "code",
      "metadata": {
        "colab": {
          "base_uri": "https://localhost:8080/"
        },
        "id": "qqkWgpZiLpzT",
        "outputId": "128cdf2c-a8d1-4c4c-ad69-0e8cb1e5223c"
      },
      "source": [
        "rf_cv.best_score_"
      ],
      "execution_count": null,
      "outputs": [
        {
          "output_type": "execute_result",
          "data": {
            "text/plain": [
              "0.9253506367886507"
            ]
          },
          "metadata": {},
          "execution_count": 36
        }
      ]
    },
    {
      "cell_type": "code",
      "metadata": {
        "colab": {
          "base_uri": "https://localhost:8080/"
        },
        "id": "NOKEZc1oLseT",
        "outputId": "005cb785-de40-4737-fd62-73ceda1c82e4"
      },
      "source": [
        "rf_cv.best_params_"
      ],
      "execution_count": null,
      "outputs": [
        {
          "output_type": "execute_result",
          "data": {
            "text/plain": [
              "{'max_depth': 110, 'n_estimators': 142}"
            ]
          },
          "metadata": {},
          "execution_count": 37
        }
      ]
    },
    {
      "cell_type": "markdown",
      "metadata": {
        "id": "1Rn6Sapmmdzv"
      },
      "source": [
        "##Training\n",
        "\n"
      ]
    },
    {
      "cell_type": "code",
      "metadata": {
        "id": "dAdR2k8I9xBi"
      },
      "source": [
        "model = RandomForestClassifier(min_samples_leaf=110,max_depth=142,random_state=42,n_estimators=126)"
      ],
      "execution_count": 45,
      "outputs": []
    },
    {
      "cell_type": "code",
      "metadata": {
        "colab": {
          "base_uri": "https://localhost:8080/"
        },
        "id": "SFm2hLfzcjDQ",
        "outputId": "1b9ecdfa-5a61-4d5d-9c11-44cd75e21ee1"
      },
      "source": [
        "model.fit(x_train, y_train)"
      ],
      "execution_count": 46,
      "outputs": [
        {
          "output_type": "execute_result",
          "data": {
            "text/plain": [
              "RandomForestClassifier(bootstrap=True, ccp_alpha=0.0, class_weight=None,\n",
              "                       criterion='gini', max_depth=142, max_features='auto',\n",
              "                       max_leaf_nodes=None, max_samples=None,\n",
              "                       min_impurity_decrease=0.0, min_impurity_split=None,\n",
              "                       min_samples_leaf=110, min_samples_split=2,\n",
              "                       min_weight_fraction_leaf=0.0, n_estimators=126,\n",
              "                       n_jobs=None, oob_score=False, random_state=42, verbose=0,\n",
              "                       warm_start=False)"
            ]
          },
          "metadata": {},
          "execution_count": 46
        }
      ]
    },
    {
      "cell_type": "code",
      "metadata": {
        "id": "P-7EX6nEcjnz"
      },
      "source": [
        "y_pred = model.predict(x_test)"
      ],
      "execution_count": 47,
      "outputs": []
    },
    {
      "cell_type": "code",
      "metadata": {
        "colab": {
          "base_uri": "https://localhost:8080/"
        },
        "id": "Q5My-VaFeLZF",
        "outputId": "47b570b2-25ed-45e8-b888-f3719f88b700"
      },
      "source": [
        "print('AUC: ', roc_auc_score(y_test, y_pred))\n",
        "\n"
      ],
      "execution_count": 48,
      "outputs": [
        {
          "output_type": "stream",
          "name": "stdout",
          "text": [
            "AUC:  0.893855377567731\n"
          ]
        }
      ]
    },
    {
      "cell_type": "code",
      "metadata": {
        "colab": {
          "base_uri": "https://localhost:8080/"
        },
        "id": "MQknK05Klmmc",
        "outputId": "81e71c40-29e8-4cf7-adc6-6298185402e6"
      },
      "source": [
        "print(classification_report(y_test, y_pred))\n",
        "print(confusion_matrix(y_test, y_pred))"
      ],
      "execution_count": 49,
      "outputs": [
        {
          "output_type": "stream",
          "name": "stdout",
          "text": [
            "              precision    recall  f1-score   support\n",
            "\n",
            "           0       0.94      0.96      0.95     85742\n",
            "           1       0.88      0.83      0.85     30565\n",
            "\n",
            "    accuracy                           0.92    116307\n",
            "   macro avg       0.91      0.89      0.90    116307\n",
            "weighted avg       0.92      0.92      0.92    116307\n",
            "\n",
            "[[82172  3570]\n",
            " [ 5216 25349]]\n"
          ]
        }
      ]
    },
    {
      "cell_type": "code",
      "metadata": {
        "colab": {
          "base_uri": "https://localhost:8080/",
          "height": 303
        },
        "id": "zYbKje9zBP5L",
        "outputId": "d9e7a756-fb9b-495b-8ec4-e368ee709457"
      },
      "source": [
        "plt.title(\"Heatmap for Testdata prediction confusion matrix on RandomForest Classifier\", fontsize =20)\n",
        "sns.heatmap(confusion_matrix(y_test, y_pred)/np.sum(confusion_matrix(y_test, y_pred)), annot=True)"
      ],
      "execution_count": 50,
      "outputs": [
        {
          "output_type": "execute_result",
          "data": {
            "text/plain": [
              "<matplotlib.axes._subplots.AxesSubplot at 0x7f25e36368d0>"
            ]
          },
          "metadata": {},
          "execution_count": 50
        },
        {
          "output_type": "display_data",
          "data": {
            "image/png": "[encoded data removed]",
            "text/plain": [
              "<Figure size 432x288 with 2 Axes>"
            ]
          },
          "metadata": {
            "needs_background": "light"
          }
        }
      ]
    },
    {
      "cell_type": "code",
      "metadata": {
        "colab": {
          "base_uri": "https://localhost:8080/",
          "height": 295
        },
        "id": "tg0VuWISNnOq",
        "outputId": "d0680a62-8540-4fe1-fed0-1c0b629bc962"
      },
      "source": [
        "import sklearn.metrics as metrics\n",
        "fpr, tpr, threshold = metrics.roc_curve(y_test, y_pred)\n",
        "roc_auc = metrics.auc(fpr, tpr)\n",
        "\n",
        "import matplotlib.pyplot as plt\n",
        "plt.title('Receiver Operating Characteristic')\n",
        "plt.plot(fpr, tpr, 'b', label = 'AUC = %0.2f' % roc_auc)\n",
        "plt.legend(loc = 'lower right')\n",
        "plt.plot([0, 1], [0, 1],'r--')\n",
        "plt.xlim([0, 1])\n",
        "plt.ylim([0, 1])\n",
        "plt.ylabel('True Positive Rate')\n",
        "plt.xlabel('False Positive Rate')\n",
        "plt.show()"
      ],
      "execution_count": 51,
      "outputs": [
        {
          "output_type": "display_data",
          "data": {
            "image/png": "[encoded data removed]",
            "text/plain": [
              "<Figure size 432x288 with 1 Axes>"
            ]
          },
          "metadata": {
            "needs_background": "light"
          }
        }
      ]
    },
    {
      "cell_type": "markdown",
      "metadata": {
        "id": "eIUaspz_wDKr"
      },
      "source": [
        "# XGB"
      ]
    },
    {
      "cell_type": "code",
      "metadata": {
        "id": "CpqAr7sulmqZ"
      },
      "source": [
        "from xgboost import XGBClassifier"
      ],
      "execution_count": 54,
      "outputs": []
    },
    {
      "cell_type": "code",
      "metadata": {
        "colab": {
          "base_uri": "https://localhost:8080/"
        },
        "id": "ZKD2ocEtqpGP",
        "outputId": "8b2bfb73-6b8e-4f36-951c-6a4b0f76462e"
      },
      "source": [
        "model = XGBClassifier(random_state=42,learning_rate =0.1,\n",
        " n_estimators=1000,\n",
        " max_depth=50,\n",
        " min_child_weight=1,\n",
        " gamma=0,\n",
        " subsample=0.8,\n",
        " colsample_bytree=0.8,\n",
        " objective= 'binary:logistic',\n",
        " nthread=4,\n",
        " scale_pos_weight=1,\n",
        " seed=27)\n",
        "model.fit(x_train, y_train)"
      ],
      "execution_count": 55,
      "outputs": [
        {
          "output_type": "execute_result",
          "data": {
            "text/plain": [
              "XGBClassifier(base_score=0.5, booster='gbtree', colsample_bylevel=1,\n",
              "              colsample_bynode=1, colsample_bytree=0.8, gamma=0,\n",
              "              learning_rate=0.1, max_delta_step=0, max_depth=50,\n",
              "              min_child_weight=1, missing=None, n_estimators=1000, n_jobs=1,\n",
              "              nthread=4, objective='binary:logistic', random_state=42,\n",
              "              reg_alpha=0, reg_lambda=1, scale_pos_weight=1, seed=27,\n",
              "              silent=None, subsample=0.8, verbosity=1)"
            ]
          },
          "metadata": {},
          "execution_count": 55
        }
      ]
    },
    {
      "cell_type": "code",
      "metadata": {
        "id": "Y-pdQH3xwj92"
      },
      "source": [
        "y_pred=model.predict(x_test)"
      ],
      "execution_count": 56,
      "outputs": []
    },
    {
      "cell_type": "code",
      "metadata": {
        "id": "YjotJ7_syVVQ"
      },
      "source": [
        "from sklearn.metrics import accuracy_score"
      ],
      "execution_count": 57,
      "outputs": []
    },
    {
      "cell_type": "code",
      "metadata": {
        "colab": {
          "base_uri": "https://localhost:8080/"
        },
        "id": "SEZteI9Dx5lo",
        "outputId": "afd6c5db-6ae4-4674-cf02-23ec594446bd"
      },
      "source": [
        "accuracy_score(y_test, y_pred)"
      ],
      "execution_count": 59,
      "outputs": [
        {
          "output_type": "execute_result",
          "data": {
            "text/plain": [
              "0.9211397422339154"
            ]
          },
          "metadata": {},
          "execution_count": 59
        }
      ]
    },
    {
      "cell_type": "code",
      "metadata": {
        "colab": {
          "base_uri": "https://localhost:8080/"
        },
        "id": "c7NtXzoHq5Jf",
        "outputId": "83ba92f7-7f6d-4727-b02e-83bc49e4738b"
      },
      "source": [
        "print('AUC: ', roc_auc_score(y_test, y_pred))\n"
      ],
      "execution_count": 60,
      "outputs": [
        {
          "output_type": "stream",
          "name": "stdout",
          "text": [
            "AUC:  0.8892042525531392\n"
          ]
        }
      ]
    },
    {
      "cell_type": "code",
      "metadata": {
        "colab": {
          "base_uri": "https://localhost:8080/"
        },
        "id": "eDkiFV88yj-Z",
        "outputId": "f498e8f8-19c5-49e3-b97e-f0a77c6e8f3c"
      },
      "source": [
        "print(classification_report(y_test, y_pred))\n",
        "print(confusion_matrix(y_test, y_pred))"
      ],
      "execution_count": 61,
      "outputs": [
        {
          "output_type": "stream",
          "name": "stdout",
          "text": [
            "              precision    recall  f1-score   support\n",
            "\n",
            "           0       0.94      0.96      0.95     85742\n",
            "           1       0.87      0.82      0.85     30565\n",
            "\n",
            "    accuracy                           0.92    116307\n",
            "   macro avg       0.90      0.89      0.90    116307\n",
            "weighted avg       0.92      0.92      0.92    116307\n",
            "\n",
            "[[82014  3728]\n",
            " [ 5444 25121]]\n"
          ]
        }
      ]
    },
    {
      "cell_type": "code",
      "metadata": {
        "colab": {
          "base_uri": "https://localhost:8080/",
          "height": 303
        },
        "id": "w9KEmLgkynY8",
        "outputId": "6832a519-bb2b-4131-c1b5-ae9530560d34"
      },
      "source": [
        "plt.title(\"Heatmap for Testdata prediction confusion matrix on RandomForest Classifier\", fontsize =20)\n",
        "sns.heatmap(confusion_matrix(y_test, y_pred)/np.sum(confusion_matrix(y_test, y_pred)), annot=True)"
      ],
      "execution_count": 62,
      "outputs": [
        {
          "output_type": "execute_result",
          "data": {
            "text/plain": [
              "<matplotlib.axes._subplots.AxesSubplot at 0x7f25d8ea5b90>"
            ]
          },
          "metadata": {},
          "execution_count": 62
        },
        {
          "output_type": "display_data",
          "data": {
            "image/png": "[encoded data removed]",
            "text/plain": [
              "<Figure size 432x288 with 2 Axes>"
            ]
          },
          "metadata": {
            "needs_background": "light"
          }
        }
      ]
    },
    {
      "cell_type": "code",
      "metadata": {
        "colab": {
          "base_uri": "https://localhost:8080/",
          "height": 295
        },
        "id": "IgaxWsIwyzJt",
        "outputId": "8f64d29c-cd5c-4c73-a7d4-d2ff264f8798"
      },
      "source": [
        "import sklearn.metrics as metrics\n",
        "fpr, tpr, threshold = metrics.roc_curve(y_test, y_pred)\n",
        "roc_auc = metrics.auc(fpr, tpr)\n",
        "\n",
        "import matplotlib.pyplot as plt\n",
        "plt.title('Receiver Operating Characteristic')\n",
        "plt.plot(fpr, tpr, 'b', label = 'AUC = %0.2f' % roc_auc)\n",
        "plt.legend(loc = 'lower right')\n",
        "plt.plot([0, 1], [0, 1],'r--')\n",
        "plt.xlim([0, 1])\n",
        "plt.ylim([0, 1])\n",
        "plt.ylabel('True Positive Rate')\n",
        "plt.xlabel('False Positive Rate')\n",
        "plt.show()"
      ],
      "execution_count": 63,
      "outputs": [
        {
          "output_type": "display_data",
          "data": {
            "image/png": "[encoded data removed]",
            "text/plain": [
              "<Figure size 432x288 with 1 Axes>"
            ]
          },
          "metadata": {
            "needs_background": "light"
          }
        }
      ]
    },
    {
      "cell_type": "code",
      "metadata": {
        "colab": {
          "base_uri": "https://localhost:8080/"
        },
        "id": "v8-x-Xijs4kp",
        "outputId": "e250ec4e-7973-43a6-a832-357ac7ccabf5"
      },
      "source": [
        "from sklearn.metrics import average_precision_score\n",
        "average_precision = average_precision_score(y_test,y_pred)\n",
        "\n",
        "print('Average precision-recall score: {0:0.2f}'.format(\n",
        "      average_precision))"
      ],
      "execution_count": 65,
      "outputs": [
        {
          "output_type": "stream",
          "name": "stdout",
          "text": [
            "Average precision-recall score: 0.76\n"
          ]
        }
      ]
    },
    {
      "cell_type": "code",
      "metadata": {
        "colab": {
          "base_uri": "https://localhost:8080/",
          "height": 312
        },
        "id": "9bYqAksps4kt",
        "outputId": "9ff21962-9f4d-4d0f-a24e-de02ddc9f475"
      },
      "source": [
        "from sklearn.metrics import precision_recall_curve\n",
        "from sklearn.metrics import plot_precision_recall_curve\n",
        "import matplotlib.pyplot as plt\n",
        "\n",
        "disp = plot_precision_recall_curve(logistic, x_test, y_test)\n",
        "disp.ax_.set_title('2-class Precision-Recall curve: '\n",
        "                   'AP={0:0.2f}'.format(average_precision))"
      ],
      "execution_count": 66,
      "outputs": [
        {
          "output_type": "execute_result",
          "data": {
            "text/plain": [
              "Text(0.5, 1.0, '2-class Precision-Recall curve: AP=0.76')"
            ]
          },
          "metadata": {},
          "execution_count": 66
        },
        {
          "output_type": "display_data",
          "data": {
            "image/png": "[encoded data removed]",
            "text/plain": [
              "<Figure size 432x288 with 1 Axes>"
            ]
          },
          "metadata": {
            "needs_background": "light"
          }
        }
      ]
    },
    {
      "cell_type": "markdown",
      "metadata": {
        "id": "oKB82RwYo_fh"
      },
      "source": [
        "# Saving + Loading the Model  and predicting on Test data"
      ]
    },
    {
      "cell_type": "code",
      "metadata": {
        "id": "G5hI6UBDpDAX"
      },
      "source": [
        "filename = '/content/drive/MyDrive/Spoiler_alert_model/Spoiler_alert_randomforest.sav'\n",
        "\n"
      ],
      "execution_count": 67,
      "outputs": []
    },
    {
      "cell_type": "code",
      "metadata": {
        "id": "ARGoCI4Yp_98"
      },
      "source": [
        "pickle.dump(model, open(filename, 'wb'))"
      ],
      "execution_count": 68,
      "outputs": []
    },
    {
      "cell_type": "code",
      "metadata": {
        "id": "mYxupKZtpGSZ"
      },
      "source": [
        "# load the model from disk\n",
        "loaded_model_randomforest= pickle.load(open(filename, 'rb'))\n"
      ],
      "execution_count": 69,
      "outputs": []
    },
    {
      "cell_type": "code",
      "metadata": {
        "colab": {
          "base_uri": "https://localhost:8080/",
          "height": 1000
        },
        "id": "ssCBdLf3vgbl",
        "outputId": "f7f385b2-de25-4e38-e9f3-4f9395576513"
      },
      "source": [
        "test"
      ],
      "execution_count": 70,
      "outputs": [
        {
          "output_type": "execute_result",
          "data": {
            "text/html": [
              "<div>\n",
              "<style scoped>\n",
              "    .dataframe tbody tr th:only-of-type {\n",
              "        vertical-align: middle;\n",
              "    }\n",
              "\n",
              "    .dataframe tbody tr th {\n",
              "        vertical-align: top;\n",
              "    }\n",
              "\n",
              "    .dataframe thead th {\n",
              "        text-align: right;\n",
              "    }\n",
              "</style>\n",
              "<table border=\"1\" class=\"dataframe\">\n",
              "  <thead>\n",
              "    <tr style=\"text-align: right;\">\n",
              "      <th></th>\n",
              "      <th>review_date</th>\n",
              "      <th>movie_id</th>\n",
              "      <th>user_id</th>\n",
              "      <th>is_spoiler</th>\n",
              "      <th>review_text</th>\n",
              "      <th>userrating</th>\n",
              "      <th>review_summary</th>\n",
              "      <th>plot_summary</th>\n",
              "      <th>duration</th>\n",
              "      <th>genre</th>\n",
              "      <th>actualrating</th>\n",
              "      <th>release_date</th>\n",
              "      <th>plot_synopsis</th>\n",
              "      <th>days_elapsed</th>\n",
              "      <th>word_count</th>\n",
              "      <th>spoiltext</th>\n",
              "      <th>msr</th>\n",
              "      <th>usr</th>\n",
              "      <th>gsr</th>\n",
              "      <th>distance_plot</th>\n",
              "    </tr>\n",
              "  </thead>\n",
              "  <tbody>\n",
              "    <tr>\n",
              "      <th>179775</th>\n",
              "      <td>2015-03-10</td>\n",
              "      <td>23672</td>\n",
              "      <td>ur50489624</td>\n",
              "      <td>1</td>\n",
              "      <td>in which human beings ditch their bodies for s...</td>\n",
              "      <td>6</td>\n",
              "      <td>In CHAPPiE, Sony Corporation imagines a world ...</td>\n",
              "      <td>in johannesburg the police department reduced ...</td>\n",
              "      <td>2h</td>\n",
              "      <td>['Action', 'Crime', 'Drama']</td>\n",
              "      <td>6.8</td>\n",
              "      <td>2015-03-06</td>\n",
              "      <td>Set in an undeterminate year of the near futur...</td>\n",
              "      <td>4</td>\n",
              "      <td>191</td>\n",
              "      <td>0</td>\n",
              "      <td>0.302003</td>\n",
              "      <td>1.000000</td>\n",
              "      <td>0.592547</td>\n",
              "      <td>0.644434</td>\n",
              "    </tr>\n",
              "    <tr>\n",
              "      <th>322505</th>\n",
              "      <td>2001-07-19</td>\n",
              "      <td>19822</td>\n",
              "      <td>ur1254655</td>\n",
              "      <td>1</td>\n",
              "      <td>as good as it gets is definitely one of the be...</td>\n",
              "      <td>10</td>\n",
              "      <td>Wish that all movies were this professional</td>\n",
              "      <td>new york city melvin udall a cranky bigoted ob...</td>\n",
              "      <td>2h 19min</td>\n",
              "      <td>['Comedy', 'Drama', 'Romance']</td>\n",
              "      <td>7.7</td>\n",
              "      <td>1997-12-25</td>\n",
              "      <td>The entire movie takes place in New York City,...</td>\n",
              "      <td>1302</td>\n",
              "      <td>326</td>\n",
              "      <td>0</td>\n",
              "      <td>0.160428</td>\n",
              "      <td>0.250000</td>\n",
              "      <td>0.715963</td>\n",
              "      <td>1.221773</td>\n",
              "    </tr>\n",
              "    <tr>\n",
              "      <th>547841</th>\n",
              "      <td>2009-08-22</td>\n",
              "      <td>36608</td>\n",
              "      <td>ur21918998</td>\n",
              "      <td>0</td>\n",
              "      <td>this is in my mind exactly what this film will...</td>\n",
              "      <td>8</td>\n",
              "      <td>cult classic</td>\n",
              "      <td>in a massive star ship bearing a bedraggled al...</td>\n",
              "      <td>1h 52min</td>\n",
              "      <td>['Sci-Fi', 'Thriller']</td>\n",
              "      <td>8.0</td>\n",
              "      <td>2009-08-14</td>\n",
              "      <td>The film opens with a documentary-style series...</td>\n",
              "      <td>8</td>\n",
              "      <td>418</td>\n",
              "      <td>0</td>\n",
              "      <td>0.370572</td>\n",
              "      <td>0.000000</td>\n",
              "      <td>0.682420</td>\n",
              "      <td>1.338364</td>\n",
              "    </tr>\n",
              "    <tr>\n",
              "      <th>95023</th>\n",
              "      <td>2015-03-07</td>\n",
              "      <td>82846</td>\n",
              "      <td>ur1773414</td>\n",
              "      <td>0</td>\n",
              "      <td>i had never read the book nor knew much about ...</td>\n",
              "      <td>6</td>\n",
              "      <td>it was too predictable</td>\n",
              "      <td>hazel and augustus are two teenagers who share...</td>\n",
              "      <td>2h 6min</td>\n",
              "      <td>['Drama', 'Romance']</td>\n",
              "      <td>7.8</td>\n",
              "      <td>2014-06-06</td>\n",
              "      <td>A teenage girl named Hazel Grace Lancaster (Sh...</td>\n",
              "      <td>274</td>\n",
              "      <td>196</td>\n",
              "      <td>0</td>\n",
              "      <td>0.367942</td>\n",
              "      <td>0.100000</td>\n",
              "      <td>0.500361</td>\n",
              "      <td>0.821251</td>\n",
              "    </tr>\n",
              "    <tr>\n",
              "      <th>141094</th>\n",
              "      <td>2013-06-01</td>\n",
              "      <td>54876</td>\n",
              "      <td>ur18374320</td>\n",
              "      <td>0</td>\n",
              "      <td>life of pi is one of those everyday masterpiec...</td>\n",
              "      <td>7</td>\n",
              "      <td>Exhilarating and gorgeous in many ways</td>\n",
              "      <td>in canada a writer visits the indian storytell...</td>\n",
              "      <td>2h 7min</td>\n",
              "      <td>['Adventure', 'Drama', 'Fantasy']</td>\n",
              "      <td>7.9</td>\n",
              "      <td>2012-11-21</td>\n",
              "      <td>Pi Patel (Irrfan Khan), an immigrant from Pond...</td>\n",
              "      <td>192</td>\n",
              "      <td>210</td>\n",
              "      <td>0</td>\n",
              "      <td>0.339360</td>\n",
              "      <td>0.169014</td>\n",
              "      <td>0.789834</td>\n",
              "      <td>1.022281</td>\n",
              "    </tr>\n",
              "    <tr>\n",
              "      <th>...</th>\n",
              "      <td>...</td>\n",
              "      <td>...</td>\n",
              "      <td>...</td>\n",
              "      <td>...</td>\n",
              "      <td>...</td>\n",
              "      <td>...</td>\n",
              "      <td>...</td>\n",
              "      <td>...</td>\n",
              "      <td>...</td>\n",
              "      <td>...</td>\n",
              "      <td>...</td>\n",
              "      <td>...</td>\n",
              "      <td>...</td>\n",
              "      <td>...</td>\n",
              "      <td>...</td>\n",
              "      <td>...</td>\n",
              "      <td>...</td>\n",
              "      <td>...</td>\n",
              "      <td>...</td>\n",
              "      <td>...</td>\n",
              "    </tr>\n",
              "    <tr>\n",
              "      <th>564384</th>\n",
              "      <td>2006-03-30</td>\n",
              "      <td>17509</td>\n",
              "      <td>ur3583729</td>\n",
              "      <td>1</td>\n",
              "      <td>there are many kinds of films there are the fe...</td>\n",
              "      <td>3</td>\n",
              "      <td>A Travesty</td>\n",
              "      <td>the classic story of romeo and juliet set in a...</td>\n",
              "      <td>2h</td>\n",
              "      <td>['Drama', 'Romance']</td>\n",
              "      <td>6.8</td>\n",
              "      <td>1996-11-01</td>\n",
              "      <td>The story revolves around three families from ...</td>\n",
              "      <td>3436</td>\n",
              "      <td>385</td>\n",
              "      <td>0</td>\n",
              "      <td>0.215789</td>\n",
              "      <td>1.000000</td>\n",
              "      <td>0.782492</td>\n",
              "      <td>0.470357</td>\n",
              "    </tr>\n",
              "    <tr>\n",
              "      <th>23529</th>\n",
              "      <td>2005-10-24</td>\n",
              "      <td>3639</td>\n",
              "      <td>ur4888011</td>\n",
              "      <td>0</td>\n",
              "      <td>in most cases aladdin would just be another di...</td>\n",
              "      <td>10</td>\n",
              "      <td>I'm losin' to a rug!</td>\n",
              "      <td>aladdin is a poor street urchin who spends his...</td>\n",
              "      <td>1h 30min</td>\n",
              "      <td>['Animation', 'Adventure', 'Comedy']</td>\n",
              "      <td>8.0</td>\n",
              "      <td>1992-11-25</td>\n",
              "      <td>The film starts with a street peddler, guiding...</td>\n",
              "      <td>4716</td>\n",
              "      <td>104</td>\n",
              "      <td>0</td>\n",
              "      <td>0.267327</td>\n",
              "      <td>0.063380</td>\n",
              "      <td>0.256906</td>\n",
              "      <td>0.443303</td>\n",
              "    </tr>\n",
              "    <tr>\n",
              "      <th>579858</th>\n",
              "      <td>2006-10-26</td>\n",
              "      <td>55267</td>\n",
              "      <td>ur2898779</td>\n",
              "      <td>1</td>\n",
              "      <td>i ve always enjoyed this remake i went back an...</td>\n",
              "      <td>9</td>\n",
              "      <td>the dichotomy of women</td>\n",
              "      <td>self made billionaire thomas crown is bored of...</td>\n",
              "      <td>1h 53min</td>\n",
              "      <td>['Crime', 'Romance', 'Thriller']</td>\n",
              "      <td>6.8</td>\n",
              "      <td>1999-08-06</td>\n",
              "      <td>John McTiernan did a great job directing this ...</td>\n",
              "      <td>2638</td>\n",
              "      <td>169</td>\n",
              "      <td>0</td>\n",
              "      <td>0.108553</td>\n",
              "      <td>1.000000</td>\n",
              "      <td>0.591610</td>\n",
              "      <td>0.309928</td>\n",
              "    </tr>\n",
              "    <tr>\n",
              "      <th>509833</th>\n",
              "      <td>2005-09-11</td>\n",
              "      <td>60486</td>\n",
              "      <td>ur3364470</td>\n",
              "      <td>0</td>\n",
              "      <td>back in medieval times we in the uk had these ...</td>\n",
              "      <td>2</td>\n",
              "      <td>Church service</td>\n",
              "      <td>john constantine is approached by det angela d...</td>\n",
              "      <td>2h 1min</td>\n",
              "      <td>['Drama', 'Fantasy', 'Horror']</td>\n",
              "      <td>7.0</td>\n",
              "      <td>2005-02-18</td>\n",
              "      <td>John Constantine (Keanu Reeves) was born with ...</td>\n",
              "      <td>205</td>\n",
              "      <td>188</td>\n",
              "      <td>0</td>\n",
              "      <td>0.198895</td>\n",
              "      <td>0.000000</td>\n",
              "      <td>0.215601</td>\n",
              "      <td>0.721353</td>\n",
              "    </tr>\n",
              "    <tr>\n",
              "      <th>414743</th>\n",
              "      <td>2015-08-07</td>\n",
              "      <td>2712</td>\n",
              "      <td>ur54790111</td>\n",
              "      <td>1</td>\n",
              "      <td>has been such a great year for movies with so ...</td>\n",
              "      <td>2</td>\n",
              "      <td>There is no goodness... Only doom...</td>\n",
              "      <td>fantastic four a contemporary re imagining of ...</td>\n",
              "      <td>1h 40min</td>\n",
              "      <td>['Action', 'Adventure', 'Sci-Fi']</td>\n",
              "      <td>4.3</td>\n",
              "      <td>2015-08-07</td>\n",
              "      <td>In the year 2007, young Reed Richards does a p...</td>\n",
              "      <td>0</td>\n",
              "      <td>204</td>\n",
              "      <td>0</td>\n",
              "      <td>0.357955</td>\n",
              "      <td>1.000000</td>\n",
              "      <td>0.877255</td>\n",
              "      <td>1.073360</td>\n",
              "    </tr>\n",
              "  </tbody>\n",
              "</table>\n",
              "<p>93045 rows × 20 columns</p>\n",
              "</div>"
            ],
            "text/plain": [
              "       review_date  movie_id     user_id  is_spoiler  \\\n",
              "179775  2015-03-10     23672  ur50489624           1   \n",
              "322505  2001-07-19     19822   ur1254655           1   \n",
              "547841  2009-08-22     36608  ur21918998           0   \n",
              "95023   2015-03-07     82846   ur1773414           0   \n",
              "141094  2013-06-01     54876  ur18374320           0   \n",
              "...            ...       ...         ...         ...   \n",
              "564384  2006-03-30     17509   ur3583729           1   \n",
              "23529   2005-10-24      3639   ur4888011           0   \n",
              "579858  2006-10-26     55267   ur2898779           1   \n",
              "509833  2005-09-11     60486   ur3364470           0   \n",
              "414743  2015-08-07      2712  ur54790111           1   \n",
              "\n",
              "                                              review_text  userrating  \\\n",
              "179775  in which human beings ditch their bodies for s...           6   \n",
              "322505  as good as it gets is definitely one of the be...          10   \n",
              "547841  this is in my mind exactly what this film will...           8   \n",
              "95023   i had never read the book nor knew much about ...           6   \n",
              "141094  life of pi is one of those everyday masterpiec...           7   \n",
              "...                                                   ...         ...   \n",
              "564384  there are many kinds of films there are the fe...           3   \n",
              "23529   in most cases aladdin would just be another di...          10   \n",
              "579858  i ve always enjoyed this remake i went back an...           9   \n",
              "509833  back in medieval times we in the uk had these ...           2   \n",
              "414743  has been such a great year for movies with so ...           2   \n",
              "\n",
              "                                           review_summary  \\\n",
              "179775  In CHAPPiE, Sony Corporation imagines a world ...   \n",
              "322505        Wish that all movies were this professional   \n",
              "547841                                       cult classic   \n",
              "95023                              it was too predictable   \n",
              "141094             Exhilarating and gorgeous in many ways   \n",
              "...                                                   ...   \n",
              "564384                                         A Travesty   \n",
              "23529                                I'm losin' to a rug!   \n",
              "579858                             the dichotomy of women   \n",
              "509833                                     Church service   \n",
              "414743               There is no goodness... Only doom...   \n",
              "\n",
              "                                             plot_summary  duration  \\\n",
              "179775  in johannesburg the police department reduced ...        2h   \n",
              "322505  new york city melvin udall a cranky bigoted ob...  2h 19min   \n",
              "547841  in a massive star ship bearing a bedraggled al...  1h 52min   \n",
              "95023   hazel and augustus are two teenagers who share...   2h 6min   \n",
              "141094  in canada a writer visits the indian storytell...   2h 7min   \n",
              "...                                                   ...       ...   \n",
              "564384  the classic story of romeo and juliet set in a...        2h   \n",
              "23529   aladdin is a poor street urchin who spends his...  1h 30min   \n",
              "579858  self made billionaire thomas crown is bored of...  1h 53min   \n",
              "509833  john constantine is approached by det angela d...   2h 1min   \n",
              "414743  fantastic four a contemporary re imagining of ...  1h 40min   \n",
              "\n",
              "                                       genre  actualrating release_date  \\\n",
              "179775          ['Action', 'Crime', 'Drama']           6.8   2015-03-06   \n",
              "322505        ['Comedy', 'Drama', 'Romance']           7.7   1997-12-25   \n",
              "547841                ['Sci-Fi', 'Thriller']           8.0   2009-08-14   \n",
              "95023                   ['Drama', 'Romance']           7.8   2014-06-06   \n",
              "141094     ['Adventure', 'Drama', 'Fantasy']           7.9   2012-11-21   \n",
              "...                                      ...           ...          ...   \n",
              "564384                  ['Drama', 'Romance']           6.8   1996-11-01   \n",
              "23529   ['Animation', 'Adventure', 'Comedy']           8.0   1992-11-25   \n",
              "579858      ['Crime', 'Romance', 'Thriller']           6.8   1999-08-06   \n",
              "509833        ['Drama', 'Fantasy', 'Horror']           7.0   2005-02-18   \n",
              "414743     ['Action', 'Adventure', 'Sci-Fi']           4.3   2015-08-07   \n",
              "\n",
              "                                            plot_synopsis  days_elapsed  \\\n",
              "179775  Set in an undeterminate year of the near futur...             4   \n",
              "322505  The entire movie takes place in New York City,...          1302   \n",
              "547841  The film opens with a documentary-style series...             8   \n",
              "95023   A teenage girl named Hazel Grace Lancaster (Sh...           274   \n",
              "141094  Pi Patel (Irrfan Khan), an immigrant from Pond...           192   \n",
              "...                                                   ...           ...   \n",
              "564384  The story revolves around three families from ...          3436   \n",
              "23529   The film starts with a street peddler, guiding...          4716   \n",
              "579858  John McTiernan did a great job directing this ...          2638   \n",
              "509833  John Constantine (Keanu Reeves) was born with ...           205   \n",
              "414743  In the year 2007, young Reed Richards does a p...             0   \n",
              "\n",
              "        word_count  spoiltext       msr       usr       gsr  distance_plot  \n",
              "179775         191          0  0.302003  1.000000  0.592547       0.644434  \n",
              "322505         326          0  0.160428  0.250000  0.715963       1.221773  \n",
              "547841         418          0  0.370572  0.000000  0.682420       1.338364  \n",
              "95023          196          0  0.367942  0.100000  0.500361       0.821251  \n",
              "141094         210          0  0.339360  0.169014  0.789834       1.022281  \n",
              "...            ...        ...       ...       ...       ...            ...  \n",
              "564384         385          0  0.215789  1.000000  0.782492       0.470357  \n",
              "23529          104          0  0.267327  0.063380  0.256906       0.443303  \n",
              "579858         169          0  0.108553  1.000000  0.591610       0.309928  \n",
              "509833         188          0  0.198895  0.000000  0.215601       0.721353  \n",
              "414743         204          0  0.357955  1.000000  0.877255       1.073360  \n",
              "\n",
              "[93045 rows x 20 columns]"
            ]
          },
          "metadata": {},
          "execution_count": 70
        }
      ]
    },
    {
      "cell_type": "code",
      "metadata": {
        "id": "Q5dlOtTcwNaz"
      },
      "source": [
        "testdata=test[['days_elapsed','word_count','spoiltext','usr','msr','gsr','distance_plot','actualrating']].values"
      ],
      "execution_count": 71,
      "outputs": []
    },
    {
      "cell_type": "code",
      "metadata": {
        "id": "2q_gkvL7wiCg"
      },
      "source": [
        "testy=test[['is_spoiler']].values"
      ],
      "execution_count": 72,
      "outputs": []
    },
    {
      "cell_type": "code",
      "metadata": {
        "id": "55ibMWU1OorW"
      },
      "source": [
        "rfpred=loaded_model_randomforest.predict(testdata)"
      ],
      "execution_count": 73,
      "outputs": []
    },
    {
      "cell_type": "code",
      "metadata": {
        "colab": {
          "base_uri": "https://localhost:8080/"
        },
        "id": "tIpFy_k8L6T5",
        "outputId": "2316f6f7-6b10-4e93-ce67-a789d926e69d"
      },
      "source": [
        "resultrf = loaded_model_randomforest.score(testdata, testy)\n",
        "print(resultrf)"
      ],
      "execution_count": 74,
      "outputs": [
        {
          "output_type": "stream",
          "name": "stdout",
          "text": [
            "0.7572357461443388\n"
          ]
        }
      ]
    },
    {
      "cell_type": "code",
      "metadata": {
        "colab": {
          "base_uri": "https://localhost:8080/"
        },
        "id": "2a5NNBb1Oe9y",
        "outputId": "e3a98d45-a8ca-45d8-e3c1-e4e0610b0b51"
      },
      "source": [
        "roc_auc_score(testy, rfpred)\n"
      ],
      "execution_count": 75,
      "outputs": [
        {
          "output_type": "execute_result",
          "data": {
            "text/plain": [
              "0.835163406303059"
            ]
          },
          "metadata": {},
          "execution_count": 75
        }
      ]
    },
    {
      "cell_type": "code",
      "metadata": {
        "colab": {
          "base_uri": "https://localhost:8080/"
        },
        "id": "gqpJ2QYk2ses",
        "outputId": "340a55dd-20b7-4fb5-b77b-4362ce7f9811"
      },
      "source": [
        "print(classification_report(testy, rfpred))\n",
        "print(confusion_matrix(testy, rfpred))"
      ],
      "execution_count": 76,
      "outputs": [
        {
          "output_type": "stream",
          "name": "stdout",
          "text": [
            "              precision    recall  f1-score   support\n",
            "\n",
            "           0       1.00      0.67      0.80     68593\n",
            "           1       0.52      1.00      0.68     24452\n",
            "\n",
            "    accuracy                           0.76     93045\n",
            "   macro avg       0.76      0.84      0.74     93045\n",
            "weighted avg       0.87      0.76      0.77     93045\n",
            "\n",
            "[[46019 22574]\n",
            " [   14 24438]]\n"
          ]
        }
      ]
    },
    {
      "cell_type": "code",
      "metadata": {
        "colab": {
          "base_uri": "https://localhost:8080/",
          "height": 295
        },
        "id": "Drg4t9hD0a4k",
        "outputId": "796f89bc-4992-448c-bd24-ca79c3482da1"
      },
      "source": [
        "import sklearn.metrics as metrics\n",
        "fpr, tpr, threshold = metrics.roc_curve(testy, rfpred)\n",
        "roc_auc = metrics.auc(fpr, tpr)\n",
        "\n",
        "import matplotlib.pyplot as plt\n",
        "plt.title('Receiver Operating Characteristic')\n",
        "plt.plot(fpr, tpr, 'b', label = 'AUC = %0.2f' % roc_auc)\n",
        "plt.legend(loc = 'lower right')\n",
        "plt.plot([0, 1], [0, 1],'r--')\n",
        "plt.xlim([0, 1])\n",
        "plt.ylim([0, 1])\n",
        "plt.ylabel('True Positive Rate')\n",
        "plt.xlabel('False Positive Rate')\n",
        "plt.show()"
      ],
      "execution_count": 77,
      "outputs": [
        {
          "output_type": "display_data",
          "data": {
            "image/png": "[encoded data removed]",
            "text/plain": [
              "<Figure size 432x288 with 1 Axes>"
            ]
          },
          "metadata": {
            "needs_background": "light"
          }
        }
      ]
    }
  ]
}