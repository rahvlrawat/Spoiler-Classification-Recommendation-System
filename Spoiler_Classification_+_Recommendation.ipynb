{
  "nbformat": 4,
  "nbformat_minor": 0,
  "metadata": {
    "colab": {
      "name": "Spoiler Classification + Recommendation ",
      "provenance": [],
      "collapsed_sections": [
        "DzK1rl98k11L",
        "fiNOjKVrZWVs",
        "6UpLkshnfPyb",
        "3sYllapIhgYy",
        "uuPHWrrgiroi",
        "665NThyrmIVG",
        "frNpwkGGFU5y",
        "39oA5kx6COaA",
        "mh-JeZKccZ4L",
        "yVtDn_z1_iw-",
        "oKB82RwYo_fh"
      ],
      "mount_file_id": "1SZKtVT3H2148hwuyTk7NEEcJc2euexoP",
      "authorship_tag": "ABX9TyNm5e+f/wH94CDRPvFEFpzO",
      "include_colab_link": true
    },
    "kernelspec": {
      "display_name": "Python 3",
      "name": "python3"
    }
  },
  "cells": [
    {
      "cell_type": "markdown",
      "metadata": {
        "id": "view-in-github",
        "colab_type": "text"
      },
      "source": [
        "<a href=\"https://colab.research.google.com/github/rahvlrawat/Spoiler-Alert/blob/main/Spoiler_Classification_%2B_Recommendation.ipynb\" target=\"_parent\"><img src=\"https://colab.research.google.com/assets/colab-badge.svg\" alt=\"Open In Colab\"/></a>"
      ]
    },
    {
      "cell_type": "markdown",
      "metadata": {
        "id": "0QkV0w3molDZ"
      },
      "source": [
        "# <h1> AIM: Using the dataset containing movie and review data to make a spoiler classification model for spoiler reviews and recommendation engine for movies  <h1/>"
      ]
    },
    {
      "cell_type": "markdown",
      "metadata": {
        "id": "DzK1rl98k11L"
      },
      "source": [
        "# Installations/Downloads"
      ]
    },
    {
      "cell_type": "code",
      "metadata": {
        "colab": {
          "base_uri": "https://localhost:8080/"
        },
        "id": "6cyzSD0NVATD",
        "outputId": "a26e82e2-8f11-433f-9938-065cb81552b7"
      },
      "source": [
        "os.system('pip install -q kaggle')\n",
        "os.system('mkdir ~/.kaggle')\n",
        "os.system('cp /content/drive/MyDrive/kaggle.json   ~/.kaggle/')\n",
        "os.system('chmod 600 ~/.kaggle/kaggle.json')\n",
        "os.system('kaggle datasets download -d  rmisra/imdb-spoiler-dataset')\n",
        "os.system('kaggle datasets download -d   rtatman/glove-global-vectors-for-word-representation')\n"
      ],
      "execution_count": null,
      "outputs": [
        {
          "output_type": "execute_result",
          "data": {
            "text/plain": [
              "0"
            ]
          },
          "metadata": {
            "tags": []
          },
          "execution_count": 2
        }
      ]
    },
    {
      "cell_type": "code",
      "metadata": {
        "id": "5vaDvghQlBFu",
        "colab": {
          "base_uri": "https://localhost:8080/"
        },
        "outputId": "cd226b84-8131-40f0-f35e-dbc10b35aeb4"
      },
      "source": [
        "os.system('unzip  /content/imdb-spoiler-dataset.zip')"
      ],
      "execution_count": null,
      "outputs": [
        {
          "output_type": "execute_result",
          "data": {
            "text/plain": [
              "0"
            ]
          },
          "metadata": {
            "tags": []
          },
          "execution_count": 3
        }
      ]
    },
    {
      "cell_type": "code",
      "metadata": {
        "id": "nUsGJ1xpkNqn",
        "colab": {
          "base_uri": "https://localhost:8080/"
        },
        "outputId": "503c2df3-b81d-44aa-ecf9-7397d4492b9c"
      },
      "source": [
        "os.system('unzip /content/glove-global-vectors-for-word-representation.zip')"
      ],
      "execution_count": null,
      "outputs": [
        {
          "output_type": "execute_result",
          "data": {
            "text/plain": [
              "0"
            ]
          },
          "metadata": {
            "tags": []
          },
          "execution_count": 4
        }
      ]
    },
    {
      "cell_type": "code",
      "metadata": {
        "id": "LcChG8Np3ban",
        "colab": {
          "base_uri": "https://localhost:8080/"
        },
        "outputId": "2df7d9e0-7043-4a7d-ea96-4536284045b4"
      },
      "source": [
        "pip install --user -U nltk"
      ],
      "execution_count": null,
      "outputs": [
        {
          "output_type": "stream",
          "text": [
            "Collecting nltk\n",
            "\u001b[?25l  Downloading https://files.pythonhosted.org/packages/5e/37/9532ddd4b1bbb619333d5708aaad9bf1742f051a664c3c6fa6632a105fd8/nltk-3.6.2-py3-none-any.whl (1.5MB)\n",
            "\u001b[K     |████████████████████████████████| 1.5MB 4.0MB/s \n",
            "\u001b[?25hRequirement already satisfied, skipping upgrade: regex in /usr/local/lib/python3.7/dist-packages (from nltk) (2019.12.20)\n",
            "Requirement already satisfied, skipping upgrade: click in /usr/local/lib/python3.7/dist-packages (from nltk) (7.1.2)\n",
            "Requirement already satisfied, skipping upgrade: joblib in /usr/local/lib/python3.7/dist-packages (from nltk) (1.0.1)\n",
            "Requirement already satisfied, skipping upgrade: tqdm in /usr/local/lib/python3.7/dist-packages (from nltk) (4.41.1)\n",
            "Installing collected packages: nltk\n",
            "\u001b[33m  WARNING: The script nltk is installed in '/root/.local/bin' which is not on PATH.\n",
            "  Consider adding this directory to PATH or, if you prefer to suppress this warning, use --no-warn-script-location.\u001b[0m\n",
            "Successfully installed nltk-3.6.2\n"
          ],
          "name": "stdout"
        }
      ]
    },
    {
      "cell_type": "code",
      "metadata": {
        "id": "7MnDBlFXewr0",
        "colab": {
          "base_uri": "https://localhost:8080/"
        },
        "outputId": "ef19427b-6494-4ba2-e587-6ded88b5acf6"
      },
      "source": [
        "pip install IMDbpy"
      ],
      "execution_count": null,
      "outputs": [
        {
          "output_type": "stream",
          "text": [
            "Collecting IMDbpy\n",
            "\u001b[?25l  Downloading https://files.pythonhosted.org/packages/93/49/1d6c29154deed34de46340bf968839a63639f1b23b6f7402b861a222376c/IMDbPY-2021.4.18-py3-none-any.whl (298kB)\n",
            "\r\u001b[K     |█                               | 10kB 13.5MB/s eta 0:00:01\r\u001b[K     |██▏                             | 20kB 8.8MB/s eta 0:00:01\r\u001b[K     |███▎                            | 30kB 4.9MB/s eta 0:00:01\r\u001b[K     |████▍                           | 40kB 5.1MB/s eta 0:00:01\r\u001b[K     |█████▌                          | 51kB 2.8MB/s eta 0:00:01\r\u001b[K     |██████▋                         | 61kB 3.2MB/s eta 0:00:01\r\u001b[K     |███████▊                        | 71kB 3.4MB/s eta 0:00:01\r\u001b[K     |████████▉                       | 81kB 3.5MB/s eta 0:00:01\r\u001b[K     |█████████▉                      | 92kB 3.6MB/s eta 0:00:01\r\u001b[K     |███████████                     | 102kB 3.8MB/s eta 0:00:01\r\u001b[K     |████████████                    | 112kB 3.8MB/s eta 0:00:01\r\u001b[K     |█████████████▏                  | 122kB 3.8MB/s eta 0:00:01\r\u001b[K     |██████████████▎                 | 133kB 3.8MB/s eta 0:00:01\r\u001b[K     |███████████████▍                | 143kB 3.8MB/s eta 0:00:01\r\u001b[K     |████████████████▌               | 153kB 3.8MB/s eta 0:00:01\r\u001b[K     |█████████████████▋              | 163kB 3.8MB/s eta 0:00:01\r\u001b[K     |██████████████████▋             | 174kB 3.8MB/s eta 0:00:01\r\u001b[K     |███████████████████▊            | 184kB 3.8MB/s eta 0:00:01\r\u001b[K     |████████████████████▉           | 194kB 3.8MB/s eta 0:00:01\r\u001b[K     |██████████████████████          | 204kB 3.8MB/s eta 0:00:01\r\u001b[K     |███████████████████████         | 215kB 3.8MB/s eta 0:00:01\r\u001b[K     |████████████████████████▏       | 225kB 3.8MB/s eta 0:00:01\r\u001b[K     |█████████████████████████▎      | 235kB 3.8MB/s eta 0:00:01\r\u001b[K     |██████████████████████████▍     | 245kB 3.8MB/s eta 0:00:01\r\u001b[K     |███████████████████████████▍    | 256kB 3.8MB/s eta 0:00:01\r\u001b[K     |████████████████████████████▌   | 266kB 3.8MB/s eta 0:00:01\r\u001b[K     |█████████████████████████████▋  | 276kB 3.8MB/s eta 0:00:01\r\u001b[K     |██████████████████████████████▊ | 286kB 3.8MB/s eta 0:00:01\r\u001b[K     |███████████████████████████████▉| 296kB 3.8MB/s eta 0:00:01\r\u001b[K     |████████████████████████████████| 307kB 3.8MB/s \n",
            "\u001b[?25hRequirement already satisfied: SQLAlchemy in /usr/local/lib/python3.7/dist-packages (from IMDbpy) (1.4.7)\n",
            "Requirement already satisfied: lxml in /usr/local/lib/python3.7/dist-packages (from IMDbpy) (4.2.6)\n",
            "Requirement already satisfied: greenlet!=0.4.17; python_version >= \"3\" in /usr/local/lib/python3.7/dist-packages (from SQLAlchemy->IMDbpy) (1.0.0)\n",
            "Requirement already satisfied: importlib-metadata; python_version < \"3.8\" in /usr/local/lib/python3.7/dist-packages (from SQLAlchemy->IMDbpy) (3.10.1)\n",
            "Requirement already satisfied: zipp>=0.5 in /usr/local/lib/python3.7/dist-packages (from importlib-metadata; python_version < \"3.8\"->SQLAlchemy->IMDbpy) (3.4.1)\n",
            "Requirement already satisfied: typing-extensions>=3.6.4; python_version < \"3.8\" in /usr/local/lib/python3.7/dist-packages (from importlib-metadata; python_version < \"3.8\"->SQLAlchemy->IMDbpy) (3.7.4.3)\n",
            "Installing collected packages: IMDbpy\n",
            "Successfully installed IMDbpy-2021.4.18\n"
          ],
          "name": "stdout"
        }
      ]
    },
    {
      "cell_type": "markdown",
      "metadata": {
        "id": "SM-tqsbcZORw"
      },
      "source": [
        "# Imports "
      ]
    },
    {
      "cell_type": "code",
      "metadata": {
        "id": "TBra12cnLqiw"
      },
      "source": [
        "import os"
      ],
      "execution_count": null,
      "outputs": []
    },
    {
      "cell_type": "code",
      "metadata": {
        "id": "JvGJVOuZZZge"
      },
      "source": [
        "import pandas as pd\n",
        "import numpy as np\n",
        "import seaborn as sns\n",
        "import matplotlib.pyplot as plt\n",
        "from numpy.linalg import norm\n",
        "from datetime import datetime\n",
        "import re\n",
        "from wordcloud import WordCloud, STOPWORDS\n",
        "from collections import Counter\n",
        "from sklearn import preprocessing\n",
        "from sklearn.model_selection import train_test_split\n",
        "from sklearn.metrics import confusion_matrix, classification_report, precision_recall_curve\n",
        "from sklearn.linear_model import LogisticRegression\n",
        "from sklearn.metrics import mean_squared_error\n",
        "from sklearn.ensemble import RandomForestClassifier\n",
        "from sklearn.metrics import roc_auc_score\n",
        "import sklearn.metrics as metrics\n",
        "import matplotlib.pyplot as plt\n",
        "from sklearn import svm\n",
        "import re\n",
        "import nltk\n",
        "import imdb\n",
        "import pickle\n"
      ],
      "execution_count": null,
      "outputs": []
    },
    {
      "cell_type": "code",
      "metadata": {
        "id": "cG5UvWsyKGBs"
      },
      "source": [
        "from nltk.corpus import stopwords"
      ],
      "execution_count": null,
      "outputs": []
    },
    {
      "cell_type": "code",
      "metadata": {
        "id": "Q-3_nESnF09G"
      },
      "source": [
        "pd.set_option('display.max_columns', None)"
      ],
      "execution_count": null,
      "outputs": []
    },
    {
      "cell_type": "code",
      "metadata": {
        "colab": {
          "base_uri": "https://localhost:8080/"
        },
        "id": "DYYpeBrDisQ0",
        "outputId": "2c7f71fc-0fe3-401b-ad17-7ba0e417b2d4"
      },
      "source": [
        "import tqdm\n",
        "from tqdm import tqdm\n",
        "tqdm.pandas()"
      ],
      "execution_count": null,
      "outputs": [
        {
          "output_type": "stream",
          "text": [
            "/usr/local/lib/python3.7/dist-packages/tqdm/std.py:658: FutureWarning: The Panel class is removed from pandas. Accessing it from the top-level namespace will also be removed in the next version\n",
            "  from pandas import Panel\n"
          ],
          "name": "stderr"
        }
      ]
    },
    {
      "cell_type": "code",
      "metadata": {
        "id": "UYBiT9wne-_b"
      },
      "source": [
        "ia=imdb.IMDb() "
      ],
      "execution_count": null,
      "outputs": []
    },
    {
      "cell_type": "markdown",
      "metadata": {
        "id": "fiNOjKVrZWVs"
      },
      "source": [
        "# EDA + Data Preprocessing "
      ]
    },
    {
      "cell_type": "code",
      "metadata": {
        "id": "wlDJOp1oU97e"
      },
      "source": [
        "df_reviews = pd.read_json('/content/IMDB_reviews.json', lines=True)\n",
        "df_details = pd.read_json('/content/IMDB_movie_details.json', lines=True)"
      ],
      "execution_count": null,
      "outputs": []
    },
    {
      "cell_type": "code",
      "metadata": {
        "colab": {
          "base_uri": "https://localhost:8080/"
        },
        "id": "tOz_c6cXac2O",
        "outputId": "bb04ea5f-f2c3-480f-a021-87c27f8abd92"
      },
      "source": [
        "df_reviews"
      ],
      "execution_count": null,
      "outputs": [
        {
          "output_type": "execute_result",
          "data": {
            "text/html": [
              "<div>\n",
              "<style scoped>\n",
              "    .dataframe tbody tr th:only-of-type {\n",
              "        vertical-align: middle;\n",
              "    }\n",
              "\n",
              "    .dataframe tbody tr th {\n",
              "        vertical-align: top;\n",
              "    }\n",
              "\n",
              "    .dataframe thead th {\n",
              "        text-align: right;\n",
              "    }\n",
              "</style>\n",
              "<table border=\"1\" class=\"dataframe\">\n",
              "  <thead>\n",
              "    <tr style=\"text-align: right;\">\n",
              "      <th></th>\n",
              "      <th>review_date</th>\n",
              "      <th>movie_id</th>\n",
              "      <th>user_id</th>\n",
              "      <th>is_spoiler</th>\n",
              "      <th>review_text</th>\n",
              "      <th>rating</th>\n",
              "      <th>review_summary</th>\n",
              "    </tr>\n",
              "  </thead>\n",
              "  <tbody>\n",
              "    <tr>\n",
              "      <th>0</th>\n",
              "      <td>10 February 2006</td>\n",
              "      <td>tt0111161</td>\n",
              "      <td>ur1898687</td>\n",
              "      <td>True</td>\n",
              "      <td>In its Oscar year, Shawshank Redemption (writt...</td>\n",
              "      <td>10</td>\n",
              "      <td>A classic piece of unforgettable film-making.</td>\n",
              "    </tr>\n",
              "    <tr>\n",
              "      <th>1</th>\n",
              "      <td>6 September 2000</td>\n",
              "      <td>tt0111161</td>\n",
              "      <td>ur0842118</td>\n",
              "      <td>True</td>\n",
              "      <td>The Shawshank Redemption is without a doubt on...</td>\n",
              "      <td>10</td>\n",
              "      <td>Simply amazing. The best film of the 90's.</td>\n",
              "    </tr>\n",
              "    <tr>\n",
              "      <th>2</th>\n",
              "      <td>3 August 2001</td>\n",
              "      <td>tt0111161</td>\n",
              "      <td>ur1285640</td>\n",
              "      <td>True</td>\n",
              "      <td>I believe that this film is the best story eve...</td>\n",
              "      <td>8</td>\n",
              "      <td>The best story ever told on film</td>\n",
              "    </tr>\n",
              "    <tr>\n",
              "      <th>3</th>\n",
              "      <td>1 September 2002</td>\n",
              "      <td>tt0111161</td>\n",
              "      <td>ur1003471</td>\n",
              "      <td>True</td>\n",
              "      <td>**Yes, there are SPOILERS here**This film has ...</td>\n",
              "      <td>10</td>\n",
              "      <td>Busy dying or busy living?</td>\n",
              "    </tr>\n",
              "    <tr>\n",
              "      <th>4</th>\n",
              "      <td>20 May 2004</td>\n",
              "      <td>tt0111161</td>\n",
              "      <td>ur0226855</td>\n",
              "      <td>True</td>\n",
              "      <td>At the heart of this extraordinary movie is a ...</td>\n",
              "      <td>8</td>\n",
              "      <td>Great story, wondrously told and acted</td>\n",
              "    </tr>\n",
              "    <tr>\n",
              "      <th>...</th>\n",
              "      <td>...</td>\n",
              "      <td>...</td>\n",
              "      <td>...</td>\n",
              "      <td>...</td>\n",
              "      <td>...</td>\n",
              "      <td>...</td>\n",
              "      <td>...</td>\n",
              "    </tr>\n",
              "    <tr>\n",
              "      <th>573908</th>\n",
              "      <td>8 August 1999</td>\n",
              "      <td>tt0139239</td>\n",
              "      <td>ur0100166</td>\n",
              "      <td>False</td>\n",
              "      <td>Go is wise, fast and pure entertainment. Assem...</td>\n",
              "      <td>10</td>\n",
              "      <td>The best teen movie of the nineties</td>\n",
              "    </tr>\n",
              "    <tr>\n",
              "      <th>573909</th>\n",
              "      <td>31 July 1999</td>\n",
              "      <td>tt0139239</td>\n",
              "      <td>ur0021767</td>\n",
              "      <td>False</td>\n",
              "      <td>Well, what shall I say. this one´s fun at any ...</td>\n",
              "      <td>9</td>\n",
              "      <td>Go - see the movie</td>\n",
              "    </tr>\n",
              "    <tr>\n",
              "      <th>573910</th>\n",
              "      <td>20 July 1999</td>\n",
              "      <td>tt0139239</td>\n",
              "      <td>ur0392750</td>\n",
              "      <td>False</td>\n",
              "      <td>Go is the best movie I have ever seen, and I'v...</td>\n",
              "      <td>10</td>\n",
              "      <td>It's the best movie I've ever seen</td>\n",
              "    </tr>\n",
              "    <tr>\n",
              "      <th>573911</th>\n",
              "      <td>11 June 1999</td>\n",
              "      <td>tt0139239</td>\n",
              "      <td>ur0349105</td>\n",
              "      <td>False</td>\n",
              "      <td>Call this 1999 teenage version of Pulp Fiction...</td>\n",
              "      <td>3</td>\n",
              "      <td>Haven't we seen this before?</td>\n",
              "    </tr>\n",
              "    <tr>\n",
              "      <th>573912</th>\n",
              "      <td>3 May 1999</td>\n",
              "      <td>tt0139239</td>\n",
              "      <td>ur0156431</td>\n",
              "      <td>False</td>\n",
              "      <td>Why was this movie made? No doubt to sucker in...</td>\n",
              "      <td>2</td>\n",
              "      <td>Go doesn't go anywhere</td>\n",
              "    </tr>\n",
              "  </tbody>\n",
              "</table>\n",
              "<p>573913 rows × 7 columns</p>\n",
              "</div>"
            ],
            "text/plain": [
              "             review_date   movie_id    user_id  is_spoiler  \\\n",
              "0       10 February 2006  tt0111161  ur1898687        True   \n",
              "1       6 September 2000  tt0111161  ur0842118        True   \n",
              "2          3 August 2001  tt0111161  ur1285640        True   \n",
              "3       1 September 2002  tt0111161  ur1003471        True   \n",
              "4            20 May 2004  tt0111161  ur0226855        True   \n",
              "...                  ...        ...        ...         ...   \n",
              "573908     8 August 1999  tt0139239  ur0100166       False   \n",
              "573909      31 July 1999  tt0139239  ur0021767       False   \n",
              "573910      20 July 1999  tt0139239  ur0392750       False   \n",
              "573911      11 June 1999  tt0139239  ur0349105       False   \n",
              "573912        3 May 1999  tt0139239  ur0156431       False   \n",
              "\n",
              "                                              review_text  rating  \\\n",
              "0       In its Oscar year, Shawshank Redemption (writt...      10   \n",
              "1       The Shawshank Redemption is without a doubt on...      10   \n",
              "2       I believe that this film is the best story eve...       8   \n",
              "3       **Yes, there are SPOILERS here**This film has ...      10   \n",
              "4       At the heart of this extraordinary movie is a ...       8   \n",
              "...                                                   ...     ...   \n",
              "573908  Go is wise, fast and pure entertainment. Assem...      10   \n",
              "573909  Well, what shall I say. this one´s fun at any ...       9   \n",
              "573910  Go is the best movie I have ever seen, and I'v...      10   \n",
              "573911  Call this 1999 teenage version of Pulp Fiction...       3   \n",
              "573912  Why was this movie made? No doubt to sucker in...       2   \n",
              "\n",
              "                                       review_summary  \n",
              "0       A classic piece of unforgettable film-making.  \n",
              "1          Simply amazing. The best film of the 90's.  \n",
              "2                    The best story ever told on film  \n",
              "3                          Busy dying or busy living?  \n",
              "4              Great story, wondrously told and acted  \n",
              "...                                               ...  \n",
              "573908            The best teen movie of the nineties  \n",
              "573909                             Go - see the movie  \n",
              "573910             It's the best movie I've ever seen  \n",
              "573911                   Haven't we seen this before?  \n",
              "573912                         Go doesn't go anywhere  \n",
              "\n",
              "[573913 rows x 7 columns]"
            ]
          },
          "metadata": {
            "tags": []
          },
          "execution_count": 13
        }
      ]
    },
    {
      "cell_type": "code",
      "metadata": {
        "colab": {
          "base_uri": "https://localhost:8080/"
        },
        "id": "P9O_2TmWGSOX",
        "outputId": "0adaf1ba-9b2a-4a64-d2db-341a9d85310a"
      },
      "source": [
        "df_reviews.info()"
      ],
      "execution_count": null,
      "outputs": [
        {
          "output_type": "stream",
          "text": [
            "<class 'pandas.core.frame.DataFrame'>\n",
            "RangeIndex: 573913 entries, 0 to 573912\n",
            "Data columns (total 7 columns):\n",
            " #   Column          Non-Null Count   Dtype \n",
            "---  ------          --------------   ----- \n",
            " 0   review_date     573913 non-null  object\n",
            " 1   movie_id        573913 non-null  object\n",
            " 2   user_id         573913 non-null  object\n",
            " 3   is_spoiler      573913 non-null  bool  \n",
            " 4   review_text     573913 non-null  object\n",
            " 5   rating          573913 non-null  int64 \n",
            " 6   review_summary  573913 non-null  object\n",
            "dtypes: bool(1), int64(1), object(5)\n",
            "memory usage: 26.8+ MB\n"
          ],
          "name": "stdout"
        }
      ]
    },
    {
      "cell_type": "code",
      "metadata": {
        "colab": {
          "base_uri": "https://localhost:8080/"
        },
        "id": "3_oUF5KDGPll",
        "outputId": "998a6961-e36c-4526-b419-a60a725a53b1"
      },
      "source": [
        "df_reviews.describe()"
      ],
      "execution_count": null,
      "outputs": [
        {
          "output_type": "execute_result",
          "data": {
            "text/html": [
              "<div>\n",
              "<style scoped>\n",
              "    .dataframe tbody tr th:only-of-type {\n",
              "        vertical-align: middle;\n",
              "    }\n",
              "\n",
              "    .dataframe tbody tr th {\n",
              "        vertical-align: top;\n",
              "    }\n",
              "\n",
              "    .dataframe thead th {\n",
              "        text-align: right;\n",
              "    }\n",
              "</style>\n",
              "<table border=\"1\" class=\"dataframe\">\n",
              "  <thead>\n",
              "    <tr style=\"text-align: right;\">\n",
              "      <th></th>\n",
              "      <th>rating</th>\n",
              "    </tr>\n",
              "  </thead>\n",
              "  <tbody>\n",
              "    <tr>\n",
              "      <th>count</th>\n",
              "      <td>573913.000000</td>\n",
              "    </tr>\n",
              "    <tr>\n",
              "      <th>mean</th>\n",
              "      <td>6.954254</td>\n",
              "    </tr>\n",
              "    <tr>\n",
              "      <th>std</th>\n",
              "      <td>2.956295</td>\n",
              "    </tr>\n",
              "    <tr>\n",
              "      <th>min</th>\n",
              "      <td>1.000000</td>\n",
              "    </tr>\n",
              "    <tr>\n",
              "      <th>25%</th>\n",
              "      <td>5.000000</td>\n",
              "    </tr>\n",
              "    <tr>\n",
              "      <th>50%</th>\n",
              "      <td>8.000000</td>\n",
              "    </tr>\n",
              "    <tr>\n",
              "      <th>75%</th>\n",
              "      <td>10.000000</td>\n",
              "    </tr>\n",
              "    <tr>\n",
              "      <th>max</th>\n",
              "      <td>10.000000</td>\n",
              "    </tr>\n",
              "  </tbody>\n",
              "</table>\n",
              "</div>"
            ],
            "text/plain": [
              "              rating\n",
              "count  573913.000000\n",
              "mean        6.954254\n",
              "std         2.956295\n",
              "min         1.000000\n",
              "25%         5.000000\n",
              "50%         8.000000\n",
              "75%        10.000000\n",
              "max        10.000000"
            ]
          },
          "metadata": {
            "tags": []
          },
          "execution_count": 15
        }
      ]
    },
    {
      "cell_type": "code",
      "metadata": {
        "colab": {
          "base_uri": "https://localhost:8080/"
        },
        "id": "D9WBnTpVaf23",
        "outputId": "bf870ba7-e1f2-4561-9160-98977cec3700"
      },
      "source": [
        "df_details.head()"
      ],
      "execution_count": null,
      "outputs": [
        {
          "output_type": "execute_result",
          "data": {
            "text/html": [
              "<div>\n",
              "<style scoped>\n",
              "    .dataframe tbody tr th:only-of-type {\n",
              "        vertical-align: middle;\n",
              "    }\n",
              "\n",
              "    .dataframe tbody tr th {\n",
              "        vertical-align: top;\n",
              "    }\n",
              "\n",
              "    .dataframe thead th {\n",
              "        text-align: right;\n",
              "    }\n",
              "</style>\n",
              "<table border=\"1\" class=\"dataframe\">\n",
              "  <thead>\n",
              "    <tr style=\"text-align: right;\">\n",
              "      <th></th>\n",
              "      <th>movie_id</th>\n",
              "      <th>plot_summary</th>\n",
              "      <th>duration</th>\n",
              "      <th>genre</th>\n",
              "      <th>rating</th>\n",
              "      <th>release_date</th>\n",
              "      <th>plot_synopsis</th>\n",
              "    </tr>\n",
              "  </thead>\n",
              "  <tbody>\n",
              "    <tr>\n",
              "      <th>0</th>\n",
              "      <td>tt0105112</td>\n",
              "      <td>Former CIA analyst, Jack Ryan is in England wi...</td>\n",
              "      <td>1h 57min</td>\n",
              "      <td>[Action, Thriller]</td>\n",
              "      <td>6.9</td>\n",
              "      <td>1992-06-05</td>\n",
              "      <td>Jack Ryan (Ford) is on a \"working vacation\" in...</td>\n",
              "    </tr>\n",
              "    <tr>\n",
              "      <th>1</th>\n",
              "      <td>tt1204975</td>\n",
              "      <td>Billy (Michael Douglas), Paddy (Robert De Niro...</td>\n",
              "      <td>1h 45min</td>\n",
              "      <td>[Comedy]</td>\n",
              "      <td>6.6</td>\n",
              "      <td>2013-11-01</td>\n",
              "      <td>Four boys around the age of 10 are friends in ...</td>\n",
              "    </tr>\n",
              "    <tr>\n",
              "      <th>2</th>\n",
              "      <td>tt0243655</td>\n",
              "      <td>The setting is Camp Firewood, the year 1981. I...</td>\n",
              "      <td>1h 37min</td>\n",
              "      <td>[Comedy, Romance]</td>\n",
              "      <td>6.7</td>\n",
              "      <td>2002-04-11</td>\n",
              "      <td></td>\n",
              "    </tr>\n",
              "    <tr>\n",
              "      <th>3</th>\n",
              "      <td>tt0040897</td>\n",
              "      <td>Fred C. Dobbs and Bob Curtin, both down on the...</td>\n",
              "      <td>2h 6min</td>\n",
              "      <td>[Adventure, Drama, Western]</td>\n",
              "      <td>8.3</td>\n",
              "      <td>1948-01-24</td>\n",
              "      <td>Fred Dobbs (Humphrey Bogart) and Bob Curtin (T...</td>\n",
              "    </tr>\n",
              "    <tr>\n",
              "      <th>4</th>\n",
              "      <td>tt0126886</td>\n",
              "      <td>Tracy Flick is running unopposed for this year...</td>\n",
              "      <td>1h 43min</td>\n",
              "      <td>[Comedy, Drama, Romance]</td>\n",
              "      <td>7.3</td>\n",
              "      <td>1999-05-07</td>\n",
              "      <td>Jim McAllister (Matthew Broderick) is a much-a...</td>\n",
              "    </tr>\n",
              "  </tbody>\n",
              "</table>\n",
              "</div>"
            ],
            "text/plain": [
              "    movie_id                                       plot_summary  duration  \\\n",
              "0  tt0105112  Former CIA analyst, Jack Ryan is in England wi...  1h 57min   \n",
              "1  tt1204975  Billy (Michael Douglas), Paddy (Robert De Niro...  1h 45min   \n",
              "2  tt0243655  The setting is Camp Firewood, the year 1981. I...  1h 37min   \n",
              "3  tt0040897  Fred C. Dobbs and Bob Curtin, both down on the...   2h 6min   \n",
              "4  tt0126886  Tracy Flick is running unopposed for this year...  1h 43min   \n",
              "\n",
              "                         genre  rating release_date  \\\n",
              "0           [Action, Thriller]     6.9   1992-06-05   \n",
              "1                     [Comedy]     6.6   2013-11-01   \n",
              "2            [Comedy, Romance]     6.7   2002-04-11   \n",
              "3  [Adventure, Drama, Western]     8.3   1948-01-24   \n",
              "4     [Comedy, Drama, Romance]     7.3   1999-05-07   \n",
              "\n",
              "                                       plot_synopsis  \n",
              "0  Jack Ryan (Ford) is on a \"working vacation\" in...  \n",
              "1  Four boys around the age of 10 are friends in ...  \n",
              "2                                                     \n",
              "3  Fred Dobbs (Humphrey Bogart) and Bob Curtin (T...  \n",
              "4  Jim McAllister (Matthew Broderick) is a much-a...  "
            ]
          },
          "metadata": {
            "tags": []
          },
          "execution_count": 16
        }
      ]
    },
    {
      "cell_type": "code",
      "metadata": {
        "colab": {
          "base_uri": "https://localhost:8080/"
        },
        "id": "lDY8vyudGX8n",
        "outputId": "642e5dba-0c45-4ba0-aeeb-7a0e172f82e1"
      },
      "source": [
        "df_details.info()"
      ],
      "execution_count": null,
      "outputs": [
        {
          "output_type": "stream",
          "text": [
            "<class 'pandas.core.frame.DataFrame'>\n",
            "RangeIndex: 1572 entries, 0 to 1571\n",
            "Data columns (total 7 columns):\n",
            " #   Column         Non-Null Count  Dtype  \n",
            "---  ------         --------------  -----  \n",
            " 0   movie_id       1572 non-null   object \n",
            " 1   plot_summary   1572 non-null   object \n",
            " 2   duration       1572 non-null   object \n",
            " 3   genre          1572 non-null   object \n",
            " 4   rating         1572 non-null   float64\n",
            " 5   release_date   1572 non-null   object \n",
            " 6   plot_synopsis  1572 non-null   object \n",
            "dtypes: float64(1), object(6)\n",
            "memory usage: 86.1+ KB\n"
          ],
          "name": "stdout"
        }
      ]
    },
    {
      "cell_type": "code",
      "metadata": {
        "colab": {
          "base_uri": "https://localhost:8080/"
        },
        "id": "oAP3v3xHGaxR",
        "outputId": "b02dae8d-0522-4b55-aac8-c62a554e931e"
      },
      "source": [
        "df_details.describe()"
      ],
      "execution_count": null,
      "outputs": [
        {
          "output_type": "execute_result",
          "data": {
            "text/html": [
              "<div>\n",
              "<style scoped>\n",
              "    .dataframe tbody tr th:only-of-type {\n",
              "        vertical-align: middle;\n",
              "    }\n",
              "\n",
              "    .dataframe tbody tr th {\n",
              "        vertical-align: top;\n",
              "    }\n",
              "\n",
              "    .dataframe thead th {\n",
              "        text-align: right;\n",
              "    }\n",
              "</style>\n",
              "<table border=\"1\" class=\"dataframe\">\n",
              "  <thead>\n",
              "    <tr style=\"text-align: right;\">\n",
              "      <th></th>\n",
              "      <th>rating</th>\n",
              "    </tr>\n",
              "  </thead>\n",
              "  <tbody>\n",
              "    <tr>\n",
              "      <th>count</th>\n",
              "      <td>1572.000000</td>\n",
              "    </tr>\n",
              "    <tr>\n",
              "      <th>mean</th>\n",
              "      <td>7.071819</td>\n",
              "    </tr>\n",
              "    <tr>\n",
              "      <th>std</th>\n",
              "      <td>0.967966</td>\n",
              "    </tr>\n",
              "    <tr>\n",
              "      <th>min</th>\n",
              "      <td>2.400000</td>\n",
              "    </tr>\n",
              "    <tr>\n",
              "      <th>25%</th>\n",
              "      <td>6.500000</td>\n",
              "    </tr>\n",
              "    <tr>\n",
              "      <th>50%</th>\n",
              "      <td>7.100000</td>\n",
              "    </tr>\n",
              "    <tr>\n",
              "      <th>75%</th>\n",
              "      <td>7.800000</td>\n",
              "    </tr>\n",
              "    <tr>\n",
              "      <th>max</th>\n",
              "      <td>9.500000</td>\n",
              "    </tr>\n",
              "  </tbody>\n",
              "</table>\n",
              "</div>"
            ],
            "text/plain": [
              "            rating\n",
              "count  1572.000000\n",
              "mean      7.071819\n",
              "std       0.967966\n",
              "min       2.400000\n",
              "25%       6.500000\n",
              "50%       7.100000\n",
              "75%       7.800000\n",
              "max       9.500000"
            ]
          },
          "metadata": {
            "tags": []
          },
          "execution_count": 18
        }
      ]
    },
    {
      "cell_type": "code",
      "metadata": {
        "colab": {
          "base_uri": "https://localhost:8080/"
        },
        "id": "sxv7DVENprhf",
        "outputId": "1b01e420-891a-46f2-e292-5083d70fa5ad"
      },
      "source": [
        "print(df_reviews.columns)\n",
        "print(df_details.columns)"
      ],
      "execution_count": null,
      "outputs": [
        {
          "output_type": "stream",
          "text": [
            "Index(['review_date', 'movie_id', 'user_id', 'is_spoiler', 'review_text',\n",
            "       'rating', 'review_summary'],\n",
            "      dtype='object')\n",
            "Index(['movie_id', 'plot_summary', 'duration', 'genre', 'rating',\n",
            "       'release_date', 'plot_synopsis'],\n",
            "      dtype='object')\n"
          ],
          "name": "stdout"
        }
      ]
    },
    {
      "cell_type": "markdown",
      "metadata": {
        "id": "BQLVAAMqpm5S"
      },
      "source": [
        "df_reviews consists of info about the reviews by the users and  df_details has the info about the movie so we will combine both these tables to get a better formulated table with movie and review info corresponding each user review."
      ]
    },
    {
      "cell_type": "code",
      "metadata": {
        "id": "-PyMt8JMSNn1"
      },
      "source": [
        "df_reviews[\"movie_id\"]=df_reviews.movie_id.str.slice(2)\n"
      ],
      "execution_count": null,
      "outputs": []
    },
    {
      "cell_type": "code",
      "metadata": {
        "id": "m0vqkG9lGkqS"
      },
      "source": [
        "df_details[\"movie_id\"]=df_details.movie_id.str.slice(2)\n"
      ],
      "execution_count": null,
      "outputs": []
    },
    {
      "cell_type": "code",
      "metadata": {
        "id": "rY4wKRSha3wZ"
      },
      "source": [
        "df=pd.merge(df_reviews,df_details,on='movie_id')"
      ],
      "execution_count": null,
      "outputs": []
    },
    {
      "cell_type": "markdown",
      "metadata": {
        "id": "61EwWYrSqaiS"
      },
      "source": [
        "As 'movie_id' column is common key in both tables we will merge using this column."
      ]
    },
    {
      "cell_type": "code",
      "metadata": {
        "colab": {
          "base_uri": "https://localhost:8080/"
        },
        "id": "4_ud-o1tb1fx",
        "outputId": "25d353d0-a377-4efa-9169-832feb8b92d5"
      },
      "source": [
        "df.columns"
      ],
      "execution_count": null,
      "outputs": [
        {
          "output_type": "execute_result",
          "data": {
            "text/plain": [
              "Index(['review_date', 'movie_id', 'user_id', 'is_spoiler', 'review_text',\n",
              "       'rating_x', 'review_summary', 'plot_summary', 'duration', 'genre',\n",
              "       'rating_y', 'release_date', 'plot_synopsis'],\n",
              "      dtype='object')"
            ]
          },
          "metadata": {
            "tags": []
          },
          "execution_count": 25
        }
      ]
    },
    {
      "cell_type": "code",
      "metadata": {
        "colab": {
          "base_uri": "https://localhost:8080/"
        },
        "id": "h5b-F2V9dn87",
        "outputId": "111ba73d-f3bd-45fc-8ee5-f0d3e69ab5e6"
      },
      "source": [
        "df.head()"
      ],
      "execution_count": null,
      "outputs": [
        {
          "output_type": "execute_result",
          "data": {
            "text/html": [
              "<div>\n",
              "<style scoped>\n",
              "    .dataframe tbody tr th:only-of-type {\n",
              "        vertical-align: middle;\n",
              "    }\n",
              "\n",
              "    .dataframe tbody tr th {\n",
              "        vertical-align: top;\n",
              "    }\n",
              "\n",
              "    .dataframe thead th {\n",
              "        text-align: right;\n",
              "    }\n",
              "</style>\n",
              "<table border=\"1\" class=\"dataframe\">\n",
              "  <thead>\n",
              "    <tr style=\"text-align: right;\">\n",
              "      <th></th>\n",
              "      <th>review_date</th>\n",
              "      <th>movie_id</th>\n",
              "      <th>user_id</th>\n",
              "      <th>is_spoiler</th>\n",
              "      <th>review_text</th>\n",
              "      <th>rating_x</th>\n",
              "      <th>review_summary</th>\n",
              "      <th>plot_summary</th>\n",
              "      <th>duration</th>\n",
              "      <th>genre</th>\n",
              "      <th>rating_y</th>\n",
              "      <th>release_date</th>\n",
              "      <th>plot_synopsis</th>\n",
              "    </tr>\n",
              "  </thead>\n",
              "  <tbody>\n",
              "    <tr>\n",
              "      <th>0</th>\n",
              "      <td>10 February 2006</td>\n",
              "      <td>0111161</td>\n",
              "      <td>ur1898687</td>\n",
              "      <td>True</td>\n",
              "      <td>In its Oscar year, Shawshank Redemption (writt...</td>\n",
              "      <td>10</td>\n",
              "      <td>A classic piece of unforgettable film-making.</td>\n",
              "      <td>Chronicles the experiences of a formerly succe...</td>\n",
              "      <td>2h 22min</td>\n",
              "      <td>[Crime, Drama]</td>\n",
              "      <td>9.3</td>\n",
              "      <td>1994-10-14</td>\n",
              "      <td>In 1947, Andy Dufresne (Tim Robbins), a banker...</td>\n",
              "    </tr>\n",
              "    <tr>\n",
              "      <th>1</th>\n",
              "      <td>6 September 2000</td>\n",
              "      <td>0111161</td>\n",
              "      <td>ur0842118</td>\n",
              "      <td>True</td>\n",
              "      <td>The Shawshank Redemption is without a doubt on...</td>\n",
              "      <td>10</td>\n",
              "      <td>Simply amazing. The best film of the 90's.</td>\n",
              "      <td>Chronicles the experiences of a formerly succe...</td>\n",
              "      <td>2h 22min</td>\n",
              "      <td>[Crime, Drama]</td>\n",
              "      <td>9.3</td>\n",
              "      <td>1994-10-14</td>\n",
              "      <td>In 1947, Andy Dufresne (Tim Robbins), a banker...</td>\n",
              "    </tr>\n",
              "    <tr>\n",
              "      <th>2</th>\n",
              "      <td>3 August 2001</td>\n",
              "      <td>0111161</td>\n",
              "      <td>ur1285640</td>\n",
              "      <td>True</td>\n",
              "      <td>I believe that this film is the best story eve...</td>\n",
              "      <td>8</td>\n",
              "      <td>The best story ever told on film</td>\n",
              "      <td>Chronicles the experiences of a formerly succe...</td>\n",
              "      <td>2h 22min</td>\n",
              "      <td>[Crime, Drama]</td>\n",
              "      <td>9.3</td>\n",
              "      <td>1994-10-14</td>\n",
              "      <td>In 1947, Andy Dufresne (Tim Robbins), a banker...</td>\n",
              "    </tr>\n",
              "    <tr>\n",
              "      <th>3</th>\n",
              "      <td>1 September 2002</td>\n",
              "      <td>0111161</td>\n",
              "      <td>ur1003471</td>\n",
              "      <td>True</td>\n",
              "      <td>**Yes, there are SPOILERS here**This film has ...</td>\n",
              "      <td>10</td>\n",
              "      <td>Busy dying or busy living?</td>\n",
              "      <td>Chronicles the experiences of a formerly succe...</td>\n",
              "      <td>2h 22min</td>\n",
              "      <td>[Crime, Drama]</td>\n",
              "      <td>9.3</td>\n",
              "      <td>1994-10-14</td>\n",
              "      <td>In 1947, Andy Dufresne (Tim Robbins), a banker...</td>\n",
              "    </tr>\n",
              "    <tr>\n",
              "      <th>4</th>\n",
              "      <td>20 May 2004</td>\n",
              "      <td>0111161</td>\n",
              "      <td>ur0226855</td>\n",
              "      <td>True</td>\n",
              "      <td>At the heart of this extraordinary movie is a ...</td>\n",
              "      <td>8</td>\n",
              "      <td>Great story, wondrously told and acted</td>\n",
              "      <td>Chronicles the experiences of a formerly succe...</td>\n",
              "      <td>2h 22min</td>\n",
              "      <td>[Crime, Drama]</td>\n",
              "      <td>9.3</td>\n",
              "      <td>1994-10-14</td>\n",
              "      <td>In 1947, Andy Dufresne (Tim Robbins), a banker...</td>\n",
              "    </tr>\n",
              "  </tbody>\n",
              "</table>\n",
              "</div>"
            ],
            "text/plain": [
              "        review_date movie_id    user_id  is_spoiler  \\\n",
              "0  10 February 2006  0111161  ur1898687        True   \n",
              "1  6 September 2000  0111161  ur0842118        True   \n",
              "2     3 August 2001  0111161  ur1285640        True   \n",
              "3  1 September 2002  0111161  ur1003471        True   \n",
              "4       20 May 2004  0111161  ur0226855        True   \n",
              "\n",
              "                                         review_text  rating_x  \\\n",
              "0  In its Oscar year, Shawshank Redemption (writt...        10   \n",
              "1  The Shawshank Redemption is without a doubt on...        10   \n",
              "2  I believe that this film is the best story eve...         8   \n",
              "3  **Yes, there are SPOILERS here**This film has ...        10   \n",
              "4  At the heart of this extraordinary movie is a ...         8   \n",
              "\n",
              "                                  review_summary  \\\n",
              "0  A classic piece of unforgettable film-making.   \n",
              "1     Simply amazing. The best film of the 90's.   \n",
              "2               The best story ever told on film   \n",
              "3                     Busy dying or busy living?   \n",
              "4         Great story, wondrously told and acted   \n",
              "\n",
              "                                        plot_summary  duration  \\\n",
              "0  Chronicles the experiences of a formerly succe...  2h 22min   \n",
              "1  Chronicles the experiences of a formerly succe...  2h 22min   \n",
              "2  Chronicles the experiences of a formerly succe...  2h 22min   \n",
              "3  Chronicles the experiences of a formerly succe...  2h 22min   \n",
              "4  Chronicles the experiences of a formerly succe...  2h 22min   \n",
              "\n",
              "            genre  rating_y release_date  \\\n",
              "0  [Crime, Drama]       9.3   1994-10-14   \n",
              "1  [Crime, Drama]       9.3   1994-10-14   \n",
              "2  [Crime, Drama]       9.3   1994-10-14   \n",
              "3  [Crime, Drama]       9.3   1994-10-14   \n",
              "4  [Crime, Drama]       9.3   1994-10-14   \n",
              "\n",
              "                                       plot_synopsis  \n",
              "0  In 1947, Andy Dufresne (Tim Robbins), a banker...  \n",
              "1  In 1947, Andy Dufresne (Tim Robbins), a banker...  \n",
              "2  In 1947, Andy Dufresne (Tim Robbins), a banker...  \n",
              "3  In 1947, Andy Dufresne (Tim Robbins), a banker...  \n",
              "4  In 1947, Andy Dufresne (Tim Robbins), a banker...  "
            ]
          },
          "metadata": {
            "tags": []
          },
          "execution_count": 26
        }
      ]
    },
    {
      "cell_type": "code",
      "metadata": {
        "id": "rHfb6-0Zb1bv"
      },
      "source": [
        "df.rename(columns = {'rating_x':'userrating','rating_y':'actualrating'}, inplace = True)"
      ],
      "execution_count": null,
      "outputs": []
    },
    {
      "cell_type": "code",
      "metadata": {
        "id": "GMHylc-ab1WN"
      },
      "source": [
        "df['is_spoiler']=df['is_spoiler']+0"
      ],
      "execution_count": null,
      "outputs": []
    },
    {
      "cell_type": "markdown",
      "metadata": {
        "id": "mvvIjD8vqwnW"
      },
      "source": [
        "Coverting 'is_spoiler' values into *int* values"
      ]
    },
    {
      "cell_type": "code",
      "metadata": {
        "colab": {
          "base_uri": "https://localhost:8080/"
        },
        "id": "dcdaPlI1mVly",
        "outputId": "413b1565-e2a7-4205-8e92-658f6e9e78ee"
      },
      "source": [
        "df.head()"
      ],
      "execution_count": null,
      "outputs": [
        {
          "output_type": "execute_result",
          "data": {
            "text/html": [
              "<div>\n",
              "<style scoped>\n",
              "    .dataframe tbody tr th:only-of-type {\n",
              "        vertical-align: middle;\n",
              "    }\n",
              "\n",
              "    .dataframe tbody tr th {\n",
              "        vertical-align: top;\n",
              "    }\n",
              "\n",
              "    .dataframe thead th {\n",
              "        text-align: right;\n",
              "    }\n",
              "</style>\n",
              "<table border=\"1\" class=\"dataframe\">\n",
              "  <thead>\n",
              "    <tr style=\"text-align: right;\">\n",
              "      <th></th>\n",
              "      <th>review_date</th>\n",
              "      <th>movie_id</th>\n",
              "      <th>user_id</th>\n",
              "      <th>is_spoiler</th>\n",
              "      <th>review_text</th>\n",
              "      <th>userrating</th>\n",
              "      <th>review_summary</th>\n",
              "      <th>plot_summary</th>\n",
              "      <th>duration</th>\n",
              "      <th>genre</th>\n",
              "      <th>actualrating</th>\n",
              "      <th>release_date</th>\n",
              "      <th>plot_synopsis</th>\n",
              "    </tr>\n",
              "  </thead>\n",
              "  <tbody>\n",
              "    <tr>\n",
              "      <th>0</th>\n",
              "      <td>10 February 2006</td>\n",
              "      <td>0111161</td>\n",
              "      <td>ur1898687</td>\n",
              "      <td>1</td>\n",
              "      <td>In its Oscar year, Shawshank Redemption (writt...</td>\n",
              "      <td>10</td>\n",
              "      <td>A classic piece of unforgettable film-making.</td>\n",
              "      <td>Chronicles the experiences of a formerly succe...</td>\n",
              "      <td>2h 22min</td>\n",
              "      <td>[Crime, Drama]</td>\n",
              "      <td>9.3</td>\n",
              "      <td>1994-10-14</td>\n",
              "      <td>In 1947, Andy Dufresne (Tim Robbins), a banker...</td>\n",
              "    </tr>\n",
              "    <tr>\n",
              "      <th>1</th>\n",
              "      <td>6 September 2000</td>\n",
              "      <td>0111161</td>\n",
              "      <td>ur0842118</td>\n",
              "      <td>1</td>\n",
              "      <td>The Shawshank Redemption is without a doubt on...</td>\n",
              "      <td>10</td>\n",
              "      <td>Simply amazing. The best film of the 90's.</td>\n",
              "      <td>Chronicles the experiences of a formerly succe...</td>\n",
              "      <td>2h 22min</td>\n",
              "      <td>[Crime, Drama]</td>\n",
              "      <td>9.3</td>\n",
              "      <td>1994-10-14</td>\n",
              "      <td>In 1947, Andy Dufresne (Tim Robbins), a banker...</td>\n",
              "    </tr>\n",
              "    <tr>\n",
              "      <th>2</th>\n",
              "      <td>3 August 2001</td>\n",
              "      <td>0111161</td>\n",
              "      <td>ur1285640</td>\n",
              "      <td>1</td>\n",
              "      <td>I believe that this film is the best story eve...</td>\n",
              "      <td>8</td>\n",
              "      <td>The best story ever told on film</td>\n",
              "      <td>Chronicles the experiences of a formerly succe...</td>\n",
              "      <td>2h 22min</td>\n",
              "      <td>[Crime, Drama]</td>\n",
              "      <td>9.3</td>\n",
              "      <td>1994-10-14</td>\n",
              "      <td>In 1947, Andy Dufresne (Tim Robbins), a banker...</td>\n",
              "    </tr>\n",
              "    <tr>\n",
              "      <th>3</th>\n",
              "      <td>1 September 2002</td>\n",
              "      <td>0111161</td>\n",
              "      <td>ur1003471</td>\n",
              "      <td>1</td>\n",
              "      <td>**Yes, there are SPOILERS here**This film has ...</td>\n",
              "      <td>10</td>\n",
              "      <td>Busy dying or busy living?</td>\n",
              "      <td>Chronicles the experiences of a formerly succe...</td>\n",
              "      <td>2h 22min</td>\n",
              "      <td>[Crime, Drama]</td>\n",
              "      <td>9.3</td>\n",
              "      <td>1994-10-14</td>\n",
              "      <td>In 1947, Andy Dufresne (Tim Robbins), a banker...</td>\n",
              "    </tr>\n",
              "    <tr>\n",
              "      <th>4</th>\n",
              "      <td>20 May 2004</td>\n",
              "      <td>0111161</td>\n",
              "      <td>ur0226855</td>\n",
              "      <td>1</td>\n",
              "      <td>At the heart of this extraordinary movie is a ...</td>\n",
              "      <td>8</td>\n",
              "      <td>Great story, wondrously told and acted</td>\n",
              "      <td>Chronicles the experiences of a formerly succe...</td>\n",
              "      <td>2h 22min</td>\n",
              "      <td>[Crime, Drama]</td>\n",
              "      <td>9.3</td>\n",
              "      <td>1994-10-14</td>\n",
              "      <td>In 1947, Andy Dufresne (Tim Robbins), a banker...</td>\n",
              "    </tr>\n",
              "  </tbody>\n",
              "</table>\n",
              "</div>"
            ],
            "text/plain": [
              "        review_date movie_id    user_id  is_spoiler  \\\n",
              "0  10 February 2006  0111161  ur1898687           1   \n",
              "1  6 September 2000  0111161  ur0842118           1   \n",
              "2     3 August 2001  0111161  ur1285640           1   \n",
              "3  1 September 2002  0111161  ur1003471           1   \n",
              "4       20 May 2004  0111161  ur0226855           1   \n",
              "\n",
              "                                         review_text  userrating  \\\n",
              "0  In its Oscar year, Shawshank Redemption (writt...          10   \n",
              "1  The Shawshank Redemption is without a doubt on...          10   \n",
              "2  I believe that this film is the best story eve...           8   \n",
              "3  **Yes, there are SPOILERS here**This film has ...          10   \n",
              "4  At the heart of this extraordinary movie is a ...           8   \n",
              "\n",
              "                                  review_summary  \\\n",
              "0  A classic piece of unforgettable film-making.   \n",
              "1     Simply amazing. The best film of the 90's.   \n",
              "2               The best story ever told on film   \n",
              "3                     Busy dying or busy living?   \n",
              "4         Great story, wondrously told and acted   \n",
              "\n",
              "                                        plot_summary  duration  \\\n",
              "0  Chronicles the experiences of a formerly succe...  2h 22min   \n",
              "1  Chronicles the experiences of a formerly succe...  2h 22min   \n",
              "2  Chronicles the experiences of a formerly succe...  2h 22min   \n",
              "3  Chronicles the experiences of a formerly succe...  2h 22min   \n",
              "4  Chronicles the experiences of a formerly succe...  2h 22min   \n",
              "\n",
              "            genre  actualrating release_date  \\\n",
              "0  [Crime, Drama]           9.3   1994-10-14   \n",
              "1  [Crime, Drama]           9.3   1994-10-14   \n",
              "2  [Crime, Drama]           9.3   1994-10-14   \n",
              "3  [Crime, Drama]           9.3   1994-10-14   \n",
              "4  [Crime, Drama]           9.3   1994-10-14   \n",
              "\n",
              "                                       plot_synopsis  \n",
              "0  In 1947, Andy Dufresne (Tim Robbins), a banker...  \n",
              "1  In 1947, Andy Dufresne (Tim Robbins), a banker...  \n",
              "2  In 1947, Andy Dufresne (Tim Robbins), a banker...  \n",
              "3  In 1947, Andy Dufresne (Tim Robbins), a banker...  \n",
              "4  In 1947, Andy Dufresne (Tim Robbins), a banker...  "
            ]
          },
          "metadata": {
            "tags": []
          },
          "execution_count": 29
        }
      ]
    },
    {
      "cell_type": "code",
      "metadata": {
        "colab": {
          "base_uri": "https://localhost:8080/"
        },
        "id": "l6Y3ybHPq8E-",
        "outputId": "709fb2d4-aafb-450f-d558-c0ef3cf106e2"
      },
      "source": [
        "df.info()"
      ],
      "execution_count": null,
      "outputs": [
        {
          "output_type": "stream",
          "text": [
            "<class 'pandas.core.frame.DataFrame'>\n",
            "Int64Index: 573906 entries, 0 to 573905\n",
            "Data columns (total 13 columns):\n",
            " #   Column          Non-Null Count   Dtype  \n",
            "---  ------          --------------   -----  \n",
            " 0   review_date     573906 non-null  object \n",
            " 1   movie_id        573906 non-null  object \n",
            " 2   user_id         573906 non-null  object \n",
            " 3   is_spoiler      573906 non-null  int64  \n",
            " 4   review_text     573906 non-null  object \n",
            " 5   userrating      573906 non-null  int64  \n",
            " 6   review_summary  573906 non-null  object \n",
            " 7   plot_summary    573906 non-null  object \n",
            " 8   duration        573906 non-null  object \n",
            " 9   genre           573906 non-null  object \n",
            " 10  actualrating    573906 non-null  float64\n",
            " 11  release_date    573906 non-null  object \n",
            " 12  plot_synopsis   573906 non-null  object \n",
            "dtypes: float64(1), int64(2), object(10)\n",
            "memory usage: 61.3+ MB\n"
          ],
          "name": "stdout"
        }
      ]
    },
    {
      "cell_type": "code",
      "metadata": {
        "id": "hITVwOpx6y08"
      },
      "source": [
        "df[\"review_date\"]=pd.to_datetime(df[\"review_date\"])\n",
        "df[\"release_date\"]=pd.to_datetime(df[\"release_date\"])"
      ],
      "execution_count": null,
      "outputs": []
    },
    {
      "cell_type": "markdown",
      "metadata": {
        "id": "wGuIujawrIhV"
      },
      "source": [
        "Converting both review and release date columns to *datetime* type for better analysis"
      ]
    },
    {
      "cell_type": "markdown",
      "metadata": {
        "id": "IeBv6XoLA4ui"
      },
      "source": [
        "Let's check  if there are any underlying missing values in the dataset "
      ]
    },
    {
      "cell_type": "code",
      "metadata": {
        "colab": {
          "base_uri": "https://localhost:8080/"
        },
        "id": "G3TVX-zOrfJJ",
        "outputId": "ec19079a-abfd-4398-db29-4b0a64f6e082"
      },
      "source": [
        "df[df.isna().any(axis=1)==True]"
      ],
      "execution_count": null,
      "outputs": [
        {
          "output_type": "execute_result",
          "data": {
            "text/html": [
              "<div>\n",
              "<style scoped>\n",
              "    .dataframe tbody tr th:only-of-type {\n",
              "        vertical-align: middle;\n",
              "    }\n",
              "\n",
              "    .dataframe tbody tr th {\n",
              "        vertical-align: top;\n",
              "    }\n",
              "\n",
              "    .dataframe thead th {\n",
              "        text-align: right;\n",
              "    }\n",
              "</style>\n",
              "<table border=\"1\" class=\"dataframe\">\n",
              "  <thead>\n",
              "    <tr style=\"text-align: right;\">\n",
              "      <th></th>\n",
              "      <th>review_date</th>\n",
              "      <th>movie_id</th>\n",
              "      <th>user_id</th>\n",
              "      <th>is_spoiler</th>\n",
              "      <th>review_text</th>\n",
              "      <th>userrating</th>\n",
              "      <th>review_summary</th>\n",
              "      <th>plot_summary</th>\n",
              "      <th>duration</th>\n",
              "      <th>genre</th>\n",
              "      <th>actualrating</th>\n",
              "      <th>release_date</th>\n",
              "      <th>plot_synopsis</th>\n",
              "    </tr>\n",
              "  </thead>\n",
              "  <tbody>\n",
              "  </tbody>\n",
              "</table>\n",
              "</div>"
            ],
            "text/plain": [
              "Empty DataFrame\n",
              "Columns: [review_date, movie_id, user_id, is_spoiler, review_text, userrating, review_summary, plot_summary, duration, genre, actualrating, release_date, plot_synopsis]\n",
              "Index: []"
            ]
          },
          "metadata": {
            "tags": []
          },
          "execution_count": 34
        }
      ]
    },
    {
      "cell_type": "markdown",
      "metadata": {
        "id": "hzhhL7GZrk2i"
      },
      "source": [
        "No missing values were found in the dataset"
      ]
    },
    {
      "cell_type": "code",
      "metadata": {
        "colab": {
          "base_uri": "https://localhost:8080/"
        },
        "id": "_tHEqRHCwBue",
        "outputId": "7ae2d2e7-1ef7-4632-9c48-1f4226115346"
      },
      "source": [
        "df[[\"userrating\",\"actualrating\",\"is_spoiler\"]].hist()"
      ],
      "execution_count": null,
      "outputs": [
        {
          "output_type": "execute_result",
          "data": {
            "text/plain": [
              "array([[<matplotlib.axes._subplots.AxesSubplot object at 0x7f90a0ff98d0>,\n",
              "        <matplotlib.axes._subplots.AxesSubplot object at 0x7f90a12fde50>],\n",
              "       [<matplotlib.axes._subplots.AxesSubplot object at 0x7f90a13dea10>,\n",
              "        <matplotlib.axes._subplots.AxesSubplot object at 0x7f90a15ff650>]],\n",
              "      dtype=object)"
            ]
          },
          "metadata": {
            "tags": []
          },
          "execution_count": 39
        },
        {
          "output_type": "display_data",
          "data": {
            "image/png": "[encoded data removed]",
            "text/plain": [
              "<Figure size 432x288 with 4 Axes>"
            ]
          },
          "metadata": {
            "tags": [],
            "needs_background": "light"
          }
        }
      ]
    },
    {
      "cell_type": "markdown",
      "metadata": {
        "id": "8wch3AfwU_r0"
      },
      "source": [
        "Above graph shows distribution of data for the features such as userrating,actualrating and is_spoiler.\n",
        "All the values here seems reasonable as rating has range 0-10 and is_spoiler can only have either 0 or 1 value."
      ]
    },
    {
      "cell_type": "code",
      "metadata": {
        "colab": {
          "base_uri": "https://localhost:8080/"
        },
        "id": "xf6pginSifGb",
        "outputId": "c13c8cc2-62c3-4d61-d3ba-a7d3045fa5c6"
      },
      "source": [
        "print('Total no. of reviews:' , len(df))"
      ],
      "execution_count": null,
      "outputs": [
        {
          "output_type": "stream",
          "text": [
            "Total no. of reviews: 573906\n"
          ],
          "name": "stdout"
        }
      ]
    },
    {
      "cell_type": "code",
      "metadata": {
        "colab": {
          "base_uri": "https://localhost:8080/"
        },
        "id": "ruvkAvuHi8K-",
        "outputId": "a3a6b628-1cd1-408b-e213-6bc5156c7ffe"
      },
      "source": [
        "print(\"Total no. of users who gave reviews:\",df['user_id'].nunique() )"
      ],
      "execution_count": null,
      "outputs": [
        {
          "output_type": "stream",
          "text": [
            "Total no. of users who gave reviews: 263404\n"
          ],
          "name": "stdout"
        }
      ]
    },
    {
      "cell_type": "code",
      "metadata": {
        "colab": {
          "base_uri": "https://localhost:8080/"
        },
        "id": "uAnazPoFFBjf",
        "outputId": "7bab75bc-5421-4c63-fb0e-cc579acd603d"
      },
      "source": [
        "print('Total films in dataset :', df['movie_id'].nunique())"
      ],
      "execution_count": null,
      "outputs": [
        {
          "output_type": "stream",
          "text": [
            "Total films in dataset : 1570\n"
          ],
          "name": "stdout"
        }
      ]
    },
    {
      "cell_type": "markdown",
      "metadata": {
        "id": "EwKj2XhSBEZy"
      },
      "source": [
        "Now lets have a look at data heat map to see if the features bear any correlation wrt eachother "
      ]
    },
    {
      "cell_type": "code",
      "metadata": {
        "colab": {
          "base_uri": "https://localhost:8080/"
        },
        "id": "pN4Vkmsw8bzR",
        "outputId": "7f61e9a9-6375-4db6-b9db-24dcbde783ce"
      },
      "source": [
        "#correlation matrix\n",
        "corrmat = df.corr()\n",
        "fig = plt.figure(figsize = (12, 9))\n",
        "sns.heatmap(corrmat, vmax=.8, square=True);\n",
        "plt.show()"
      ],
      "execution_count": null,
      "outputs": [
        {
          "output_type": "display_data",
          "data": {
            "image/png": "[encoded data removed]",
            "text/plain": [
              "<Figure size 864x648 with 2 Axes>"
            ]
          },
          "metadata": {
            "tags": [],
            "needs_background": "light"
          }
        }
      ]
    },
    {
      "cell_type": "markdown",
      "metadata": {
        "id": "uJ7REwKqBSwd"
      },
      "source": [
        "as can be see from the heatmap that there is quite little direct correlation existing  amongst the features "
      ]
    },
    {
      "cell_type": "markdown",
      "metadata": {
        "id": "I89KCHFSBeJA"
      },
      "source": [
        "Lets have a look at distribution of movie's actual rating wrt the reviews containing spoilers and not containing spoilers"
      ]
    },
    {
      "cell_type": "code",
      "metadata": {
        "colab": {
          "base_uri": "https://localhost:8080/",
          "height": 299
        },
        "id": "pksquFetTf5v",
        "outputId": "410f8610-9402-4707-c14f-f7c2623f85d7"
      },
      "source": [
        "print(\"Distribution of rating across all movie reviews:\")\n",
        "df[df[\"is_spoiler\"]==0]['actualrating'].plot(kind='hist')"
      ],
      "execution_count": null,
      "outputs": [
        {
          "output_type": "stream",
          "text": [
            "Distribution of rating across all movie reviews:\n"
          ],
          "name": "stdout"
        },
        {
          "output_type": "execute_result",
          "data": {
            "text/plain": [
              "<matplotlib.axes._subplots.AxesSubplot at 0x7f239bbafb10>"
            ]
          },
          "metadata": {
            "tags": []
          },
          "execution_count": 43
        },
        {
          "output_type": "display_data",
          "data": {
            "image/png": "[encoded data removed]",
            "text/plain": [
              "<Figure size 432x288 with 1 Axes>"
            ]
          },
          "metadata": {
            "tags": []
          }
        }
      ]
    },
    {
      "cell_type": "code",
      "metadata": {
        "colab": {
          "base_uri": "https://localhost:8080/",
          "height": 299
        },
        "id": "3tL4Ic9W1T2y",
        "outputId": "58ac920c-4d5d-47ca-e336-ecb194c8c024"
      },
      "source": [
        "print(\"Distribution of rating across  movie reviews with spoilers:\")\n",
        "df[df[\"is_spoiler\"]==1]['actualrating'].plot(kind='hist')"
      ],
      "execution_count": null,
      "outputs": [
        {
          "output_type": "stream",
          "text": [
            "Distribution of rating across  movie reviews with spoilers:\n"
          ],
          "name": "stdout"
        },
        {
          "output_type": "execute_result",
          "data": {
            "text/plain": [
              "<matplotlib.axes._subplots.AxesSubplot at 0x7f239bdcb4d0>"
            ]
          },
          "metadata": {
            "tags": []
          },
          "execution_count": 44
        },
        {
          "output_type": "display_data",
          "data": {
            "image/png": "[encoded data removed]",
            "text/plain": [
              "<Figure size 432x288 with 1 Axes>"
            ]
          },
          "metadata": {
            "tags": []
          }
        }
      ]
    },
    {
      "cell_type": "markdown",
      "metadata": {
        "id": "9Xlpq3Ky09-9"
      },
      "source": [
        "Most of the ratings are concentrated around 6-9  for both reviews either containing spoiler or not."
      ]
    },
    {
      "cell_type": "markdown",
      "metadata": {
        "id": "L_PxElqUB7UQ"
      },
      "source": [
        "On similar grounds lets also try to find different insights into the data through some more visualisations "
      ]
    },
    {
      "cell_type": "code",
      "metadata": {
        "colab": {
          "base_uri": "https://localhost:8080/",
          "height": 608
        },
        "id": "CvvshqO10p8D",
        "outputId": "1aee3556-3701-4047-a037-d5a613d0f3ea"
      },
      "source": [
        "labels, frequencies = np.unique(df.is_spoiler.values,return_counts = True)\n",
        "plt.figure(figsize = (10,10))\n",
        "x=plt.pie(frequencies,labels = labels, autopct = '%1.1f%%')\n",
        "plt.title('Pie chart of distribution of reviews with and without spoilers in dataset')\n",
        "plt.legend(labels=['Without spoilers', 'With spoilers'])"
      ],
      "execution_count": null,
      "outputs": [
        {
          "output_type": "execute_result",
          "data": {
            "text/plain": [
              "<matplotlib.legend.Legend at 0x7f239bf61bd0>"
            ]
          },
          "metadata": {
            "tags": []
          },
          "execution_count": 45
        },
        {
          "output_type": "display_data",
          "data": {
            "image/png": "[encoded data removed]",
            "text/plain": [
              "<Figure size 720x720 with 1 Axes>"
            ]
          },
          "metadata": {
            "tags": []
          }
        }
      ]
    },
    {
      "cell_type": "markdown",
      "metadata": {
        "id": "ekJgQwY1V_GK"
      },
      "source": [
        "About 70-30  ratio is there between non spoiler and spoiler reviews in the dataset "
      ]
    },
    {
      "cell_type": "code",
      "metadata": {
        "colab": {
          "base_uri": "https://localhost:8080/",
          "height": 369
        },
        "id": "3y1YX8l-DBLl",
        "outputId": "33d88a89-4f5e-4e1e-c404-b6be801b415e"
      },
      "source": [
        "labels, frequencies = np.unique(df[df[\"is_spoiler\"]==1].genre.values,return_counts = True)\n",
        "plt.figure(figsize = (8,8))\n",
        "x=plt.pie(frequencies[:10],labels = labels[:10], autopct = '%1.1f%%')\n",
        "plt.tight_layout()\n",
        "plt.title('Pie chart for reviews for top 10 genres:')"
      ],
      "execution_count": null,
      "outputs": [
        {
          "output_type": "execute_result",
          "data": {
            "text/plain": [
              "Text(0.5, 1.0, 'Pie chart for reviews for top 10 genres:')"
            ]
          },
          "metadata": {
            "tags": []
          },
          "execution_count": 46
        },
        {
          "output_type": "display_data",
          "data": {
            "image/png": "[encoded data removed]",
            "text/plain": [
              "<Figure size 576x576 with 1 Axes>"
            ]
          },
          "metadata": {
            "tags": []
          }
        }
      ]
    },
    {
      "cell_type": "markdown",
      "metadata": {
        "id": "30-HbSM41n6i"
      },
      "source": [
        "These are the top 10 genre sets with most spoiler reviews.This indicates that some movie genres have much more tendency to correspond with spoiler in the reviews than other genres.Using this we will create a qunatitative criteria which will help in classification. "
      ]
    },
    {
      "cell_type": "code",
      "metadata": {
        "id": "1nnGU5ocLHwH"
      },
      "source": [
        "df_temp=pd.DataFrame()\n",
        "df_temp[\"is_spoiler\"]=df[\"is_spoiler\"]\n",
        "df_temp[\"days_elapsed\"]=abs(df[\"review_date\"]-df[\"release_date\"]).dt.days\n",
        "df_temp=df_temp.groupby(['is_spoiler', 'days_elapsed']).size().reset_index(name='count').sort_values('days_elapsed')"
      ],
      "execution_count": null,
      "outputs": []
    },
    {
      "cell_type": "code",
      "metadata": {
        "colab": {
          "base_uri": "https://localhost:8080/"
        },
        "id": "0UU7T_P131h7",
        "outputId": "efebd91f-4c0f-4a2a-bca4-b5e4a0927fd2"
      },
      "source": [
        "fig = plt.figure(figsize=(16, 8))\n",
        "\n",
        "\n",
        "ax1 = fig.add_subplot(1, 2, 1)\n",
        "ax2 = fig.add_subplot(1, 2, 2)\n",
        "\n",
        "ax1.plot(df_temp[df_temp[\"is_spoiler\"]==1][\"days_elapsed\"].values,df_temp[df_temp[\"is_spoiler\"]==1][\"count\"].values)\n",
        "ax1.set_title('for entire dataset')\n",
        "ax1.set_xlabel('No. of days_elapsed')\n",
        "ax1.set_ylabel('No. of  spoiler reviews')\n",
        "\n",
        "ax2.plot(df_temp[df_temp[\"is_spoiler\"]==1][\"days_elapsed\"][:100].values,df_temp[df_temp[\"is_spoiler\"]==1][\"count\"][:100].values)\n",
        "ax2.set_xlabel('No. of days_elapsed')\n",
        "ax2.set_title('for initial 100 days')\n",
        "ax2.set_ylabel('No. of  spoiler reviews')\n",
        "\n",
        "plt.show()"
      ],
      "execution_count": null,
      "outputs": [
        {
          "output_type": "display_data",
          "data": {
            "image/png": "[encoded data removed]",
            "text/plain": [
              "<Figure size 1152x576 with 2 Axes>"
            ]
          },
          "metadata": {
            "tags": [],
            "needs_background": "light"
          }
        }
      ]
    },
    {
      "cell_type": "code",
      "metadata": {
        "colab": {
          "base_uri": "https://localhost:8080/"
        },
        "id": "6AR4R-oly4mi",
        "outputId": "ea51f36f-c922-4160-cee9-e17e9b4d73e6"
      },
      "source": [
        "fig = plt.figure(figsize=(16, 8))\n",
        "\n",
        "\n",
        "ax1 = fig.add_subplot(1, 2, 1)\n",
        "ax2 = fig.add_subplot(1, 2, 2)\n",
        "\n",
        "ax1.plot(df_temp[df_temp[\"is_spoiler\"]==0][\"days_elapsed\"].values,df_temp[df_temp[\"is_spoiler\"]==0][\"count\"].values)\n",
        "ax1.set_title('for entire dataset')\n",
        "ax1.set_xlabel('No. of days_elapsed')\n",
        "ax1.set_ylabel('No. of  non-spoiler reviews')\n",
        "\n",
        "ax2.plot(df_temp[df_temp[\"is_spoiler\"]==0][\"days_elapsed\"][:100].values,df_temp[df_temp[\"is_spoiler\"]==0][\"count\"][:100].values)\n",
        "ax2.set_xlabel('No. of days_elapsed')\n",
        "ax2.set_title('for initial 100 days')\n",
        "ax2.set_ylabel('No. of  non-spoiler reviews')\n",
        "\n",
        "plt.show()"
      ],
      "execution_count": null,
      "outputs": [
        {
          "output_type": "display_data",
          "data": {
            "image/png": "[encoded data removed]",
            "text/plain": [
              "<Figure size 1152x576 with 2 Axes>"
            ]
          },
          "metadata": {
            "tags": [],
            "needs_background": "light"
          }
        }
      ]
    },
    {
      "cell_type": "code",
      "metadata": {
        "id": "QSB57bjo2PRE"
      },
      "source": [
        "df[\"days_elapsed\"]=abs(df[\"review_date\"]-df[\"release_date\"]).dt.days"
      ],
      "execution_count": null,
      "outputs": []
    },
    {
      "cell_type": "markdown",
      "metadata": {
        "id": "HjlY9z1kC3gr"
      },
      "source": [
        "Above graphs clearly shows most reviews for a movie are around the time of the release of the movie and as it  moves away from the release date after some days the review logging for the respective movie also depreciates.Same trend can be seen for the reviews with spoilers."
      ]
    },
    {
      "cell_type": "code",
      "metadata": {
        "id": "jgUSnEfE8XEW"
      },
      "source": [
        "spoilermovies=df[df['is_spoiler']==1].movie_id.value_counts()[:20].index.to_list()\n",
        "pivot_df=df.groupby(['is_spoiler', 'movie_id']).size().reset_index(name='count').sort_values('count')\n",
        "pivot_df=pivot_df[pivot_df[\"movie_id\"].isin(spoilermovies)]\n",
        "pivot_df=pivot_df.pivot(index='movie_id',  columns='is_spoiler', values='count')\n",
        "pivot_df=pivot_df.fillna(0)"
      ],
      "execution_count": null,
      "outputs": []
    },
    {
      "cell_type": "code",
      "metadata": {
        "colab": {
          "base_uri": "https://localhost:8080/"
        },
        "id": "qxubNVNl1yPo",
        "outputId": "6fb08d74-9bdb-42f9-d159-618443528840"
      },
      "source": [
        "colors = [\"#006D2C\",\"#74C476\"]\n",
        "pivot_df.plot.bar(stacked=True, color=colors, figsize=(10,7),title=\"Distribution of reviews for top 20 spoiler reviewed movies\")\n"
      ],
      "execution_count": null,
      "outputs": [
        {
          "output_type": "execute_result",
          "data": {
            "text/plain": [
              "<matplotlib.axes._subplots.AxesSubplot at 0x7f90a1f73a50>"
            ]
          },
          "metadata": {
            "tags": []
          },
          "execution_count": 52
        },
        {
          "output_type": "display_data",
          "data": {
            "image/png": "[encoded data removed]",
            "text/plain": [
              "<Figure size 720x504 with 1 Axes>"
            ]
          },
          "metadata": {
            "tags": [],
            "needs_background": "light"
          }
        }
      ]
    },
    {
      "cell_type": "markdown",
      "metadata": {
        "id": "vf8Ap6s57sQu"
      },
      "source": [
        "Based on graph it can be seen that some movies have more chances  of having spoiler reviews when compared with others that can be attributed to various factors beyond the scope of our current application so for the time being we can use this criteria of tendency of movie to have spoilers for spoiler classification."
      ]
    },
    {
      "cell_type": "code",
      "metadata": {
        "id": "hWX8V_NXgQ23"
      },
      "source": [
        "spoilermovies=df[df['is_spoiler']==1].user_id.value_counts()[:20].index.to_list()\n",
        "pivot_df=df.groupby(['is_spoiler', 'user_id']).size().reset_index(name='count').sort_values('count')\n",
        "pivot_df=pivot_df[pivot_df[\"user_id\"].isin(spoilermovies)]\n",
        "pivot_df=pivot_df.pivot(index='user_id',  columns='is_spoiler', values='count')\n",
        "pivot_df=pivot_df.fillna(0)"
      ],
      "execution_count": null,
      "outputs": []
    },
    {
      "cell_type": "code",
      "metadata": {
        "id": "C0GJ0e2GPsb1"
      },
      "source": [
        "colors = [\"#006D2C\",\"#74C476\"]\n",
        "pivot_df.plot.bar(stacked=True, color=colors, figsize=(10,7),title=\"Distribution of reviews for top 20 users who gave most reviews\")"
      ],
      "execution_count": null,
      "outputs": []
    },
    {
      "cell_type": "markdown",
      "metadata": {
        "id": "UgN3A_wT9V06"
      },
      "source": [
        "As can be seen from the above graphs most of the top users have mostly given more spoiler reviews when compared to non spoiler ones.\n",
        "This indicates that some users are more likely to give spoiler reviews than others.Same as movie tendency for reviews we will use this user tendency for giving spoiler reviews for help in classification,"
      ]
    },
    {
      "cell_type": "code",
      "metadata": {
        "id": "9TrKKps3Qe3p"
      },
      "source": [
        "df.groupby(['movie_id']).size().reset_index(name='count').sort_values('count')"
      ],
      "execution_count": null,
      "outputs": []
    },
    {
      "cell_type": "markdown",
      "metadata": {
        "id": "PKGNM7vOQ9j9"
      },
      "source": [
        "As can be seen from the above data some movie have much more reviews than other movies which is  a good indicator of popularity of the movie."
      ]
    },
    {
      "cell_type": "code",
      "metadata": {
        "id": "HUWiFb3VbZ69"
      },
      "source": [
        "df_temp2=pd.DataFrame()\n",
        "df_temp2['word_count'] = df['review_text'].apply(lambda text: len(text.split(' ')))\n",
        "df_temp2[\"is_spoiler\"]=df.is_spoiler"
      ],
      "execution_count": null,
      "outputs": []
    },
    {
      "cell_type": "code",
      "metadata": {
        "colab": {
          "base_uri": "https://localhost:8080/"
        },
        "id": "grTpQ3wcblIj",
        "outputId": "8268fd63-4edc-4d7b-92bc-3f628ed60d60"
      },
      "source": [
        "plt.figure(figsize=(12, 6))\n",
        "sns.distplot(df_temp2[df_temp2['is_spoiler'] == False]['word_count'], hist=False, label='Without spoilers')\n",
        "sns.distplot(df_temp2[df_temp2['is_spoiler'] == True]['word_count'], hist=False, label='Containing spoilers')\n",
        "plt.legend()\n",
        "plt.xlim([-100, 1100])\n",
        "plt.xlabel('Word Count')\n",
        "plt.title('Distribution according to review length')\n",
        "plt.show()"
      ],
      "execution_count": null,
      "outputs": [
        {
          "output_type": "stream",
          "text": [
            "/usr/local/lib/python3.7/dist-packages/seaborn/distributions.py:2557: FutureWarning: `distplot` is a deprecated function and will be removed in a future version. Please adapt your code to use either `displot` (a figure-level function with similar flexibility) or `kdeplot` (an axes-level function for kernel density plots).\n",
            "  warnings.warn(msg, FutureWarning)\n",
            "/usr/local/lib/python3.7/dist-packages/seaborn/distributions.py:2557: FutureWarning: `distplot` is a deprecated function and will be removed in a future version. Please adapt your code to use either `displot` (a figure-level function with similar flexibility) or `kdeplot` (an axes-level function for kernel density plots).\n",
            "  warnings.warn(msg, FutureWarning)\n"
          ],
          "name": "stderr"
        },
        {
          "output_type": "display_data",
          "data": {
            "image/png": "[encoded data removed]",
            "text/plain": [
              "<Figure size 864x432 with 1 Axes>"
            ]
          },
          "metadata": {
            "tags": [],
            "needs_background": "light"
          }
        }
      ]
    },
    {
      "cell_type": "markdown",
      "metadata": {
        "id": "HlMC9-McaUPu"
      },
      "source": [
        "This clearly indicates that word count for reviews containing spoilers are mostly larger as compared to non-spoiler reviews"
      ]
    },
    {
      "cell_type": "code",
      "metadata": {
        "id": "gAB3wWN59iEF"
      },
      "source": [
        "df[\"word_count\"]=df['review_text'].apply(lambda text: len(text.split(' ')))"
      ],
      "execution_count": null,
      "outputs": []
    },
    {
      "cell_type": "code",
      "metadata": {
        "id": "zYiQspxCb8F-"
      },
      "source": [
        "df_temp2[\"review_text\"]=df[\"review_text\"].str.lower()"
      ],
      "execution_count": null,
      "outputs": []
    },
    {
      "cell_type": "code",
      "metadata": {
        "id": "1N1nt34NgJ9I"
      },
      "source": [
        "df_temp2[\"spoiltext\"]=df_temp2.review_text.str.contains(\"spoil\")+0"
      ],
      "execution_count": null,
      "outputs": []
    },
    {
      "cell_type": "code",
      "metadata": {
        "colab": {
          "base_uri": "https://localhost:8080/"
        },
        "id": "Xvx5AkUfg9dc",
        "outputId": "72e5db9a-1bd9-4bad-dc25-36b66fa50aa6"
      },
      "source": [
        "df_temp2.review_text.str.contains(\"dies\").value_counts()"
      ],
      "execution_count": null,
      "outputs": [
        {
          "output_type": "execute_result",
          "data": {
            "text/plain": [
              "False    539582\n",
              "True      34324\n",
              "Name: review_text, dtype: int64"
            ]
          },
          "metadata": {
            "tags": []
          },
          "execution_count": 63
        }
      ]
    },
    {
      "cell_type": "code",
      "metadata": {
        "colab": {
          "base_uri": "https://localhost:8080/"
        },
        "id": "7HQ10ulReiWY",
        "outputId": "3d71e4d9-0e8f-483c-8ddb-d78fd5a1d489"
      },
      "source": [
        "df_temp2[\"spoiltext\"].value_counts()"
      ],
      "execution_count": null,
      "outputs": [
        {
          "output_type": "execute_result",
          "data": {
            "text/plain": [
              "0    535899\n",
              "1     38007\n",
              "Name: spoiltext, dtype: int64"
            ]
          },
          "metadata": {
            "tags": []
          },
          "execution_count": 64
        }
      ]
    },
    {
      "cell_type": "code",
      "metadata": {
        "colab": {
          "base_uri": "https://localhost:8080/"
        },
        "id": "iLgh69RwbAkC",
        "outputId": "cac0fe3e-4930-426a-dc98-9a1d6a84acd2"
      },
      "source": [
        "labels, frequencies = np.unique(df_temp2[df_temp2[\"is_spoiler\"]==1].spoiltext.values,return_counts = True)\n",
        "plt.figure(figsize = (10,10))\n",
        "plt.pie(frequencies,labels = labels, autopct = '%1.1f%%')\n",
        "plt.show()"
      ],
      "execution_count": null,
      "outputs": [
        {
          "output_type": "display_data",
          "data": {
            "image/png": "[encoded data removed]",
            "text/plain": [
              "<Figure size 720x720 with 1 Axes>"
            ]
          },
          "metadata": {
            "tags": []
          }
        }
      ]
    },
    {
      "cell_type": "markdown",
      "metadata": {
        "id": "_4-Ct2krguQq"
      },
      "source": [
        "While the ratio itself isn't much appreciable but this can be a great criteria along with some other words that all spoiler reviews may contain frequently."
      ]
    },
    {
      "cell_type": "markdown",
      "metadata": {
        "id": "npCTy6S5xnX9"
      },
      "source": [
        "Lets further evaluate reviews using some NLP to find sembelance to spoilers  with the way they are written."
      ]
    },
    {
      "cell_type": "code",
      "metadata": {
        "colab": {
          "base_uri": "https://localhost:8080/"
        },
        "id": "LXhs6dOcyNrZ",
        "outputId": "4f5b5d19-8ec9-4f34-b63a-c4a45b4e09c4"
      },
      "source": [
        "import nltk\n",
        "nltk.download('stopwords')"
      ],
      "execution_count": null,
      "outputs": [
        {
          "output_type": "stream",
          "text": [
            "[nltk_data] Downloading package stopwords to /root/nltk_data...\n",
            "[nltk_data]   Unzipping corpora/stopwords.zip.\n"
          ],
          "name": "stdout"
        },
        {
          "output_type": "execute_result",
          "data": {
            "text/plain": [
              "True"
            ]
          },
          "metadata": {
            "tags": []
          },
          "execution_count": 68
        }
      ]
    },
    {
      "cell_type": "code",
      "metadata": {
        "id": "yr5MgU4TnZM5"
      },
      "source": [
        "stopwords=set(stopwords.words('english'))\n",
        "stopwords_dict=Counter(stopwords)\n",
        "def preprocesstext(review):\n",
        "    review=review.lower()\n",
        "    review=re.sub('[^a-zA-Z]',' ',review)\n",
        "    words=review.split()\n",
        "    word=[word for word in words if word not in stopwords_dict]\n",
        "    review=\" \".join(words)\n",
        "    return review\n",
        "df_temp2.review_text=df_temp2.review_text.apply(preprocesstext)"
      ],
      "execution_count": null,
      "outputs": []
    },
    {
      "cell_type": "code",
      "metadata": {
        "colab": {
          "base_uri": "https://localhost:8080/"
        },
        "id": "Ib-vLdObnZM_",
        "outputId": "759d4460-195e-4ef8-bff5-2dfeacee2fbc"
      },
      "source": [
        "df_temp2.review_text"
      ],
      "execution_count": null,
      "outputs": [
        {
          "output_type": "execute_result",
          "data": {
            "text/plain": [
              "0         in its oscar year shawshank redemption written...\n",
              "1         the shawshank redemption is without a doubt on...\n",
              "2         i believe that this film is the best story eve...\n",
              "3         yes there are spoilers here this film has had ...\n",
              "4         at the heart of this extraordinary movie is a ...\n",
              "                                ...                        \n",
              "573901    go is wise fast and pure entertainment assembl...\n",
              "573902    well what shall i say this one s fun at any ra...\n",
              "573903    go is the best movie i have ever seen and i ve...\n",
              "573904    call this teenage version of pulp fiction what...\n",
              "573905    why was this movie made no doubt to sucker in ...\n",
              "Name: review_text, Length: 573906, dtype: object"
            ]
          },
          "metadata": {
            "tags": []
          },
          "execution_count": 70
        }
      ]
    },
    {
      "cell_type": "code",
      "metadata": {
        "colab": {
          "base_uri": "https://localhost:8080/"
        },
        "id": "AVFGqMLvp2jj",
        "outputId": "7a4f5dd1-5c31-4a00-d62e-65de6a428971"
      },
      "source": [
        "Counter(\" \".join(df_temp2[\"review_text\"][:200000]).split()).most_common(100)"
      ],
      "execution_count": null,
      "outputs": [
        {
          "output_type": "execute_result",
          "data": {
            "text/plain": [
              "[('the', 3290656),\n",
              " ('and', 1630399),\n",
              " ('a', 1436389),\n",
              " ('of', 1396191),\n",
              " ('to', 1276042),\n",
              " ('is', 1074861),\n",
              " ('it', 944538),\n",
              " ('i', 870044),\n",
              " ('in', 859430),\n",
              " ('that', 722125),\n",
              " ('this', 659288),\n",
              " ('s', 578380),\n",
              " ('movie', 488797),\n",
              " ('as', 445589),\n",
              " ('was', 443013),\n",
              " ('for', 421420),\n",
              " ('with', 417172),\n",
              " ('film', 414228),\n",
              " ('but', 406147),\n",
              " ('you', 350253),\n",
              " ('t', 312710),\n",
              " ('he', 309249),\n",
              " ('his', 306074),\n",
              " ('not', 303358),\n",
              " ('on', 283273),\n",
              " ('are', 274044),\n",
              " ('be', 260485),\n",
              " ('have', 251552),\n",
              " ('one', 248405),\n",
              " ('all', 244810),\n",
              " ('by', 206330),\n",
              " ('so', 204752),\n",
              " ('an', 201187),\n",
              " ('they', 193822),\n",
              " ('at', 193309),\n",
              " ('from', 193055),\n",
              " ('like', 188745),\n",
              " ('who', 173455),\n",
              " ('just', 173119),\n",
              " ('there', 173084),\n",
              " ('has', 169106),\n",
              " ('about', 165141),\n",
              " ('what', 162790),\n",
              " ('or', 153832),\n",
              " ('more', 153512),\n",
              " ('story', 151195),\n",
              " ('out', 144622),\n",
              " ('can', 144301),\n",
              " ('if', 143798),\n",
              " ('good', 139417),\n",
              " ('time', 137801),\n",
              " ('my', 132057),\n",
              " ('some', 130704),\n",
              " ('very', 130564),\n",
              " ('when', 129316),\n",
              " ('me', 121686),\n",
              " ('we', 120039),\n",
              " ('great', 119770),\n",
              " ('will', 118609),\n",
              " ('see', 116985),\n",
              " ('really', 116829),\n",
              " ('which', 116624),\n",
              " ('up', 116184),\n",
              " ('would', 110418),\n",
              " ('no', 110254),\n",
              " ('well', 110230),\n",
              " ('even', 107033),\n",
              " ('their', 105641),\n",
              " ('her', 103518),\n",
              " ('best', 102201),\n",
              " ('much', 97811),\n",
              " ('how', 97442),\n",
              " ('only', 97054),\n",
              " ('also', 96797),\n",
              " ('first', 94724),\n",
              " ('its', 94042),\n",
              " ('were', 93933),\n",
              " ('had', 93237),\n",
              " ('than', 92083),\n",
              " ('most', 91756),\n",
              " ('because', 90900),\n",
              " ('character', 89798),\n",
              " ('him', 88777),\n",
              " ('characters', 88668),\n",
              " ('into', 88431),\n",
              " ('people', 88369),\n",
              " ('movies', 88048),\n",
              " ('other', 87273),\n",
              " ('been', 83853),\n",
              " ('way', 82728),\n",
              " ('do', 82428),\n",
              " ('get', 81170),\n",
              " ('she', 80075),\n",
              " ('don', 79983),\n",
              " ('them', 74415),\n",
              " ('think', 74126),\n",
              " ('life', 73697),\n",
              " ('watch', 73401),\n",
              " ('many', 73333),\n",
              " ('after', 73166)]"
            ]
          },
          "metadata": {
            "tags": []
          },
          "execution_count": 71
        }
      ]
    },
    {
      "cell_type": "code",
      "metadata": {
        "id": "dL-SzFRK-WeX"
      },
      "source": [
        "df[\"spoiltext\"]=df.review_text.str.contains(\"spoil\")+0"
      ],
      "execution_count": null,
      "outputs": []
    },
    {
      "cell_type": "markdown",
      "metadata": {
        "id": "V4gVZv4dsGUe"
      },
      "source": [
        "Opposed to the intution the most common words as  can be seen bear no semantic role towards indicating a spoiler.Despite of this it is easy to infer that if  \"spoiler\" word is present in the review than its very likely to be a spoiler review so we will include this as a criteria."
      ]
    },
    {
      "cell_type": "code",
      "metadata": {
        "id": "Y5v3HZTy_3h9"
      },
      "source": [
        "df_temp2=pd.DataFrame()"
      ],
      "execution_count": null,
      "outputs": []
    },
    {
      "cell_type": "code",
      "metadata": {
        "id": "7hmcja3T-9uY"
      },
      "source": [
        "df_temp2[\"year\"]=df[\"review_date\"].dt.year\n",
        "df_temp2[\"is_spoiler\"]=df[\"is_spoiler\"]"
      ],
      "execution_count": null,
      "outputs": []
    },
    {
      "cell_type": "code",
      "metadata": {
        "id": "zMePkM1iBrz7"
      },
      "source": [
        "pivot_df=df_temp2.groupby([\"year\",\"is_spoiler\"]).size().reset_index(name='count').sort_values('count')\n",
        "pivot_df=pivot_df.pivot(index='year',  columns='is_spoiler', values='count')\n",
        "pivot_df=pivot_df.fillna(0)[:-1]"
      ],
      "execution_count": null,
      "outputs": []
    },
    {
      "cell_type": "code",
      "metadata": {
        "colab": {
          "base_uri": "https://localhost:8080/"
        },
        "id": "cKdqZGmdCnNx",
        "outputId": "614c1635-6f09-424a-ddd9-40fbe4212b0f"
      },
      "source": [
        "pivot_df.plot(ylabel=\"No. of reviews\",figsize=(15,7))"
      ],
      "execution_count": null,
      "outputs": [
        {
          "output_type": "execute_result",
          "data": {
            "text/plain": [
              "<matplotlib.axes._subplots.AxesSubplot at 0x7f90a2597f90>"
            ]
          },
          "metadata": {
            "tags": []
          },
          "execution_count": 76
        },
        {
          "output_type": "display_data",
          "data": {
            "image/png": "[encoded data removed]",
            "text/plain": [
              "<Figure size 1080x504 with 1 Axes>"
            ]
          },
          "metadata": {
            "tags": [],
            "needs_background": "light"
          }
        }
      ]
    },
    {
      "cell_type": "markdown",
      "metadata": {
        "id": "6P9cOxKyFMew"
      },
      "source": [
        "Nothing could make it more clear than this graph on why we need this project.Over the years with the accessebility to give reviews the trend of spoiler reviews has only increased and to keep the review sections spoil-free  for the users it is important to come up with a good tool to curb this as much as possible."
      ]
    },
    {
      "cell_type": "code",
      "metadata": {
        "colab": {
          "base_uri": "https://localhost:8080/"
        },
        "id": "CpE4Db3GaRvL",
        "outputId": "88a941c9-89ce-4bda-802e-96d6187dd4b4"
      },
      "source": [
        "sns.boxplot(x= df.is_spoiler,y=df.actualrating)"
      ],
      "execution_count": null,
      "outputs": [
        {
          "output_type": "execute_result",
          "data": {
            "text/plain": [
              "<matplotlib.axes._subplots.AxesSubplot at 0x7f90a1ce5c10>"
            ]
          },
          "metadata": {
            "tags": []
          },
          "execution_count": 77
        },
        {
          "output_type": "display_data",
          "data": {
            "image/png": "[encoded data removed]",
            "text/plain": [
              "<Figure size 432x288 with 1 Axes>"
            ]
          },
          "metadata": {
            "tags": [],
            "needs_background": "light"
          }
        }
      ]
    },
    {
      "cell_type": "markdown",
      "metadata": {
        "id": "8Vwph7qlLXp6"
      },
      "source": [
        "Almost the same  actualrating  data  variance for both kind of reviews ."
      ]
    },
    {
      "cell_type": "code",
      "metadata": {
        "colab": {
          "base_uri": "https://localhost:8080/"
        },
        "id": "hwlvkqT0-cba",
        "outputId": "cda415ba-49c1-4c15-d2a4-620f38bfbf38"
      },
      "source": [
        "sns.boxplot(x= df.is_spoiler,y=df.days_elapsed)"
      ],
      "execution_count": null,
      "outputs": [
        {
          "output_type": "execute_result",
          "data": {
            "text/plain": [
              "<matplotlib.axes._subplots.AxesSubplot at 0x7f90a1b4e050>"
            ]
          },
          "metadata": {
            "tags": []
          },
          "execution_count": 78
        },
        {
          "output_type": "display_data",
          "data": {
            "image/png": "[encoded data removed]",
            "text/plain": [
              "<Figure size 432x288 with 1 Axes>"
            ]
          },
          "metadata": {
            "tags": [],
            "needs_background": "light"
          }
        }
      ]
    },
    {
      "cell_type": "markdown",
      "metadata": {
        "id": "T6wXZ27VLjp1"
      },
      "source": [
        "Clearly days_elapsed also have same kind of data distribution for both cases but in this case there are a lot of outliers."
      ]
    },
    {
      "cell_type": "code",
      "metadata": {
        "colab": {
          "base_uri": "https://localhost:8080/"
        },
        "id": "fOufl1B2aYPp",
        "outputId": "c888ec0a-a1ee-4374-9838-46a953b6ea4b"
      },
      "source": [
        "sns.boxplot(x= df.is_spoiler,y=df.userrating)"
      ],
      "execution_count": null,
      "outputs": [
        {
          "output_type": "execute_result",
          "data": {
            "text/plain": [
              "<matplotlib.axes._subplots.AxesSubplot at 0x7f90a18bcb10>"
            ]
          },
          "metadata": {
            "tags": []
          },
          "execution_count": 79
        },
        {
          "output_type": "display_data",
          "data": {
            "image/png": "[encoded data removed]",
            "text/plain": [
              "<Figure size 432x288 with 1 Axes>"
            ]
          },
          "metadata": {
            "tags": [],
            "needs_background": "light"
          }
        }
      ]
    },
    {
      "cell_type": "markdown",
      "metadata": {
        "id": "hvgPMi6tLWic"
      },
      "source": [
        "User ratings for ratings with spoiler reviews are somewhat lower  overall as compared with without spoilers."
      ]
    },
    {
      "cell_type": "code",
      "metadata": {
        "colab": {
          "base_uri": "https://localhost:8080/"
        },
        "id": "5x2xYorHGpDf",
        "outputId": "d70383e1-df2b-4e88-9de5-86f556169cf4"
      },
      "source": [
        "df.hist(layout=(5,4), figsize=(15,10),)\n",
        "plt.tight_layout()\n",
        "plt.show()"
      ],
      "execution_count": null,
      "outputs": [
        {
          "output_type": "display_data",
          "data": {
            "image/png": "[encoded data removed]",
            "text/plain": [
              "<Figure size 1080x720 with 20 Axes>"
            ]
          },
          "metadata": {
            "tags": [],
            "needs_background": "light"
          }
        }
      ]
    },
    {
      "cell_type": "markdown",
      "metadata": {
        "id": "clesNDgdT9PW"
      },
      "source": [
        "Above fig helps in understanding the disrtibution of various features in the dataset where some new features have been added to help in the predictions."
      ]
    },
    {
      "cell_type": "code",
      "metadata": {
        "colab": {
          "base_uri": "https://localhost:8080/"
        },
        "id": "rzlW6lS3WCZd",
        "outputId": "38e41a0a-6117-414e-c41b-d1d998fac6bf"
      },
      "source": [
        "df.columns"
      ],
      "execution_count": null,
      "outputs": [
        {
          "output_type": "execute_result",
          "data": {
            "text/plain": [
              "Index(['review_date', 'movie_id', 'user_id', 'is_spoiler', 'review_text',\n",
              "       'userrating', 'review_summary', 'plot_summary', 'duration', 'genre',\n",
              "       'actualrating', 'release_date', 'plot_synopsis', 'days_elapsed',\n",
              "       'word_count', 'spoiltext'],\n",
              "      dtype='object')"
            ]
          },
          "metadata": {
            "tags": []
          },
          "execution_count": 81
        }
      ]
    },
    {
      "cell_type": "markdown",
      "metadata": {
        "id": "qYPwDqWrVe37"
      },
      "source": [
        "After exploratory analysis  some key insights were gained which are as following:-\n",
        "\n",
        "\n",
        "*   Some users,movies and genres have greater chances of containing reviews with spoilers so to exploit this  can create parameter corresponding each feature mentioned above where  assign every movie,user,genre pool a certain ratio attributing to its affinity for spoilers\n",
        "\n",
        "*  Some spoilers will clearly contain the word \"spoiler\" indicative of it containing the spoilers so will assign a feature which tells us if review text for respective row contains the word \"spoiler\" or not \n",
        "\n",
        "*   The period  b/w review_date and release_date doesn't seem to be having any difference for spoiler and non spoiler reviews as evident from respective boxplot however it also holds information and might be helpful so will later try to make predictions both with and without it and compare the results\n",
        "\n",
        "*   Can  also exploit the word count of reviews as a feature for the predictions \n",
        "\n",
        "* As can be observed  both review and corresponding plot summary so \n",
        "another good indicator for spoilers will be how close a review is to its plot synopsis \n",
        "\n",
        "\n",
        "\n",
        "\n",
        "\n",
        "\n"
      ]
    },
    {
      "cell_type": "code",
      "metadata": {
        "colab": {
          "base_uri": "https://localhost:8080/"
        },
        "id": "vUe8EFHqHf0r",
        "outputId": "502e1739-ba4e-4eb6-e0ac-6c781a6b35d8"
      },
      "source": [
        "len(df)"
      ],
      "execution_count": null,
      "outputs": [
        {
          "output_type": "execute_result",
          "data": {
            "text/plain": [
              "573906"
            ]
          },
          "metadata": {
            "tags": []
          },
          "execution_count": 77
        }
      ]
    },
    {
      "cell_type": "markdown",
      "metadata": {
        "id": "-SfJlv1Hy1UO"
      },
      "source": [
        "# Introducing new features based on observations from EDA"
      ]
    },
    {
      "cell_type": "markdown",
      "metadata": {
        "id": "6UpLkshnfPyb"
      },
      "source": [
        "## Movie spoiler ratio(MSR)"
      ]
    },
    {
      "cell_type": "markdown",
      "metadata": {
        "id": "Vo58lwrmZINX"
      },
      "source": [
        "For every movie  will compare its no. of reviews with spoilers to total no. of reviews for the movie  and assign this ratio as ***Movie spoiler ratio  aka msr***"
      ]
    },
    {
      "cell_type": "code",
      "metadata": {
        "id": "F_6N4-lab1OJ"
      },
      "source": [
        "total_spoilers= df.groupby(by='movie_id').is_spoiler.agg(['sum']).reset_index().rename(columns={'sum':'total_spoilers'})"
      ],
      "execution_count": null,
      "outputs": []
    },
    {
      "cell_type": "code",
      "metadata": {
        "id": "vOlLy0g_b1Ms"
      },
      "source": [
        "total_movies = df.groupby(by='movie_id').movie_id.agg(['count']).reset_index().rename(columns={'count':'total_movies'})"
      ],
      "execution_count": null,
      "outputs": []
    },
    {
      "cell_type": "code",
      "metadata": {
        "id": "bvUzSoBob1Iy"
      },
      "source": [
        "msr = pd.merge(total_spoilers,total_movies, on='movie_id')"
      ],
      "execution_count": null,
      "outputs": []
    },
    {
      "cell_type": "code",
      "metadata": {
        "id": "K4aZvjUxb1HC"
      },
      "source": [
        "msr['msr']=msr.total_spoilers/msr.total_movies"
      ],
      "execution_count": null,
      "outputs": []
    },
    {
      "cell_type": "code",
      "metadata": {
        "colab": {
          "base_uri": "https://localhost:8080/"
        },
        "id": "s03do7a4b1Do",
        "outputId": "bcb42829-31eb-4b2d-cf16-fb9d76e49a88"
      },
      "source": [
        "msr.head()"
      ],
      "execution_count": null,
      "outputs": [
        {
          "output_type": "execute_result",
          "data": {
            "text/html": [
              "<div>\n",
              "<style scoped>\n",
              "    .dataframe tbody tr th:only-of-type {\n",
              "        vertical-align: middle;\n",
              "    }\n",
              "\n",
              "    .dataframe tbody tr th {\n",
              "        vertical-align: top;\n",
              "    }\n",
              "\n",
              "    .dataframe thead th {\n",
              "        text-align: right;\n",
              "    }\n",
              "</style>\n",
              "<table border=\"1\" class=\"dataframe\">\n",
              "  <thead>\n",
              "    <tr style=\"text-align: right;\">\n",
              "      <th></th>\n",
              "      <th>movie_id</th>\n",
              "      <th>total_spoilers</th>\n",
              "      <th>total_movies</th>\n",
              "      <th>msr</th>\n",
              "    </tr>\n",
              "  </thead>\n",
              "  <tbody>\n",
              "    <tr>\n",
              "      <th>0</th>\n",
              "      <td>0012349</td>\n",
              "      <td>26</td>\n",
              "      <td>104</td>\n",
              "      <td>0.250000</td>\n",
              "    </tr>\n",
              "    <tr>\n",
              "      <th>1</th>\n",
              "      <td>0015864</td>\n",
              "      <td>39</td>\n",
              "      <td>128</td>\n",
              "      <td>0.304688</td>\n",
              "    </tr>\n",
              "    <tr>\n",
              "      <th>2</th>\n",
              "      <td>0017136</td>\n",
              "      <td>73</td>\n",
              "      <td>337</td>\n",
              "      <td>0.216617</td>\n",
              "    </tr>\n",
              "    <tr>\n",
              "      <th>3</th>\n",
              "      <td>0017925</td>\n",
              "      <td>50</td>\n",
              "      <td>192</td>\n",
              "      <td>0.260417</td>\n",
              "    </tr>\n",
              "    <tr>\n",
              "      <th>4</th>\n",
              "      <td>0018455</td>\n",
              "      <td>63</td>\n",
              "      <td>178</td>\n",
              "      <td>0.353933</td>\n",
              "    </tr>\n",
              "  </tbody>\n",
              "</table>\n",
              "</div>"
            ],
            "text/plain": [
              "  movie_id  total_spoilers  total_movies       msr\n",
              "0  0012349              26           104  0.250000\n",
              "1  0015864              39           128  0.304688\n",
              "2  0017136              73           337  0.216617\n",
              "3  0017925              50           192  0.260417\n",
              "4  0018455              63           178  0.353933"
            ]
          },
          "metadata": {
            "tags": []
          },
          "execution_count": 86
        }
      ]
    },
    {
      "cell_type": "code",
      "metadata": {
        "id": "b-sny02ob1BW"
      },
      "source": [
        "msr.drop(['total_spoilers','total_movies'], axis=1, inplace=True)"
      ],
      "execution_count": null,
      "outputs": []
    },
    {
      "cell_type": "code",
      "metadata": {
        "id": "oHUFxo7ub0_E"
      },
      "source": [
        "df=pd.merge(df,msr,on='movie_id')"
      ],
      "execution_count": null,
      "outputs": []
    },
    {
      "cell_type": "code",
      "metadata": {
        "colab": {
          "base_uri": "https://localhost:8080/"
        },
        "id": "1ptDYor5K7iy",
        "outputId": "27225859-7913-42cb-e068-d4c34bef28b0"
      },
      "source": [
        "df"
      ],
      "execution_count": null,
      "outputs": [
        {
          "output_type": "execute_result",
          "data": {
            "text/html": [
              "<div>\n",
              "<style scoped>\n",
              "    .dataframe tbody tr th:only-of-type {\n",
              "        vertical-align: middle;\n",
              "    }\n",
              "\n",
              "    .dataframe tbody tr th {\n",
              "        vertical-align: top;\n",
              "    }\n",
              "\n",
              "    .dataframe thead th {\n",
              "        text-align: right;\n",
              "    }\n",
              "</style>\n",
              "<table border=\"1\" class=\"dataframe\">\n",
              "  <thead>\n",
              "    <tr style=\"text-align: right;\">\n",
              "      <th></th>\n",
              "      <th>review_date</th>\n",
              "      <th>movie_id</th>\n",
              "      <th>user_id</th>\n",
              "      <th>is_spoiler</th>\n",
              "      <th>review_text</th>\n",
              "      <th>userrating</th>\n",
              "      <th>review_summary</th>\n",
              "      <th>plot_summary</th>\n",
              "      <th>duration</th>\n",
              "      <th>genre</th>\n",
              "      <th>actualrating</th>\n",
              "      <th>release_date</th>\n",
              "      <th>plot_synopsis</th>\n",
              "      <th>days_elapsed</th>\n",
              "      <th>word_count</th>\n",
              "      <th>spoiltext</th>\n",
              "      <th>msr</th>\n",
              "    </tr>\n",
              "  </thead>\n",
              "  <tbody>\n",
              "    <tr>\n",
              "      <th>0</th>\n",
              "      <td>2006-02-10</td>\n",
              "      <td>0111161</td>\n",
              "      <td>ur1898687</td>\n",
              "      <td>1</td>\n",
              "      <td>In its Oscar year, Shawshank Redemption (writt...</td>\n",
              "      <td>10</td>\n",
              "      <td>A classic piece of unforgettable film-making.</td>\n",
              "      <td>Chronicles the experiences of a formerly succe...</td>\n",
              "      <td>2h 22min</td>\n",
              "      <td>[Crime, Drama]</td>\n",
              "      <td>9.3</td>\n",
              "      <td>1994-10-14</td>\n",
              "      <td>In 1947, Andy Dufresne (Tim Robbins), a banker...</td>\n",
              "      <td>4137</td>\n",
              "      <td>843</td>\n",
              "      <td>0</td>\n",
              "      <td>0.219216</td>\n",
              "    </tr>\n",
              "    <tr>\n",
              "      <th>1</th>\n",
              "      <td>2000-09-06</td>\n",
              "      <td>0111161</td>\n",
              "      <td>ur0842118</td>\n",
              "      <td>1</td>\n",
              "      <td>The Shawshank Redemption is without a doubt on...</td>\n",
              "      <td>10</td>\n",
              "      <td>Simply amazing. The best film of the 90's.</td>\n",
              "      <td>Chronicles the experiences of a formerly succe...</td>\n",
              "      <td>2h 22min</td>\n",
              "      <td>[Crime, Drama]</td>\n",
              "      <td>9.3</td>\n",
              "      <td>1994-10-14</td>\n",
              "      <td>In 1947, Andy Dufresne (Tim Robbins), a banker...</td>\n",
              "      <td>2154</td>\n",
              "      <td>223</td>\n",
              "      <td>0</td>\n",
              "      <td>0.219216</td>\n",
              "    </tr>\n",
              "    <tr>\n",
              "      <th>2</th>\n",
              "      <td>2001-08-03</td>\n",
              "      <td>0111161</td>\n",
              "      <td>ur1285640</td>\n",
              "      <td>1</td>\n",
              "      <td>I believe that this film is the best story eve...</td>\n",
              "      <td>8</td>\n",
              "      <td>The best story ever told on film</td>\n",
              "      <td>Chronicles the experiences of a formerly succe...</td>\n",
              "      <td>2h 22min</td>\n",
              "      <td>[Crime, Drama]</td>\n",
              "      <td>9.3</td>\n",
              "      <td>1994-10-14</td>\n",
              "      <td>In 1947, Andy Dufresne (Tim Robbins), a banker...</td>\n",
              "      <td>2485</td>\n",
              "      <td>250</td>\n",
              "      <td>0</td>\n",
              "      <td>0.219216</td>\n",
              "    </tr>\n",
              "    <tr>\n",
              "      <th>3</th>\n",
              "      <td>2002-09-01</td>\n",
              "      <td>0111161</td>\n",
              "      <td>ur1003471</td>\n",
              "      <td>1</td>\n",
              "      <td>**Yes, there are SPOILERS here**This film has ...</td>\n",
              "      <td>10</td>\n",
              "      <td>Busy dying or busy living?</td>\n",
              "      <td>Chronicles the experiences of a formerly succe...</td>\n",
              "      <td>2h 22min</td>\n",
              "      <td>[Crime, Drama]</td>\n",
              "      <td>9.3</td>\n",
              "      <td>1994-10-14</td>\n",
              "      <td>In 1947, Andy Dufresne (Tim Robbins), a banker...</td>\n",
              "      <td>2879</td>\n",
              "      <td>766</td>\n",
              "      <td>0</td>\n",
              "      <td>0.219216</td>\n",
              "    </tr>\n",
              "    <tr>\n",
              "      <th>4</th>\n",
              "      <td>2004-05-20</td>\n",
              "      <td>0111161</td>\n",
              "      <td>ur0226855</td>\n",
              "      <td>1</td>\n",
              "      <td>At the heart of this extraordinary movie is a ...</td>\n",
              "      <td>8</td>\n",
              "      <td>Great story, wondrously told and acted</td>\n",
              "      <td>Chronicles the experiences of a formerly succe...</td>\n",
              "      <td>2h 22min</td>\n",
              "      <td>[Crime, Drama]</td>\n",
              "      <td>9.3</td>\n",
              "      <td>1994-10-14</td>\n",
              "      <td>In 1947, Andy Dufresne (Tim Robbins), a banker...</td>\n",
              "      <td>3506</td>\n",
              "      <td>829</td>\n",
              "      <td>0</td>\n",
              "      <td>0.219216</td>\n",
              "    </tr>\n",
              "    <tr>\n",
              "      <th>...</th>\n",
              "      <td>...</td>\n",
              "      <td>...</td>\n",
              "      <td>...</td>\n",
              "      <td>...</td>\n",
              "      <td>...</td>\n",
              "      <td>...</td>\n",
              "      <td>...</td>\n",
              "      <td>...</td>\n",
              "      <td>...</td>\n",
              "      <td>...</td>\n",
              "      <td>...</td>\n",
              "      <td>...</td>\n",
              "      <td>...</td>\n",
              "      <td>...</td>\n",
              "      <td>...</td>\n",
              "      <td>...</td>\n",
              "      <td>...</td>\n",
              "    </tr>\n",
              "    <tr>\n",
              "      <th>573901</th>\n",
              "      <td>1999-08-08</td>\n",
              "      <td>0139239</td>\n",
              "      <td>ur0100166</td>\n",
              "      <td>0</td>\n",
              "      <td>Go is wise, fast and pure entertainment. Assem...</td>\n",
              "      <td>10</td>\n",
              "      <td>The best teen movie of the nineties</td>\n",
              "      <td>Told from three perspectives, a story of a bun...</td>\n",
              "      <td>1h 42min</td>\n",
              "      <td>[Comedy, Crime]</td>\n",
              "      <td>7.3</td>\n",
              "      <td>1999-04-09</td>\n",
              "      <td>The film is told out of chronological format, ...</td>\n",
              "      <td>121</td>\n",
              "      <td>52</td>\n",
              "      <td>0</td>\n",
              "      <td>0.056338</td>\n",
              "    </tr>\n",
              "    <tr>\n",
              "      <th>573902</th>\n",
              "      <td>1999-07-31</td>\n",
              "      <td>0139239</td>\n",
              "      <td>ur0021767</td>\n",
              "      <td>0</td>\n",
              "      <td>Well, what shall I say. this one´s fun at any ...</td>\n",
              "      <td>9</td>\n",
              "      <td>Go - see the movie</td>\n",
              "      <td>Told from three perspectives, a story of a bun...</td>\n",
              "      <td>1h 42min</td>\n",
              "      <td>[Comedy, Crime]</td>\n",
              "      <td>7.3</td>\n",
              "      <td>1999-04-09</td>\n",
              "      <td>The film is told out of chronological format, ...</td>\n",
              "      <td>113</td>\n",
              "      <td>54</td>\n",
              "      <td>0</td>\n",
              "      <td>0.056338</td>\n",
              "    </tr>\n",
              "    <tr>\n",
              "      <th>573903</th>\n",
              "      <td>1999-07-20</td>\n",
              "      <td>0139239</td>\n",
              "      <td>ur0392750</td>\n",
              "      <td>0</td>\n",
              "      <td>Go is the best movie I have ever seen, and I'v...</td>\n",
              "      <td>10</td>\n",
              "      <td>It's the best movie I've ever seen</td>\n",
              "      <td>Told from three perspectives, a story of a bun...</td>\n",
              "      <td>1h 42min</td>\n",
              "      <td>[Comedy, Crime]</td>\n",
              "      <td>7.3</td>\n",
              "      <td>1999-04-09</td>\n",
              "      <td>The film is told out of chronological format, ...</td>\n",
              "      <td>102</td>\n",
              "      <td>202</td>\n",
              "      <td>0</td>\n",
              "      <td>0.056338</td>\n",
              "    </tr>\n",
              "    <tr>\n",
              "      <th>573904</th>\n",
              "      <td>1999-06-11</td>\n",
              "      <td>0139239</td>\n",
              "      <td>ur0349105</td>\n",
              "      <td>0</td>\n",
              "      <td>Call this 1999 teenage version of Pulp Fiction...</td>\n",
              "      <td>3</td>\n",
              "      <td>Haven't we seen this before?</td>\n",
              "      <td>Told from three perspectives, a story of a bun...</td>\n",
              "      <td>1h 42min</td>\n",
              "      <td>[Comedy, Crime]</td>\n",
              "      <td>7.3</td>\n",
              "      <td>1999-04-09</td>\n",
              "      <td>The film is told out of chronological format, ...</td>\n",
              "      <td>63</td>\n",
              "      <td>89</td>\n",
              "      <td>0</td>\n",
              "      <td>0.056338</td>\n",
              "    </tr>\n",
              "    <tr>\n",
              "      <th>573905</th>\n",
              "      <td>1999-05-03</td>\n",
              "      <td>0139239</td>\n",
              "      <td>ur0156431</td>\n",
              "      <td>0</td>\n",
              "      <td>Why was this movie made? No doubt to sucker in...</td>\n",
              "      <td>2</td>\n",
              "      <td>Go doesn't go anywhere</td>\n",
              "      <td>Told from three perspectives, a story of a bun...</td>\n",
              "      <td>1h 42min</td>\n",
              "      <td>[Comedy, Crime]</td>\n",
              "      <td>7.3</td>\n",
              "      <td>1999-04-09</td>\n",
              "      <td>The film is told out of chronological format, ...</td>\n",
              "      <td>24</td>\n",
              "      <td>181</td>\n",
              "      <td>0</td>\n",
              "      <td>0.056338</td>\n",
              "    </tr>\n",
              "  </tbody>\n",
              "</table>\n",
              "<p>573906 rows × 17 columns</p>\n",
              "</div>"
            ],
            "text/plain": [
              "       review_date movie_id    user_id  is_spoiler  \\\n",
              "0       2006-02-10  0111161  ur1898687           1   \n",
              "1       2000-09-06  0111161  ur0842118           1   \n",
              "2       2001-08-03  0111161  ur1285640           1   \n",
              "3       2002-09-01  0111161  ur1003471           1   \n",
              "4       2004-05-20  0111161  ur0226855           1   \n",
              "...            ...      ...        ...         ...   \n",
              "573901  1999-08-08  0139239  ur0100166           0   \n",
              "573902  1999-07-31  0139239  ur0021767           0   \n",
              "573903  1999-07-20  0139239  ur0392750           0   \n",
              "573904  1999-06-11  0139239  ur0349105           0   \n",
              "573905  1999-05-03  0139239  ur0156431           0   \n",
              "\n",
              "                                              review_text  userrating  \\\n",
              "0       In its Oscar year, Shawshank Redemption (writt...          10   \n",
              "1       The Shawshank Redemption is without a doubt on...          10   \n",
              "2       I believe that this film is the best story eve...           8   \n",
              "3       **Yes, there are SPOILERS here**This film has ...          10   \n",
              "4       At the heart of this extraordinary movie is a ...           8   \n",
              "...                                                   ...         ...   \n",
              "573901  Go is wise, fast and pure entertainment. Assem...          10   \n",
              "573902  Well, what shall I say. this one´s fun at any ...           9   \n",
              "573903  Go is the best movie I have ever seen, and I'v...          10   \n",
              "573904  Call this 1999 teenage version of Pulp Fiction...           3   \n",
              "573905  Why was this movie made? No doubt to sucker in...           2   \n",
              "\n",
              "                                       review_summary  \\\n",
              "0       A classic piece of unforgettable film-making.   \n",
              "1          Simply amazing. The best film of the 90's.   \n",
              "2                    The best story ever told on film   \n",
              "3                          Busy dying or busy living?   \n",
              "4              Great story, wondrously told and acted   \n",
              "...                                               ...   \n",
              "573901            The best teen movie of the nineties   \n",
              "573902                             Go - see the movie   \n",
              "573903             It's the best movie I've ever seen   \n",
              "573904                   Haven't we seen this before?   \n",
              "573905                         Go doesn't go anywhere   \n",
              "\n",
              "                                             plot_summary  duration  \\\n",
              "0       Chronicles the experiences of a formerly succe...  2h 22min   \n",
              "1       Chronicles the experiences of a formerly succe...  2h 22min   \n",
              "2       Chronicles the experiences of a formerly succe...  2h 22min   \n",
              "3       Chronicles the experiences of a formerly succe...  2h 22min   \n",
              "4       Chronicles the experiences of a formerly succe...  2h 22min   \n",
              "...                                                   ...       ...   \n",
              "573901  Told from three perspectives, a story of a bun...  1h 42min   \n",
              "573902  Told from three perspectives, a story of a bun...  1h 42min   \n",
              "573903  Told from three perspectives, a story of a bun...  1h 42min   \n",
              "573904  Told from three perspectives, a story of a bun...  1h 42min   \n",
              "573905  Told from three perspectives, a story of a bun...  1h 42min   \n",
              "\n",
              "                  genre  actualrating release_date  \\\n",
              "0        [Crime, Drama]           9.3   1994-10-14   \n",
              "1        [Crime, Drama]           9.3   1994-10-14   \n",
              "2        [Crime, Drama]           9.3   1994-10-14   \n",
              "3        [Crime, Drama]           9.3   1994-10-14   \n",
              "4        [Crime, Drama]           9.3   1994-10-14   \n",
              "...                 ...           ...          ...   \n",
              "573901  [Comedy, Crime]           7.3   1999-04-09   \n",
              "573902  [Comedy, Crime]           7.3   1999-04-09   \n",
              "573903  [Comedy, Crime]           7.3   1999-04-09   \n",
              "573904  [Comedy, Crime]           7.3   1999-04-09   \n",
              "573905  [Comedy, Crime]           7.3   1999-04-09   \n",
              "\n",
              "                                            plot_synopsis  days_elapsed  \\\n",
              "0       In 1947, Andy Dufresne (Tim Robbins), a banker...          4137   \n",
              "1       In 1947, Andy Dufresne (Tim Robbins), a banker...          2154   \n",
              "2       In 1947, Andy Dufresne (Tim Robbins), a banker...          2485   \n",
              "3       In 1947, Andy Dufresne (Tim Robbins), a banker...          2879   \n",
              "4       In 1947, Andy Dufresne (Tim Robbins), a banker...          3506   \n",
              "...                                                   ...           ...   \n",
              "573901  The film is told out of chronological format, ...           121   \n",
              "573902  The film is told out of chronological format, ...           113   \n",
              "573903  The film is told out of chronological format, ...           102   \n",
              "573904  The film is told out of chronological format, ...            63   \n",
              "573905  The film is told out of chronological format, ...            24   \n",
              "\n",
              "        word_count  spoiltext       msr  \n",
              "0              843          0  0.219216  \n",
              "1              223          0  0.219216  \n",
              "2              250          0  0.219216  \n",
              "3              766          0  0.219216  \n",
              "4              829          0  0.219216  \n",
              "...            ...        ...       ...  \n",
              "573901          52          0  0.056338  \n",
              "573902          54          0  0.056338  \n",
              "573903         202          0  0.056338  \n",
              "573904          89          0  0.056338  \n",
              "573905         181          0  0.056338  \n",
              "\n",
              "[573906 rows x 17 columns]"
            ]
          },
          "metadata": {
            "tags": []
          },
          "execution_count": 89
        }
      ]
    },
    {
      "cell_type": "markdown",
      "metadata": {
        "id": "3sYllapIhgYy"
      },
      "source": [
        "##User Spoiler Ratio (USR)"
      ]
    },
    {
      "cell_type": "markdown",
      "metadata": {
        "id": "jDyrJZp_Z5Az"
      },
      "source": [
        "For every user  will compare its no. of reviews with spoilers to total no. of reviews from the user and assign this ratio as ***User spoiler ratio  aka  usr***"
      ]
    },
    {
      "cell_type": "code",
      "metadata": {
        "id": "8csDZxEyb05Z"
      },
      "source": [
        "total_user_spoilers = df.groupby(by='user_id').is_spoiler.agg(['sum']).reset_index().rename(columns={'sum':'total_user_spoilers'})\n"
      ],
      "execution_count": null,
      "outputs": []
    },
    {
      "cell_type": "code",
      "metadata": {
        "id": "TBwIy47Rb03r"
      },
      "source": [
        "total_users = df.groupby(by='user_id').user_id.agg(['count']).reset_index().rename(columns={'count':'total_users'})\n"
      ],
      "execution_count": null,
      "outputs": []
    },
    {
      "cell_type": "code",
      "metadata": {
        "id": "IPm0mlSLb0z7"
      },
      "source": [
        "usr = pd.merge(total_user_spoilers,total_users, on='user_id')"
      ],
      "execution_count": null,
      "outputs": []
    },
    {
      "cell_type": "code",
      "metadata": {
        "id": "Ul7kb4Egb0yJ"
      },
      "source": [
        "usr['usr']=usr.total_user_spoilers / usr.total_users"
      ],
      "execution_count": null,
      "outputs": []
    },
    {
      "cell_type": "code",
      "metadata": {
        "id": "f_yy78o-b0vN"
      },
      "source": [
        "usr.drop(['total_user_spoilers','total_users'], axis=1,inplace=True)"
      ],
      "execution_count": null,
      "outputs": []
    },
    {
      "cell_type": "code",
      "metadata": {
        "id": "QYuAWMeYb0sp"
      },
      "source": [
        "df= pd.merge(df, usr, on='user_id')"
      ],
      "execution_count": null,
      "outputs": []
    },
    {
      "cell_type": "markdown",
      "metadata": {
        "id": "uuPHWrrgiroi"
      },
      "source": [
        "## Genre Spoiler Ratio\n",
        "\n",
        "For differenet genres there will be diffrent likelihood of having spoilers so i'll assign ratio similar to the way of USR and MSR for each genre category but for that first i'll introduce dummy columns for each major genre and assign values corresponding to each movie."
      ]
    },
    {
      "cell_type": "code",
      "metadata": {
        "colab": {
          "base_uri": "https://localhost:8080/"
        },
        "id": "dRRrNZN4MrrA",
        "outputId": "f602a88d-4038-458b-ff7c-cd23fa5b3cfa"
      },
      "source": [
        "df.head()"
      ],
      "execution_count": null,
      "outputs": [
        {
          "output_type": "execute_result",
          "data": {
            "text/html": [
              "<div>\n",
              "<style scoped>\n",
              "    .dataframe tbody tr th:only-of-type {\n",
              "        vertical-align: middle;\n",
              "    }\n",
              "\n",
              "    .dataframe tbody tr th {\n",
              "        vertical-align: top;\n",
              "    }\n",
              "\n",
              "    .dataframe thead th {\n",
              "        text-align: right;\n",
              "    }\n",
              "</style>\n",
              "<table border=\"1\" class=\"dataframe\">\n",
              "  <thead>\n",
              "    <tr style=\"text-align: right;\">\n",
              "      <th></th>\n",
              "      <th>review_date</th>\n",
              "      <th>movie_id</th>\n",
              "      <th>user_id</th>\n",
              "      <th>is_spoiler</th>\n",
              "      <th>review_text</th>\n",
              "      <th>userrating</th>\n",
              "      <th>review_summary</th>\n",
              "      <th>plot_summary</th>\n",
              "      <th>duration</th>\n",
              "      <th>genre</th>\n",
              "      <th>actualrating</th>\n",
              "      <th>release_date</th>\n",
              "      <th>plot_synopsis</th>\n",
              "      <th>days_elapsed</th>\n",
              "      <th>word_count</th>\n",
              "      <th>spoiltext</th>\n",
              "      <th>msr</th>\n",
              "      <th>usr</th>\n",
              "    </tr>\n",
              "  </thead>\n",
              "  <tbody>\n",
              "    <tr>\n",
              "      <th>0</th>\n",
              "      <td>2006-02-10</td>\n",
              "      <td>0111161</td>\n",
              "      <td>ur1898687</td>\n",
              "      <td>1</td>\n",
              "      <td>In its Oscar year, Shawshank Redemption (writt...</td>\n",
              "      <td>10</td>\n",
              "      <td>A classic piece of unforgettable film-making.</td>\n",
              "      <td>Chronicles the experiences of a formerly succe...</td>\n",
              "      <td>2h 22min</td>\n",
              "      <td>[Crime, Drama]</td>\n",
              "      <td>9.3</td>\n",
              "      <td>1994-10-14</td>\n",
              "      <td>In 1947, Andy Dufresne (Tim Robbins), a banker...</td>\n",
              "      <td>4137</td>\n",
              "      <td>843</td>\n",
              "      <td>0</td>\n",
              "      <td>0.219216</td>\n",
              "      <td>0.6</td>\n",
              "    </tr>\n",
              "    <tr>\n",
              "      <th>1</th>\n",
              "      <td>2006-03-19</td>\n",
              "      <td>0144084</td>\n",
              "      <td>ur1898687</td>\n",
              "      <td>0</td>\n",
              "      <td>Starring: Christian Bale, Willem Dafoe, Chloë ...</td>\n",
              "      <td>8</td>\n",
              "      <td>Worth seeing, if only for the post-viewing dis...</td>\n",
              "      <td>Patrick Bateman is handsome, well educated and...</td>\n",
              "      <td>1h 42min</td>\n",
              "      <td>[Crime, Drama]</td>\n",
              "      <td>7.6</td>\n",
              "      <td>2000-04-14</td>\n",
              "      <td>A white background. Red drops begin to fall pa...</td>\n",
              "      <td>2165</td>\n",
              "      <td>526</td>\n",
              "      <td>1</td>\n",
              "      <td>0.274725</td>\n",
              "      <td>0.6</td>\n",
              "    </tr>\n",
              "    <tr>\n",
              "      <th>2</th>\n",
              "      <td>2006-02-10</td>\n",
              "      <td>0298203</td>\n",
              "      <td>ur1898687</td>\n",
              "      <td>1</td>\n",
              "      <td>Eminem's \"semi-autobiographical\" rap movie. Do...</td>\n",
              "      <td>7</td>\n",
              "      <td>Better than it needed to be.</td>\n",
              "      <td>This is the inspiring captivating story of the...</td>\n",
              "      <td>1h 50min</td>\n",
              "      <td>[Drama, Music]</td>\n",
              "      <td>7.1</td>\n",
              "      <td>2002-11-08</td>\n",
              "      <td>It's 1995. Jimmy \"B-Rabbit\" Smith Jr. (Eminem)...</td>\n",
              "      <td>1190</td>\n",
              "      <td>467</td>\n",
              "      <td>0</td>\n",
              "      <td>0.164456</td>\n",
              "      <td>0.6</td>\n",
              "    </tr>\n",
              "    <tr>\n",
              "      <th>3</th>\n",
              "      <td>2006-02-10</td>\n",
              "      <td>0319061</td>\n",
              "      <td>ur1898687</td>\n",
              "      <td>0</td>\n",
              "      <td>The grass is so green / The sky is so blue / S...</td>\n",
              "      <td>9</td>\n",
              "      <td>An immediate classic that works on both a visu...</td>\n",
              "      <td>United Press International journalist Will Blo...</td>\n",
              "      <td>2h 5min</td>\n",
              "      <td>[Adventure, Drama, Fantasy]</td>\n",
              "      <td>8.0</td>\n",
              "      <td>2004-01-09</td>\n",
              "      <td>Edward Bloom (Albert Finney), a charismatic te...</td>\n",
              "      <td>763</td>\n",
              "      <td>320</td>\n",
              "      <td>0</td>\n",
              "      <td>0.158416</td>\n",
              "      <td>0.6</td>\n",
              "    </tr>\n",
              "    <tr>\n",
              "      <th>4</th>\n",
              "      <td>2006-02-10</td>\n",
              "      <td>0377092</td>\n",
              "      <td>ur1898687</td>\n",
              "      <td>1</td>\n",
              "      <td>There are a few signs heading into Mean Girls ...</td>\n",
              "      <td>7</td>\n",
              "      <td>A smart, but flawed, look at high school life</td>\n",
              "      <td>Her parents being zoologists, homeschooled Cad...</td>\n",
              "      <td>1h 37min</td>\n",
              "      <td>[Comedy]</td>\n",
              "      <td>7.0</td>\n",
              "      <td>2004-04-30</td>\n",
              "      <td>Cady (Lindsay Lohan) is the 16-year-old home-s...</td>\n",
              "      <td>651</td>\n",
              "      <td>438</td>\n",
              "      <td>0</td>\n",
              "      <td>0.222472</td>\n",
              "      <td>0.6</td>\n",
              "    </tr>\n",
              "  </tbody>\n",
              "</table>\n",
              "</div>"
            ],
            "text/plain": [
              "  review_date movie_id    user_id  is_spoiler  \\\n",
              "0  2006-02-10  0111161  ur1898687           1   \n",
              "1  2006-03-19  0144084  ur1898687           0   \n",
              "2  2006-02-10  0298203  ur1898687           1   \n",
              "3  2006-02-10  0319061  ur1898687           0   \n",
              "4  2006-02-10  0377092  ur1898687           1   \n",
              "\n",
              "                                         review_text  userrating  \\\n",
              "0  In its Oscar year, Shawshank Redemption (writt...          10   \n",
              "1  Starring: Christian Bale, Willem Dafoe, Chloë ...           8   \n",
              "2  Eminem's \"semi-autobiographical\" rap movie. Do...           7   \n",
              "3  The grass is so green / The sky is so blue / S...           9   \n",
              "4  There are a few signs heading into Mean Girls ...           7   \n",
              "\n",
              "                                      review_summary  \\\n",
              "0      A classic piece of unforgettable film-making.   \n",
              "1  Worth seeing, if only for the post-viewing dis...   \n",
              "2                       Better than it needed to be.   \n",
              "3  An immediate classic that works on both a visu...   \n",
              "4      A smart, but flawed, look at high school life   \n",
              "\n",
              "                                        plot_summary  duration  \\\n",
              "0  Chronicles the experiences of a formerly succe...  2h 22min   \n",
              "1  Patrick Bateman is handsome, well educated and...  1h 42min   \n",
              "2  This is the inspiring captivating story of the...  1h 50min   \n",
              "3  United Press International journalist Will Blo...   2h 5min   \n",
              "4  Her parents being zoologists, homeschooled Cad...  1h 37min   \n",
              "\n",
              "                         genre  actualrating release_date  \\\n",
              "0               [Crime, Drama]           9.3   1994-10-14   \n",
              "1               [Crime, Drama]           7.6   2000-04-14   \n",
              "2               [Drama, Music]           7.1   2002-11-08   \n",
              "3  [Adventure, Drama, Fantasy]           8.0   2004-01-09   \n",
              "4                     [Comedy]           7.0   2004-04-30   \n",
              "\n",
              "                                       plot_synopsis  days_elapsed  \\\n",
              "0  In 1947, Andy Dufresne (Tim Robbins), a banker...          4137   \n",
              "1  A white background. Red drops begin to fall pa...          2165   \n",
              "2  It's 1995. Jimmy \"B-Rabbit\" Smith Jr. (Eminem)...          1190   \n",
              "3  Edward Bloom (Albert Finney), a charismatic te...           763   \n",
              "4  Cady (Lindsay Lohan) is the 16-year-old home-s...           651   \n",
              "\n",
              "   word_count  spoiltext       msr  usr  \n",
              "0         843          0  0.219216  0.6  \n",
              "1         526          1  0.274725  0.6  \n",
              "2         467          0  0.164456  0.6  \n",
              "3         320          0  0.158416  0.6  \n",
              "4         438          0  0.222472  0.6  "
            ]
          },
          "metadata": {
            "tags": []
          },
          "execution_count": 96
        }
      ]
    },
    {
      "cell_type": "code",
      "metadata": {
        "id": "nuaBWO3SQaDe"
      },
      "source": [
        "genres=np.unique(np.array(' '.join(df_details.genre.str.join(' ')).split()))"
      ],
      "execution_count": null,
      "outputs": []
    },
    {
      "cell_type": "code",
      "metadata": {
        "colab": {
          "base_uri": "https://localhost:8080/"
        },
        "id": "FPkJMPPDSa9K",
        "outputId": "e7aaf070-eded-4683-bd6f-8df707bd0c73"
      },
      "source": [
        "genres"
      ],
      "execution_count": null,
      "outputs": [
        {
          "output_type": "execute_result",
          "data": {
            "text/plain": [
              "array(['Action', 'Adventure', 'Animation', 'Biography', 'Comedy', 'Crime',\n",
              "       'Drama', 'Family', 'Fantasy', 'Film-Noir', 'History', 'Horror',\n",
              "       'Music', 'Musical', 'Mystery', 'Romance', 'Sci-Fi', 'Sport',\n",
              "       'Thriller', 'War', 'Western'], dtype='<U9')"
            ]
          },
          "metadata": {
            "tags": []
          },
          "execution_count": 98
        }
      ]
    },
    {
      "cell_type": "code",
      "metadata": {
        "id": "W0J00CKZb0iQ"
      },
      "source": [
        "genre_df=pd.DataFrame()"
      ],
      "execution_count": null,
      "outputs": []
    },
    {
      "cell_type": "code",
      "metadata": {
        "id": "HCfpnouwb0fm"
      },
      "source": [
        "for i in genres:\n",
        "    genre_df[i.lower()]=0"
      ],
      "execution_count": null,
      "outputs": []
    },
    {
      "cell_type": "code",
      "metadata": {
        "colab": {
          "base_uri": "https://localhost:8080/"
        },
        "id": "mK_mJI06SUgv",
        "outputId": "3c2424b1-06af-446f-9a04-43c20c6014bd"
      },
      "source": [
        "genre_df"
      ],
      "execution_count": null,
      "outputs": [
        {
          "output_type": "execute_result",
          "data": {
            "text/html": [
              "<div>\n",
              "<style scoped>\n",
              "    .dataframe tbody tr th:only-of-type {\n",
              "        vertical-align: middle;\n",
              "    }\n",
              "\n",
              "    .dataframe tbody tr th {\n",
              "        vertical-align: top;\n",
              "    }\n",
              "\n",
              "    .dataframe thead th {\n",
              "        text-align: right;\n",
              "    }\n",
              "</style>\n",
              "<table border=\"1\" class=\"dataframe\">\n",
              "  <thead>\n",
              "    <tr style=\"text-align: right;\">\n",
              "      <th></th>\n",
              "      <th>action</th>\n",
              "      <th>adventure</th>\n",
              "      <th>animation</th>\n",
              "      <th>biography</th>\n",
              "      <th>comedy</th>\n",
              "      <th>crime</th>\n",
              "      <th>drama</th>\n",
              "      <th>family</th>\n",
              "      <th>fantasy</th>\n",
              "      <th>film-noir</th>\n",
              "      <th>history</th>\n",
              "      <th>horror</th>\n",
              "      <th>music</th>\n",
              "      <th>musical</th>\n",
              "      <th>mystery</th>\n",
              "      <th>romance</th>\n",
              "      <th>sci-fi</th>\n",
              "      <th>sport</th>\n",
              "      <th>thriller</th>\n",
              "      <th>war</th>\n",
              "      <th>western</th>\n",
              "    </tr>\n",
              "  </thead>\n",
              "  <tbody>\n",
              "  </tbody>\n",
              "</table>\n",
              "</div>"
            ],
            "text/plain": [
              "Empty DataFrame\n",
              "Columns: [action, adventure, animation, biography, comedy, crime, drama, family, fantasy, film-noir, history, horror, music, musical, mystery, romance, sci-fi, sport, thriller, war, western]\n",
              "Index: []"
            ]
          },
          "metadata": {
            "tags": []
          },
          "execution_count": 101
        }
      ]
    },
    {
      "cell_type": "code",
      "metadata": {
        "id": "Zs54h9Stb0dA"
      },
      "source": [
        "for i,data in df_details.iterrows():\n",
        "    #Assigns details pertaining to a movie to a variable\n",
        "    details=df_details[df_details.movie_id==data['movie_id']]\n",
        "    genre_df.at[i,'movie_id']=data['movie_id']\n",
        "    for genre in genres:\n",
        "        #Checks if movie belongs to the genre or not \n",
        "        genre_df.at[i,genre.lower()]=int(genre in details['genre'].tolist()[0])"
      ],
      "execution_count": null,
      "outputs": []
    },
    {
      "cell_type": "code",
      "metadata": {
        "colab": {
          "base_uri": "https://localhost:8080/"
        },
        "id": "1ZmxanY3b0aQ",
        "outputId": "d0e8fed9-c6fd-4bb2-af38-f68024de0e9f"
      },
      "source": [
        "genre_df"
      ],
      "execution_count": null,
      "outputs": [
        {
          "output_type": "execute_result",
          "data": {
            "text/html": [
              "<div>\n",
              "<style scoped>\n",
              "    .dataframe tbody tr th:only-of-type {\n",
              "        vertical-align: middle;\n",
              "    }\n",
              "\n",
              "    .dataframe tbody tr th {\n",
              "        vertical-align: top;\n",
              "    }\n",
              "\n",
              "    .dataframe thead th {\n",
              "        text-align: right;\n",
              "    }\n",
              "</style>\n",
              "<table border=\"1\" class=\"dataframe\">\n",
              "  <thead>\n",
              "    <tr style=\"text-align: right;\">\n",
              "      <th></th>\n",
              "      <th>action</th>\n",
              "      <th>adventure</th>\n",
              "      <th>animation</th>\n",
              "      <th>biography</th>\n",
              "      <th>comedy</th>\n",
              "      <th>crime</th>\n",
              "      <th>drama</th>\n",
              "      <th>family</th>\n",
              "      <th>fantasy</th>\n",
              "      <th>film-noir</th>\n",
              "      <th>history</th>\n",
              "      <th>horror</th>\n",
              "      <th>music</th>\n",
              "      <th>musical</th>\n",
              "      <th>mystery</th>\n",
              "      <th>romance</th>\n",
              "      <th>sci-fi</th>\n",
              "      <th>sport</th>\n",
              "      <th>thriller</th>\n",
              "      <th>war</th>\n",
              "      <th>western</th>\n",
              "      <th>movie_id</th>\n",
              "    </tr>\n",
              "  </thead>\n",
              "  <tbody>\n",
              "    <tr>\n",
              "      <th>0</th>\n",
              "      <td>1.0</td>\n",
              "      <td>0.0</td>\n",
              "      <td>0.0</td>\n",
              "      <td>0.0</td>\n",
              "      <td>0.0</td>\n",
              "      <td>0.0</td>\n",
              "      <td>0.0</td>\n",
              "      <td>0.0</td>\n",
              "      <td>0.0</td>\n",
              "      <td>0.0</td>\n",
              "      <td>0.0</td>\n",
              "      <td>0.0</td>\n",
              "      <td>0.0</td>\n",
              "      <td>0.0</td>\n",
              "      <td>0.0</td>\n",
              "      <td>0.0</td>\n",
              "      <td>0.0</td>\n",
              "      <td>0.0</td>\n",
              "      <td>1.0</td>\n",
              "      <td>0.0</td>\n",
              "      <td>0.0</td>\n",
              "      <td>0105112</td>\n",
              "    </tr>\n",
              "    <tr>\n",
              "      <th>1</th>\n",
              "      <td>0.0</td>\n",
              "      <td>0.0</td>\n",
              "      <td>0.0</td>\n",
              "      <td>0.0</td>\n",
              "      <td>1.0</td>\n",
              "      <td>0.0</td>\n",
              "      <td>0.0</td>\n",
              "      <td>0.0</td>\n",
              "      <td>0.0</td>\n",
              "      <td>0.0</td>\n",
              "      <td>0.0</td>\n",
              "      <td>0.0</td>\n",
              "      <td>0.0</td>\n",
              "      <td>0.0</td>\n",
              "      <td>0.0</td>\n",
              "      <td>0.0</td>\n",
              "      <td>0.0</td>\n",
              "      <td>0.0</td>\n",
              "      <td>0.0</td>\n",
              "      <td>0.0</td>\n",
              "      <td>0.0</td>\n",
              "      <td>1204975</td>\n",
              "    </tr>\n",
              "    <tr>\n",
              "      <th>2</th>\n",
              "      <td>0.0</td>\n",
              "      <td>0.0</td>\n",
              "      <td>0.0</td>\n",
              "      <td>0.0</td>\n",
              "      <td>1.0</td>\n",
              "      <td>0.0</td>\n",
              "      <td>0.0</td>\n",
              "      <td>0.0</td>\n",
              "      <td>0.0</td>\n",
              "      <td>0.0</td>\n",
              "      <td>0.0</td>\n",
              "      <td>0.0</td>\n",
              "      <td>0.0</td>\n",
              "      <td>0.0</td>\n",
              "      <td>0.0</td>\n",
              "      <td>1.0</td>\n",
              "      <td>0.0</td>\n",
              "      <td>0.0</td>\n",
              "      <td>0.0</td>\n",
              "      <td>0.0</td>\n",
              "      <td>0.0</td>\n",
              "      <td>0243655</td>\n",
              "    </tr>\n",
              "    <tr>\n",
              "      <th>3</th>\n",
              "      <td>0.0</td>\n",
              "      <td>1.0</td>\n",
              "      <td>0.0</td>\n",
              "      <td>0.0</td>\n",
              "      <td>0.0</td>\n",
              "      <td>0.0</td>\n",
              "      <td>1.0</td>\n",
              "      <td>0.0</td>\n",
              "      <td>0.0</td>\n",
              "      <td>0.0</td>\n",
              "      <td>0.0</td>\n",
              "      <td>0.0</td>\n",
              "      <td>0.0</td>\n",
              "      <td>0.0</td>\n",
              "      <td>0.0</td>\n",
              "      <td>0.0</td>\n",
              "      <td>0.0</td>\n",
              "      <td>0.0</td>\n",
              "      <td>0.0</td>\n",
              "      <td>0.0</td>\n",
              "      <td>1.0</td>\n",
              "      <td>0040897</td>\n",
              "    </tr>\n",
              "    <tr>\n",
              "      <th>4</th>\n",
              "      <td>0.0</td>\n",
              "      <td>0.0</td>\n",
              "      <td>0.0</td>\n",
              "      <td>0.0</td>\n",
              "      <td>1.0</td>\n",
              "      <td>0.0</td>\n",
              "      <td>1.0</td>\n",
              "      <td>0.0</td>\n",
              "      <td>0.0</td>\n",
              "      <td>0.0</td>\n",
              "      <td>0.0</td>\n",
              "      <td>0.0</td>\n",
              "      <td>0.0</td>\n",
              "      <td>0.0</td>\n",
              "      <td>0.0</td>\n",
              "      <td>1.0</td>\n",
              "      <td>0.0</td>\n",
              "      <td>0.0</td>\n",
              "      <td>0.0</td>\n",
              "      <td>0.0</td>\n",
              "      <td>0.0</td>\n",
              "      <td>0126886</td>\n",
              "    </tr>\n",
              "    <tr>\n",
              "      <th>...</th>\n",
              "      <td>...</td>\n",
              "      <td>...</td>\n",
              "      <td>...</td>\n",
              "      <td>...</td>\n",
              "      <td>...</td>\n",
              "      <td>...</td>\n",
              "      <td>...</td>\n",
              "      <td>...</td>\n",
              "      <td>...</td>\n",
              "      <td>...</td>\n",
              "      <td>...</td>\n",
              "      <td>...</td>\n",
              "      <td>...</td>\n",
              "      <td>...</td>\n",
              "      <td>...</td>\n",
              "      <td>...</td>\n",
              "      <td>...</td>\n",
              "      <td>...</td>\n",
              "      <td>...</td>\n",
              "      <td>...</td>\n",
              "      <td>...</td>\n",
              "      <td>...</td>\n",
              "    </tr>\n",
              "    <tr>\n",
              "      <th>1567</th>\n",
              "      <td>0.0</td>\n",
              "      <td>0.0</td>\n",
              "      <td>0.0</td>\n",
              "      <td>0.0</td>\n",
              "      <td>0.0</td>\n",
              "      <td>0.0</td>\n",
              "      <td>0.0</td>\n",
              "      <td>0.0</td>\n",
              "      <td>0.0</td>\n",
              "      <td>0.0</td>\n",
              "      <td>0.0</td>\n",
              "      <td>0.0</td>\n",
              "      <td>0.0</td>\n",
              "      <td>0.0</td>\n",
              "      <td>0.0</td>\n",
              "      <td>0.0</td>\n",
              "      <td>1.0</td>\n",
              "      <td>0.0</td>\n",
              "      <td>1.0</td>\n",
              "      <td>0.0</td>\n",
              "      <td>0.0</td>\n",
              "      <td>0289879</td>\n",
              "    </tr>\n",
              "    <tr>\n",
              "      <th>1568</th>\n",
              "      <td>0.0</td>\n",
              "      <td>0.0</td>\n",
              "      <td>0.0</td>\n",
              "      <td>0.0</td>\n",
              "      <td>0.0</td>\n",
              "      <td>0.0</td>\n",
              "      <td>1.0</td>\n",
              "      <td>0.0</td>\n",
              "      <td>0.0</td>\n",
              "      <td>0.0</td>\n",
              "      <td>0.0</td>\n",
              "      <td>0.0</td>\n",
              "      <td>0.0</td>\n",
              "      <td>0.0</td>\n",
              "      <td>0.0</td>\n",
              "      <td>0.0</td>\n",
              "      <td>0.0</td>\n",
              "      <td>0.0</td>\n",
              "      <td>0.0</td>\n",
              "      <td>0.0</td>\n",
              "      <td>0.0</td>\n",
              "      <td>1723811</td>\n",
              "    </tr>\n",
              "    <tr>\n",
              "      <th>1569</th>\n",
              "      <td>1.0</td>\n",
              "      <td>0.0</td>\n",
              "      <td>0.0</td>\n",
              "      <td>0.0</td>\n",
              "      <td>0.0</td>\n",
              "      <td>0.0</td>\n",
              "      <td>1.0</td>\n",
              "      <td>0.0</td>\n",
              "      <td>0.0</td>\n",
              "      <td>0.0</td>\n",
              "      <td>1.0</td>\n",
              "      <td>0.0</td>\n",
              "      <td>0.0</td>\n",
              "      <td>0.0</td>\n",
              "      <td>0.0</td>\n",
              "      <td>0.0</td>\n",
              "      <td>0.0</td>\n",
              "      <td>0.0</td>\n",
              "      <td>0.0</td>\n",
              "      <td>0.0</td>\n",
              "      <td>0.0</td>\n",
              "      <td>5013056</td>\n",
              "    </tr>\n",
              "    <tr>\n",
              "      <th>1570</th>\n",
              "      <td>0.0</td>\n",
              "      <td>0.0</td>\n",
              "      <td>0.0</td>\n",
              "      <td>0.0</td>\n",
              "      <td>1.0</td>\n",
              "      <td>0.0</td>\n",
              "      <td>1.0</td>\n",
              "      <td>0.0</td>\n",
              "      <td>0.0</td>\n",
              "      <td>0.0</td>\n",
              "      <td>0.0</td>\n",
              "      <td>0.0</td>\n",
              "      <td>0.0</td>\n",
              "      <td>0.0</td>\n",
              "      <td>0.0</td>\n",
              "      <td>0.0</td>\n",
              "      <td>0.0</td>\n",
              "      <td>0.0</td>\n",
              "      <td>0.0</td>\n",
              "      <td>0.0</td>\n",
              "      <td>0.0</td>\n",
              "      <td>0104014/</td>\n",
              "    </tr>\n",
              "    <tr>\n",
              "      <th>1571</th>\n",
              "      <td>0.0</td>\n",
              "      <td>0.0</td>\n",
              "      <td>0.0</td>\n",
              "      <td>0.0</td>\n",
              "      <td>0.0</td>\n",
              "      <td>0.0</td>\n",
              "      <td>1.0</td>\n",
              "      <td>0.0</td>\n",
              "      <td>0.0</td>\n",
              "      <td>0.0</td>\n",
              "      <td>0.0</td>\n",
              "      <td>0.0</td>\n",
              "      <td>0.0</td>\n",
              "      <td>0.0</td>\n",
              "      <td>0.0</td>\n",
              "      <td>0.0</td>\n",
              "      <td>0.0</td>\n",
              "      <td>0.0</td>\n",
              "      <td>1.0</td>\n",
              "      <td>0.0</td>\n",
              "      <td>0.0</td>\n",
              "      <td>0114142/</td>\n",
              "    </tr>\n",
              "  </tbody>\n",
              "</table>\n",
              "<p>1572 rows × 22 columns</p>\n",
              "</div>"
            ],
            "text/plain": [
              "      action  adventure  animation  biography  comedy  crime  drama  family  \\\n",
              "0        1.0        0.0        0.0        0.0     0.0    0.0    0.0     0.0   \n",
              "1        0.0        0.0        0.0        0.0     1.0    0.0    0.0     0.0   \n",
              "2        0.0        0.0        0.0        0.0     1.0    0.0    0.0     0.0   \n",
              "3        0.0        1.0        0.0        0.0     0.0    0.0    1.0     0.0   \n",
              "4        0.0        0.0        0.0        0.0     1.0    0.0    1.0     0.0   \n",
              "...      ...        ...        ...        ...     ...    ...    ...     ...   \n",
              "1567     0.0        0.0        0.0        0.0     0.0    0.0    0.0     0.0   \n",
              "1568     0.0        0.0        0.0        0.0     0.0    0.0    1.0     0.0   \n",
              "1569     1.0        0.0        0.0        0.0     0.0    0.0    1.0     0.0   \n",
              "1570     0.0        0.0        0.0        0.0     1.0    0.0    1.0     0.0   \n",
              "1571     0.0        0.0        0.0        0.0     0.0    0.0    1.0     0.0   \n",
              "\n",
              "      fantasy  film-noir  history  horror  music  musical  mystery  romance  \\\n",
              "0         0.0        0.0      0.0     0.0    0.0      0.0      0.0      0.0   \n",
              "1         0.0        0.0      0.0     0.0    0.0      0.0      0.0      0.0   \n",
              "2         0.0        0.0      0.0     0.0    0.0      0.0      0.0      1.0   \n",
              "3         0.0        0.0      0.0     0.0    0.0      0.0      0.0      0.0   \n",
              "4         0.0        0.0      0.0     0.0    0.0      0.0      0.0      1.0   \n",
              "...       ...        ...      ...     ...    ...      ...      ...      ...   \n",
              "1567      0.0        0.0      0.0     0.0    0.0      0.0      0.0      0.0   \n",
              "1568      0.0        0.0      0.0     0.0    0.0      0.0      0.0      0.0   \n",
              "1569      0.0        0.0      1.0     0.0    0.0      0.0      0.0      0.0   \n",
              "1570      0.0        0.0      0.0     0.0    0.0      0.0      0.0      0.0   \n",
              "1571      0.0        0.0      0.0     0.0    0.0      0.0      0.0      0.0   \n",
              "\n",
              "      sci-fi  sport  thriller  war  western  movie_id  \n",
              "0        0.0    0.0       1.0  0.0      0.0   0105112  \n",
              "1        0.0    0.0       0.0  0.0      0.0   1204975  \n",
              "2        0.0    0.0       0.0  0.0      0.0   0243655  \n",
              "3        0.0    0.0       0.0  0.0      1.0   0040897  \n",
              "4        0.0    0.0       0.0  0.0      0.0   0126886  \n",
              "...      ...    ...       ...  ...      ...       ...  \n",
              "1567     1.0    0.0       1.0  0.0      0.0   0289879  \n",
              "1568     0.0    0.0       0.0  0.0      0.0   1723811  \n",
              "1569     0.0    0.0       0.0  0.0      0.0   5013056  \n",
              "1570     0.0    0.0       0.0  0.0      0.0  0104014/  \n",
              "1571     0.0    0.0       1.0  0.0      0.0  0114142/  \n",
              "\n",
              "[1572 rows x 22 columns]"
            ]
          },
          "metadata": {
            "tags": []
          },
          "execution_count": 103
        }
      ]
    },
    {
      "cell_type": "code",
      "metadata": {
        "id": "3sz-jUrOb0Y8"
      },
      "source": [
        "df_temp= pd.merge(df, genre_df, on=\"movie_id\")"
      ],
      "execution_count": null,
      "outputs": []
    },
    {
      "cell_type": "code",
      "metadata": {
        "colab": {
          "base_uri": "https://localhost:8080/"
        },
        "id": "ko2rD8wyCgce",
        "outputId": "10bcda53-3d7d-40e6-bd2d-a0a706c408ae"
      },
      "source": [
        "df_temp"
      ],
      "execution_count": null,
      "outputs": [
        {
          "output_type": "execute_result",
          "data": {
            "text/html": [
              "<div>\n",
              "<style scoped>\n",
              "    .dataframe tbody tr th:only-of-type {\n",
              "        vertical-align: middle;\n",
              "    }\n",
              "\n",
              "    .dataframe tbody tr th {\n",
              "        vertical-align: top;\n",
              "    }\n",
              "\n",
              "    .dataframe thead th {\n",
              "        text-align: right;\n",
              "    }\n",
              "</style>\n",
              "<table border=\"1\" class=\"dataframe\">\n",
              "  <thead>\n",
              "    <tr style=\"text-align: right;\">\n",
              "      <th></th>\n",
              "      <th>review_date</th>\n",
              "      <th>movie_id</th>\n",
              "      <th>user_id</th>\n",
              "      <th>is_spoiler</th>\n",
              "      <th>review_text</th>\n",
              "      <th>userrating</th>\n",
              "      <th>review_summary</th>\n",
              "      <th>plot_summary</th>\n",
              "      <th>duration</th>\n",
              "      <th>genre</th>\n",
              "      <th>actualrating</th>\n",
              "      <th>release_date</th>\n",
              "      <th>plot_synopsis</th>\n",
              "      <th>days_elapsed</th>\n",
              "      <th>word_count</th>\n",
              "      <th>spoiltext</th>\n",
              "      <th>msr</th>\n",
              "      <th>usr</th>\n",
              "      <th>action</th>\n",
              "      <th>adventure</th>\n",
              "      <th>animation</th>\n",
              "      <th>biography</th>\n",
              "      <th>comedy</th>\n",
              "      <th>crime</th>\n",
              "      <th>drama</th>\n",
              "      <th>family</th>\n",
              "      <th>fantasy</th>\n",
              "      <th>film-noir</th>\n",
              "      <th>history</th>\n",
              "      <th>horror</th>\n",
              "      <th>music</th>\n",
              "      <th>musical</th>\n",
              "      <th>mystery</th>\n",
              "      <th>romance</th>\n",
              "      <th>sci-fi</th>\n",
              "      <th>sport</th>\n",
              "      <th>thriller</th>\n",
              "      <th>war</th>\n",
              "      <th>western</th>\n",
              "    </tr>\n",
              "  </thead>\n",
              "  <tbody>\n",
              "    <tr>\n",
              "      <th>0</th>\n",
              "      <td>2006-02-10</td>\n",
              "      <td>0111161</td>\n",
              "      <td>ur1898687</td>\n",
              "      <td>1</td>\n",
              "      <td>In its Oscar year, Shawshank Redemption (writt...</td>\n",
              "      <td>10</td>\n",
              "      <td>A classic piece of unforgettable film-making.</td>\n",
              "      <td>Chronicles the experiences of a formerly succe...</td>\n",
              "      <td>2h 22min</td>\n",
              "      <td>[Crime, Drama]</td>\n",
              "      <td>9.3</td>\n",
              "      <td>1994-10-14</td>\n",
              "      <td>In 1947, Andy Dufresne (Tim Robbins), a banker...</td>\n",
              "      <td>4137</td>\n",
              "      <td>843</td>\n",
              "      <td>0</td>\n",
              "      <td>0.219216</td>\n",
              "      <td>0.600000</td>\n",
              "      <td>0.0</td>\n",
              "      <td>0.0</td>\n",
              "      <td>0.0</td>\n",
              "      <td>0.0</td>\n",
              "      <td>0.0</td>\n",
              "      <td>1.0</td>\n",
              "      <td>1.0</td>\n",
              "      <td>0.0</td>\n",
              "      <td>0.0</td>\n",
              "      <td>0.0</td>\n",
              "      <td>0.0</td>\n",
              "      <td>0.0</td>\n",
              "      <td>0.0</td>\n",
              "      <td>0.0</td>\n",
              "      <td>0.0</td>\n",
              "      <td>0.0</td>\n",
              "      <td>0.0</td>\n",
              "      <td>0.0</td>\n",
              "      <td>0.0</td>\n",
              "      <td>0.0</td>\n",
              "      <td>0.0</td>\n",
              "    </tr>\n",
              "    <tr>\n",
              "      <th>1</th>\n",
              "      <td>2000-09-06</td>\n",
              "      <td>0111161</td>\n",
              "      <td>ur0842118</td>\n",
              "      <td>1</td>\n",
              "      <td>The Shawshank Redemption is without a doubt on...</td>\n",
              "      <td>10</td>\n",
              "      <td>Simply amazing. The best film of the 90's.</td>\n",
              "      <td>Chronicles the experiences of a formerly succe...</td>\n",
              "      <td>2h 22min</td>\n",
              "      <td>[Crime, Drama]</td>\n",
              "      <td>9.3</td>\n",
              "      <td>1994-10-14</td>\n",
              "      <td>In 1947, Andy Dufresne (Tim Robbins), a banker...</td>\n",
              "      <td>2154</td>\n",
              "      <td>223</td>\n",
              "      <td>0</td>\n",
              "      <td>0.219216</td>\n",
              "      <td>0.250000</td>\n",
              "      <td>0.0</td>\n",
              "      <td>0.0</td>\n",
              "      <td>0.0</td>\n",
              "      <td>0.0</td>\n",
              "      <td>0.0</td>\n",
              "      <td>1.0</td>\n",
              "      <td>1.0</td>\n",
              "      <td>0.0</td>\n",
              "      <td>0.0</td>\n",
              "      <td>0.0</td>\n",
              "      <td>0.0</td>\n",
              "      <td>0.0</td>\n",
              "      <td>0.0</td>\n",
              "      <td>0.0</td>\n",
              "      <td>0.0</td>\n",
              "      <td>0.0</td>\n",
              "      <td>0.0</td>\n",
              "      <td>0.0</td>\n",
              "      <td>0.0</td>\n",
              "      <td>0.0</td>\n",
              "      <td>0.0</td>\n",
              "    </tr>\n",
              "    <tr>\n",
              "      <th>2</th>\n",
              "      <td>2001-08-03</td>\n",
              "      <td>0111161</td>\n",
              "      <td>ur1285640</td>\n",
              "      <td>1</td>\n",
              "      <td>I believe that this film is the best story eve...</td>\n",
              "      <td>8</td>\n",
              "      <td>The best story ever told on film</td>\n",
              "      <td>Chronicles the experiences of a formerly succe...</td>\n",
              "      <td>2h 22min</td>\n",
              "      <td>[Crime, Drama]</td>\n",
              "      <td>9.3</td>\n",
              "      <td>1994-10-14</td>\n",
              "      <td>In 1947, Andy Dufresne (Tim Robbins), a banker...</td>\n",
              "      <td>2485</td>\n",
              "      <td>250</td>\n",
              "      <td>0</td>\n",
              "      <td>0.219216</td>\n",
              "      <td>1.000000</td>\n",
              "      <td>0.0</td>\n",
              "      <td>0.0</td>\n",
              "      <td>0.0</td>\n",
              "      <td>0.0</td>\n",
              "      <td>0.0</td>\n",
              "      <td>1.0</td>\n",
              "      <td>1.0</td>\n",
              "      <td>0.0</td>\n",
              "      <td>0.0</td>\n",
              "      <td>0.0</td>\n",
              "      <td>0.0</td>\n",
              "      <td>0.0</td>\n",
              "      <td>0.0</td>\n",
              "      <td>0.0</td>\n",
              "      <td>0.0</td>\n",
              "      <td>0.0</td>\n",
              "      <td>0.0</td>\n",
              "      <td>0.0</td>\n",
              "      <td>0.0</td>\n",
              "      <td>0.0</td>\n",
              "      <td>0.0</td>\n",
              "    </tr>\n",
              "    <tr>\n",
              "      <th>3</th>\n",
              "      <td>2002-09-01</td>\n",
              "      <td>0111161</td>\n",
              "      <td>ur1003471</td>\n",
              "      <td>1</td>\n",
              "      <td>**Yes, there are SPOILERS here**This film has ...</td>\n",
              "      <td>10</td>\n",
              "      <td>Busy dying or busy living?</td>\n",
              "      <td>Chronicles the experiences of a formerly succe...</td>\n",
              "      <td>2h 22min</td>\n",
              "      <td>[Crime, Drama]</td>\n",
              "      <td>9.3</td>\n",
              "      <td>1994-10-14</td>\n",
              "      <td>In 1947, Andy Dufresne (Tim Robbins), a banker...</td>\n",
              "      <td>2879</td>\n",
              "      <td>766</td>\n",
              "      <td>0</td>\n",
              "      <td>0.219216</td>\n",
              "      <td>0.500000</td>\n",
              "      <td>0.0</td>\n",
              "      <td>0.0</td>\n",
              "      <td>0.0</td>\n",
              "      <td>0.0</td>\n",
              "      <td>0.0</td>\n",
              "      <td>1.0</td>\n",
              "      <td>1.0</td>\n",
              "      <td>0.0</td>\n",
              "      <td>0.0</td>\n",
              "      <td>0.0</td>\n",
              "      <td>0.0</td>\n",
              "      <td>0.0</td>\n",
              "      <td>0.0</td>\n",
              "      <td>0.0</td>\n",
              "      <td>0.0</td>\n",
              "      <td>0.0</td>\n",
              "      <td>0.0</td>\n",
              "      <td>0.0</td>\n",
              "      <td>0.0</td>\n",
              "      <td>0.0</td>\n",
              "      <td>0.0</td>\n",
              "    </tr>\n",
              "    <tr>\n",
              "      <th>4</th>\n",
              "      <td>2004-05-20</td>\n",
              "      <td>0111161</td>\n",
              "      <td>ur0226855</td>\n",
              "      <td>1</td>\n",
              "      <td>At the heart of this extraordinary movie is a ...</td>\n",
              "      <td>8</td>\n",
              "      <td>Great story, wondrously told and acted</td>\n",
              "      <td>Chronicles the experiences of a formerly succe...</td>\n",
              "      <td>2h 22min</td>\n",
              "      <td>[Crime, Drama]</td>\n",
              "      <td>9.3</td>\n",
              "      <td>1994-10-14</td>\n",
              "      <td>In 1947, Andy Dufresne (Tim Robbins), a banker...</td>\n",
              "      <td>3506</td>\n",
              "      <td>829</td>\n",
              "      <td>0</td>\n",
              "      <td>0.219216</td>\n",
              "      <td>0.135714</td>\n",
              "      <td>0.0</td>\n",
              "      <td>0.0</td>\n",
              "      <td>0.0</td>\n",
              "      <td>0.0</td>\n",
              "      <td>0.0</td>\n",
              "      <td>1.0</td>\n",
              "      <td>1.0</td>\n",
              "      <td>0.0</td>\n",
              "      <td>0.0</td>\n",
              "      <td>0.0</td>\n",
              "      <td>0.0</td>\n",
              "      <td>0.0</td>\n",
              "      <td>0.0</td>\n",
              "      <td>0.0</td>\n",
              "      <td>0.0</td>\n",
              "      <td>0.0</td>\n",
              "      <td>0.0</td>\n",
              "      <td>0.0</td>\n",
              "      <td>0.0</td>\n",
              "      <td>0.0</td>\n",
              "      <td>0.0</td>\n",
              "    </tr>\n",
              "    <tr>\n",
              "      <th>...</th>\n",
              "      <td>...</td>\n",
              "      <td>...</td>\n",
              "      <td>...</td>\n",
              "      <td>...</td>\n",
              "      <td>...</td>\n",
              "      <td>...</td>\n",
              "      <td>...</td>\n",
              "      <td>...</td>\n",
              "      <td>...</td>\n",
              "      <td>...</td>\n",
              "      <td>...</td>\n",
              "      <td>...</td>\n",
              "      <td>...</td>\n",
              "      <td>...</td>\n",
              "      <td>...</td>\n",
              "      <td>...</td>\n",
              "      <td>...</td>\n",
              "      <td>...</td>\n",
              "      <td>...</td>\n",
              "      <td>...</td>\n",
              "      <td>...</td>\n",
              "      <td>...</td>\n",
              "      <td>...</td>\n",
              "      <td>...</td>\n",
              "      <td>...</td>\n",
              "      <td>...</td>\n",
              "      <td>...</td>\n",
              "      <td>...</td>\n",
              "      <td>...</td>\n",
              "      <td>...</td>\n",
              "      <td>...</td>\n",
              "      <td>...</td>\n",
              "      <td>...</td>\n",
              "      <td>...</td>\n",
              "      <td>...</td>\n",
              "      <td>...</td>\n",
              "      <td>...</td>\n",
              "      <td>...</td>\n",
              "      <td>...</td>\n",
              "    </tr>\n",
              "    <tr>\n",
              "      <th>573901</th>\n",
              "      <td>2017-12-22</td>\n",
              "      <td>5867800</td>\n",
              "      <td>ur25307523</td>\n",
              "      <td>0</td>\n",
              "      <td>Aruvi is a waterfall of human mixed-emotions p...</td>\n",
              "      <td>10</td>\n",
              "      <td>Waterfall of human mixed-emotions</td>\n",
              "      <td>A gentle girl born and brought up amidst the e...</td>\n",
              "      <td>2h 10min</td>\n",
              "      <td>[Drama]</td>\n",
              "      <td>9.5</td>\n",
              "      <td>2017-12-15</td>\n",
              "      <td></td>\n",
              "      <td>7</td>\n",
              "      <td>226</td>\n",
              "      <td>0</td>\n",
              "      <td>0.083333</td>\n",
              "      <td>0.000000</td>\n",
              "      <td>0.0</td>\n",
              "      <td>0.0</td>\n",
              "      <td>0.0</td>\n",
              "      <td>0.0</td>\n",
              "      <td>0.0</td>\n",
              "      <td>0.0</td>\n",
              "      <td>1.0</td>\n",
              "      <td>0.0</td>\n",
              "      <td>0.0</td>\n",
              "      <td>0.0</td>\n",
              "      <td>0.0</td>\n",
              "      <td>0.0</td>\n",
              "      <td>0.0</td>\n",
              "      <td>0.0</td>\n",
              "      <td>0.0</td>\n",
              "      <td>0.0</td>\n",
              "      <td>0.0</td>\n",
              "      <td>0.0</td>\n",
              "      <td>0.0</td>\n",
              "      <td>0.0</td>\n",
              "      <td>0.0</td>\n",
              "    </tr>\n",
              "    <tr>\n",
              "      <th>573902</th>\n",
              "      <td>2017-12-22</td>\n",
              "      <td>5867800</td>\n",
              "      <td>ur83510976</td>\n",
              "      <td>0</td>\n",
              "      <td>Definitely a class apart. Excellent work by th...</td>\n",
              "      <td>10</td>\n",
              "      <td>One of the best movies in Indian cine Industry</td>\n",
              "      <td>A gentle girl born and brought up amidst the e...</td>\n",
              "      <td>2h 10min</td>\n",
              "      <td>[Drama]</td>\n",
              "      <td>9.5</td>\n",
              "      <td>2017-12-15</td>\n",
              "      <td></td>\n",
              "      <td>7</td>\n",
              "      <td>56</td>\n",
              "      <td>0</td>\n",
              "      <td>0.083333</td>\n",
              "      <td>0.000000</td>\n",
              "      <td>0.0</td>\n",
              "      <td>0.0</td>\n",
              "      <td>0.0</td>\n",
              "      <td>0.0</td>\n",
              "      <td>0.0</td>\n",
              "      <td>0.0</td>\n",
              "      <td>1.0</td>\n",
              "      <td>0.0</td>\n",
              "      <td>0.0</td>\n",
              "      <td>0.0</td>\n",
              "      <td>0.0</td>\n",
              "      <td>0.0</td>\n",
              "      <td>0.0</td>\n",
              "      <td>0.0</td>\n",
              "      <td>0.0</td>\n",
              "      <td>0.0</td>\n",
              "      <td>0.0</td>\n",
              "      <td>0.0</td>\n",
              "      <td>0.0</td>\n",
              "      <td>0.0</td>\n",
              "      <td>0.0</td>\n",
              "    </tr>\n",
              "    <tr>\n",
              "      <th>573903</th>\n",
              "      <td>2017-12-21</td>\n",
              "      <td>5867800</td>\n",
              "      <td>ur54551299</td>\n",
              "      <td>0</td>\n",
              "      <td>Aruvi will be one of the iconic movie of Tamil...</td>\n",
              "      <td>9</td>\n",
              "      <td>Aruvi - A Masterpiece</td>\n",
              "      <td>A gentle girl born and brought up amidst the e...</td>\n",
              "      <td>2h 10min</td>\n",
              "      <td>[Drama]</td>\n",
              "      <td>9.5</td>\n",
              "      <td>2017-12-15</td>\n",
              "      <td></td>\n",
              "      <td>6</td>\n",
              "      <td>336</td>\n",
              "      <td>0</td>\n",
              "      <td>0.083333</td>\n",
              "      <td>0.000000</td>\n",
              "      <td>0.0</td>\n",
              "      <td>0.0</td>\n",
              "      <td>0.0</td>\n",
              "      <td>0.0</td>\n",
              "      <td>0.0</td>\n",
              "      <td>0.0</td>\n",
              "      <td>1.0</td>\n",
              "      <td>0.0</td>\n",
              "      <td>0.0</td>\n",
              "      <td>0.0</td>\n",
              "      <td>0.0</td>\n",
              "      <td>0.0</td>\n",
              "      <td>0.0</td>\n",
              "      <td>0.0</td>\n",
              "      <td>0.0</td>\n",
              "      <td>0.0</td>\n",
              "      <td>0.0</td>\n",
              "      <td>0.0</td>\n",
              "      <td>0.0</td>\n",
              "      <td>0.0</td>\n",
              "      <td>0.0</td>\n",
              "    </tr>\n",
              "    <tr>\n",
              "      <th>573904</th>\n",
              "      <td>2017-12-19</td>\n",
              "      <td>5867800</td>\n",
              "      <td>ur48291086</td>\n",
              "      <td>0</td>\n",
              "      <td>Rolling Sirrrrr ,\\nSuch a hard hitting and gut...</td>\n",
              "      <td>10</td>\n",
              "      <td>Aruvi - Ever Best in Indian Cinema</td>\n",
              "      <td>A gentle girl born and brought up amidst the e...</td>\n",
              "      <td>2h 10min</td>\n",
              "      <td>[Drama]</td>\n",
              "      <td>9.5</td>\n",
              "      <td>2017-12-15</td>\n",
              "      <td></td>\n",
              "      <td>4</td>\n",
              "      <td>109</td>\n",
              "      <td>0</td>\n",
              "      <td>0.083333</td>\n",
              "      <td>0.000000</td>\n",
              "      <td>0.0</td>\n",
              "      <td>0.0</td>\n",
              "      <td>0.0</td>\n",
              "      <td>0.0</td>\n",
              "      <td>0.0</td>\n",
              "      <td>0.0</td>\n",
              "      <td>1.0</td>\n",
              "      <td>0.0</td>\n",
              "      <td>0.0</td>\n",
              "      <td>0.0</td>\n",
              "      <td>0.0</td>\n",
              "      <td>0.0</td>\n",
              "      <td>0.0</td>\n",
              "      <td>0.0</td>\n",
              "      <td>0.0</td>\n",
              "      <td>0.0</td>\n",
              "      <td>0.0</td>\n",
              "      <td>0.0</td>\n",
              "      <td>0.0</td>\n",
              "      <td>0.0</td>\n",
              "      <td>0.0</td>\n",
              "    </tr>\n",
              "    <tr>\n",
              "      <th>573905</th>\n",
              "      <td>2017-12-28</td>\n",
              "      <td>5867800</td>\n",
              "      <td>ur83744954</td>\n",
              "      <td>0</td>\n",
              "      <td>The film is overly dramatic, gross at times, a...</td>\n",
              "      <td>1</td>\n",
              "      <td>Overrated and awful!</td>\n",
              "      <td>A gentle girl born and brought up amidst the e...</td>\n",
              "      <td>2h 10min</td>\n",
              "      <td>[Drama]</td>\n",
              "      <td>9.5</td>\n",
              "      <td>2017-12-15</td>\n",
              "      <td></td>\n",
              "      <td>13</td>\n",
              "      <td>168</td>\n",
              "      <td>0</td>\n",
              "      <td>0.083333</td>\n",
              "      <td>0.000000</td>\n",
              "      <td>0.0</td>\n",
              "      <td>0.0</td>\n",
              "      <td>0.0</td>\n",
              "      <td>0.0</td>\n",
              "      <td>0.0</td>\n",
              "      <td>0.0</td>\n",
              "      <td>1.0</td>\n",
              "      <td>0.0</td>\n",
              "      <td>0.0</td>\n",
              "      <td>0.0</td>\n",
              "      <td>0.0</td>\n",
              "      <td>0.0</td>\n",
              "      <td>0.0</td>\n",
              "      <td>0.0</td>\n",
              "      <td>0.0</td>\n",
              "      <td>0.0</td>\n",
              "      <td>0.0</td>\n",
              "      <td>0.0</td>\n",
              "      <td>0.0</td>\n",
              "      <td>0.0</td>\n",
              "      <td>0.0</td>\n",
              "    </tr>\n",
              "  </tbody>\n",
              "</table>\n",
              "<p>573906 rows × 39 columns</p>\n",
              "</div>"
            ],
            "text/plain": [
              "       review_date movie_id     user_id  is_spoiler  \\\n",
              "0       2006-02-10  0111161   ur1898687           1   \n",
              "1       2000-09-06  0111161   ur0842118           1   \n",
              "2       2001-08-03  0111161   ur1285640           1   \n",
              "3       2002-09-01  0111161   ur1003471           1   \n",
              "4       2004-05-20  0111161   ur0226855           1   \n",
              "...            ...      ...         ...         ...   \n",
              "573901  2017-12-22  5867800  ur25307523           0   \n",
              "573902  2017-12-22  5867800  ur83510976           0   \n",
              "573903  2017-12-21  5867800  ur54551299           0   \n",
              "573904  2017-12-19  5867800  ur48291086           0   \n",
              "573905  2017-12-28  5867800  ur83744954           0   \n",
              "\n",
              "                                              review_text  userrating  \\\n",
              "0       In its Oscar year, Shawshank Redemption (writt...          10   \n",
              "1       The Shawshank Redemption is without a doubt on...          10   \n",
              "2       I believe that this film is the best story eve...           8   \n",
              "3       **Yes, there are SPOILERS here**This film has ...          10   \n",
              "4       At the heart of this extraordinary movie is a ...           8   \n",
              "...                                                   ...         ...   \n",
              "573901  Aruvi is a waterfall of human mixed-emotions p...          10   \n",
              "573902  Definitely a class apart. Excellent work by th...          10   \n",
              "573903  Aruvi will be one of the iconic movie of Tamil...           9   \n",
              "573904  Rolling Sirrrrr ,\\nSuch a hard hitting and gut...          10   \n",
              "573905  The film is overly dramatic, gross at times, a...           1   \n",
              "\n",
              "                                        review_summary  \\\n",
              "0        A classic piece of unforgettable film-making.   \n",
              "1           Simply amazing. The best film of the 90's.   \n",
              "2                     The best story ever told on film   \n",
              "3                           Busy dying or busy living?   \n",
              "4               Great story, wondrously told and acted   \n",
              "...                                                ...   \n",
              "573901               Waterfall of human mixed-emotions   \n",
              "573902  One of the best movies in Indian cine Industry   \n",
              "573903                           Aruvi - A Masterpiece   \n",
              "573904              Aruvi - Ever Best in Indian Cinema   \n",
              "573905                            Overrated and awful!   \n",
              "\n",
              "                                             plot_summary  duration  \\\n",
              "0       Chronicles the experiences of a formerly succe...  2h 22min   \n",
              "1       Chronicles the experiences of a formerly succe...  2h 22min   \n",
              "2       Chronicles the experiences of a formerly succe...  2h 22min   \n",
              "3       Chronicles the experiences of a formerly succe...  2h 22min   \n",
              "4       Chronicles the experiences of a formerly succe...  2h 22min   \n",
              "...                                                   ...       ...   \n",
              "573901  A gentle girl born and brought up amidst the e...  2h 10min   \n",
              "573902  A gentle girl born and brought up amidst the e...  2h 10min   \n",
              "573903  A gentle girl born and brought up amidst the e...  2h 10min   \n",
              "573904  A gentle girl born and brought up amidst the e...  2h 10min   \n",
              "573905  A gentle girl born and brought up amidst the e...  2h 10min   \n",
              "\n",
              "                 genre  actualrating release_date  \\\n",
              "0       [Crime, Drama]           9.3   1994-10-14   \n",
              "1       [Crime, Drama]           9.3   1994-10-14   \n",
              "2       [Crime, Drama]           9.3   1994-10-14   \n",
              "3       [Crime, Drama]           9.3   1994-10-14   \n",
              "4       [Crime, Drama]           9.3   1994-10-14   \n",
              "...                ...           ...          ...   \n",
              "573901         [Drama]           9.5   2017-12-15   \n",
              "573902         [Drama]           9.5   2017-12-15   \n",
              "573903         [Drama]           9.5   2017-12-15   \n",
              "573904         [Drama]           9.5   2017-12-15   \n",
              "573905         [Drama]           9.5   2017-12-15   \n",
              "\n",
              "                                            plot_synopsis  days_elapsed  \\\n",
              "0       In 1947, Andy Dufresne (Tim Robbins), a banker...          4137   \n",
              "1       In 1947, Andy Dufresne (Tim Robbins), a banker...          2154   \n",
              "2       In 1947, Andy Dufresne (Tim Robbins), a banker...          2485   \n",
              "3       In 1947, Andy Dufresne (Tim Robbins), a banker...          2879   \n",
              "4       In 1947, Andy Dufresne (Tim Robbins), a banker...          3506   \n",
              "...                                                   ...           ...   \n",
              "573901                                                                7   \n",
              "573902                                                                7   \n",
              "573903                                                                6   \n",
              "573904                                                                4   \n",
              "573905                                                               13   \n",
              "\n",
              "        word_count  spoiltext       msr       usr  action  adventure  \\\n",
              "0              843          0  0.219216  0.600000     0.0        0.0   \n",
              "1              223          0  0.219216  0.250000     0.0        0.0   \n",
              "2              250          0  0.219216  1.000000     0.0        0.0   \n",
              "3              766          0  0.219216  0.500000     0.0        0.0   \n",
              "4              829          0  0.219216  0.135714     0.0        0.0   \n",
              "...            ...        ...       ...       ...     ...        ...   \n",
              "573901         226          0  0.083333  0.000000     0.0        0.0   \n",
              "573902          56          0  0.083333  0.000000     0.0        0.0   \n",
              "573903         336          0  0.083333  0.000000     0.0        0.0   \n",
              "573904         109          0  0.083333  0.000000     0.0        0.0   \n",
              "573905         168          0  0.083333  0.000000     0.0        0.0   \n",
              "\n",
              "        animation  biography  comedy  crime  drama  family  fantasy  \\\n",
              "0             0.0        0.0     0.0    1.0    1.0     0.0      0.0   \n",
              "1             0.0        0.0     0.0    1.0    1.0     0.0      0.0   \n",
              "2             0.0        0.0     0.0    1.0    1.0     0.0      0.0   \n",
              "3             0.0        0.0     0.0    1.0    1.0     0.0      0.0   \n",
              "4             0.0        0.0     0.0    1.0    1.0     0.0      0.0   \n",
              "...           ...        ...     ...    ...    ...     ...      ...   \n",
              "573901        0.0        0.0     0.0    0.0    1.0     0.0      0.0   \n",
              "573902        0.0        0.0     0.0    0.0    1.0     0.0      0.0   \n",
              "573903        0.0        0.0     0.0    0.0    1.0     0.0      0.0   \n",
              "573904        0.0        0.0     0.0    0.0    1.0     0.0      0.0   \n",
              "573905        0.0        0.0     0.0    0.0    1.0     0.0      0.0   \n",
              "\n",
              "        film-noir  history  horror  music  musical  mystery  romance  sci-fi  \\\n",
              "0             0.0      0.0     0.0    0.0      0.0      0.0      0.0     0.0   \n",
              "1             0.0      0.0     0.0    0.0      0.0      0.0      0.0     0.0   \n",
              "2             0.0      0.0     0.0    0.0      0.0      0.0      0.0     0.0   \n",
              "3             0.0      0.0     0.0    0.0      0.0      0.0      0.0     0.0   \n",
              "4             0.0      0.0     0.0    0.0      0.0      0.0      0.0     0.0   \n",
              "...           ...      ...     ...    ...      ...      ...      ...     ...   \n",
              "573901        0.0      0.0     0.0    0.0      0.0      0.0      0.0     0.0   \n",
              "573902        0.0      0.0     0.0    0.0      0.0      0.0      0.0     0.0   \n",
              "573903        0.0      0.0     0.0    0.0      0.0      0.0      0.0     0.0   \n",
              "573904        0.0      0.0     0.0    0.0      0.0      0.0      0.0     0.0   \n",
              "573905        0.0      0.0     0.0    0.0      0.0      0.0      0.0     0.0   \n",
              "\n",
              "        sport  thriller  war  western  \n",
              "0         0.0       0.0  0.0      0.0  \n",
              "1         0.0       0.0  0.0      0.0  \n",
              "2         0.0       0.0  0.0      0.0  \n",
              "3         0.0       0.0  0.0      0.0  \n",
              "4         0.0       0.0  0.0      0.0  \n",
              "...       ...       ...  ...      ...  \n",
              "573901    0.0       0.0  0.0      0.0  \n",
              "573902    0.0       0.0  0.0      0.0  \n",
              "573903    0.0       0.0  0.0      0.0  \n",
              "573904    0.0       0.0  0.0      0.0  \n",
              "573905    0.0       0.0  0.0      0.0  \n",
              "\n",
              "[573906 rows x 39 columns]"
            ]
          },
          "metadata": {
            "tags": []
          },
          "execution_count": 106
        }
      ]
    },
    {
      "cell_type": "code",
      "metadata": {
        "id": "rkp6QUicb0Qe"
      },
      "source": [
        "e = 0.001\n",
        "gsr = np.zeros(len(genres))\n",
        "for i,g in enumerate(genres):\n",
        "    # i.e. total no. of reviews with spoiler belonging to a genre /total no. of reviews of movie genre\n",
        "    gsr[i] = df_temp[(df_temp.is_spoiler==1) & (df_temp[g.lower()]==1)].shape[0] / (df_temp[df_temp[g.lower()]==1].shape[0]+e)"
      ],
      "execution_count": null,
      "outputs": []
    },
    {
      "cell_type": "markdown",
      "metadata": {
        "id": "C6MH3XfI1rUB"
      },
      "source": [
        "<h1>Based on (total no. of reviews with spoiler belonging to a genre /total no. of reviews of movie genre) we will assign gsr to individual genres and then combine these gsr for individual genres to get total gsr for a movie as movie items contain more than one genre<h2/>"
      ]
    },
    {
      "cell_type": "code",
      "metadata": {
        "colab": {
          "base_uri": "https://localhost:8080/"
        },
        "id": "vpLQ-EMAq5Mb",
        "outputId": "3f27ee64-5e13-4b1c-929d-8a48c9f244a5"
      },
      "source": [
        "genres"
      ],
      "execution_count": null,
      "outputs": [
        {
          "output_type": "execute_result",
          "data": {
            "text/plain": [
              "array(['Action', 'Adventure', 'Animation', 'Biography', 'Comedy', 'Crime',\n",
              "       'Drama', 'Family', 'Fantasy', 'Film-Noir', 'History', 'Horror',\n",
              "       'Music', 'Musical', 'Mystery', 'Romance', 'Sci-Fi', 'Sport',\n",
              "       'Thriller', 'War', 'Western'], dtype='<U9')"
            ]
          },
          "metadata": {
            "tags": []
          },
          "execution_count": 112
        }
      ]
    },
    {
      "cell_type": "code",
      "metadata": {
        "colab": {
          "base_uri": "https://localhost:8080/"
        },
        "id": "SfCrNUAduDvq",
        "outputId": "64344fac-12df-47a0-9f9a-1d4045f36486"
      },
      "source": [
        "gsr"
      ],
      "execution_count": null,
      "outputs": [
        {
          "output_type": "execute_result",
          "data": {
            "text/plain": [
              "array([0.28260197, 0.28689807, 0.25694626, 0.24139909, 0.2156022 ,\n",
              "       0.24629342, 0.25653166, 0.27053262, 0.28138213, 0.27247333,\n",
              "       0.23578351, 0.29666125, 0.20991318, 0.20297205, 0.28947245,\n",
              "       0.23652655, 0.31211931, 0.23998089, 0.28114596, 0.24305825,\n",
              "       0.25500944])"
            ]
          },
          "metadata": {
            "tags": []
          },
          "execution_count": 113
        }
      ]
    },
    {
      "cell_type": "code",
      "metadata": {
        "id": "QPvk_FOGrF-I"
      },
      "source": [
        "genre_ratio=dict(zip(genres,gsr))"
      ],
      "execution_count": null,
      "outputs": []
    },
    {
      "cell_type": "code",
      "metadata": {
        "colab": {
          "base_uri": "https://localhost:8080/"
        },
        "id": "iaDEUtutEO8G",
        "outputId": "93c320ab-885f-4c84-88be-029d318a262e"
      },
      "source": [
        "genre_ratio"
      ],
      "execution_count": null,
      "outputs": [
        {
          "output_type": "execute_result",
          "data": {
            "text/plain": [
              "{'Action': 0.2826019689770604,\n",
              " 'Adventure': 0.2868980672694758,\n",
              " 'Animation': 0.2569462624752317,\n",
              " 'Biography': 0.24139909259675923,\n",
              " 'Comedy': 0.21560219893208551,\n",
              " 'Crime': 0.24629342348597225,\n",
              " 'Drama': 0.2565316551820167,\n",
              " 'Family': 0.2705326153205942,\n",
              " 'Fantasy': 0.2813821333707472,\n",
              " 'Film-Noir': 0.2724733263688853,\n",
              " 'History': 0.2357835086408125,\n",
              " 'Horror': 0.2966612453689029,\n",
              " 'Music': 0.20991317840187546,\n",
              " 'Musical': 0.20297205455381395,\n",
              " 'Mystery': 0.2894724471206937,\n",
              " 'Romance': 0.23652654812482177,\n",
              " 'Sci-Fi': 0.31211930599561166,\n",
              " 'Sport': 0.2399808874068598,\n",
              " 'Thriller': 0.2811459627482807,\n",
              " 'War': 0.24305824764780526,\n",
              " 'Western': 0.2550094378803126}"
            ]
          },
          "metadata": {
            "tags": []
          },
          "execution_count": 115
        }
      ]
    },
    {
      "cell_type": "code",
      "metadata": {
        "colab": {
          "base_uri": "https://localhost:8080/"
        },
        "id": "yC7YxjPkb0OQ",
        "outputId": "ad2a887a-a8f4-45e6-dbe1-a1ca7834077c"
      },
      "source": [
        "plt.figure(figsize=(12,12))\n",
        "sns.set_theme(style=\"whitegrid\")\n",
        "ax = sns.barplot(x=gsr,y=genres,palette=\"Blues_d\")\n",
        "ax.set(xlabel=\"Spoiler ratio\",ylabel=\"Genres\");\n",
        "plt.show();"
      ],
      "execution_count": null,
      "outputs": [
        {
          "output_type": "display_data",
          "data": {
            "image/png": "[encoded data removed]",
            "text/plain": [
              "<Figure size 864x864 with 1 Axes>"
            ]
          },
          "metadata": {
            "tags": []
          }
        }
      ]
    },
    {
      "cell_type": "code",
      "metadata": {
        "id": "POGuqw8KsUnz"
      },
      "source": [
        "def genrespoilerratio(list):\n",
        "  value=0\n",
        "  for i in list:\n",
        "    value+=genre_ratio[i]\n",
        "  return value   "
      ],
      "execution_count": null,
      "outputs": []
    },
    {
      "cell_type": "code",
      "metadata": {
        "colab": {
          "base_uri": "https://localhost:8080/"
        },
        "id": "EOnzq_nss1k5",
        "outputId": "fd963fd2-d575-421d-d6b5-d5153c3c9a8f"
      },
      "source": [
        "df['gsr'] = pd.merge(df,df_details.drop(['genre'],axis=1),on=\"movie_id\").genre.progress_apply(genrespoilerratio)"
      ],
      "execution_count": null,
      "outputs": [
        {
          "output_type": "stream",
          "text": [
            "100%|██████████| 573906/573906 [00:01<00:00, 469583.87it/s]\n"
          ],
          "name": "stderr"
        }
      ]
    },
    {
      "cell_type": "code",
      "metadata": {
        "colab": {
          "base_uri": "https://localhost:8080/"
        },
        "id": "F5fZ41Y1LYq5",
        "outputId": "55eb11cf-d411-4e81-a3c8-fa584fb7a9b6"
      },
      "source": [
        "df"
      ],
      "execution_count": null,
      "outputs": [
        {
          "output_type": "execute_result",
          "data": {
            "text/html": [
              "<div>\n",
              "<style scoped>\n",
              "    .dataframe tbody tr th:only-of-type {\n",
              "        vertical-align: middle;\n",
              "    }\n",
              "\n",
              "    .dataframe tbody tr th {\n",
              "        vertical-align: top;\n",
              "    }\n",
              "\n",
              "    .dataframe thead th {\n",
              "        text-align: right;\n",
              "    }\n",
              "</style>\n",
              "<table border=\"1\" class=\"dataframe\">\n",
              "  <thead>\n",
              "    <tr style=\"text-align: right;\">\n",
              "      <th></th>\n",
              "      <th>review_date</th>\n",
              "      <th>movie_id</th>\n",
              "      <th>user_id</th>\n",
              "      <th>is_spoiler</th>\n",
              "      <th>review_text</th>\n",
              "      <th>userrating</th>\n",
              "      <th>review_summary</th>\n",
              "      <th>plot_summary</th>\n",
              "      <th>duration</th>\n",
              "      <th>genre</th>\n",
              "      <th>actualrating</th>\n",
              "      <th>release_date</th>\n",
              "      <th>plot_synopsis</th>\n",
              "      <th>days_elapsed</th>\n",
              "      <th>word_count</th>\n",
              "      <th>spoiltext</th>\n",
              "      <th>msr</th>\n",
              "      <th>usr</th>\n",
              "      <th>gsr</th>\n",
              "    </tr>\n",
              "  </thead>\n",
              "  <tbody>\n",
              "    <tr>\n",
              "      <th>0</th>\n",
              "      <td>2006-02-10</td>\n",
              "      <td>0111161</td>\n",
              "      <td>ur1898687</td>\n",
              "      <td>1</td>\n",
              "      <td>In its Oscar year, Shawshank Redemption (writt...</td>\n",
              "      <td>10</td>\n",
              "      <td>A classic piece of unforgettable film-making.</td>\n",
              "      <td>Chronicles the experiences of a formerly succe...</td>\n",
              "      <td>2h 22min</td>\n",
              "      <td>[Crime, Drama]</td>\n",
              "      <td>9.3</td>\n",
              "      <td>1994-10-14</td>\n",
              "      <td>In 1947, Andy Dufresne (Tim Robbins), a banker...</td>\n",
              "      <td>4137</td>\n",
              "      <td>843</td>\n",
              "      <td>0</td>\n",
              "      <td>0.219216</td>\n",
              "      <td>0.6</td>\n",
              "      <td>0.502825</td>\n",
              "    </tr>\n",
              "    <tr>\n",
              "      <th>1</th>\n",
              "      <td>2006-03-19</td>\n",
              "      <td>0144084</td>\n",
              "      <td>ur1898687</td>\n",
              "      <td>0</td>\n",
              "      <td>Starring: Christian Bale, Willem Dafoe, Chloë ...</td>\n",
              "      <td>8</td>\n",
              "      <td>Worth seeing, if only for the post-viewing dis...</td>\n",
              "      <td>Patrick Bateman is handsome, well educated and...</td>\n",
              "      <td>1h 42min</td>\n",
              "      <td>[Crime, Drama]</td>\n",
              "      <td>7.6</td>\n",
              "      <td>2000-04-14</td>\n",
              "      <td>A white background. Red drops begin to fall pa...</td>\n",
              "      <td>2165</td>\n",
              "      <td>526</td>\n",
              "      <td>1</td>\n",
              "      <td>0.274725</td>\n",
              "      <td>0.6</td>\n",
              "      <td>0.502825</td>\n",
              "    </tr>\n",
              "    <tr>\n",
              "      <th>2</th>\n",
              "      <td>2006-02-10</td>\n",
              "      <td>0298203</td>\n",
              "      <td>ur1898687</td>\n",
              "      <td>1</td>\n",
              "      <td>Eminem's \"semi-autobiographical\" rap movie. Do...</td>\n",
              "      <td>7</td>\n",
              "      <td>Better than it needed to be.</td>\n",
              "      <td>This is the inspiring captivating story of the...</td>\n",
              "      <td>1h 50min</td>\n",
              "      <td>[Drama, Music]</td>\n",
              "      <td>7.1</td>\n",
              "      <td>2002-11-08</td>\n",
              "      <td>It's 1995. Jimmy \"B-Rabbit\" Smith Jr. (Eminem)...</td>\n",
              "      <td>1190</td>\n",
              "      <td>467</td>\n",
              "      <td>0</td>\n",
              "      <td>0.164456</td>\n",
              "      <td>0.6</td>\n",
              "      <td>0.502825</td>\n",
              "    </tr>\n",
              "    <tr>\n",
              "      <th>3</th>\n",
              "      <td>2006-02-10</td>\n",
              "      <td>0319061</td>\n",
              "      <td>ur1898687</td>\n",
              "      <td>0</td>\n",
              "      <td>The grass is so green / The sky is so blue / S...</td>\n",
              "      <td>9</td>\n",
              "      <td>An immediate classic that works on both a visu...</td>\n",
              "      <td>United Press International journalist Will Blo...</td>\n",
              "      <td>2h 5min</td>\n",
              "      <td>[Adventure, Drama, Fantasy]</td>\n",
              "      <td>8.0</td>\n",
              "      <td>2004-01-09</td>\n",
              "      <td>Edward Bloom (Albert Finney), a charismatic te...</td>\n",
              "      <td>763</td>\n",
              "      <td>320</td>\n",
              "      <td>0</td>\n",
              "      <td>0.158416</td>\n",
              "      <td>0.6</td>\n",
              "      <td>0.502825</td>\n",
              "    </tr>\n",
              "    <tr>\n",
              "      <th>4</th>\n",
              "      <td>2006-02-10</td>\n",
              "      <td>0377092</td>\n",
              "      <td>ur1898687</td>\n",
              "      <td>1</td>\n",
              "      <td>There are a few signs heading into Mean Girls ...</td>\n",
              "      <td>7</td>\n",
              "      <td>A smart, but flawed, look at high school life</td>\n",
              "      <td>Her parents being zoologists, homeschooled Cad...</td>\n",
              "      <td>1h 37min</td>\n",
              "      <td>[Comedy]</td>\n",
              "      <td>7.0</td>\n",
              "      <td>2004-04-30</td>\n",
              "      <td>Cady (Lindsay Lohan) is the 16-year-old home-s...</td>\n",
              "      <td>651</td>\n",
              "      <td>438</td>\n",
              "      <td>0</td>\n",
              "      <td>0.222472</td>\n",
              "      <td>0.6</td>\n",
              "      <td>0.502825</td>\n",
              "    </tr>\n",
              "    <tr>\n",
              "      <th>...</th>\n",
              "      <td>...</td>\n",
              "      <td>...</td>\n",
              "      <td>...</td>\n",
              "      <td>...</td>\n",
              "      <td>...</td>\n",
              "      <td>...</td>\n",
              "      <td>...</td>\n",
              "      <td>...</td>\n",
              "      <td>...</td>\n",
              "      <td>...</td>\n",
              "      <td>...</td>\n",
              "      <td>...</td>\n",
              "      <td>...</td>\n",
              "      <td>...</td>\n",
              "      <td>...</td>\n",
              "      <td>...</td>\n",
              "      <td>...</td>\n",
              "      <td>...</td>\n",
              "      <td>...</td>\n",
              "    </tr>\n",
              "    <tr>\n",
              "      <th>573901</th>\n",
              "      <td>1999-08-18</td>\n",
              "      <td>0139239</td>\n",
              "      <td>ur0419756</td>\n",
              "      <td>0</td>\n",
              "      <td>I think this movie was under-appreciated by Am...</td>\n",
              "      <td>10</td>\n",
              "      <td>innovative and rockin'...I love Go!</td>\n",
              "      <td>Told from three perspectives, a story of a bun...</td>\n",
              "      <td>1h 42min</td>\n",
              "      <td>[Comedy, Crime]</td>\n",
              "      <td>7.3</td>\n",
              "      <td>1999-04-09</td>\n",
              "      <td>The film is told out of chronological format, ...</td>\n",
              "      <td>131</td>\n",
              "      <td>45</td>\n",
              "      <td>0</td>\n",
              "      <td>0.056338</td>\n",
              "      <td>0.0</td>\n",
              "      <td>0.256532</td>\n",
              "    </tr>\n",
              "    <tr>\n",
              "      <th>573902</th>\n",
              "      <td>1999-08-14</td>\n",
              "      <td>0139239</td>\n",
              "      <td>ur0415521</td>\n",
              "      <td>0</td>\n",
              "      <td>This type of movie is one that I would not ord...</td>\n",
              "      <td>9</td>\n",
              "      <td>GO see it!</td>\n",
              "      <td>Told from three perspectives, a story of a bun...</td>\n",
              "      <td>1h 42min</td>\n",
              "      <td>[Comedy, Crime]</td>\n",
              "      <td>7.3</td>\n",
              "      <td>1999-04-09</td>\n",
              "      <td>The film is told out of chronological format, ...</td>\n",
              "      <td>127</td>\n",
              "      <td>89</td>\n",
              "      <td>0</td>\n",
              "      <td>0.056338</td>\n",
              "      <td>0.0</td>\n",
              "      <td>0.256532</td>\n",
              "    </tr>\n",
              "    <tr>\n",
              "      <th>573903</th>\n",
              "      <td>1999-08-08</td>\n",
              "      <td>0139239</td>\n",
              "      <td>ur0100166</td>\n",
              "      <td>0</td>\n",
              "      <td>Go is wise, fast and pure entertainment. Assem...</td>\n",
              "      <td>10</td>\n",
              "      <td>The best teen movie of the nineties</td>\n",
              "      <td>Told from three perspectives, a story of a bun...</td>\n",
              "      <td>1h 42min</td>\n",
              "      <td>[Comedy, Crime]</td>\n",
              "      <td>7.3</td>\n",
              "      <td>1999-04-09</td>\n",
              "      <td>The film is told out of chronological format, ...</td>\n",
              "      <td>121</td>\n",
              "      <td>52</td>\n",
              "      <td>0</td>\n",
              "      <td>0.056338</td>\n",
              "      <td>0.0</td>\n",
              "      <td>0.256532</td>\n",
              "    </tr>\n",
              "    <tr>\n",
              "      <th>573904</th>\n",
              "      <td>1999-07-20</td>\n",
              "      <td>0139239</td>\n",
              "      <td>ur0392750</td>\n",
              "      <td>0</td>\n",
              "      <td>Go is the best movie I have ever seen, and I'v...</td>\n",
              "      <td>10</td>\n",
              "      <td>It's the best movie I've ever seen</td>\n",
              "      <td>Told from three perspectives, a story of a bun...</td>\n",
              "      <td>1h 42min</td>\n",
              "      <td>[Comedy, Crime]</td>\n",
              "      <td>7.3</td>\n",
              "      <td>1999-04-09</td>\n",
              "      <td>The film is told out of chronological format, ...</td>\n",
              "      <td>102</td>\n",
              "      <td>202</td>\n",
              "      <td>0</td>\n",
              "      <td>0.056338</td>\n",
              "      <td>0.0</td>\n",
              "      <td>0.256532</td>\n",
              "    </tr>\n",
              "    <tr>\n",
              "      <th>573905</th>\n",
              "      <td>1999-05-03</td>\n",
              "      <td>0139239</td>\n",
              "      <td>ur0156431</td>\n",
              "      <td>0</td>\n",
              "      <td>Why was this movie made? No doubt to sucker in...</td>\n",
              "      <td>2</td>\n",
              "      <td>Go doesn't go anywhere</td>\n",
              "      <td>Told from three perspectives, a story of a bun...</td>\n",
              "      <td>1h 42min</td>\n",
              "      <td>[Comedy, Crime]</td>\n",
              "      <td>7.3</td>\n",
              "      <td>1999-04-09</td>\n",
              "      <td>The film is told out of chronological format, ...</td>\n",
              "      <td>24</td>\n",
              "      <td>181</td>\n",
              "      <td>0</td>\n",
              "      <td>0.056338</td>\n",
              "      <td>0.0</td>\n",
              "      <td>0.256532</td>\n",
              "    </tr>\n",
              "  </tbody>\n",
              "</table>\n",
              "<p>573906 rows × 19 columns</p>\n",
              "</div>"
            ],
            "text/plain": [
              "       review_date movie_id    user_id  is_spoiler  \\\n",
              "0       2006-02-10  0111161  ur1898687           1   \n",
              "1       2006-03-19  0144084  ur1898687           0   \n",
              "2       2006-02-10  0298203  ur1898687           1   \n",
              "3       2006-02-10  0319061  ur1898687           0   \n",
              "4       2006-02-10  0377092  ur1898687           1   \n",
              "...            ...      ...        ...         ...   \n",
              "573901  1999-08-18  0139239  ur0419756           0   \n",
              "573902  1999-08-14  0139239  ur0415521           0   \n",
              "573903  1999-08-08  0139239  ur0100166           0   \n",
              "573904  1999-07-20  0139239  ur0392750           0   \n",
              "573905  1999-05-03  0139239  ur0156431           0   \n",
              "\n",
              "                                              review_text  userrating  \\\n",
              "0       In its Oscar year, Shawshank Redemption (writt...          10   \n",
              "1       Starring: Christian Bale, Willem Dafoe, Chloë ...           8   \n",
              "2       Eminem's \"semi-autobiographical\" rap movie. Do...           7   \n",
              "3       The grass is so green / The sky is so blue / S...           9   \n",
              "4       There are a few signs heading into Mean Girls ...           7   \n",
              "...                                                   ...         ...   \n",
              "573901  I think this movie was under-appreciated by Am...          10   \n",
              "573902  This type of movie is one that I would not ord...           9   \n",
              "573903  Go is wise, fast and pure entertainment. Assem...          10   \n",
              "573904  Go is the best movie I have ever seen, and I'v...          10   \n",
              "573905  Why was this movie made? No doubt to sucker in...           2   \n",
              "\n",
              "                                           review_summary  \\\n",
              "0           A classic piece of unforgettable film-making.   \n",
              "1       Worth seeing, if only for the post-viewing dis...   \n",
              "2                            Better than it needed to be.   \n",
              "3       An immediate classic that works on both a visu...   \n",
              "4           A smart, but flawed, look at high school life   \n",
              "...                                                   ...   \n",
              "573901                innovative and rockin'...I love Go!   \n",
              "573902                                         GO see it!   \n",
              "573903                The best teen movie of the nineties   \n",
              "573904                 It's the best movie I've ever seen   \n",
              "573905                             Go doesn't go anywhere   \n",
              "\n",
              "                                             plot_summary  duration  \\\n",
              "0       Chronicles the experiences of a formerly succe...  2h 22min   \n",
              "1       Patrick Bateman is handsome, well educated and...  1h 42min   \n",
              "2       This is the inspiring captivating story of the...  1h 50min   \n",
              "3       United Press International journalist Will Blo...   2h 5min   \n",
              "4       Her parents being zoologists, homeschooled Cad...  1h 37min   \n",
              "...                                                   ...       ...   \n",
              "573901  Told from three perspectives, a story of a bun...  1h 42min   \n",
              "573902  Told from three perspectives, a story of a bun...  1h 42min   \n",
              "573903  Told from three perspectives, a story of a bun...  1h 42min   \n",
              "573904  Told from three perspectives, a story of a bun...  1h 42min   \n",
              "573905  Told from three perspectives, a story of a bun...  1h 42min   \n",
              "\n",
              "                              genre  actualrating release_date  \\\n",
              "0                    [Crime, Drama]           9.3   1994-10-14   \n",
              "1                    [Crime, Drama]           7.6   2000-04-14   \n",
              "2                    [Drama, Music]           7.1   2002-11-08   \n",
              "3       [Adventure, Drama, Fantasy]           8.0   2004-01-09   \n",
              "4                          [Comedy]           7.0   2004-04-30   \n",
              "...                             ...           ...          ...   \n",
              "573901              [Comedy, Crime]           7.3   1999-04-09   \n",
              "573902              [Comedy, Crime]           7.3   1999-04-09   \n",
              "573903              [Comedy, Crime]           7.3   1999-04-09   \n",
              "573904              [Comedy, Crime]           7.3   1999-04-09   \n",
              "573905              [Comedy, Crime]           7.3   1999-04-09   \n",
              "\n",
              "                                            plot_synopsis  days_elapsed  \\\n",
              "0       In 1947, Andy Dufresne (Tim Robbins), a banker...          4137   \n",
              "1       A white background. Red drops begin to fall pa...          2165   \n",
              "2       It's 1995. Jimmy \"B-Rabbit\" Smith Jr. (Eminem)...          1190   \n",
              "3       Edward Bloom (Albert Finney), a charismatic te...           763   \n",
              "4       Cady (Lindsay Lohan) is the 16-year-old home-s...           651   \n",
              "...                                                   ...           ...   \n",
              "573901  The film is told out of chronological format, ...           131   \n",
              "573902  The film is told out of chronological format, ...           127   \n",
              "573903  The film is told out of chronological format, ...           121   \n",
              "573904  The film is told out of chronological format, ...           102   \n",
              "573905  The film is told out of chronological format, ...            24   \n",
              "\n",
              "        word_count  spoiltext       msr  usr       gsr  \n",
              "0              843          0  0.219216  0.6  0.502825  \n",
              "1              526          1  0.274725  0.6  0.502825  \n",
              "2              467          0  0.164456  0.6  0.502825  \n",
              "3              320          0  0.158416  0.6  0.502825  \n",
              "4              438          0  0.222472  0.6  0.502825  \n",
              "...            ...        ...       ...  ...       ...  \n",
              "573901          45          0  0.056338  0.0  0.256532  \n",
              "573902          89          0  0.056338  0.0  0.256532  \n",
              "573903          52          0  0.056338  0.0  0.256532  \n",
              "573904         202          0  0.056338  0.0  0.256532  \n",
              "573905         181          0  0.056338  0.0  0.256532  \n",
              "\n",
              "[573906 rows x 19 columns]"
            ]
          },
          "metadata": {
            "tags": []
          },
          "execution_count": 126
        }
      ]
    },
    {
      "cell_type": "markdown",
      "metadata": {
        "id": "665NThyrmIVG"
      },
      "source": [
        "##  Matching Text from reviews with plot summary \n",
        "\n",
        " will find distance between plot summary and  the corresponding reviews.Lesser the distance more is the probability of them containing same information i.e. spoilers . So in order to do this  will first preprocess the text to remove all non alphabetical characters and stop words from the review_text and plot summary and then using glove embeddings will filnd distance between them ."
      ]
    },
    {
      "cell_type": "code",
      "metadata": {
        "colab": {
          "base_uri": "https://localhost:8080/"
        },
        "id": "0UatC0PE4sZK",
        "outputId": "60200d37-f25f-4d7e-fbe7-91fbd75457d1"
      },
      "source": [
        "nltk.download('stopwords')\n",
        "from nltk.corpus import stopwords\n",
        "stopwords=set(stopwords.words('english'))\n",
        "stopwords_dict=Counter(stopwords)\n",
        "def preprocesstext(text):\n",
        "    text=text.lower()\n",
        "    text=re.sub('[^a-zA-Z]',' ',text)\n",
        "    words=text.split()\n",
        "    word=[word for word in words if word not in stopwords_dict]\n",
        "    text=\" \".join(words)\n",
        "    return text"
      ],
      "execution_count": null,
      "outputs": [
        {
          "output_type": "stream",
          "text": [
            "[nltk_data] Downloading package stopwords to /root/nltk_data...\n",
            "[nltk_data]   Package stopwords is already up-to-date!\n"
          ],
          "name": "stdout"
        }
      ]
    },
    {
      "cell_type": "code",
      "metadata": {
        "id": "8xAOKAhOULJG"
      },
      "source": [
        "df.review_text=df.review_text.apply(preprocesstext)\n",
        "df.plot_summary=df.plot_summary.apply(preprocesstext)\n"
      ],
      "execution_count": null,
      "outputs": []
    },
    {
      "cell_type": "markdown",
      "metadata": {
        "id": "Q9o1K8NkmU7j"
      },
      "source": [
        "Using glove-global-vectors for words.These pre-trained embeddings are used  to quantify word co-occurrence (which also captures some aspects of word meaning). This dataset contains 50-dimensional, 100-dimensional and 200-dimensional pre trained word vectors.Here i'll be using 50 dimensional one."
      ]
    },
    {
      "cell_type": "code",
      "metadata": {
        "id": "eTdyCAG8l6JU"
      },
      "source": [
        "#Saving the words and their corresponding vectors in  a dictionary\n",
        "embeddings=dict()\n",
        "f=open('/content/glove.6B.50d.txt')\n",
        "for i in f: \n",
        "    values=i.split()\n",
        "    word=values[0]\n",
        "    cofss = np.asarray(values[1:], dtype='float32')\n",
        "    embeddings[word]=cofss\n",
        "f.close()    "
      ],
      "execution_count": null,
      "outputs": []
    },
    {
      "cell_type": "code",
      "metadata": {
        "id": "ZPwHn7Yul6Gx"
      },
      "source": [
        "def getAvgWordEmbedding(text):\n",
        "    words = text.split()\n",
        "    n = 0\n",
        "    sumEmbed = np.zeros(50)\n",
        "    # because 50 dim of word vectors\n",
        "    \n",
        "    for word in words:\n",
        "        if word in embeddings:\n",
        "            sumEmbed += embeddings[word]\n",
        "            n += 1\n",
        "    \n",
        "    avgEmbed = sumEmbed / n\n",
        "    return avgEmbed\n",
        "    \n",
        "def Dist(e1, e2):\n",
        "    return np.sum(np.square(e1-e2), axis = 1)"
      ],
      "execution_count": null,
      "outputs": []
    },
    {
      "cell_type": "code",
      "metadata": {
        "colab": {
          "base_uri": "https://localhost:8080/"
        },
        "id": "g8Ifb1cMl57W",
        "outputId": "0c56d671-e649-46e6-f71b-4655d9645265"
      },
      "source": [
        "plot_embed = df.plot_summary.progress_apply(getAvgWordEmbedding)"
      ],
      "execution_count": null,
      "outputs": [
        {
          "output_type": "stream",
          "text": [
            "100%|██████████| 573906/573906 [02:11<00:00, 4356.50it/s]\n"
          ],
          "name": "stderr"
        }
      ]
    },
    {
      "cell_type": "code",
      "metadata": {
        "colab": {
          "base_uri": "https://localhost:8080/"
        },
        "id": "491bf-l8r4xJ",
        "outputId": "c69dc9ff-0360-49d6-cd1b-4029eb4b801e"
      },
      "source": [
        "review_embed = df.review_text.progress_apply(getAvgWordEmbedding)"
      ],
      "execution_count": null,
      "outputs": [
        {
          "output_type": "stream",
          "text": [
            "100%|██████████| 573906/573906 [05:38<00:00, 1697.58it/s]\n"
          ],
          "name": "stderr"
        }
      ]
    },
    {
      "cell_type": "code",
      "metadata": {
        "id": "J6UsyZRFl54L"
      },
      "source": [
        "df['distance_plot']=Dist(np.stack(review_embed),np.stack(plot_embed))"
      ],
      "execution_count": null,
      "outputs": []
    },
    {
      "cell_type": "markdown",
      "metadata": {
        "id": "frNpwkGGFU5y"
      },
      "source": [
        "# Saving the processed dataset for future use\n"
      ]
    },
    {
      "cell_type": "code",
      "metadata": {
        "id": "8h409lWBFX67"
      },
      "source": [
        "df.to_csv('/content/drive/MyDrive/Spoiler_alert_model/processed_data/processed_data.csv',index=False)"
      ],
      "execution_count": null,
      "outputs": []
    },
    {
      "cell_type": "markdown",
      "metadata": {
        "id": "39oA5kx6COaA"
      },
      "source": [
        "#Preparing  Train / Valid / Test Sets\n"
      ]
    },
    {
      "cell_type": "code",
      "metadata": {
        "id": "VZpdCsFpO5l-"
      },
      "source": [
        "df = pd.read_csv('/content/drive/MyDrive/Spoiler_alert_model/processed_data/processed_data.csv')"
      ],
      "execution_count": null,
      "outputs": []
    },
    {
      "cell_type": "code",
      "metadata": {
        "colab": {
          "base_uri": "https://localhost:8080/",
          "height": 513
        },
        "id": "tzj9MveliUZs",
        "outputId": "f0ffb978-430a-4eb6-9ce4-0f6ba8d5aac3"
      },
      "source": [
        "df.head()"
      ],
      "execution_count": null,
      "outputs": [
        {
          "output_type": "execute_result",
          "data": {
            "text/html": [
              "<div>\n",
              "<style scoped>\n",
              "    .dataframe tbody tr th:only-of-type {\n",
              "        vertical-align: middle;\n",
              "    }\n",
              "\n",
              "    .dataframe tbody tr th {\n",
              "        vertical-align: top;\n",
              "    }\n",
              "\n",
              "    .dataframe thead th {\n",
              "        text-align: right;\n",
              "    }\n",
              "</style>\n",
              "<table border=\"1\" class=\"dataframe\">\n",
              "  <thead>\n",
              "    <tr style=\"text-align: right;\">\n",
              "      <th></th>\n",
              "      <th>review_date</th>\n",
              "      <th>movie_id</th>\n",
              "      <th>user_id</th>\n",
              "      <th>is_spoiler</th>\n",
              "      <th>review_text</th>\n",
              "      <th>userrating</th>\n",
              "      <th>review_summary</th>\n",
              "      <th>plot_summary</th>\n",
              "      <th>duration</th>\n",
              "      <th>genre</th>\n",
              "      <th>actualrating</th>\n",
              "      <th>release_date</th>\n",
              "      <th>plot_synopsis</th>\n",
              "      <th>days_elapsed</th>\n",
              "      <th>word_count</th>\n",
              "      <th>spoiltext</th>\n",
              "      <th>msr</th>\n",
              "      <th>usr</th>\n",
              "      <th>gsr</th>\n",
              "      <th>distance_plot</th>\n",
              "    </tr>\n",
              "  </thead>\n",
              "  <tbody>\n",
              "    <tr>\n",
              "      <th>0</th>\n",
              "      <td>2006-02-10</td>\n",
              "      <td>111161</td>\n",
              "      <td>ur1898687</td>\n",
              "      <td>1</td>\n",
              "      <td>in its oscar year shawshank redemption written...</td>\n",
              "      <td>10</td>\n",
              "      <td>A classic piece of unforgettable film-making.</td>\n",
              "      <td>chronicles the experiences of a formerly succe...</td>\n",
              "      <td>2h 22min</td>\n",
              "      <td>['Crime', 'Drama']</td>\n",
              "      <td>9.3</td>\n",
              "      <td>1994-10-14</td>\n",
              "      <td>In 1947, Andy Dufresne (Tim Robbins), a banker...</td>\n",
              "      <td>4137</td>\n",
              "      <td>843</td>\n",
              "      <td>0</td>\n",
              "      <td>0.219216</td>\n",
              "      <td>0.6</td>\n",
              "      <td>0.502825</td>\n",
              "      <td>0.670662</td>\n",
              "    </tr>\n",
              "    <tr>\n",
              "      <th>1</th>\n",
              "      <td>2006-03-19</td>\n",
              "      <td>144084</td>\n",
              "      <td>ur1898687</td>\n",
              "      <td>0</td>\n",
              "      <td>starring christian bale willem dafoe chlo sevi...</td>\n",
              "      <td>8</td>\n",
              "      <td>Worth seeing, if only for the post-viewing dis...</td>\n",
              "      <td>patrick bateman is handsome well educated and ...</td>\n",
              "      <td>1h 42min</td>\n",
              "      <td>['Crime', 'Drama']</td>\n",
              "      <td>7.6</td>\n",
              "      <td>2000-04-14</td>\n",
              "      <td>A white background. Red drops begin to fall pa...</td>\n",
              "      <td>2165</td>\n",
              "      <td>526</td>\n",
              "      <td>1</td>\n",
              "      <td>0.274725</td>\n",
              "      <td>0.6</td>\n",
              "      <td>0.502825</td>\n",
              "      <td>0.529877</td>\n",
              "    </tr>\n",
              "    <tr>\n",
              "      <th>2</th>\n",
              "      <td>2006-02-10</td>\n",
              "      <td>298203</td>\n",
              "      <td>ur1898687</td>\n",
              "      <td>1</td>\n",
              "      <td>eminem s semi autobiographical rap movie do i ...</td>\n",
              "      <td>7</td>\n",
              "      <td>Better than it needed to be.</td>\n",
              "      <td>this is the inspiring captivating story of the...</td>\n",
              "      <td>1h 50min</td>\n",
              "      <td>['Drama', 'Music']</td>\n",
              "      <td>7.1</td>\n",
              "      <td>2002-11-08</td>\n",
              "      <td>It's 1995. Jimmy \"B-Rabbit\" Smith Jr. (Eminem)...</td>\n",
              "      <td>1190</td>\n",
              "      <td>467</td>\n",
              "      <td>0</td>\n",
              "      <td>0.164456</td>\n",
              "      <td>0.6</td>\n",
              "      <td>0.502825</td>\n",
              "      <td>0.287624</td>\n",
              "    </tr>\n",
              "    <tr>\n",
              "      <th>3</th>\n",
              "      <td>2006-02-10</td>\n",
              "      <td>319061</td>\n",
              "      <td>ur1898687</td>\n",
              "      <td>0</td>\n",
              "      <td>the grass is so green the sky is so blue spect...</td>\n",
              "      <td>9</td>\n",
              "      <td>An immediate classic that works on both a visu...</td>\n",
              "      <td>united press international journalist will blo...</td>\n",
              "      <td>2h 5min</td>\n",
              "      <td>['Adventure', 'Drama', 'Fantasy']</td>\n",
              "      <td>8.0</td>\n",
              "      <td>2004-01-09</td>\n",
              "      <td>Edward Bloom (Albert Finney), a charismatic te...</td>\n",
              "      <td>763</td>\n",
              "      <td>320</td>\n",
              "      <td>0</td>\n",
              "      <td>0.158416</td>\n",
              "      <td>0.6</td>\n",
              "      <td>0.502825</td>\n",
              "      <td>0.636278</td>\n",
              "    </tr>\n",
              "    <tr>\n",
              "      <th>4</th>\n",
              "      <td>2006-02-10</td>\n",
              "      <td>377092</td>\n",
              "      <td>ur1898687</td>\n",
              "      <td>1</td>\n",
              "      <td>there are a few signs heading into mean girls ...</td>\n",
              "      <td>7</td>\n",
              "      <td>A smart, but flawed, look at high school life</td>\n",
              "      <td>her parents being zoologists homeschooled cady...</td>\n",
              "      <td>1h 37min</td>\n",
              "      <td>['Comedy']</td>\n",
              "      <td>7.0</td>\n",
              "      <td>2004-04-30</td>\n",
              "      <td>Cady (Lindsay Lohan) is the 16-year-old home-s...</td>\n",
              "      <td>651</td>\n",
              "      <td>438</td>\n",
              "      <td>0</td>\n",
              "      <td>0.222472</td>\n",
              "      <td>0.6</td>\n",
              "      <td>0.502825</td>\n",
              "      <td>0.392562</td>\n",
              "    </tr>\n",
              "  </tbody>\n",
              "</table>\n",
              "</div>"
            ],
            "text/plain": [
              "  review_date  movie_id    user_id  is_spoiler  \\\n",
              "0  2006-02-10    111161  ur1898687           1   \n",
              "1  2006-03-19    144084  ur1898687           0   \n",
              "2  2006-02-10    298203  ur1898687           1   \n",
              "3  2006-02-10    319061  ur1898687           0   \n",
              "4  2006-02-10    377092  ur1898687           1   \n",
              "\n",
              "                                         review_text  userrating  \\\n",
              "0  in its oscar year shawshank redemption written...          10   \n",
              "1  starring christian bale willem dafoe chlo sevi...           8   \n",
              "2  eminem s semi autobiographical rap movie do i ...           7   \n",
              "3  the grass is so green the sky is so blue spect...           9   \n",
              "4  there are a few signs heading into mean girls ...           7   \n",
              "\n",
              "                                      review_summary  \\\n",
              "0      A classic piece of unforgettable film-making.   \n",
              "1  Worth seeing, if only for the post-viewing dis...   \n",
              "2                       Better than it needed to be.   \n",
              "3  An immediate classic that works on both a visu...   \n",
              "4      A smart, but flawed, look at high school life   \n",
              "\n",
              "                                        plot_summary  duration  \\\n",
              "0  chronicles the experiences of a formerly succe...  2h 22min   \n",
              "1  patrick bateman is handsome well educated and ...  1h 42min   \n",
              "2  this is the inspiring captivating story of the...  1h 50min   \n",
              "3  united press international journalist will blo...   2h 5min   \n",
              "4  her parents being zoologists homeschooled cady...  1h 37min   \n",
              "\n",
              "                               genre  actualrating release_date  \\\n",
              "0                 ['Crime', 'Drama']           9.3   1994-10-14   \n",
              "1                 ['Crime', 'Drama']           7.6   2000-04-14   \n",
              "2                 ['Drama', 'Music']           7.1   2002-11-08   \n",
              "3  ['Adventure', 'Drama', 'Fantasy']           8.0   2004-01-09   \n",
              "4                         ['Comedy']           7.0   2004-04-30   \n",
              "\n",
              "                                       plot_synopsis  days_elapsed  \\\n",
              "0  In 1947, Andy Dufresne (Tim Robbins), a banker...          4137   \n",
              "1  A white background. Red drops begin to fall pa...          2165   \n",
              "2  It's 1995. Jimmy \"B-Rabbit\" Smith Jr. (Eminem)...          1190   \n",
              "3  Edward Bloom (Albert Finney), a charismatic te...           763   \n",
              "4  Cady (Lindsay Lohan) is the 16-year-old home-s...           651   \n",
              "\n",
              "   word_count  spoiltext       msr  usr       gsr  distance_plot  \n",
              "0         843          0  0.219216  0.6  0.502825       0.670662  \n",
              "1         526          1  0.274725  0.6  0.502825       0.529877  \n",
              "2         467          0  0.164456  0.6  0.502825       0.287624  \n",
              "3         320          0  0.158416  0.6  0.502825       0.636278  \n",
              "4         438          0  0.222472  0.6  0.502825       0.392562  "
            ]
          },
          "metadata": {
            "tags": []
          },
          "execution_count": 139
        }
      ]
    },
    {
      "cell_type": "code",
      "metadata": {
        "id": "pluXds9EUDV4"
      },
      "source": [
        "train,val = train_test_split(df, test_size=0.2, stratify=df[\"is_spoiler\"])\n"
      ],
      "execution_count": null,
      "outputs": []
    },
    {
      "cell_type": "code",
      "metadata": {
        "id": "nT1sZxInVgGg"
      },
      "source": [
        "train,test=train_test_split(train, test_size=0.2, stratify=train[\"is_spoiler\"])\n"
      ],
      "execution_count": null,
      "outputs": []
    },
    {
      "cell_type": "markdown",
      "metadata": {
        "id": "mh-JeZKccZ4L"
      },
      "source": [
        "# Read  Train/Valid/Sets "
      ]
    },
    {
      "cell_type": "code",
      "metadata": {
        "id": "5IxEWoIG9xYL",
        "colab": {
          "base_uri": "https://localhost:8080/"
        },
        "outputId": "8a6add47-a566-430b-b676-59f4209a41b0"
      },
      "source": [
        "train.columns"
      ],
      "execution_count": null,
      "outputs": [
        {
          "output_type": "execute_result",
          "data": {
            "text/plain": [
              "Index(['review_date', 'movie_id', 'user_id', 'is_spoiler', 'review_text',\n",
              "       'userrating', 'review_summary', 'plot_summary', 'duration', 'genre',\n",
              "       'actualrating', 'release_date', 'plot_synopsis', 'days_elapsed',\n",
              "       'word_count', 'spoiltext', 'msr', 'usr', 'gsr', 'distance_plot'],\n",
              "      dtype='object')"
            ]
          },
          "metadata": {
            "tags": []
          },
          "execution_count": 142
        }
      ]
    },
    {
      "cell_type": "code",
      "metadata": {
        "id": "DYzMODGKIVsI"
      },
      "source": [
        "from sklearn.preprocessing import Normalizer,StandardScaler"
      ],
      "execution_count": null,
      "outputs": []
    },
    {
      "cell_type": "code",
      "metadata": {
        "id": "r3yxfeB6wtGI"
      },
      "source": [
        "columns=['days_elapsed','word_count','spoiltext','usr','msr','gsr','distance_plot','actualrating']\n"
      ],
      "execution_count": null,
      "outputs": []
    },
    {
      "cell_type": "code",
      "metadata": {
        "id": "k7kFT2OCl5tK"
      },
      "source": [
        "x_train = train[columns].fillna(0)\n",
        "x_train=Normalizer().fit_transform(x_train)\n",
        "y_train=train['is_spoiler'].values"
      ],
      "execution_count": null,
      "outputs": []
    },
    {
      "cell_type": "code",
      "metadata": {
        "id": "xJMKFTY-l5bD"
      },
      "source": [
        "x_test = val[columns].fillna(0)\n",
        "x_test = Normalizer().fit_transform(x_test)\n",
        "y_test=val['is_spoiler'].values"
      ],
      "execution_count": null,
      "outputs": []
    },
    {
      "cell_type": "markdown",
      "metadata": {
        "id": "yVtDn_z1_iw-"
      },
      "source": [
        "# Logistic Regression "
      ]
    },
    {
      "cell_type": "code",
      "metadata": {
        "colab": {
          "base_uri": "https://localhost:8080/"
        },
        "id": "LHYdlYWVmFcB",
        "outputId": "270398c3-0cd9-42a6-f5d3-e04f22ef8601"
      },
      "source": [
        "logistic= LogisticRegression(random_state=42, max_iter=1000) \n",
        "logistic.fit(x_train, y_train) "
      ],
      "execution_count": null,
      "outputs": [
        {
          "output_type": "execute_result",
          "data": {
            "text/plain": [
              "LogisticRegression(C=1.0, class_weight=None, dual=False, fit_intercept=True,\n",
              "                   intercept_scaling=1, l1_ratio=None, max_iter=1000,\n",
              "                   multi_class='auto', n_jobs=None, penalty='l2',\n",
              "                   random_state=42, solver='lbfgs', tol=0.0001, verbose=0,\n",
              "                   warm_start=False)"
            ]
          },
          "metadata": {
            "tags": []
          },
          "execution_count": 151
        }
      ]
    },
    {
      "cell_type": "code",
      "metadata": {
        "id": "KJ2udfNlM9Mz"
      },
      "source": [
        "y_pred=logistic.predict(x_test)"
      ],
      "execution_count": null,
      "outputs": []
    },
    {
      "cell_type": "code",
      "metadata": {
        "colab": {
          "base_uri": "https://localhost:8080/"
        },
        "id": "pHFVJe4n_lSf",
        "outputId": "6c50d5be-1a79-468f-e85f-07e1474cf429"
      },
      "source": [
        "print(logistic.score(x_test, y_test))"
      ],
      "execution_count": null,
      "outputs": [
        {
          "output_type": "stream",
          "text": [
            "0.7370319388057361\n"
          ],
          "name": "stdout"
        }
      ]
    },
    {
      "cell_type": "code",
      "metadata": {
        "colab": {
          "base_uri": "https://localhost:8080/"
        },
        "id": "76RRcAHH-rsg",
        "outputId": "9c231d7d-f0af-4271-83e3-e61bb35c498f"
      },
      "source": [
        "print('AUC: ', roc_auc_score(y_test, y_pred))\n"
      ],
      "execution_count": null,
      "outputs": [
        {
          "output_type": "stream",
          "text": [
            "AUC:  0.5000165645188007\n"
          ],
          "name": "stdout"
        }
      ]
    },
    {
      "cell_type": "code",
      "metadata": {
        "colab": {
          "base_uri": "https://localhost:8080/"
        },
        "id": "a7HZLtsRC8ga",
        "outputId": "bfe3c140-96c2-4827-b0bf-8d3aa8eb46c8"
      },
      "source": [
        "print(classification_report(y_test, y_pred))\n",
        "print(confusion_matrix(y_test, y_pred))"
      ],
      "execution_count": null,
      "outputs": [
        {
          "output_type": "stream",
          "text": [
            "              precision    recall  f1-score   support\n",
            "\n",
            "           0       0.74      1.00      0.85     84597\n",
            "           1       1.00      0.00      0.00     30185\n",
            "\n",
            "    accuracy                           0.74    114782\n",
            "   macro avg       0.87      0.50      0.42    114782\n",
            "weighted avg       0.81      0.74      0.63    114782\n",
            "\n",
            "[[84597     0]\n",
            " [30184     1]]\n"
          ],
          "name": "stdout"
        }
      ]
    },
    {
      "cell_type": "code",
      "metadata": {
        "colab": {
          "base_uri": "https://localhost:8080/",
          "height": 306
        },
        "id": "7q75NfJAtRG0",
        "outputId": "9d7dc517-faac-4c5a-add4-383e03a3d31c"
      },
      "source": [
        "plt.title(\"Heatmap for Testdata prediction confusion matrix on logistic Regression\", fontsize =20)\n",
        "sns.heatmap(confusion_matrix(y_test,y_pred)/np.sum(confusion_matrix(y_test, y_pred)), annot=True)"
      ],
      "execution_count": null,
      "outputs": [
        {
          "output_type": "execute_result",
          "data": {
            "text/plain": [
              "<matplotlib.axes._subplots.AxesSubplot at 0x7f909623a750>"
            ]
          },
          "metadata": {
            "tags": []
          },
          "execution_count": 157
        },
        {
          "output_type": "display_data",
          "data": {
            "image/png": "[encoded data removed]",
            "text/plain": [
              "<Figure size 432x288 with 2 Axes>"
            ]
          },
          "metadata": {
            "tags": []
          }
        }
      ]
    },
    {
      "cell_type": "code",
      "metadata": {
        "colab": {
          "base_uri": "https://localhost:8080/",
          "height": 301
        },
        "id": "_2zAdKWqMjWS",
        "outputId": "09f8e32a-4cde-4611-cc45-5e2dc3d72b8d"
      },
      "source": [
        "# calculate the fpr and tpr for all thresholds of the classification\n",
        "fpr, tpr, threshold = metrics.roc_curve(y_test, y_pred)\n",
        "roc_auc = metrics.auc(fpr, tpr)\n",
        "plt.title('Receiver Operating Characteristic')\n",
        "plt.plot(fpr, tpr, 'b', label = 'AUC = %0.2f' % roc_auc)\n",
        "plt.legend(loc = 'lower right')\n",
        "plt.plot([0, 1], [0, 1],'r--')\n",
        "plt.xlim([0, 1])\n",
        "plt.ylim([0, 1])\n",
        "plt.ylabel('True Positive Rate')\n",
        "plt.xlabel('False Positive Rate')\n",
        "plt.show()"
      ],
      "execution_count": null,
      "outputs": [
        {
          "output_type": "display_data",
          "data": {
            "image/png": "[encoded data removed]",
            "text/plain": [
              "<Figure size 432x288 with 1 Axes>"
            ]
          },
          "metadata": {
            "tags": []
          }
        }
      ]
    },
    {
      "cell_type": "code",
      "metadata": {
        "colab": {
          "base_uri": "https://localhost:8080/",
          "height": 301
        },
        "id": "DioxbDg2IMEE",
        "outputId": "ca6916fb-94e4-435e-a382-cd29073ee9e7"
      },
      "source": [
        "roc_auc = metrics.auc(1-tpr, 1-fpr)\n",
        "plt.title('Receiver Operating Characteristic')\n",
        "plt.plot(1-tpr,1-fpr, 'b', label = 'AUC = %0.2f' % roc_auc)\n",
        "plt.legend(loc = 'lower right')\n",
        "plt.plot([0, 1], [0, 1],'r--')\n",
        "plt.xlim([0, 1])\n",
        "plt.ylim([0, 1])\n",
        "plt.ylabel('True Negative Rate')\n",
        "plt.xlabel('False Negative Rate')\n",
        "plt.show()"
      ],
      "execution_count": null,
      "outputs": [
        {
          "output_type": "display_data",
          "data": {
            "image/png": "[encoded data removed]",
            "text/plain": [
              "<Figure size 432x288 with 1 Axes>"
            ]
          },
          "metadata": {
            "tags": []
          }
        }
      ]
    },
    {
      "cell_type": "markdown",
      "metadata": {
        "id": "0WmUUxJr9uvb"
      },
      "source": [
        "# Random Forest "
      ]
    },
    {
      "cell_type": "markdown",
      "metadata": {
        "id": "I8Tom4l_mSTt"
      },
      "source": [
        "<h2>Finding best hyperparameters</h2> "
      ]
    },
    {
      "cell_type": "code",
      "metadata": {
        "id": "rajUSvYNuOLf"
      },
      "source": [
        "from sklearn.model_selection import RandomizedSearchCV\n",
        "n_estimators = [int(x) for x in np.linspace(start = 40, stop = 150, num = 15)]\n",
        "max_depth = [int(x) for x in np.linspace(40, 150, num = 15)]\n",
        "param_dist = {\n",
        "    'n_estimators' : n_estimators,\n",
        "    'max_depth' : max_depth,\n",
        "}\n",
        "rf_tuned = RandomForestClassifier(random_state = 42)\n"
      ],
      "execution_count": null,
      "outputs": []
    },
    {
      "cell_type": "code",
      "metadata": {
        "colab": {
          "base_uri": "https://localhost:8080/"
        },
        "id": "TGCNDbD8uS-Z",
        "outputId": "bc83fc78-e0fc-4742-a5d3-6b07e8094f15"
      },
      "source": [
        "rf_cv = RandomizedSearchCV(estimator = rf_tuned, param_distributions = param_dist, cv = 5, random_state = 42)\n",
        "rf_cv.fit(x_train, y_train)\n"
      ],
      "execution_count": null,
      "outputs": [
        {
          "output_type": "execute_result",
          "data": {
            "text/plain": [
              "RandomizedSearchCV(cv=5, error_score=nan,\n",
              "                   estimator=RandomForestClassifier(bootstrap=True,\n",
              "                                                    ccp_alpha=0.0,\n",
              "                                                    class_weight=None,\n",
              "                                                    criterion='gini',\n",
              "                                                    max_depth=None,\n",
              "                                                    max_features='auto',\n",
              "                                                    max_leaf_nodes=None,\n",
              "                                                    max_samples=None,\n",
              "                                                    min_impurity_decrease=0.0,\n",
              "                                                    min_impurity_split=None,\n",
              "                                                    min_samples_leaf=1,\n",
              "                                                    min_samples_split=2,\n",
              "                                                    min_weight_fraction_leaf=0.0,\n",
              "                                                    n_estimators=100,\n",
              "                                                    n_jobs...\n",
              "                                                    oob_score=False,\n",
              "                                                    random_state=42, verbose=0,\n",
              "                                                    warm_start=False),\n",
              "                   iid='deprecated', n_iter=10, n_jobs=None,\n",
              "                   param_distributions={'max_depth': [40, 47, 55, 63, 71, 79,\n",
              "                                                      87, 95, 102, 110, 118,\n",
              "                                                      126, 134, 142, 150],\n",
              "                                        'n_estimators': [40, 47, 55, 63, 71, 79,\n",
              "                                                         87, 95, 102, 110, 118,\n",
              "                                                         126, 134, 142, 150]},\n",
              "                   pre_dispatch='2*n_jobs', random_state=42, refit=True,\n",
              "                   return_train_score=False, scoring=None, verbose=0)"
            ]
          },
          "metadata": {
            "tags": []
          },
          "execution_count": 161
        }
      ]
    },
    {
      "cell_type": "code",
      "metadata": {
        "colab": {
          "base_uri": "https://localhost:8080/"
        },
        "id": "qqkWgpZiLpzT",
        "outputId": "14e47752-4236-46e6-cc3a-f813e91918fa"
      },
      "source": [
        "rf_cv.best_score_"
      ],
      "execution_count": null,
      "outputs": [
        {
          "output_type": "execute_result",
          "data": {
            "text/plain": [
              "0.9241979974442257"
            ]
          },
          "metadata": {
            "tags": []
          },
          "execution_count": 162
        }
      ]
    },
    {
      "cell_type": "code",
      "metadata": {
        "colab": {
          "base_uri": "https://localhost:8080/"
        },
        "id": "NOKEZc1oLseT",
        "outputId": "48ec164f-10f4-4e7c-a878-f50e751f7631"
      },
      "source": [
        "rf_cv.best_params_"
      ],
      "execution_count": null,
      "outputs": [
        {
          "output_type": "execute_result",
          "data": {
            "text/plain": [
              "{'max_depth': 79, 'n_estimators': 126}"
            ]
          },
          "metadata": {
            "tags": []
          },
          "execution_count": 163
        }
      ]
    },
    {
      "cell_type": "markdown",
      "metadata": {
        "id": "1Rn6Sapmmdzv"
      },
      "source": [
        "<h2>Training</h2> "
      ]
    },
    {
      "cell_type": "code",
      "metadata": {
        "id": "dAdR2k8I9xBi"
      },
      "source": [
        "model = RandomForestClassifier(min_samples_leaf=79,max_depth=79,random_state=42,n_estimators=126)"
      ],
      "execution_count": null,
      "outputs": []
    },
    {
      "cell_type": "code",
      "metadata": {
        "colab": {
          "base_uri": "https://localhost:8080/"
        },
        "id": "SFm2hLfzcjDQ",
        "outputId": "1e510379-3881-4159-af8d-91f2c1bfda2b"
      },
      "source": [
        "model.fit(x_train, y_train)"
      ],
      "execution_count": null,
      "outputs": [
        {
          "output_type": "execute_result",
          "data": {
            "text/plain": [
              "RandomForestClassifier(bootstrap=True, ccp_alpha=0.0, class_weight=None,\n",
              "                       criterion='gini', max_depth=79, max_features='auto',\n",
              "                       max_leaf_nodes=None, max_samples=None,\n",
              "                       min_impurity_decrease=0.0, min_impurity_split=None,\n",
              "                       min_samples_leaf=79, min_samples_split=2,\n",
              "                       min_weight_fraction_leaf=0.0, n_estimators=126,\n",
              "                       n_jobs=None, oob_score=False, random_state=42, verbose=0,\n",
              "                       warm_start=False)"
            ]
          },
          "metadata": {
            "tags": []
          },
          "execution_count": 165
        }
      ]
    },
    {
      "cell_type": "code",
      "metadata": {
        "id": "P-7EX6nEcjnz"
      },
      "source": [
        "y_pred = model.predict(x_test)"
      ],
      "execution_count": null,
      "outputs": []
    },
    {
      "cell_type": "code",
      "metadata": {
        "colab": {
          "base_uri": "https://localhost:8080/"
        },
        "id": "Q5My-VaFeLZF",
        "outputId": "3c9ebbea-0810-4922-cd89-e4077719563b"
      },
      "source": [
        "print('AUC: ', roc_auc_score(y_test, y_pred))\n",
        "\n"
      ],
      "execution_count": null,
      "outputs": [
        {
          "output_type": "stream",
          "text": [
            "AUC:  0.8938762324852663\n"
          ],
          "name": "stdout"
        }
      ]
    },
    {
      "cell_type": "code",
      "metadata": {
        "colab": {
          "base_uri": "https://localhost:8080/"
        },
        "id": "MQknK05Klmmc",
        "outputId": "225dd82a-5115-4443-fa2f-d0c64dc6f806"
      },
      "source": [
        "print(classification_report(y_test, y_pred))\n",
        "print(confusion_matrix(y_test, y_pred))"
      ],
      "execution_count": null,
      "outputs": [
        {
          "output_type": "stream",
          "text": [
            "              precision    recall  f1-score   support\n",
            "\n",
            "           0       0.94      0.96      0.95     84597\n",
            "           1       0.88      0.83      0.85     30185\n",
            "\n",
            "    accuracy                           0.92    114782\n",
            "   macro avg       0.91      0.89      0.90    114782\n",
            "weighted avg       0.92      0.92      0.92    114782\n",
            "\n",
            "[[81103  3494]\n",
            " [ 5160 25025]]\n"
          ],
          "name": "stdout"
        }
      ]
    },
    {
      "cell_type": "code",
      "metadata": {
        "colab": {
          "base_uri": "https://localhost:8080/",
          "height": 306
        },
        "id": "zYbKje9zBP5L",
        "outputId": "82e3f0a7-2945-4c97-8401-8dce90a7c8a1"
      },
      "source": [
        "plt.title(\"Heatmap for Testdata prediction confusion matrix on RandomForest Classifier\", fontsize =20)\n",
        "sns.heatmap(confusion_matrix(y_test, y_pred)/np.sum(confusion_matrix(y_test, y_pred)), annot=True)"
      ],
      "execution_count": null,
      "outputs": [
        {
          "output_type": "execute_result",
          "data": {
            "text/plain": [
              "<matplotlib.axes._subplots.AxesSubplot at 0x7f90961a8290>"
            ]
          },
          "metadata": {
            "tags": []
          },
          "execution_count": 169
        },
        {
          "output_type": "display_data",
          "data": {
            "image/png": "[encoded data removed]",
            "text/plain": [
              "<Figure size 432x288 with 2 Axes>"
            ]
          },
          "metadata": {
            "tags": []
          }
        }
      ]
    },
    {
      "cell_type": "code",
      "metadata": {
        "colab": {
          "base_uri": "https://localhost:8080/",
          "height": 301
        },
        "id": "tg0VuWISNnOq",
        "outputId": "5c6995cf-1ef6-4c7d-8141-214078e3ba66"
      },
      "source": [
        "import sklearn.metrics as metrics\n",
        "fpr, tpr, threshold = metrics.roc_curve(y_test, y_pred)\n",
        "roc_auc = metrics.auc(fpr, tpr)\n",
        "\n",
        "import matplotlib.pyplot as plt\n",
        "plt.title('Receiver Operating Characteristic')\n",
        "plt.plot(fpr, tpr, 'b', label = 'AUC = %0.2f' % roc_auc)\n",
        "plt.legend(loc = 'lower right')\n",
        "plt.plot([0, 1], [0, 1],'r--')\n",
        "plt.xlim([0, 1])\n",
        "plt.ylim([0, 1])\n",
        "plt.ylabel('True Positive Rate')\n",
        "plt.xlabel('False Positive Rate')\n",
        "plt.show()"
      ],
      "execution_count": null,
      "outputs": [
        {
          "output_type": "display_data",
          "data": {
            "image/png": "[encoded data removed]",
            "text/plain": [
              "<Figure size 432x288 with 1 Axes>"
            ]
          },
          "metadata": {
            "tags": []
          }
        }
      ]
    },
    {
      "cell_type": "code",
      "metadata": {
        "colab": {
          "base_uri": "https://localhost:8080/",
          "height": 301
        },
        "id": "6Uxmpp2CMHAr",
        "outputId": "0a568ada-ebd8-4fc3-f235-922e59b0ba08"
      },
      "source": [
        "roc_auc = metrics.auc(1-tpr, 1-fpr)\n",
        "plt.title('Receiver Operating Characteristic')\n",
        "plt.plot(1-tpr,1-fpr, 'b', label = 'AUC = %0.2f' % roc_auc)\n",
        "plt.legend(loc = 'lower right')\n",
        "plt.plot([0, 1], [0, 1],'r--')\n",
        "plt.xlim([0, 1])\n",
        "plt.ylim([0, 1])\n",
        "plt.ylabel('True Negative Rate')\n",
        "plt.xlabel('False Negative Rate')\n",
        "plt.show()"
      ],
      "execution_count": null,
      "outputs": [
        {
          "output_type": "display_data",
          "data": {
            "image/png": "[encoded data removed]",
            "text/plain": [
              "<Figure size 432x288 with 1 Axes>"
            ]
          },
          "metadata": {
            "tags": []
          }
        }
      ]
    },
    {
      "cell_type": "markdown",
      "metadata": {
        "id": "eIUaspz_wDKr"
      },
      "source": [
        "# XGB"
      ]
    },
    {
      "cell_type": "code",
      "metadata": {
        "id": "CpqAr7sulmqZ"
      },
      "source": [
        "from xgboost import XGBClassifier"
      ],
      "execution_count": null,
      "outputs": []
    },
    {
      "cell_type": "code",
      "metadata": {
        "colab": {
          "base_uri": "https://localhost:8080/"
        },
        "id": "ZKD2ocEtqpGP",
        "outputId": "c9e41852-7c4d-4747-8835-40f83da388c6"
      },
      "source": [
        "model = XGBClassifier(random_state=42,learning_rate =0.1,\n",
        " n_estimators=1000,\n",
        " max_depth=50,\n",
        " min_child_weight=1,\n",
        " gamma=0,\n",
        " subsample=0.8,\n",
        " colsample_bytree=0.8,\n",
        " objective= 'binary:logistic',\n",
        " nthread=4,\n",
        " scale_pos_weight=1,\n",
        " seed=27)\n",
        "model.fit(x_train, y_train)"
      ],
      "execution_count": null,
      "outputs": [
        {
          "output_type": "execute_result",
          "data": {
            "text/plain": [
              "XGBClassifier(base_score=0.5, booster='gbtree', colsample_bylevel=1,\n",
              "              colsample_bynode=1, colsample_bytree=0.8, gamma=0,\n",
              "              learning_rate=0.1, max_delta_step=0, max_depth=50,\n",
              "              min_child_weight=1, missing=None, n_estimators=1000, n_jobs=1,\n",
              "              nthread=4, objective='binary:logistic', random_state=42,\n",
              "              reg_alpha=0, reg_lambda=1, scale_pos_weight=1, seed=27,\n",
              "              silent=None, subsample=0.8, verbosity=1)"
            ]
          },
          "metadata": {
            "tags": []
          },
          "execution_count": 189
        }
      ]
    },
    {
      "cell_type": "code",
      "metadata": {
        "id": "Y-pdQH3xwj92"
      },
      "source": [
        "y_pred=model.predict(x_test)"
      ],
      "execution_count": null,
      "outputs": []
    },
    {
      "cell_type": "code",
      "metadata": {
        "id": "YjotJ7_syVVQ"
      },
      "source": [
        "from sklearn.metrics import accuracy_score"
      ],
      "execution_count": null,
      "outputs": []
    },
    {
      "cell_type": "code",
      "metadata": {
        "colab": {
          "base_uri": "https://localhost:8080/"
        },
        "id": "BIhERX26l3vB",
        "outputId": "8a988894-2909-4f98-fa57-713c03a4f22e"
      },
      "source": [
        "accuracy_score(y_test, y_pred)"
      ],
      "execution_count": null,
      "outputs": [
        {
          "output_type": "execute_result",
          "data": {
            "text/plain": [
              "0.9208935198898782"
            ]
          },
          "metadata": {
            "tags": []
          },
          "execution_count": 192
        }
      ]
    },
    {
      "cell_type": "code",
      "metadata": {
        "colab": {
          "base_uri": "https://localhost:8080/"
        },
        "id": "SEZteI9Dx5lo",
        "outputId": "bb67b1e7-b572-4f6d-913f-3cb6212e7f4f"
      },
      "source": [
        "accuracy_score(y_test, y_pred)"
      ],
      "execution_count": null,
      "outputs": [
        {
          "output_type": "execute_result",
          "data": {
            "text/plain": [
              "0.9269571884093325"
            ]
          },
          "metadata": {
            "tags": []
          },
          "execution_count": 60
        }
      ]
    },
    {
      "cell_type": "code",
      "metadata": {
        "colab": {
          "base_uri": "https://localhost:8080/"
        },
        "id": "c7NtXzoHq5Jf",
        "outputId": "9e5ee8b9-943c-493d-fe0f-419f091a7f9e"
      },
      "source": [
        "print('AUC: ', roc_auc_score(y_test, y_pred))\n"
      ],
      "execution_count": null,
      "outputs": [
        {
          "output_type": "stream",
          "text": [
            "AUC:  0.889302162964856\n"
          ],
          "name": "stdout"
        }
      ]
    },
    {
      "cell_type": "code",
      "metadata": {
        "colab": {
          "base_uri": "https://localhost:8080/"
        },
        "id": "eDkiFV88yj-Z",
        "outputId": "3e0e6fa4-8f2b-41f6-e113-e5f5d3c41a1b"
      },
      "source": [
        "print(classification_report(y_test, y_pred))\n",
        "print(confusion_matrix(y_test, y_pred))"
      ],
      "execution_count": null,
      "outputs": [
        {
          "output_type": "stream",
          "text": [
            "              precision    recall  f1-score   support\n",
            "\n",
            "           0       0.94      0.96      0.95     84597\n",
            "           1       0.87      0.82      0.85     30185\n",
            "\n",
            "    accuracy                           0.92    114782\n",
            "   macro avg       0.90      0.89      0.90    114782\n",
            "weighted avg       0.92      0.92      0.92    114782\n",
            "\n",
            "[[80870  3727]\n",
            " [ 5353 24832]]\n"
          ],
          "name": "stdout"
        }
      ]
    },
    {
      "cell_type": "code",
      "metadata": {
        "colab": {
          "base_uri": "https://localhost:8080/",
          "height": 306
        },
        "id": "w9KEmLgkynY8",
        "outputId": "b4359485-e528-4eb8-a8b7-20c72b63f718"
      },
      "source": [
        "plt.title(\"Heatmap for Testdata prediction confusion matrix on RandomForest Classifier\", fontsize =20)\n",
        "sns.heatmap(confusion_matrix(y_test, y_pred)/np.sum(confusion_matrix(y_test, y_pred)), annot=True)"
      ],
      "execution_count": null,
      "outputs": [
        {
          "output_type": "execute_result",
          "data": {
            "text/plain": [
              "<matplotlib.axes._subplots.AxesSubplot at 0x7f90a3b64650>"
            ]
          },
          "metadata": {
            "tags": []
          },
          "execution_count": 195
        },
        {
          "output_type": "display_data",
          "data": {
            "image/png": "[encoded data removed]",
            "text/plain": [
              "<Figure size 432x288 with 2 Axes>"
            ]
          },
          "metadata": {
            "tags": []
          }
        }
      ]
    },
    {
      "cell_type": "code",
      "metadata": {
        "colab": {
          "base_uri": "https://localhost:8080/",
          "height": 301
        },
        "id": "IgaxWsIwyzJt",
        "outputId": "d62d5137-f146-45e1-d872-dad22124a052"
      },
      "source": [
        "import sklearn.metrics as metrics\n",
        "fpr, tpr, threshold = metrics.roc_curve(y_test, y_pred)\n",
        "roc_auc = metrics.auc(fpr, tpr)\n",
        "\n",
        "import matplotlib.pyplot as plt\n",
        "plt.title('Receiver Operating Characteristic')\n",
        "plt.plot(fpr, tpr, 'b', label = 'AUC = %0.2f' % roc_auc)\n",
        "plt.legend(loc = 'lower right')\n",
        "plt.plot([0, 1], [0, 1],'r--')\n",
        "plt.xlim([0, 1])\n",
        "plt.ylim([0, 1])\n",
        "plt.ylabel('True Positive Rate')\n",
        "plt.xlabel('False Positive Rate')\n",
        "plt.show()"
      ],
      "execution_count": null,
      "outputs": [
        {
          "output_type": "display_data",
          "data": {
            "image/png": "[encoded data removed]",
            "text/plain": [
              "<Figure size 432x288 with 1 Axes>"
            ]
          },
          "metadata": {
            "tags": []
          }
        }
      ]
    },
    {
      "cell_type": "code",
      "metadata": {
        "colab": {
          "base_uri": "https://localhost:8080/",
          "height": 301
        },
        "id": "kVwy5CYDzFAu",
        "outputId": "a107a8a1-918c-4276-ba66-c0207453b733"
      },
      "source": [
        "roc_auc = metrics.auc(1-tpr, 1-fpr)\n",
        "plt.title('Receiver Operating Characteristic')\n",
        "plt.plot(1-tpr,1-fpr, 'b', label = 'AUC = %0.2f' % roc_auc)\n",
        "plt.legend(loc = 'lower right')\n",
        "plt.plot([0, 1], [0, 1],'r--')\n",
        "plt.xlim([0, 1])\n",
        "plt.ylim([0, 1])\n",
        "plt.ylabel('True Negative Rate')\n",
        "plt.xlabel('False Negative Rate')\n",
        "plt.show()"
      ],
      "execution_count": null,
      "outputs": [
        {
          "output_type": "display_data",
          "data": {
            "image/png": "[encoded data removed]",
            "text/plain": [
              "<Figure size 432x288 with 1 Axes>"
            ]
          },
          "metadata": {
            "tags": []
          }
        }
      ]
    },
    {
      "cell_type": "markdown",
      "metadata": {
        "id": "oKB82RwYo_fh"
      },
      "source": [
        "# Saving + Loading the Model  and predicting on Test data"
      ]
    },
    {
      "cell_type": "code",
      "metadata": {
        "id": "G5hI6UBDpDAX"
      },
      "source": [
        "filename = '/content/drive/MyDrive/Spoiler_alert_model/Spoiler_alert_randomforest.sav'\n",
        "\n"
      ],
      "execution_count": null,
      "outputs": []
    },
    {
      "cell_type": "code",
      "metadata": {
        "id": "ARGoCI4Yp_98"
      },
      "source": [
        "pickle.dump(model, open(filename, 'wb'))"
      ],
      "execution_count": null,
      "outputs": []
    },
    {
      "cell_type": "code",
      "metadata": {
        "id": "mYxupKZtpGSZ"
      },
      "source": [
        "# load the model from disk\n",
        "loaded_model_randomforest= pickle.load(open(filename, 'rb'))\n"
      ],
      "execution_count": null,
      "outputs": []
    },
    {
      "cell_type": "code",
      "metadata": {
        "colab": {
          "base_uri": "https://localhost:8080/",
          "height": 1000
        },
        "id": "ssCBdLf3vgbl",
        "outputId": "38e09ce4-911b-4d8b-c27e-bfa956302232"
      },
      "source": [
        "test"
      ],
      "execution_count": null,
      "outputs": [
        {
          "output_type": "execute_result",
          "data": {
            "text/html": [
              "<div>\n",
              "<style scoped>\n",
              "    .dataframe tbody tr th:only-of-type {\n",
              "        vertical-align: middle;\n",
              "    }\n",
              "\n",
              "    .dataframe tbody tr th {\n",
              "        vertical-align: top;\n",
              "    }\n",
              "\n",
              "    .dataframe thead th {\n",
              "        text-align: right;\n",
              "    }\n",
              "</style>\n",
              "<table border=\"1\" class=\"dataframe\">\n",
              "  <thead>\n",
              "    <tr style=\"text-align: right;\">\n",
              "      <th></th>\n",
              "      <th>review_date</th>\n",
              "      <th>movie_id</th>\n",
              "      <th>user_id</th>\n",
              "      <th>is_spoiler</th>\n",
              "      <th>review_text</th>\n",
              "      <th>userrating</th>\n",
              "      <th>review_summary</th>\n",
              "      <th>plot_summary</th>\n",
              "      <th>duration</th>\n",
              "      <th>genre</th>\n",
              "      <th>actualrating</th>\n",
              "      <th>release_date</th>\n",
              "      <th>plot_synopsis</th>\n",
              "      <th>days_elapsed</th>\n",
              "      <th>word_count</th>\n",
              "      <th>spoiltext</th>\n",
              "      <th>msr</th>\n",
              "      <th>usr</th>\n",
              "      <th>gsr</th>\n",
              "      <th>distance_plot</th>\n",
              "    </tr>\n",
              "  </thead>\n",
              "  <tbody>\n",
              "    <tr>\n",
              "      <th>511264</th>\n",
              "      <td>2008-12-05</td>\n",
              "      <td>457510</td>\n",
              "      <td>ur20231140</td>\n",
              "      <td>0</td>\n",
              "      <td>in its context the movie is indeed slapstick h...</td>\n",
              "      <td>8</td>\n",
              "      <td>cinematography is the key</td>\n",
              "      <td>nacho black is a monastery cook who spends his...</td>\n",
              "      <td>1h 32min</td>\n",
              "      <td>['Comedy', 'Family', 'Sport']</td>\n",
              "      <td>5.7</td>\n",
              "      <td>2006-06-16</td>\n",
              "      <td>Ignácio (Jack Black) is a young orphan boy dre...</td>\n",
              "      <td>903</td>\n",
              "      <td>82</td>\n",
              "      <td>0</td>\n",
              "      <td>0.132530</td>\n",
              "      <td>0.000000</td>\n",
              "      <td>0.792298</td>\n",
              "      <td>1.723233</td>\n",
              "    </tr>\n",
              "    <tr>\n",
              "      <th>134590</th>\n",
              "      <td>2000-07-04</td>\n",
              "      <td>134119</td>\n",
              "      <td>ur0779511</td>\n",
              "      <td>0</td>\n",
              "      <td>the talented mr ripley i feel has been the mos...</td>\n",
              "      <td>8</td>\n",
              "      <td>Great cast + Great director/writer = Great movie!</td>\n",
              "      <td>the s manhattan lavatory attendant tom ripley ...</td>\n",
              "      <td>2h 19min</td>\n",
              "      <td>['Crime', 'Drama', 'Thriller']</td>\n",
              "      <td>7.3</td>\n",
              "      <td>1999-12-25</td>\n",
              "      <td>Tom Ripley (Matt Damon) is a young man struggl...</td>\n",
              "      <td>192</td>\n",
              "      <td>213</td>\n",
              "      <td>0</td>\n",
              "      <td>0.182903</td>\n",
              "      <td>0.083333</td>\n",
              "      <td>0.792298</td>\n",
              "      <td>0.636997</td>\n",
              "    </tr>\n",
              "    <tr>\n",
              "      <th>6601</th>\n",
              "      <td>2011-07-21</td>\n",
              "      <td>1478338</td>\n",
              "      <td>ur12682317</td>\n",
              "      <td>0</td>\n",
              "      <td>this was actually a really nice surprise i pic...</td>\n",
              "      <td>3</td>\n",
              "      <td>Funny Surprise</td>\n",
              "      <td>annie kristen wiig is a maid of honor whose li...</td>\n",
              "      <td>2h 5min</td>\n",
              "      <td>['Comedy', 'Romance']</td>\n",
              "      <td>6.8</td>\n",
              "      <td>2011-05-13</td>\n",
              "      <td>Annie Walker (Kristen Wiig) is a single woman ...</td>\n",
              "      <td>69</td>\n",
              "      <td>283</td>\n",
              "      <td>0</td>\n",
              "      <td>0.255474</td>\n",
              "      <td>0.894118</td>\n",
              "      <td>0.735373</td>\n",
              "      <td>1.470332</td>\n",
              "    </tr>\n",
              "    <tr>\n",
              "      <th>388973</th>\n",
              "      <td>2013-12-08</td>\n",
              "      <td>1951264</td>\n",
              "      <td>ur28222349</td>\n",
              "      <td>0</td>\n",
              "      <td>ok maybe i exaggerated a little but it is an i...</td>\n",
              "      <td>7</td>\n",
              "      <td>Stunning plot possibilities gone to waste</td>\n",
              "      <td>twelve months after winning the th hunger game...</td>\n",
              "      <td>2h 26min</td>\n",
              "      <td>['Action', 'Adventure', 'Mystery']</td>\n",
              "      <td>7.5</td>\n",
              "      <td>2013-11-22</td>\n",
              "      <td>Six months after winning the 74th Hunger Games...</td>\n",
              "      <td>16</td>\n",
              "      <td>234</td>\n",
              "      <td>0</td>\n",
              "      <td>0.344288</td>\n",
              "      <td>0.000000</td>\n",
              "      <td>0.493058</td>\n",
              "      <td>0.989165</td>\n",
              "    </tr>\n",
              "    <tr>\n",
              "      <th>445446</th>\n",
              "      <td>2001-06-18</td>\n",
              "      <td>183790</td>\n",
              "      <td>ur0155027</td>\n",
              "      <td>0</td>\n",
              "      <td>i really enjoyed this movie a lot it was done ...</td>\n",
              "      <td>8</td>\n",
              "      <td>Warm Hearted and Funny</td>\n",
              "      <td>inspired by the canterbury tales as well as th...</td>\n",
              "      <td>2h 12min</td>\n",
              "      <td>['Action', 'Adventure', 'Romance']</td>\n",
              "      <td>6.9</td>\n",
              "      <td>2001-05-11</td>\n",
              "      <td>(As it was said, may contain SPOILERS. Well, I...</td>\n",
              "      <td>38</td>\n",
              "      <td>57</td>\n",
              "      <td>0</td>\n",
              "      <td>0.102041</td>\n",
              "      <td>0.000000</td>\n",
              "      <td>0.810041</td>\n",
              "      <td>2.078087</td>\n",
              "    </tr>\n",
              "    <tr>\n",
              "      <th>...</th>\n",
              "      <td>...</td>\n",
              "      <td>...</td>\n",
              "      <td>...</td>\n",
              "      <td>...</td>\n",
              "      <td>...</td>\n",
              "      <td>...</td>\n",
              "      <td>...</td>\n",
              "      <td>...</td>\n",
              "      <td>...</td>\n",
              "      <td>...</td>\n",
              "      <td>...</td>\n",
              "      <td>...</td>\n",
              "      <td>...</td>\n",
              "      <td>...</td>\n",
              "      <td>...</td>\n",
              "      <td>...</td>\n",
              "      <td>...</td>\n",
              "      <td>...</td>\n",
              "      <td>...</td>\n",
              "      <td>...</td>\n",
              "    </tr>\n",
              "    <tr>\n",
              "      <th>310651</th>\n",
              "      <td>2017-09-30</td>\n",
              "      <td>5362988</td>\n",
              "      <td>ur37569728</td>\n",
              "      <td>0</td>\n",
              "      <td>heard a lot of raves about this movie sorry to...</td>\n",
              "      <td>1</td>\n",
              "      <td>Very bad, not worth your time.</td>\n",
              "      <td>wind river is a chilling thriller that follows...</td>\n",
              "      <td>1h 47min</td>\n",
              "      <td>['Crime', 'Drama', 'Mystery']</td>\n",
              "      <td>7.8</td>\n",
              "      <td>2017-08-18</td>\n",
              "      <td>The movie opens at night in a cold, remote Wyo...</td>\n",
              "      <td>43</td>\n",
              "      <td>75</td>\n",
              "      <td>0</td>\n",
              "      <td>0.251799</td>\n",
              "      <td>0.090909</td>\n",
              "      <td>0.853220</td>\n",
              "      <td>1.812611</td>\n",
              "    </tr>\n",
              "    <tr>\n",
              "      <th>34990</th>\n",
              "      <td>2017-05-11</td>\n",
              "      <td>114148</td>\n",
              "      <td>ur53053227</td>\n",
              "      <td>0</td>\n",
              "      <td>this is certainly one of the most notable anim...</td>\n",
              "      <td>7</td>\n",
              "      <td>A remarkable, wonderful film, but that shows n...</td>\n",
              "      <td>this is the disney animated tale of the romanc...</td>\n",
              "      <td>1h 21min</td>\n",
              "      <td>['Animation', 'Adventure', 'Drama']</td>\n",
              "      <td>6.7</td>\n",
              "      <td>1995-06-23</td>\n",
              "      <td>NaN</td>\n",
              "      <td>7993</td>\n",
              "      <td>238</td>\n",
              "      <td>0</td>\n",
              "      <td>0.293413</td>\n",
              "      <td>0.018519</td>\n",
              "      <td>0.784829</td>\n",
              "      <td>1.253888</td>\n",
              "    </tr>\n",
              "    <tr>\n",
              "      <th>110459</th>\n",
              "      <td>2009-07-12</td>\n",
              "      <td>106770</td>\n",
              "      <td>ur0746682</td>\n",
              "      <td>0</td>\n",
              "      <td>i just watched the dvd i bought based on john ...</td>\n",
              "      <td>8</td>\n",
              "      <td>An Amazing Story of an Amazing Man</td>\n",
              "      <td>based on the life and career of martial arts s...</td>\n",
              "      <td>2h</td>\n",
              "      <td>['Action', 'Biography', 'Drama']</td>\n",
              "      <td>7.0</td>\n",
              "      <td>1993-05-07</td>\n",
              "      <td>NaN</td>\n",
              "      <td>5910</td>\n",
              "      <td>378</td>\n",
              "      <td>0</td>\n",
              "      <td>0.241935</td>\n",
              "      <td>0.058824</td>\n",
              "      <td>0.497931</td>\n",
              "      <td>0.525747</td>\n",
              "    </tr>\n",
              "    <tr>\n",
              "      <th>532708</th>\n",
              "      <td>2009-03-31</td>\n",
              "      <td>1010048</td>\n",
              "      <td>ur20897613</td>\n",
              "      <td>1</td>\n",
              "      <td>i accept that i saw this film post hype it was...</td>\n",
              "      <td>3</td>\n",
              "      <td>Only good if you don't think about it.</td>\n",
              "      <td>the story of jamal malik an year old orphan fr...</td>\n",
              "      <td>2h</td>\n",
              "      <td>['Drama', 'Romance']</td>\n",
              "      <td>8.0</td>\n",
              "      <td>2008-12-25</td>\n",
              "      <td>Slumdog Millionaire is the story of Jamal Mali...</td>\n",
              "      <td>96</td>\n",
              "      <td>378</td>\n",
              "      <td>0</td>\n",
              "      <td>0.318056</td>\n",
              "      <td>1.000000</td>\n",
              "      <td>0.256532</td>\n",
              "      <td>0.502292</td>\n",
              "    </tr>\n",
              "    <tr>\n",
              "      <th>448032</th>\n",
              "      <td>2007-04-29</td>\n",
              "      <td>462322</td>\n",
              "      <td>ur13717687</td>\n",
              "      <td>0</td>\n",
              "      <td>grindhouse is a really cool looking film that ...</td>\n",
              "      <td>9</td>\n",
              "      <td>A taste of perfection (Planet Terror) and a li...</td>\n",
              "      <td>a double bill of thrillers that recall both fi...</td>\n",
              "      <td>3h 11min</td>\n",
              "      <td>['Action', 'Horror', 'Thriller']</td>\n",
              "      <td>7.6</td>\n",
              "      <td>2007-04-06</td>\n",
              "      <td>Coming Attraction:MACHETE; A mysterious well-d...</td>\n",
              "      <td>23</td>\n",
              "      <td>180</td>\n",
              "      <td>0</td>\n",
              "      <td>0.265594</td>\n",
              "      <td>0.000000</td>\n",
              "      <td>0.774917</td>\n",
              "      <td>0.675516</td>\n",
              "    </tr>\n",
              "  </tbody>\n",
              "</table>\n",
              "<p>91825 rows × 20 columns</p>\n",
              "</div>"
            ],
            "text/plain": [
              "       review_date  movie_id     user_id  is_spoiler  \\\n",
              "511264  2008-12-05    457510  ur20231140           0   \n",
              "134590  2000-07-04    134119   ur0779511           0   \n",
              "6601    2011-07-21   1478338  ur12682317           0   \n",
              "388973  2013-12-08   1951264  ur28222349           0   \n",
              "445446  2001-06-18    183790   ur0155027           0   \n",
              "...            ...       ...         ...         ...   \n",
              "310651  2017-09-30   5362988  ur37569728           0   \n",
              "34990   2017-05-11    114148  ur53053227           0   \n",
              "110459  2009-07-12    106770   ur0746682           0   \n",
              "532708  2009-03-31   1010048  ur20897613           1   \n",
              "448032  2007-04-29    462322  ur13717687           0   \n",
              "\n",
              "                                              review_text  userrating  \\\n",
              "511264  in its context the movie is indeed slapstick h...           8   \n",
              "134590  the talented mr ripley i feel has been the mos...           8   \n",
              "6601    this was actually a really nice surprise i pic...           3   \n",
              "388973  ok maybe i exaggerated a little but it is an i...           7   \n",
              "445446  i really enjoyed this movie a lot it was done ...           8   \n",
              "...                                                   ...         ...   \n",
              "310651  heard a lot of raves about this movie sorry to...           1   \n",
              "34990   this is certainly one of the most notable anim...           7   \n",
              "110459  i just watched the dvd i bought based on john ...           8   \n",
              "532708  i accept that i saw this film post hype it was...           3   \n",
              "448032  grindhouse is a really cool looking film that ...           9   \n",
              "\n",
              "                                           review_summary  \\\n",
              "511264                          cinematography is the key   \n",
              "134590  Great cast + Great director/writer = Great movie!   \n",
              "6601                                       Funny Surprise   \n",
              "388973          Stunning plot possibilities gone to waste   \n",
              "445446                             Warm Hearted and Funny   \n",
              "...                                                   ...   \n",
              "310651                     Very bad, not worth your time.   \n",
              "34990   A remarkable, wonderful film, but that shows n...   \n",
              "110459                 An Amazing Story of an Amazing Man   \n",
              "532708             Only good if you don't think about it.   \n",
              "448032  A taste of perfection (Planet Terror) and a li...   \n",
              "\n",
              "                                             plot_summary  duration  \\\n",
              "511264  nacho black is a monastery cook who spends his...  1h 32min   \n",
              "134590  the s manhattan lavatory attendant tom ripley ...  2h 19min   \n",
              "6601    annie kristen wiig is a maid of honor whose li...   2h 5min   \n",
              "388973  twelve months after winning the th hunger game...  2h 26min   \n",
              "445446  inspired by the canterbury tales as well as th...  2h 12min   \n",
              "...                                                   ...       ...   \n",
              "310651  wind river is a chilling thriller that follows...  1h 47min   \n",
              "34990   this is the disney animated tale of the romanc...  1h 21min   \n",
              "110459  based on the life and career of martial arts s...        2h   \n",
              "532708  the story of jamal malik an year old orphan fr...        2h   \n",
              "448032  a double bill of thrillers that recall both fi...  3h 11min   \n",
              "\n",
              "                                      genre  actualrating release_date  \\\n",
              "511264        ['Comedy', 'Family', 'Sport']           5.7   2006-06-16   \n",
              "134590       ['Crime', 'Drama', 'Thriller']           7.3   1999-12-25   \n",
              "6601                  ['Comedy', 'Romance']           6.8   2011-05-13   \n",
              "388973   ['Action', 'Adventure', 'Mystery']           7.5   2013-11-22   \n",
              "445446   ['Action', 'Adventure', 'Romance']           6.9   2001-05-11   \n",
              "...                                     ...           ...          ...   \n",
              "310651        ['Crime', 'Drama', 'Mystery']           7.8   2017-08-18   \n",
              "34990   ['Animation', 'Adventure', 'Drama']           6.7   1995-06-23   \n",
              "110459     ['Action', 'Biography', 'Drama']           7.0   1993-05-07   \n",
              "532708                 ['Drama', 'Romance']           8.0   2008-12-25   \n",
              "448032     ['Action', 'Horror', 'Thriller']           7.6   2007-04-06   \n",
              "\n",
              "                                            plot_synopsis  days_elapsed  \\\n",
              "511264  Ignácio (Jack Black) is a young orphan boy dre...           903   \n",
              "134590  Tom Ripley (Matt Damon) is a young man struggl...           192   \n",
              "6601    Annie Walker (Kristen Wiig) is a single woman ...            69   \n",
              "388973  Six months after winning the 74th Hunger Games...            16   \n",
              "445446  (As it was said, may contain SPOILERS. Well, I...            38   \n",
              "...                                                   ...           ...   \n",
              "310651  The movie opens at night in a cold, remote Wyo...            43   \n",
              "34990                                                 NaN          7993   \n",
              "110459                                                NaN          5910   \n",
              "532708  Slumdog Millionaire is the story of Jamal Mali...            96   \n",
              "448032  Coming Attraction:MACHETE; A mysterious well-d...            23   \n",
              "\n",
              "        word_count  spoiltext       msr       usr       gsr  distance_plot  \n",
              "511264          82          0  0.132530  0.000000  0.792298       1.723233  \n",
              "134590         213          0  0.182903  0.083333  0.792298       0.636997  \n",
              "6601           283          0  0.255474  0.894118  0.735373       1.470332  \n",
              "388973         234          0  0.344288  0.000000  0.493058       0.989165  \n",
              "445446          57          0  0.102041  0.000000  0.810041       2.078087  \n",
              "...            ...        ...       ...       ...       ...            ...  \n",
              "310651          75          0  0.251799  0.090909  0.853220       1.812611  \n",
              "34990          238          0  0.293413  0.018519  0.784829       1.253888  \n",
              "110459         378          0  0.241935  0.058824  0.497931       0.525747  \n",
              "532708         378          0  0.318056  1.000000  0.256532       0.502292  \n",
              "448032         180          0  0.265594  0.000000  0.774917       0.675516  \n",
              "\n",
              "[91825 rows x 20 columns]"
            ]
          },
          "metadata": {
            "tags": []
          },
          "execution_count": 203
        }
      ]
    },
    {
      "cell_type": "code",
      "metadata": {
        "id": "Q5dlOtTcwNaz"
      },
      "source": [
        "testdata=test[['days_elapsed','word_count','spoiltext','usr','msr','gsr','distance_plot','actualrating']].values"
      ],
      "execution_count": null,
      "outputs": []
    },
    {
      "cell_type": "code",
      "metadata": {
        "id": "2q_gkvL7wiCg"
      },
      "source": [
        "testy=test[['is_spoiler']].values"
      ],
      "execution_count": null,
      "outputs": []
    },
    {
      "cell_type": "code",
      "metadata": {
        "id": "55ibMWU1OorW"
      },
      "source": [
        "rfpred=loaded_model_randomforest.predict(testdata)"
      ],
      "execution_count": null,
      "outputs": []
    },
    {
      "cell_type": "code",
      "metadata": {
        "colab": {
          "base_uri": "https://localhost:8080/"
        },
        "id": "tIpFy_k8L6T5",
        "outputId": "e36bf3cb-fffb-4873-c63d-9d49718bfd85"
      },
      "source": [
        "resultrf = loaded_model_randomforest.score(testdata, testy)\n",
        "print(resultrf)"
      ],
      "execution_count": null,
      "outputs": [
        {
          "output_type": "stream",
          "text": [
            "0.7658589708684999\n"
          ],
          "name": "stdout"
        }
      ]
    },
    {
      "cell_type": "code",
      "metadata": {
        "colab": {
          "base_uri": "https://localhost:8080/"
        },
        "id": "2a5NNBb1Oe9y",
        "outputId": "b2f462f2-efb3-4293-a469-0a18ff516670"
      },
      "source": [
        "roc_auc_score(testy, rfpred)\n"
      ],
      "execution_count": null,
      "outputs": [
        {
          "output_type": "execute_result",
          "data": {
            "text/plain": [
              "0.8408642741874031"
            ]
          },
          "metadata": {
            "tags": []
          },
          "execution_count": 209
        }
      ]
    },
    {
      "cell_type": "code",
      "metadata": {
        "colab": {
          "base_uri": "https://localhost:8080/"
        },
        "id": "gqpJ2QYk2ses",
        "outputId": "73717a9a-328b-4caf-b61a-84b3ada52b81"
      },
      "source": [
        "print(classification_report(testy, rfpred))\n",
        "print(confusion_matrix(testy, rfpred))"
      ],
      "execution_count": null,
      "outputs": [
        {
          "output_type": "stream",
          "text": [
            "              precision    recall  f1-score   support\n",
            "\n",
            "           0       1.00      0.66      0.80     63315\n",
            "           1       0.52      1.00      0.68     22898\n",
            "\n",
            "    accuracy                           0.75     86213\n",
            "   macro avg       0.76      0.83      0.74     86213\n",
            "weighted avg       0.87      0.75      0.77     86213\n",
            "\n",
            "[[42036 21279]\n",
            " [    6 22892]]\n"
          ],
          "name": "stdout"
        }
      ]
    },
    {
      "cell_type": "code",
      "metadata": {
        "colab": {
          "base_uri": "https://localhost:8080/",
          "height": 295
        },
        "id": "Drg4t9hD0a4k",
        "outputId": "c97bb676-7e72-4a82-d014-0154fb8c29b3"
      },
      "source": [
        "import sklearn.metrics as metrics\n",
        "fpr, tpr, threshold = metrics.roc_curve(testy, rfpred)\n",
        "roc_auc = metrics.auc(fpr, tpr)\n",
        "\n",
        "import matplotlib.pyplot as plt\n",
        "plt.title('Receiver Operating Characteristic')\n",
        "plt.plot(fpr, tpr, 'b', label = 'AUC = %0.2f' % roc_auc)\n",
        "plt.legend(loc = 'lower right')\n",
        "plt.plot([0, 1], [0, 1],'r--')\n",
        "plt.xlim([0, 1])\n",
        "plt.ylim([0, 1])\n",
        "plt.ylabel('True Positive Rate')\n",
        "plt.xlabel('False Positive Rate')\n",
        "plt.show()"
      ],
      "execution_count": null,
      "outputs": [
        {
          "output_type": "display_data",
          "data": {
            "image/png": "[encoded data removed]",
            "text/plain": [
              "<Figure size 432x288 with 1 Axes>"
            ]
          },
          "metadata": {
            "tags": []
          }
        }
      ]
    },
    {
      "cell_type": "code",
      "metadata": {
        "colab": {
          "base_uri": "https://localhost:8080/",
          "height": 295
        },
        "id": "0UNnOxTn0gnc",
        "outputId": "36d81a0e-1f02-4dfa-935d-606a3a79a2a5"
      },
      "source": [
        "roc_auc = metrics.auc(1-tpr, 1-fpr)\n",
        "plt.title('Receiver Operating Characteristic')\n",
        "plt.plot(1-tpr,1-fpr, 'b', label = 'AUC = %0.2f' % roc_auc)\n",
        "plt.legend(loc = 'lower right')\n",
        "plt.plot([0, 1], [0, 1],'r--')\n",
        "plt.xlim([0, 1])\n",
        "plt.ylim([0, 1])\n",
        "plt.ylabel('True Negative Rate')\n",
        "plt.xlabel('False Negative Rate')\n",
        "plt.show()"
      ],
      "execution_count": null,
      "outputs": [
        {
          "output_type": "display_data",
          "data": {
            "image/png": "[encoded data removed]",
            "text/plain": [
              "<Figure size 432x288 with 1 Axes>"
            ]
          },
          "metadata": {
            "tags": []
          }
        }
      ]
    },
    {
      "cell_type": "code",
      "metadata": {
        "id": "BW1-Wi1l0jA7"
      },
      "source": [
        ""
      ],
      "execution_count": null,
      "outputs": []
    }
  ]
}